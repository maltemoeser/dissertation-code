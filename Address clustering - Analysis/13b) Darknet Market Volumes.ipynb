{
 "cells": [
  {
   "cell_type": "code",
   "execution_count": 1,
   "metadata": {},
   "outputs": [],
   "source": [
    "import blocksci"
   ]
  },
  {
   "cell_type": "code",
   "execution_count": 2,
   "metadata": {},
   "outputs": [],
   "source": [
    "import pandas as pd\n",
    "import matplotlib.pyplot as plt\n",
    "import numpy as np\n",
    "import seaborn as sns"
   ]
  },
  {
   "cell_type": "code",
   "execution_count": 3,
   "metadata": {},
   "outputs": [],
   "source": [
    "import collections\n",
    "import random"
   ]
  },
  {
   "cell_type": "code",
   "execution_count": 4,
   "metadata": {},
   "outputs": [],
   "source": [
    "import utils"
   ]
  },
  {
   "cell_type": "code",
   "execution_count": 5,
   "metadata": {},
   "outputs": [],
   "source": [
    "import analysis"
   ]
  },
  {
   "cell_type": "code",
   "execution_count": 6,
   "metadata": {},
   "outputs": [],
   "source": [
    "import gc"
   ]
  },
  {
   "cell_type": "code",
   "execution_count": 7,
   "metadata": {},
   "outputs": [],
   "source": [
    "import joblib"
   ]
  },
  {
   "cell_type": "code",
   "execution_count": 8,
   "metadata": {},
   "outputs": [],
   "source": [
    "from utils import grouper"
   ]
  },
  {
   "cell_type": "code",
   "execution_count": 9,
   "metadata": {},
   "outputs": [],
   "source": [
    "chain = blocksci.Blockchain(utils.blocksci_config())"
   ]
  },
  {
   "cell_type": "code",
   "execution_count": 10,
   "metadata": {},
   "outputs": [],
   "source": [
    "datestring_new = \"20210804\""
   ]
  },
  {
   "cell_type": "code",
   "execution_count": 11,
   "metadata": {},
   "outputs": [],
   "source": [
    "my_cm = blocksci.cluster.ClusterManager(utils.latest_clustering(), chain)"
   ]
  },
  {
   "cell_type": "code",
   "execution_count": 12,
   "metadata": {},
   "outputs": [
    {
     "data": {
      "text/plain": [
       "658522992"
      ]
     },
     "execution_count": 12,
     "metadata": {},
     "output_type": "execute_result"
    }
   ],
   "source": [
    "my_cm.clusters().size"
   ]
  },
  {
   "cell_type": "code",
   "execution_count": 13,
   "metadata": {},
   "outputs": [],
   "source": [
    "my_cm_cluster_id = blocksci.heuristics.cluster_id(my_cm)"
   ]
  },
  {
   "cell_type": "code",
   "execution_count": 14,
   "metadata": {},
   "outputs": [],
   "source": [
    "my_cm_output_cluster_id = blocksci.heuristics.output_cluster_id(my_cm)"
   ]
  },
  {
   "cell_type": "code",
   "execution_count": 15,
   "metadata": {},
   "outputs": [],
   "source": [
    "refined = blocksci.cluster.ClusterManager(\"/home/ubuntu/Data/clusters/{}-refined-smart\".format(datestring_new), chain)"
   ]
  },
  {
   "cell_type": "code",
   "execution_count": 16,
   "metadata": {},
   "outputs": [],
   "source": [
    "refined_output_cluster_id = blocksci.heuristics.output_cluster_id(refined)"
   ]
  },
  {
   "cell_type": "code",
   "execution_count": 17,
   "metadata": {},
   "outputs": [
    {
     "data": {
      "text/plain": [
       "514253477"
      ]
     },
     "execution_count": 17,
     "metadata": {},
     "output_type": "execute_result"
    }
   ],
   "source": [
    "refined.clusters().size"
   ]
  },
  {
   "cell_type": "markdown",
   "metadata": {},
   "source": [
    "### Load address tags"
   ]
  },
  {
   "cell_type": "code",
   "execution_count": 18,
   "metadata": {},
   "outputs": [],
   "source": [
    "import yaml"
   ]
  },
  {
   "cell_type": "code",
   "execution_count": 19,
   "metadata": {},
   "outputs": [],
   "source": [
    "with open('walletexplorer.yaml') as f:\n",
    "    cluster_tags = yaml.safe_load(f)"
   ]
  },
  {
   "cell_type": "code",
   "execution_count": 20,
   "metadata": {},
   "outputs": [],
   "source": [
    "cluster_tags = cluster_tags['tags']"
   ]
  },
  {
   "cell_type": "code",
   "execution_count": 21,
   "metadata": {},
   "outputs": [],
   "source": [
    "exchanges = set()\n",
    "for entry in cluster_tags:\n",
    "    if \"category\" in entry and entry[\"category\"] == \"exchange\":\n",
    "        exchanges.add(entry['label'])"
   ]
  },
  {
   "cell_type": "code",
   "execution_count": 22,
   "metadata": {},
   "outputs": [
    {
     "data": {
      "text/plain": [
       "117"
      ]
     },
     "execution_count": 22,
     "metadata": {},
     "output_type": "execute_result"
    }
   ],
   "source": [
    "len(exchanges)"
   ]
  },
  {
   "cell_type": "code",
   "execution_count": 23,
   "metadata": {},
   "outputs": [],
   "source": [
    "markets = set()\n",
    "for entry in cluster_tags:\n",
    "    if \"category\" in entry and entry[\"category\"] == \"market\":\n",
    "        markets.add(entry['label'])"
   ]
  },
  {
   "cell_type": "code",
   "execution_count": 24,
   "metadata": {},
   "outputs": [
    {
     "data": {
      "text/plain": [
       "15"
      ]
     },
     "execution_count": 24,
     "metadata": {},
     "output_type": "execute_result"
    }
   ],
   "source": [
    "len(markets)"
   ]
  },
  {
   "cell_type": "code",
   "execution_count": 25,
   "metadata": {},
   "outputs": [],
   "source": [
    "more_clusters = collections.defaultdict(set)\n",
    "for entry in cluster_tags:\n",
    "    address = chain.address_from_string(entry['address'])\n",
    "    cluster_id = my_cm.cluster_with_address(address).index\n",
    "    more_clusters[entry['label']].add(cluster_id)"
   ]
  },
  {
   "cell_type": "code",
   "execution_count": 26,
   "metadata": {},
   "outputs": [],
   "source": [
    "more_clusters_refined = collections.defaultdict(set)\n",
    "for entry in cluster_tags:\n",
    "    address = chain.address_from_string(entry['address'])\n",
    "    cluster_id = refined.cluster_with_address(address).index\n",
    "    more_clusters_refined[entry['label']].add(cluster_id)"
   ]
  },
  {
   "cell_type": "code",
   "execution_count": 27,
   "metadata": {},
   "outputs": [
    {
     "name": "stdout",
     "output_type": "stream",
     "text": [
      "{112380035, 139741574, 163418121, 177463055, 158062353, 146620562, 150467859, 180919317, 137159322, 197339038, 247241886, 202244769, 169883685, 225165734, 141474473, 145315242, 241677486, 221188143, 185695538, 174243890, 120596916, 148875955, 206351679, 231674058, 195221710, 147018582, 153360993, 151190498, 209553253, 238500208, 193399793, 234622835, 199968371, 166609018, 160924157}\n",
      "{141203331, 152894214, 145053073, 162327316, 105485332, 101625110, 170982428, 176635806, 165582762, 131537962, 73975084, 183823667, 123587766, 173414332, 119805123, 109552837, 179269958, 139742918, 150273615, 1023698, 99650009, 98424538, 112052575, 103613023, 142889446, 94912235, 126340590, 114198638, 93473518, 146900465, 69303414, 129275513, 88747004}\n",
      "\n"
     ]
    }
   ],
   "source": [
    "for key in more_clusters:\n",
    "    if len(more_clusters[key]) > 1:\n",
    "        if len(more_clusters[key]) != len(more_clusters_refined[key]):\n",
    "            print(more_clusters[key])\n",
    "            print(more_clusters_refined[key])\n",
    "            print()"
   ]
  },
  {
   "cell_type": "code",
   "execution_count": 28,
   "metadata": {},
   "outputs": [
    {
     "data": {
      "text/plain": [
       "{100336032}"
      ]
     },
     "execution_count": 28,
     "metadata": {},
     "output_type": "execute_result"
    }
   ],
   "source": [
    "more_clusters['agoramarket']"
   ]
  },
  {
   "cell_type": "code",
   "execution_count": 29,
   "metadata": {},
   "outputs": [
    {
     "data": {
      "text/plain": [
       "{65662102}"
      ]
     },
     "execution_count": 29,
     "metadata": {},
     "output_type": "execute_result"
    }
   ],
   "source": [
    "more_clusters_refined['nucleusmarket']"
   ]
  },
  {
   "cell_type": "code",
   "execution_count": 30,
   "metadata": {},
   "outputs": [
    {
     "data": {
      "text/plain": [
       "{93183304, 99849715, 120547605}"
      ]
     },
     "execution_count": 30,
     "metadata": {},
     "output_type": "execute_result"
    }
   ],
   "source": [
    "more_clusters['bitfinex']"
   ]
  },
  {
   "cell_type": "code",
   "execution_count": 31,
   "metadata": {},
   "outputs": [],
   "source": [
    "all_exchange_clusters = [x for lbl in exchanges for x in more_clusters[lbl]]"
   ]
  },
  {
   "cell_type": "code",
   "execution_count": 32,
   "metadata": {},
   "outputs": [],
   "source": [
    "all_exchange_clusters_refined = [x for lbl in exchanges for x in more_clusters_refined[lbl]]"
   ]
  },
  {
   "cell_type": "code",
   "execution_count": 33,
   "metadata": {},
   "outputs": [],
   "source": [
    "sent_to_exchanges = collections.defaultdict(int)\n",
    "sent_to_exchanges_count = collections.defaultdict(int)\n",
    "\n",
    "for market in markets:\n",
    "    for cluster_id in more_clusters[market]:\n",
    "        cluster = my_cm.clusters()[cluster_id]\n",
    "        values = cluster.input_txes_fast().outputs.value\n",
    "        destinations = cluster.input_txes_fast().outputs.map(lambda o: my_cm_output_cluster_id(o))\n",
    "        value_sent = values[np.in1d(destinations, all_exchange_clusters)].sum()\n",
    "        sent_to_exchanges[market] += value_sent\n",
    "        sent_to_exchanges_count[market] += len(values[np.in1d(destinations, all_exchange_clusters)])"
   ]
  },
  {
   "cell_type": "code",
   "execution_count": 34,
   "metadata": {},
   "outputs": [],
   "source": [
    "sent_to_exchanges_refined = collections.defaultdict(int)\n",
    "sent_to_exchanges_count_refined = collections.defaultdict(int)\n",
    "\n",
    "for market in markets:\n",
    "    for cluster_id in more_clusters_refined[market]:\n",
    "        cluster = refined.clusters()[cluster_id]\n",
    "        values = cluster.input_txes_fast().outputs.value\n",
    "        destinations = cluster.input_txes_fast().outputs.map(lambda o: refined_output_cluster_id(o))\n",
    "        value_sent = values[np.in1d(destinations, all_exchange_clusters_refined)].sum()\n",
    "        sent_to_exchanges_refined[market] += value_sent\n",
    "        sent_to_exchanges_count_refined[market] += len(values[np.in1d(destinations, all_exchange_clusters_refined)])"
   ]
  },
  {
   "cell_type": "code",
   "execution_count": 37,
   "metadata": {},
   "outputs": [],
   "source": [
    "tx_counts = collections.defaultdict(int)\n",
    "address_counts = collections.defaultdict(int)\n",
    "\n",
    "for market in markets:\n",
    "    for cluster_id in more_clusters[market]:\n",
    "        cluster = my_cm.clusters()[cluster_id]\n",
    "        tx_counts[market] += cluster.tx_count\n",
    "        address_counts[market] += len(cluster)"
   ]
  },
  {
   "cell_type": "code",
   "execution_count": 38,
   "metadata": {},
   "outputs": [],
   "source": [
    "tx_counts_refined = collections.defaultdict(int)\n",
    "address_counts_refined = collections.defaultdict(int)\n",
    "\n",
    "for market in markets:\n",
    "    for cluster_id in more_clusters_refined[market]:\n",
    "        cluster = refined.clusters()[cluster_id]\n",
    "        tx_counts_refined[market] += cluster.tx_count\n",
    "        address_counts_refined[market] += len(cluster)"
   ]
  },
  {
   "cell_type": "code",
   "execution_count": 35,
   "metadata": {},
   "outputs": [
    {
     "name": "stdout",
     "output_type": "stream",
     "text": [
      "abraxasmarket & 9202 & 11373 & 23.59 & 21925 & 23368 & 6.58 \\\\\n",
      "agoramarket & 82218 & 108026 & 31.39 & 158360 & 170970 & 7.96 \\\\\n",
      "alphabaymarket & 25646 & 33052 & 28.88 & 35496 & 41573 & 17.12 \\\\\n",
      "babylonmarket & 422 & 616 & 45.97 & 222 & 283 & 27.13 \\\\\n",
      "blackbankmarket & 3052 & 3987 & 30.64 & 8292 & 9245 & 11.49 \\\\\n",
      "blueskymarket & 6581 & 9919 & 50.72 & 2520 & 3333 & 32.3 \\\\\n",
      "cannabisroadmarket & 48 & 76 & 58.33 & 6 & 7 & 25.15 \\\\\n",
      "doctordmarket & 414 & 621 & 50.0 & 224 & 277 & 23.92 \\\\\n",
      "evolutionmarket & 20572 & 53335 & 159.26 & 49891 & 84637 & 69.64 \\\\\n",
      "middleearthmarket & 5078 & 5410 & 6.54 & 11793 & 12021 & 1.93 \\\\\n",
      "nucleusmarket & 23840 & 26760 & 12.25 & 45265 & 47006 & 3.85 \\\\\n",
      "pandoraopenmarket & 8246 & 10399 & 26.11 & 8708 & 9461 & 8.64 \\\\\n",
      "sheepmarket & 4487 & 5235 & 16.67 & 12104 & 13309 & 9.96 \\\\\n",
      "silkroad2market & 32693 & 38251 & 17.0 & 47292 & 49559 & 4.79 \\\\\n",
      "silkroadmarket & 15152 & 20369 & 34.43 & 421741 & 472282 & 11.98 \\\\\n"
     ]
    }
   ],
   "source": [
    "perc_changes = []\n",
    "for lbl in sorted(sent_to_exchanges):\n",
    "    starting = sent_to_exchanges[lbl]\n",
    "    final = sent_to_exchanges_refined[lbl]\n",
    "    perc_change = round(100*(final-starting)/starting, 2)\n",
    "    perc_changes.append(perc_change)\n",
    "    perc_change_outputs = round(100*(sent_to_exchanges_count_refined[lbl]-sent_to_exchanges_count[lbl])/sent_to_exchanges_count[lbl], 2)\n",
    "    print(lbl, \"&\", sent_to_exchanges_count[lbl], \"&\", sent_to_exchanges_count_refined[lbl], \"&\", perc_change_outputs, \"&\", round(starting/1e8), \"&\", round(final/1e8), \"&\", perc_change, \"\\\\\\\\\")"
   ]
  },
  {
   "cell_type": "code",
   "execution_count": 36,
   "metadata": {},
   "outputs": [
    {
     "data": {
      "text/plain": [
       "11.49"
      ]
     },
     "execution_count": 36,
     "metadata": {},
     "output_type": "execute_result"
    }
   ],
   "source": [
    "np.median(perc_changes)"
   ]
  },
  {
   "cell_type": "code",
   "execution_count": 37,
   "metadata": {},
   "outputs": [
    {
     "data": {
      "image/png": "[encoded data removed]",
      "text/plain": [
       "<Figure size 432x288 with 1 Axes>"
      ]
     },
     "metadata": {
      "needs_background": "light"
     },
     "output_type": "display_data"
    }
   ],
   "source": [
    "sns.boxplot(x=perc_changes)\n",
    "sns.despine(left=True)"
   ]
  },
  {
   "cell_type": "code",
   "execution_count": 40,
   "metadata": {},
   "outputs": [
    {
     "data": {
      "text/plain": [
       "823839.0"
      ]
     },
     "execution_count": 40,
     "metadata": {},
     "output_type": "execute_result"
    }
   ],
   "source": [
    "sum(sent_to_exchanges.values()) // 1e8"
   ]
  },
  {
   "cell_type": "code",
   "execution_count": 41,
   "metadata": {},
   "outputs": [
    {
     "data": {
      "text/plain": [
       "937330.0"
      ]
     },
     "execution_count": 41,
     "metadata": {},
     "output_type": "execute_result"
    }
   ],
   "source": [
    "sum(sent_to_exchanges_refined.values()) // 1e8"
   ]
  },
  {
   "cell_type": "code",
   "execution_count": 43,
   "metadata": {},
   "outputs": [
    {
     "data": {
      "text/plain": [
       "13.775871256398398"
      ]
     },
     "execution_count": 43,
     "metadata": {},
     "output_type": "execute_result"
    }
   ],
   "source": [
    "(937330-823839) / (823839) * 100"
   ]
  },
  {
   "cell_type": "code",
   "execution_count": 67,
   "metadata": {},
   "outputs": [
    {
     "data": {
      "text/plain": [
       "237651"
      ]
     },
     "execution_count": 67,
     "metadata": {},
     "output_type": "execute_result"
    }
   ],
   "source": [
    "sum(sent_to_exchanges_count.values())"
   ]
  },
  {
   "cell_type": "code",
   "execution_count": 68,
   "metadata": {},
   "outputs": [
    {
     "data": {
      "text/plain": [
       "327429"
      ]
     },
     "execution_count": 68,
     "metadata": {},
     "output_type": "execute_result"
    }
   ],
   "source": [
    "sum(sent_to_exchanges_count_refined.values())"
   ]
  },
  {
   "cell_type": "code",
   "execution_count": 70,
   "metadata": {},
   "outputs": [
    {
     "data": {
      "text/plain": [
       "37.77724478331671"
      ]
     },
     "execution_count": 70,
     "metadata": {},
     "output_type": "execute_result"
    }
   ],
   "source": [
    "(327429-237651) / (237651) * 100"
   ]
  },
  {
   "cell_type": "code",
   "execution_count": null,
   "metadata": {},
   "outputs": [],
   "source": []
  }
 ],
 "metadata": {
  "kernelspec": {
   "display_name": "Python 3",
   "language": "python",
   "name": "python3"
  },
  "language_info": {
   "codemirror_mode": {
    "name": "ipython",
    "version": 3
   },
   "file_extension": ".py",
   "mimetype": "text/x-python",
   "name": "python",
   "nbconvert_exporter": "python",
   "pygments_lexer": "ipython3",
   "version": "3.8.8"
  }
 },
 "nbformat": 4,
 "nbformat_minor": 4
}
