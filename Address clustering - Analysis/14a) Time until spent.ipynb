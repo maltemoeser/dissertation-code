{
 "cells": [
  {
   "cell_type": "code",
   "execution_count": 1,
   "metadata": {},
   "outputs": [],
   "source": [
    "import blocksci"
   ]
  },
  {
   "cell_type": "code",
   "execution_count": 2,
   "metadata": {},
   "outputs": [],
   "source": [
    "import pandas as pd\n",
    "import matplotlib.pyplot as plt\n",
    "import numpy as np\n",
    "import seaborn as sns"
   ]
  },
  {
   "cell_type": "code",
   "execution_count": 3,
   "metadata": {},
   "outputs": [],
   "source": [
    "import collections\n",
    "import random"
   ]
  },
  {
   "cell_type": "code",
   "execution_count": 4,
   "metadata": {},
   "outputs": [],
   "source": [
    "import datetime"
   ]
  },
  {
   "cell_type": "code",
   "execution_count": 5,
   "metadata": {},
   "outputs": [],
   "source": [
    "import utils"
   ]
  },
  {
   "cell_type": "code",
   "execution_count": 6,
   "metadata": {},
   "outputs": [],
   "source": [
    "chain = blocksci.Blockchain(utils.blocksci_config())"
   ]
  },
  {
   "cell_type": "code",
   "execution_count": 7,
   "metadata": {},
   "outputs": [],
   "source": [
    "my_cm = blocksci.cluster.ClusterManager(utils.latest_clustering(), chain)"
   ]
  },
  {
   "cell_type": "code",
   "execution_count": 8,
   "metadata": {},
   "outputs": [],
   "source": [
    "gt = blocksci.GroundTruth(utils.latest_groundtruth(), chain)"
   ]
  },
  {
   "cell_type": "code",
   "execution_count": 9,
   "metadata": {},
   "outputs": [
    {
     "data": {
      "text/plain": [
       "35257428"
      ]
     },
     "execution_count": 9,
     "metadata": {},
     "output_type": "execute_result"
    }
   ],
   "source": [
    "gt.transactions().size"
   ]
  },
  {
   "cell_type": "code",
   "execution_count": 10,
   "metadata": {},
   "outputs": [],
   "source": [
    "all_other = blocksci.GroundTruth(utils.remaining_txes(), chain)"
   ]
  },
  {
   "cell_type": "code",
   "execution_count": 11,
   "metadata": {},
   "outputs": [
    {
     "data": {
      "text/plain": [
       "309653054"
      ]
     },
     "execution_count": 11,
     "metadata": {},
     "output_type": "execute_result"
    }
   ],
   "source": [
    "all_other.transactions().size"
   ]
  },
  {
   "cell_type": "code",
   "execution_count": 12,
   "metadata": {},
   "outputs": [],
   "source": [
    "gt_max_time_till_spent = gt.transactions().map(lambda tx: tx.outputs.spending_input.max(lambda i: i.age)).age"
   ]
  },
  {
   "cell_type": "code",
   "execution_count": 13,
   "metadata": {},
   "outputs": [],
   "source": [
    "remaining_max_time_till_spent = all_other.transactions().where(lambda tx: tx.outputs.all(lambda o: o.is_spent)).map(lambda tx: tx.outputs.spending_input.max(lambda i: i.age)).age"
   ]
  },
  {
   "cell_type": "code",
   "execution_count": 14,
   "metadata": {},
   "outputs": [
    {
     "data": {
      "text/plain": [
       "35257428"
      ]
     },
     "execution_count": 14,
     "metadata": {},
     "output_type": "execute_result"
    }
   ],
   "source": [
    "len(gt_max_time_till_spent)"
   ]
  },
  {
   "cell_type": "code",
   "execution_count": 15,
   "metadata": {},
   "outputs": [
    {
     "data": {
      "text/plain": [
       "290358068"
      ]
     },
     "execution_count": 15,
     "metadata": {},
     "output_type": "execute_result"
    }
   ],
   "source": [
    "len(remaining_max_time_till_spent)"
   ]
  },
  {
   "cell_type": "code",
   "execution_count": 16,
   "metadata": {},
   "outputs": [
    {
     "data": {
      "text/plain": [
       "(557276, 621492)"
      ]
     },
     "execution_count": 16,
     "metadata": {},
     "output_type": "execute_result"
    }
   ],
   "source": [
    "np.max(gt_max_time_till_spent), np.max(remaining_max_time_till_spent)"
   ]
  },
  {
   "cell_type": "code",
   "execution_count": 17,
   "metadata": {},
   "outputs": [],
   "source": [
    "max_x = max(np.max(gt_max_time_till_spent), np.max(remaining_max_time_till_spent))"
   ]
  },
  {
   "cell_type": "code",
   "execution_count": 18,
   "metadata": {},
   "outputs": [],
   "source": [
    "random.seed(42)\n",
    "gt_sample = random.sample(gt_max_time_till_spent.tolist(), 250000)\n",
    "remaining_sample = random.sample(remaining_max_time_till_spent.tolist(), 250000)"
   ]
  },
  {
   "cell_type": "code",
   "execution_count": 19,
   "metadata": {},
   "outputs": [
    {
     "data": {
      "image/png": "[encoded data removed]",
      "text/plain": [
       "<Figure size 432x288 with 1 Axes>"
      ]
     },
     "metadata": {
      "needs_background": "light"
     },
     "output_type": "display_data"
    }
   ],
   "source": [
    "fig, ax = plt.subplots(figsize=(6,4))\n",
    "sns.ecdfplot(gt_sample, ax=ax)\n",
    "sns.ecdfplot(remaining_sample, ax=ax)\n",
    "ax.set_xlim(1, max_x)\n",
    "ax.set_xscale(\"log\")\n",
    "ax.set_xticks([6, 144, 1008, 52416])\n",
    "ax.set_xticklabels([\"1 hour\", \"1 day\", \"1 week\", \"1 year\"])\n",
    "ax.legend([\"Ground truth\", \"Remaining\"], frameon=False)\n",
    "ax.set_xlabel(\"Time until both outputs are spent\")\n",
    "sns.despine()\n",
    "#plt.tight_layout()\n",
    "plt.savefig(\"figures/time-dist-until-spent-log-scale.pdf\")"
   ]
  },
  {
   "cell_type": "code",
   "execution_count": 20,
   "metadata": {},
   "outputs": [
    {
     "data": {
      "text/plain": [
       "(6510.273769799657, 419.0)"
      ]
     },
     "execution_count": 20,
     "metadata": {},
     "output_type": "execute_result"
    }
   ],
   "source": [
    "np.mean(gt_max_time_till_spent), np.median(gt_max_time_till_spent)"
   ]
  },
  {
   "cell_type": "code",
   "execution_count": 21,
   "metadata": {},
   "outputs": [
    {
     "data": {
      "text/plain": [
       "(5045.121560641463, 256.0)"
      ]
     },
     "execution_count": 21,
     "metadata": {},
     "output_type": "execute_result"
    }
   ],
   "source": [
    "np.mean(remaining_max_time_till_spent), np.median(remaining_max_time_till_spent)"
   ]
  },
  {
   "cell_type": "code",
   "execution_count": 22,
   "metadata": {},
   "outputs": [],
   "source": [
    "# check if distributions are different"
   ]
  },
  {
   "cell_type": "code",
   "execution_count": 23,
   "metadata": {},
   "outputs": [],
   "source": [
    "from scipy.stats import ks_2samp"
   ]
  },
  {
   "cell_type": "code",
   "execution_count": 24,
   "metadata": {},
   "outputs": [
    {
     "data": {
      "text/plain": [
       "KstestResult(statistic=0.06446389510107531, pvalue=0.0)"
      ]
     },
     "execution_count": 24,
     "metadata": {},
     "output_type": "execute_result"
    }
   ],
   "source": [
    "ks_2samp(gt_max_time_till_spent, remaining_max_time_till_spent)"
   ]
  },
  {
   "cell_type": "markdown",
   "metadata": {},
   "source": [
    "### Create an ECDF with infinite max time for txes with unspent outputs"
   ]
  },
  {
   "cell_type": "code",
   "execution_count": 25,
   "metadata": {},
   "outputs": [
    {
     "data": {
      "text/plain": [
       "19294986"
      ]
     },
     "execution_count": 25,
     "metadata": {},
     "output_type": "execute_result"
    }
   ],
   "source": [
    "all_other.transactions().size - len(remaining_max_time_till_spent)"
   ]
  },
  {
   "cell_type": "code",
   "execution_count": 26,
   "metadata": {},
   "outputs": [
    {
     "data": {
      "text/plain": [
       "16613"
      ]
     },
     "execution_count": 26,
     "metadata": {},
     "output_type": "execute_result"
    }
   ],
   "source": [
    "missing_remaining = int(round(len(remaining_sample) * all_other.transactions().size / len(remaining_max_time_till_spent) - len(remaining_sample), 0))\n",
    "missing_remaining"
   ]
  },
  {
   "cell_type": "code",
   "execution_count": 27,
   "metadata": {},
   "outputs": [],
   "source": [
    "remaining_sample_complete = remaining_sample + [9999999 for _ in range(missing_remaining)]"
   ]
  },
  {
   "cell_type": "code",
   "execution_count": 28,
   "metadata": {},
   "outputs": [],
   "source": [
    "gt_sample_complete = gt_sample + [np.max(gt_max_time_till_spent)]"
   ]
  },
  {
   "cell_type": "code",
   "execution_count": 29,
   "metadata": {},
   "outputs": [
    {
     "data": {
      "image/png": "[encoded data removed]",
      "text/plain": [
       "<Figure size 432x288 with 1 Axes>"
      ]
     },
     "metadata": {
      "needs_background": "light"
     },
     "output_type": "display_data"
    }
   ],
   "source": [
    "fig, ax = plt.subplots(figsize=(6,4))\n",
    "sns.ecdfplot(gt_sample_complete, ax=ax)\n",
    "sns.ecdfplot(remaining_sample_complete, ax=ax)\n",
    "ax.set_xlim(1, max_x)\n",
    "ax.set_ylim(0, 1)\n",
    "ax.set_xscale(\"log\")\n",
    "ax.set_xticks([6, 144, 1008, 52416])\n",
    "ax.set_xticklabels([\"1 hour\", \"1 day\", \"1 week\", \"1 year\"])\n",
    "ax.legend([\"Ground truth\", \"Remaining\"], frameon=False)\n",
    "ax.set_xlabel(\"Time until both outputs are spent\")\n",
    "sns.despine()\n",
    "#plt.tight_layout()\n",
    "plt.savefig(\"figures/time-dist-until-spent-log-scale-complete.pdf\")"
   ]
  },
  {
   "cell_type": "markdown",
   "metadata": {},
   "source": [
    "### Extract for full chain"
   ]
  },
  {
   "cell_type": "code",
   "execution_count": 30,
   "metadata": {},
   "outputs": [],
   "source": [
    "all_max_time_till_spent = chain.blocks.txes.where(lambda tx: tx.outputs.all(lambda o: o.is_spent)).map(lambda tx: tx.outputs.spending_input.max(lambda i: i.age)).age"
   ]
  },
  {
   "cell_type": "code",
   "execution_count": 31,
   "metadata": {},
   "outputs": [
    {
     "data": {
      "text/plain": [
       "(652618175, 568170243)"
      ]
     },
     "execution_count": 31,
     "metadata": {},
     "output_type": "execute_result"
    }
   ],
   "source": [
    "chain.blocks.txes.size, chain.blocks.txes.where(lambda tx: tx.outputs.all(lambda o: o.is_spent)).size"
   ]
  },
  {
   "cell_type": "code",
   "execution_count": 32,
   "metadata": {},
   "outputs": [],
   "source": [
    "random.seed(42)\n",
    "all_time_sampled = random.sample(all_max_time_till_spent.tolist(), 250000)"
   ]
  },
  {
   "cell_type": "code",
   "execution_count": 33,
   "metadata": {},
   "outputs": [
    {
     "data": {
      "text/plain": [
       "40822"
      ]
     },
     "execution_count": 33,
     "metadata": {},
     "output_type": "execute_result"
    }
   ],
   "source": [
    "missing_alltime = int(round(len(all_time_sampled) * 543966179 / 467611005 - len(all_time_sampled), 0))\n",
    "missing_alltime"
   ]
  },
  {
   "cell_type": "code",
   "execution_count": 34,
   "metadata": {},
   "outputs": [],
   "source": [
    "alltime_sample_complete = all_time_sampled + [9999999 for _ in range(missing_alltime)]"
   ]
  },
  {
   "cell_type": "code",
   "execution_count": 35,
   "metadata": {},
   "outputs": [
    {
     "data": {
      "image/png": "[encoded data removed]",
      "text/plain": [
       "<Figure size 432x288 with 1 Axes>"
      ]
     },
     "metadata": {
      "needs_background": "light"
     },
     "output_type": "display_data"
    }
   ],
   "source": [
    "fig, ax = plt.subplots(figsize=(6,4))\n",
    "#ax.set_clip_on(False)\n",
    "sns.ecdfplot(gt_sample_complete, ax=ax)\n",
    "sns.ecdfplot(remaining_sample_complete, ax=ax)\n",
    "sns.ecdfplot(alltime_sample_complete, ax=ax)\n",
    "ax.set_xlim(1, max_x)\n",
    "ax.set_ylim(0, 1)\n",
    "ax.set_xscale(\"log\")\n",
    "ax.set_xticks([6, 144, 1008, 52416])\n",
    "ax.set_xticklabels([\"1 hour\", \"1 day\", \"1 week\", \"1 year\"])\n",
    "ax.legend([\"Ground truth\", \"Remaining\", \"Full chain\"], frameon=False)\n",
    "ax.set_xlabel(\"Time until both outputs are spent\")\n",
    "sns.despine()\n",
    "#plt.tight_layout()\n",
    "plt.savefig(\"figures/time-dist-until-spent-log-scale-complete-fullchain.pdf\")"
   ]
  },
  {
   "cell_type": "code",
   "execution_count": null,
   "metadata": {},
   "outputs": [],
   "source": []
  }
 ],
 "metadata": {
  "kernelspec": {
   "display_name": "Python 3",
   "language": "python",
   "name": "python3"
  },
  "language_info": {
   "codemirror_mode": {
    "name": "ipython",
    "version": 3
   },
   "file_extension": ".py",
   "mimetype": "text/x-python",
   "name": "python",
   "nbconvert_exporter": "python",
   "pygments_lexer": "ipython3",
   "version": "3.8.8"
  }
 },
 "nbformat": 4,
 "nbformat_minor": 4
}
