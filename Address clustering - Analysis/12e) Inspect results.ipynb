{
 "cells": [
  {
   "cell_type": "code",
   "execution_count": 1,
   "metadata": {},
   "outputs": [],
   "source": [
    "import blocksci"
   ]
  },
  {
   "cell_type": "code",
   "execution_count": 2,
   "metadata": {},
   "outputs": [],
   "source": [
    "import pandas as pd\n",
    "import matplotlib.pyplot as plt\n",
    "import numpy as np\n",
    "import seaborn as sns"
   ]
  },
  {
   "cell_type": "code",
   "execution_count": 3,
   "metadata": {},
   "outputs": [],
   "source": [
    "import collections\n",
    "import random"
   ]
  },
  {
   "cell_type": "code",
   "execution_count": 4,
   "metadata": {},
   "outputs": [],
   "source": [
    "import utils"
   ]
  },
  {
   "cell_type": "code",
   "execution_count": 5,
   "metadata": {},
   "outputs": [],
   "source": [
    "import analysis"
   ]
  },
  {
   "cell_type": "code",
   "execution_count": 6,
   "metadata": {},
   "outputs": [],
   "source": [
    "import gc"
   ]
  },
  {
   "cell_type": "code",
   "execution_count": 7,
   "metadata": {},
   "outputs": [],
   "source": [
    "import joblib"
   ]
  },
  {
   "cell_type": "code",
   "execution_count": 8,
   "metadata": {},
   "outputs": [],
   "source": [
    "from utils import grouper"
   ]
  },
  {
   "cell_type": "code",
   "execution_count": 9,
   "metadata": {},
   "outputs": [],
   "source": [
    "chain = blocksci.Blockchain(utils.blocksci_config())"
   ]
  },
  {
   "cell_type": "code",
   "execution_count": 10,
   "metadata": {},
   "outputs": [],
   "source": [
    "my_cm = blocksci.cluster.ClusterManager(utils.latest_clustering(), chain)"
   ]
  },
  {
   "cell_type": "code",
   "execution_count": 11,
   "metadata": {},
   "outputs": [],
   "source": [
    "stored_txes = blocksci.GroundTruth(utils.remaining_txes(), chain)"
   ]
  },
  {
   "cell_type": "code",
   "execution_count": 12,
   "metadata": {},
   "outputs": [],
   "source": [
    "datestring = \"20210803\""
   ]
  },
  {
   "cell_type": "code",
   "execution_count": 13,
   "metadata": {},
   "outputs": [],
   "source": [
    "datestring_new = \"20210804\""
   ]
  },
  {
   "cell_type": "code",
   "execution_count": 14,
   "metadata": {},
   "outputs": [],
   "source": [
    "positive_threshold = .99\n",
    "positive_threshold_nofp = .9977\n",
    "negative_threshold = .01"
   ]
  },
  {
   "cell_type": "code",
   "execution_count": 15,
   "metadata": {},
   "outputs": [],
   "source": [
    "def get_y_predict():\n",
    "    return np.load(\"/home/ubuntu/Data/full-prediction/{}-full-predict.npy\".format(datestring))"
   ]
  },
  {
   "cell_type": "code",
   "execution_count": 16,
   "metadata": {},
   "outputs": [],
   "source": [
    "def get_all_spent_mask(rerun=False):\n",
    "    if rerun:\n",
    "        all_spent_mask_txes = stored_txes.transactions().map(lambda tx: tx.outputs.all(lambda o: o.is_spent))\n",
    "        all_spent_mask = np.array([x for x in all_spent_mask_txes for _ in (0, 1)])\n",
    "        np.save(\"/home/ubuntu/Data/full-prediction/{}-all-spent-mask.npy\".format(datestring), all_spent_mask)\n",
    "        return all_spent_mask\n",
    "    return np.load(\"/home/ubuntu/Data/full-prediction/{}-all-spent-mask.npy\".format(datestring))\n",
    "\n",
    "def get_all_spent_mask_txes(rerun=False):\n",
    "    if rerun:\n",
    "        all_spent_mask_txes = stored_txes.transactions().map(lambda tx: tx.outputs.all(lambda o: o.is_spent))\n",
    "        np.save(\"/home/ubuntu/Data/full-prediction/{}-all-spent-mask_txes.npy\".format(datestring), all_spent_mask_txes)\n",
    "        return all_spent_mask_txes\n",
    "    return np.load(\"/home/ubuntu/Data/full-prediction/{}-all-spent-mask_txes.npy\".format(datestring))"
   ]
  },
  {
   "cell_type": "code",
   "execution_count": 17,
   "metadata": {},
   "outputs": [],
   "source": [
    "# load mask of which transactions should have receive predictions\n",
    "mask_should_predict = np.load(\"/home/ubuntu/Data/full-prediction/{}-mask-predict.npy\".format(datestring))"
   ]
  },
  {
   "cell_type": "code",
   "execution_count": 18,
   "metadata": {},
   "outputs": [
    {
     "data": {
      "text/plain": [
       "(598218668, 619306108)"
      ]
     },
     "execution_count": 18,
     "metadata": {},
     "output_type": "execute_result"
    }
   ],
   "source": [
    "np.sum(mask_should_predict), len(mask_should_predict)"
   ]
  },
  {
   "cell_type": "markdown",
   "metadata": {},
   "source": [
    "### Load prediction results"
   ]
  },
  {
   "cell_type": "code",
   "execution_count": 19,
   "metadata": {},
   "outputs": [],
   "source": [
    "y_predict = get_y_predict()"
   ]
  },
  {
   "cell_type": "code",
   "execution_count": 20,
   "metadata": {},
   "outputs": [
    {
     "data": {
      "text/plain": [
       "619306108"
      ]
     },
     "execution_count": 20,
     "metadata": {},
     "output_type": "execute_result"
    }
   ],
   "source": [
    "len(y_predict)"
   ]
  },
  {
   "cell_type": "code",
   "execution_count": 21,
   "metadata": {},
   "outputs": [
    {
     "data": {
      "text/plain": [
       "63528863"
      ]
     },
     "execution_count": 21,
     "metadata": {},
     "output_type": "execute_result"
    }
   ],
   "source": [
    "np.sum(y_predict == 0.0)"
   ]
  },
  {
   "cell_type": "code",
   "execution_count": 22,
   "metadata": {},
   "outputs": [
    {
     "data": {
      "text/plain": [
       "158100798"
      ]
     },
     "execution_count": 22,
     "metadata": {},
     "output_type": "execute_result"
    }
   ],
   "source": [
    "np.sum(y_predict < 0.01)"
   ]
  },
  {
   "cell_type": "code",
   "execution_count": 23,
   "metadata": {},
   "outputs": [
    {
     "data": {
      "text/plain": [
       "64065903"
      ]
     },
     "execution_count": 23,
     "metadata": {},
     "output_type": "execute_result"
    }
   ],
   "source": [
    "np.sum(y_predict == 1.0)"
   ]
  },
  {
   "cell_type": "code",
   "execution_count": 24,
   "metadata": {},
   "outputs": [
    {
     "data": {
      "text/plain": [
       "158359053"
      ]
     },
     "execution_count": 24,
     "metadata": {},
     "output_type": "execute_result"
    }
   ],
   "source": [
    "np.sum(y_predict > 0.99)"
   ]
  },
  {
   "cell_type": "code",
   "execution_count": 25,
   "metadata": {},
   "outputs": [
    {
     "data": {
      "text/plain": [
       "35514"
      ]
     },
     "execution_count": 25,
     "metadata": {},
     "output_type": "execute_result"
    }
   ],
   "source": [
    "np.sum(y_predict == 0.99)"
   ]
  },
  {
   "cell_type": "code",
   "execution_count": 26,
   "metadata": {},
   "outputs": [
    {
     "data": {
      "text/plain": [
       "619306108"
      ]
     },
     "execution_count": 26,
     "metadata": {},
     "output_type": "execute_result"
    }
   ],
   "source": [
    "# all_spent_mask = get_all_spent_mask(True)\n",
    "all_spent_mask = get_all_spent_mask()\n",
    "len(all_spent_mask)"
   ]
  },
  {
   "cell_type": "code",
   "execution_count": 27,
   "metadata": {},
   "outputs": [
    {
     "data": {
      "text/plain": [
       "309653054"
      ]
     },
     "execution_count": 27,
     "metadata": {},
     "output_type": "execute_result"
    }
   ],
   "source": [
    "# all_spent_mask_txes = get_all_spent_mask_txes(True)\n",
    "all_spent_mask_txes = get_all_spent_mask_txes()\n",
    "len(all_spent_mask_txes)"
   ]
  },
  {
   "cell_type": "code",
   "execution_count": 28,
   "metadata": {},
   "outputs": [],
   "source": [
    "assert len(all_spent_mask) == len(y_predict)"
   ]
  },
  {
   "cell_type": "code",
   "execution_count": 29,
   "metadata": {},
   "outputs": [
    {
     "data": {
      "text/plain": [
       "19294986"
      ]
     },
     "execution_count": 29,
     "metadata": {},
     "output_type": "execute_result"
    }
   ],
   "source": [
    "len(y_predict[~all_spent_mask]) // 2"
   ]
  },
  {
   "cell_type": "code",
   "execution_count": 30,
   "metadata": {},
   "outputs": [
    {
     "data": {
      "text/plain": [
       "8714322"
      ]
     },
     "execution_count": 30,
     "metadata": {},
     "output_type": "execute_result"
    }
   ],
   "source": [
    "np.sum(y_predict[~all_spent_mask] > positive_threshold)"
   ]
  },
  {
   "cell_type": "code",
   "execution_count": 31,
   "metadata": {},
   "outputs": [
    {
     "data": {
      "text/plain": [
       "5917822"
      ]
     },
     "execution_count": 31,
     "metadata": {},
     "output_type": "execute_result"
    }
   ],
   "source": [
    "np.sum(y_predict[~all_spent_mask] > positive_threshold_nofp)"
   ]
  },
  {
   "cell_type": "code",
   "execution_count": 32,
   "metadata": {},
   "outputs": [
    {
     "data": {
      "text/plain": [
       "2796195"
      ]
     },
     "execution_count": 32,
     "metadata": {},
     "output_type": "execute_result"
    }
   ],
   "source": [
    "np.sum(y_predict[~all_spent_mask & mask_should_predict] > positive_threshold) - np.sum(y_predict[~all_spent_mask & mask_should_predict] > positive_threshold_nofp)"
   ]
  },
  {
   "cell_type": "code",
   "execution_count": 33,
   "metadata": {},
   "outputs": [
    {
     "data": {
      "text/plain": [
       "(155562553, 158359053)"
      ]
     },
     "execution_count": 33,
     "metadata": {},
     "output_type": "execute_result"
    }
   ],
   "source": [
    "np.sum(y_predict[~all_spent_mask] > positive_threshold_nofp) + np.sum(y_predict[all_spent_mask] > positive_threshold), np.sum(y_predict > positive_threshold)"
   ]
  },
  {
   "cell_type": "code",
   "execution_count": 34,
   "metadata": {},
   "outputs": [
    {
     "data": {
      "text/plain": [
       "0.5023769376419585"
      ]
     },
     "execution_count": 34,
     "metadata": {},
     "output_type": "execute_result"
    }
   ],
   "source": [
    "155562553 / (len(y_predict) // 2)"
   ]
  },
  {
   "cell_type": "code",
   "execution_count": 35,
   "metadata": {},
   "outputs": [
    {
     "data": {
      "image/png": "[encoded data removed]",
      "text/plain": [
       "<Figure size 432x288 with 1 Axes>"
      ]
     },
     "metadata": {
      "needs_background": "light"
     },
     "output_type": "display_data"
    }
   ],
   "source": [
    "ax = pd.Series(y_predict).hist(bins=100)\n",
    "ax.set_xlim(0, 1)\n",
    "sns.despine()\n",
    "plt.tight_layout()\n",
    "plt.savefig(\"figures/random-forest-predictions.pdf\")"
   ]
  },
  {
   "cell_type": "markdown",
   "metadata": {},
   "source": [
    "### Get cluster IDs that would be merged"
   ]
  },
  {
   "cell_type": "code",
   "execution_count": 42,
   "metadata": {},
   "outputs": [],
   "source": [
    "cluster_id = blocksci.heuristics.cluster_id(my_cm)\n",
    "output_cluster_id = blocksci.heuristics.output_cluster_id(my_cm)"
   ]
  },
  {
   "cell_type": "code",
   "execution_count": 43,
   "metadata": {},
   "outputs": [],
   "source": [
    "rerun_ = False\n",
    "if rerun_:\n",
    "    tx_cluster_ids = stored_txes.transactions().map(lambda tx: cluster_id(tx))\n",
    "    output_cluster_ids = stored_txes.transactions().outputs.map(lambda o: output_cluster_id(o))\n",
    "    cluster_tx_count = np.array([cluster.tx_count for cluster in my_cm.clusters()])\n",
    "    np.save(\"/home/ubuntu/Data/full-prediction/{}-tx-cluster-ids.npy\".format(datestring_new), tx_cluster_ids)\n",
    "    np.save(\"/home/ubuntu/Data/full-prediction/{}-output-cluster-ids.npy\".format(datestring_new), output_cluster_ids)\n",
    "    np.save(\"/home/ubuntu/Data/full-prediction/{}-cluster-tx-count.npy\".format(datestring_new), cluster_tx_count)\n",
    "else:\n",
    "    tx_cluster_ids = np.load(\"/home/ubuntu/Data/full-prediction/{}-tx-cluster-ids.npy\".format(datestring_new))\n",
    "    output_cluster_ids = np.load(\"/home/ubuntu/Data/full-prediction/{}-output-cluster-ids.npy\".format(datestring_new))\n",
    "    cluster_tx_count = np.load(\"/home/ubuntu/Data/full-prediction/{}-cluster-tx-count.npy\".format(datestring_new))"
   ]
  },
  {
   "cell_type": "code",
   "execution_count": 44,
   "metadata": {},
   "outputs": [],
   "source": [
    "assert len(output_cluster_ids) == len(y_predict)\n",
    "assert len(output_cluster_ids) // 2 == len(tx_cluster_ids)"
   ]
  },
  {
   "cell_type": "code",
   "execution_count": 46,
   "metadata": {},
   "outputs": [],
   "source": [
    "for x, y in grouper(mask_should_predict, 2):\n",
    "    assert x == y\n",
    "del x, y"
   ]
  },
  {
   "cell_type": "code",
   "execution_count": 49,
   "metadata": {},
   "outputs": [],
   "source": [
    "clusters_to_merge = []\n",
    "clusters_to_not_merge = []\n",
    "for tx_cluster, (out_0_id, out_1_id), (out_0_prob, out_1_prob), (should_merge, _), all_outs_spent in zip(tx_cluster_ids, grouper(output_cluster_ids, 2), grouper(y_predict, 2), grouper(mask_should_predict, 2), all_spent_mask_txes):\n",
    "    \n",
    "    # skip coinbase\n",
    "    if tx_cluster == 4294967295:\n",
    "        continue\n",
    "    if not should_merge:\n",
    "        continue\n",
    "    \n",
    "    pos_thres = positive_threshold\n",
    "    if not all_outs_spent:\n",
    "        pos_thres = positive_threshold_nofp\n",
    "    \n",
    "    if out_0_prob > pos_thres:\n",
    "        clusters_to_merge.append((min(tx_cluster, out_0_id), max(tx_cluster, out_0_id)))\n",
    "    elif out_0_prob < negative_threshold:\n",
    "        clusters_to_not_merge.append((min(tx_cluster, out_0_id), max(tx_cluster, out_0_id)))\n",
    "    \n",
    "    if out_1_prob > pos_thres:\n",
    "        clusters_to_merge.append((min(tx_cluster, out_1_id), max(tx_cluster, out_1_id)))\n",
    "    elif out_1_prob < negative_threshold:\n",
    "        clusters_to_not_merge.append((min(tx_cluster, out_1_id), max(tx_cluster, out_1_id)))"
   ]
  },
  {
   "cell_type": "code",
   "execution_count": 50,
   "metadata": {},
   "outputs": [
    {
     "data": {
      "text/plain": [
       "(155513552, 158045991)"
      ]
     },
     "execution_count": 50,
     "metadata": {},
     "output_type": "execute_result"
    }
   ],
   "source": [
    "# (121058446, 119896698)\n",
    "len(clusters_to_merge), len(clusters_to_not_merge)"
   ]
  },
  {
   "cell_type": "code",
   "execution_count": 52,
   "metadata": {},
   "outputs": [],
   "source": [
    "np.save(\"/home/ubuntu/Data/full-prediction/{}-clusters-to-merge.npy\".format(datestring_new), np.array(clusters_to_merge))"
   ]
  },
  {
   "cell_type": "code",
   "execution_count": 53,
   "metadata": {},
   "outputs": [],
   "source": [
    "np.save(\"/home/ubuntu/Data/full-prediction/{}-clusters-to-not-merge.npy\".format(datestring_new), np.array(clusters_to_not_merge))"
   ]
  },
  {
   "cell_type": "markdown",
   "metadata": {},
   "source": [
    "### Restart notebook, reload data "
   ]
  },
  {
   "cell_type": "code",
   "execution_count": 36,
   "metadata": {},
   "outputs": [],
   "source": [
    "clusters_to_merge = np.load(\"/home/ubuntu/Data/full-prediction/{}-clusters-to-merge.npy\".format(datestring_new))"
   ]
  },
  {
   "cell_type": "code",
   "execution_count": 37,
   "metadata": {},
   "outputs": [
    {
     "name": "stdout",
     "output_type": "stream",
     "text": [
      "155513552 cluster pairs to merge, 0 cluster pairs to ignore\n",
      "Finding largest cluster ID in clustersToMerge\n",
      "Initializing union find structures for 658158218 items.\n",
      "Initialized Union-Find with 184302672 unique clusters\n",
      "Added constraints to 0 clusters\n",
      "100.00% done\n",
      "Percentiles of size of smaller cluster:\n",
      "1 is the 90 percentile\n",
      "6 is the 99 percentile\n",
      "25 is the 99.9 percentile\n",
      "114 is the 99.99 percentile\n",
      "1696 is the 99.999 percentile\n",
      "\n",
      "39801817 clusters after merging\n",
      "11012697 merges skipped because parents were already merged\n",
      "0 merges skipped because parents were larger than the threshold of 2147483648\n",
      "0 merges skipped because of constraint violations\n",
      "\n"
     ]
    }
   ],
   "source": [
    "dumb_clusters_to_merge = blocksci.heuristics.refine_clustering(my_cm, clusters_to_merge, [], 2**31)"
   ]
  },
  {
   "cell_type": "code",
   "execution_count": 38,
   "metadata": {},
   "outputs": [],
   "source": [
    "np.save(\"/home/ubuntu/Data/full-prediction/{}-dumb-clusters-to-merge.npy\".format(datestring_new), dumb_clusters_to_merge)"
   ]
  },
  {
   "cell_type": "code",
   "execution_count": 37,
   "metadata": {},
   "outputs": [],
   "source": [
    "clusters_to_not_merge = np.load(\"/home/ubuntu/Data/full-prediction/{}-clusters-to-not-merge.npy\".format(datestring_new))"
   ]
  },
  {
   "cell_type": "code",
   "execution_count": 38,
   "metadata": {},
   "outputs": [
    {
     "name": "stdout",
     "output_type": "stream",
     "text": [
      "155513552 cluster pairs to merge, 158045991 cluster pairs to ignore\n",
      "Finding largest cluster ID in clustersToMerge\n",
      "Initializing union find structures for 658158218 items.\n",
      "Initialized Union-Find with 184302672 unique clusters\n",
      "Added constraints to 28840601 clusters\n",
      "100.00% done\n",
      "Percentiles of size of smaller cluster:\n",
      "1 is the 90 percentile\n",
      "6 is the 99 percentile\n",
      "25 is the 99.9 percentile\n",
      "102 is the 99.99 percentile\n",
      "578 is the 99.999 percentile\n",
      "\n",
      "40033157 clusters after merging\n",
      "10830429 merges skipped because parents were already merged\n",
      "0 merges skipped because parents were larger than the threshold of 2147483648\n",
      "413608 merges skipped because of constraint violations\n",
      "\n"
     ]
    }
   ],
   "source": [
    "refined_clusters_to_merge = blocksci.heuristics.refine_clustering(my_cm, clusters_to_merge, clusters_to_not_merge, 2**31)"
   ]
  },
  {
   "cell_type": "code",
   "execution_count": 40,
   "metadata": {},
   "outputs": [],
   "source": [
    "np.save(\"/home/ubuntu/Data/full-prediction/{}-refined-clusters-to-merge.npy\".format(datestring_new), refined_clusters_to_merge)"
   ]
  },
  {
   "cell_type": "markdown",
   "metadata": {},
   "source": [
    "### Create a basic refined clustering, without constraints"
   ]
  },
  {
   "cell_type": "code",
   "execution_count": 41,
   "metadata": {},
   "outputs": [],
   "source": [
    "y_predict = get_y_predict()"
   ]
  },
  {
   "cell_type": "code",
   "execution_count": 42,
   "metadata": {},
   "outputs": [
    {
     "name": "stdout",
     "output_type": "stream",
     "text": [
      "CPU times: user 29.3 s, sys: 29.4 s, total: 58.7 s\n",
      "Wall time: 5min 44s\n"
     ]
    }
   ],
   "source": [
    "%time coinbase_idx = set(stored_txes.transactions().where(lambda tx: tx.is_coinbase).index)"
   ]
  },
  {
   "cell_type": "code",
   "execution_count": 43,
   "metadata": {},
   "outputs": [
    {
     "data": {
      "text/plain": [
       "0"
      ]
     },
     "execution_count": 43,
     "metadata": {},
     "output_type": "execute_result"
    }
   ],
   "source": [
    "len(coinbase_idx)"
   ]
  },
  {
   "cell_type": "code",
   "execution_count": 44,
   "metadata": {},
   "outputs": [],
   "source": [
    "tx_cluster_ids = np.load(\"/home/ubuntu/Data/full-prediction/{}-tx-cluster-ids.npy\".format(datestring_new))\n",
    "output_cluster_ids = np.load(\"/home/ubuntu/Data/full-prediction/{}-output-cluster-ids.npy\".format(datestring_new))"
   ]
  },
  {
   "cell_type": "code",
   "execution_count": 45,
   "metadata": {},
   "outputs": [],
   "source": [
    "assert stored_txes.transactions().size == len(y_predict) // 2\n",
    "assert len(tx_cluster_ids) == len(y_predict) // 2\n",
    "assert len(y_predict) == len(output_cluster_ids)"
   ]
  },
  {
   "cell_type": "code",
   "execution_count": 46,
   "metadata": {},
   "outputs": [],
   "source": [
    "txes_to_merge = []\n",
    "\n",
    "for tx_index, (out_0_prob, out_1_prob), tx_cluster, (ocid_0, ocid_1), (should_merge, _), all_outs_spent in zip(\n",
    "    stored_txes.transactions().index,\n",
    "    grouper(y_predict, 2),\n",
    "    tx_cluster_ids,\n",
    "    grouper(output_cluster_ids, 2),\n",
    "    grouper(mask_should_predict, 2),\n",
    "    all_spent_mask_txes\n",
    "):\n",
    "    \n",
    "    if not should_merge:\n",
    "        continue\n",
    "    \n",
    "    if tx_index in coinbase_idx:\n",
    "        continue\n",
    "        \n",
    "    pos_thres = positive_threshold\n",
    "    if not all_outs_spent:\n",
    "        pos_thres = positive_threshold_nofp\n",
    "\n",
    "    if out_0_prob > pos_thres and out_1_prob > pos_thres:\n",
    "        continue\n",
    "    if out_0_prob > pos_thres:\n",
    "        txes_to_merge.append((tx_index, 0))\n",
    "    elif out_1_prob  > pos_thres:\n",
    "        txes_to_merge.append((tx_index, 1))"
   ]
  },
  {
   "cell_type": "code",
   "execution_count": 47,
   "metadata": {},
   "outputs": [
    {
     "data": {
      "text/plain": [
       "155513552"
      ]
     },
     "execution_count": 47,
     "metadata": {},
     "output_type": "execute_result"
    }
   ],
   "source": [
    "len(txes_to_merge)"
   ]
  },
  {
   "cell_type": "code",
   "execution_count": 48,
   "metadata": {},
   "outputs": [
    {
     "data": {
      "text/plain": [
       "0.5022186927954536"
      ]
     },
     "execution_count": 48,
     "metadata": {},
     "output_type": "execute_result"
    }
   ],
   "source": [
    "len(txes_to_merge) / stored_txes.transactions().size"
   ]
  },
  {
   "cell_type": "code",
   "execution_count": 49,
   "metadata": {},
   "outputs": [],
   "source": [
    "np.save(\"/home/ubuntu/Data/full-prediction/{}-unrefined-txes-to-cluster.npy\".format(datestring_new), txes_to_merge)"
   ]
  },
  {
   "cell_type": "code",
   "execution_count": 50,
   "metadata": {},
   "outputs": [],
   "source": [
    "del y_predict, tx_cluster_ids, output_cluster_ids, mask_should_predict, all_spent_mask_txes"
   ]
  },
  {
   "cell_type": "code",
   "execution_count": 51,
   "metadata": {},
   "outputs": [
    {
     "data": {
      "text/plain": [
       "0"
      ]
     },
     "execution_count": 51,
     "metadata": {},
     "output_type": "execute_result"
    }
   ],
   "source": [
    "gc.collect()"
   ]
  },
  {
   "cell_type": "code",
   "execution_count": 52,
   "metadata": {},
   "outputs": [
    {
     "name": "stdout",
     "output_type": "stream",
     "text": [
      "Refining clustering at path /home/ubuntu/Data/clusters/20210715-base-clustering.\n",
      "100.00% done\n",
      "Successfully stored cluster data at /home/ubuntu/Data/clusters/20210804-refined-dumb\n",
      "Serializing cluster tx counts.\n",
      "Flattening cluster tx vector.\n",
      "Tx counts match.\n",
      "Serializing transaction IDs.\n",
      "Computing transaction offsets.\n",
      "Serializing cluster tx offsets.\n"
     ]
    }
   ],
   "source": [
    "refined_clustering_dumb = blocksci.cluster.ClusterManager.refine_clustering(\"/home/ubuntu/Data/clusters/{}-refined-dumb\".format(datestring_new), utils.latest_clustering(), txes_to_merge, chain)"
   ]
  },
  {
   "cell_type": "code",
   "execution_count": 53,
   "metadata": {},
   "outputs": [],
   "source": [
    "del txes_to_merge"
   ]
  },
  {
   "cell_type": "markdown",
   "metadata": {},
   "source": [
    "### Create a smarter refined clustering, with constraints"
   ]
  },
  {
   "cell_type": "code",
   "execution_count": 19,
   "metadata": {},
   "outputs": [],
   "source": [
    "y_predict = get_y_predict()"
   ]
  },
  {
   "cell_type": "code",
   "execution_count": 20,
   "metadata": {},
   "outputs": [
    {
     "name": "stdout",
     "output_type": "stream",
     "text": [
      "CPU times: user 26.4 s, sys: 21.9 s, total: 48.3 s\n",
      "Wall time: 3min 40s\n"
     ]
    }
   ],
   "source": [
    "%time coinbase_idx = set(stored_txes.transactions().where(lambda tx: tx.is_coinbase).index)"
   ]
  },
  {
   "cell_type": "code",
   "execution_count": 21,
   "metadata": {},
   "outputs": [],
   "source": [
    "tx_cluster_ids = np.load(\"/home/ubuntu/Data/full-prediction/{}-tx-cluster-ids.npy\".format(datestring_new))\n",
    "output_cluster_ids = np.load(\"/home/ubuntu/Data/full-prediction/{}-output-cluster-ids.npy\".format(datestring_new))"
   ]
  },
  {
   "cell_type": "code",
   "execution_count": 22,
   "metadata": {},
   "outputs": [],
   "source": [
    "assert stored_txes.transactions().size == len(y_predict) // 2\n",
    "assert len(tx_cluster_ids) == len(y_predict) // 2\n",
    "assert len(y_predict) == len(output_cluster_ids)"
   ]
  },
  {
   "cell_type": "code",
   "execution_count": 23,
   "metadata": {},
   "outputs": [],
   "source": [
    "refined_clusters_to_merge = np.load(\"/home/ubuntu/Data/full-prediction/{}-refined-clusters-to-merge.npy\".format(datestring_new))"
   ]
  },
  {
   "cell_type": "code",
   "execution_count": 24,
   "metadata": {},
   "outputs": [],
   "source": [
    "valid_merges = set([tuple(x) for x in refined_clusters_to_merge])"
   ]
  },
  {
   "cell_type": "code",
   "execution_count": 25,
   "metadata": {},
   "outputs": [],
   "source": [
    "all_spent_mask_txes = get_all_spent_mask_txes()"
   ]
  },
  {
   "cell_type": "code",
   "execution_count": 26,
   "metadata": {},
   "outputs": [],
   "source": [
    "del refined_clusters_to_merge"
   ]
  },
  {
   "cell_type": "code",
   "execution_count": 27,
   "metadata": {},
   "outputs": [],
   "source": [
    "txes_to_merge = []\n",
    "\n",
    "for tx_index, (out_0_prob, out_1_prob), tx_cluster, (ocid_0, ocid_1), (should_merge, _), all_outs_spent in zip(\n",
    "    stored_txes.transactions().index,\n",
    "    grouper(y_predict, 2),\n",
    "    tx_cluster_ids,\n",
    "    grouper(output_cluster_ids, 2),\n",
    "    grouper(mask_should_predict, 2),\n",
    "    all_spent_mask_txes\n",
    "):\n",
    "    \n",
    "    if not should_merge:\n",
    "        continue\n",
    "\n",
    "    if tx_index in coinbase_idx:\n",
    "        continue\n",
    "    \n",
    "    pos_thres = positive_threshold\n",
    "    if not all_outs_spent:\n",
    "        pos_thres = positive_threshold_nofp\n",
    "\n",
    "    if out_0_prob > pos_thres and out_1_prob > pos_thres:\n",
    "        continue\n",
    "    if out_0_prob > pos_thres:\n",
    "        ctuple = (min(tx_cluster, ocid_0), max(tx_cluster, ocid_0))\n",
    "        if ctuple in valid_merges:\n",
    "            txes_to_merge.append((tx_index, 0))\n",
    "    elif out_1_prob > pos_thres:\n",
    "        ctuple = (min(tx_cluster, ocid_1), max(tx_cluster, ocid_1))\n",
    "        if ctuple in valid_merges:\n",
    "            txes_to_merge.append((tx_index, 1))"
   ]
  },
  {
   "cell_type": "code",
   "execution_count": 28,
   "metadata": {},
   "outputs": [
    {
     "data": {
      "text/plain": [
       "150865528"
      ]
     },
     "execution_count": 28,
     "metadata": {},
     "output_type": "execute_result"
    }
   ],
   "source": [
    "len(txes_to_merge)"
   ]
  },
  {
   "cell_type": "code",
   "execution_count": 29,
   "metadata": {},
   "outputs": [],
   "source": [
    "del y_predict, tx_cluster_ids, output_cluster_ids"
   ]
  },
  {
   "cell_type": "code",
   "execution_count": 30,
   "metadata": {},
   "outputs": [
    {
     "data": {
      "text/plain": [
       "0"
      ]
     },
     "execution_count": 30,
     "metadata": {},
     "output_type": "execute_result"
    }
   ],
   "source": [
    "gc.collect()"
   ]
  },
  {
   "cell_type": "code",
   "execution_count": 31,
   "metadata": {},
   "outputs": [],
   "source": [
    "np.save(\"/home/ubuntu/Data/full-prediction/{}-refined-txes-to-cluster.npy\".format(datestring_new), txes_to_merge)"
   ]
  },
  {
   "cell_type": "code",
   "execution_count": 19,
   "metadata": {},
   "outputs": [],
   "source": [
    "txes_to_merge = np.load(\"/home/ubuntu/Data/full-prediction/{}-refined-txes-to-cluster.npy\".format(datestring_new))"
   ]
  },
  {
   "cell_type": "code",
   "execution_count": 20,
   "metadata": {},
   "outputs": [
    {
     "name": "stdout",
     "output_type": "stream",
     "text": [
      "Refining clustering at path /home/ubuntu/Data/clusters/20210715-base-clustering.\n",
      "100.00% done\n",
      "Successfully stored cluster data at /home/ubuntu/Data/clusters/20210804-refined-smart\n",
      "Serializing cluster tx counts.\n",
      "Flattening cluster tx vector.\n",
      "Tx counts match.\n",
      "Serializing transaction IDs.\n",
      "Computing transaction offsets.\n",
      "Serializing cluster tx offsets.\n"
     ]
    }
   ],
   "source": [
    "refined_clustering = blocksci.cluster.ClusterManager.refine_clustering(\"/home/ubuntu/Data/clusters/{}-refined-smart\".format(datestring_new), utils.latest_clustering(), txes_to_merge, chain)"
   ]
  },
  {
   "cell_type": "code",
   "execution_count": 21,
   "metadata": {},
   "outputs": [],
   "source": [
    "del txes_to_merge"
   ]
  },
  {
   "cell_type": "markdown",
   "metadata": {},
   "source": [
    "## Cluster Collapse"
   ]
  },
  {
   "cell_type": "code",
   "execution_count": 19,
   "metadata": {},
   "outputs": [
    {
     "data": {
      "text/plain": [
       "658522992"
      ]
     },
     "execution_count": 19,
     "metadata": {},
     "output_type": "execute_result"
    }
   ],
   "source": [
    "my_cm.clusters().size"
   ]
  },
  {
   "cell_type": "code",
   "execution_count": 20,
   "metadata": {},
   "outputs": [],
   "source": [
    "refined_clustering_dumb = blocksci.cluster.ClusterManager(\"/home/ubuntu/Data/clusters/{}-refined-dumb\".format(datestring_new), chain)"
   ]
  },
  {
   "cell_type": "code",
   "execution_count": 21,
   "metadata": {},
   "outputs": [
    {
     "data": {
      "text/plain": [
       "514022137"
      ]
     },
     "execution_count": 21,
     "metadata": {},
     "output_type": "execute_result"
    }
   ],
   "source": [
    "refined_clustering_dumb.clusters().size"
   ]
  },
  {
   "cell_type": "code",
   "execution_count": 22,
   "metadata": {},
   "outputs": [],
   "source": [
    "refined_clustering_smart = blocksci.cluster.ClusterManager(\"/home/ubuntu/Data/clusters/{}-refined-smart\".format(datestring_new), chain)"
   ]
  },
  {
   "cell_type": "code",
   "execution_count": 23,
   "metadata": {},
   "outputs": [
    {
     "data": {
      "text/plain": [
       "514253477"
      ]
     },
     "execution_count": 23,
     "metadata": {},
     "output_type": "execute_result"
    }
   ],
   "source": [
    "refined_clustering_smart.clusters().size"
   ]
  },
  {
   "cell_type": "code",
   "execution_count": 24,
   "metadata": {},
   "outputs": [
    {
     "data": {
      "text/plain": [
       "231340"
      ]
     },
     "execution_count": 24,
     "metadata": {},
     "output_type": "execute_result"
    }
   ],
   "source": [
    "refined_clustering_smart.clusters().size - refined_clustering_dumb.clusters().size"
   ]
  },
  {
   "cell_type": "markdown",
   "metadata": {},
   "source": [
    "### Check for Mt. Gox cluster collapse"
   ]
  },
  {
   "cell_type": "code",
   "execution_count": 25,
   "metadata": {},
   "outputs": [],
   "source": [
    "mtgox_address = chain.address_from_string(\"1LNWw6yCxkUmkhArb2Nf2MPw6vG7u5WG7q\")"
   ]
  },
  {
   "cell_type": "code",
   "execution_count": 26,
   "metadata": {},
   "outputs": [],
   "source": [
    "mt_gox_before = my_cm.clusters()[my_cm.cluster_with_address(mtgox_address).index]"
   ]
  },
  {
   "cell_type": "code",
   "execution_count": 27,
   "metadata": {},
   "outputs": [
    {
     "data": {
      "text/plain": [
       "(4161568, 13214890, 13201430)"
      ]
     },
     "execution_count": 27,
     "metadata": {},
     "output_type": "execute_result"
    }
   ],
   "source": [
    "mt_gox_before.tx_count, mt_gox_before.type_equiv_size, len(mt_gox_before)"
   ]
  },
  {
   "cell_type": "code",
   "execution_count": 28,
   "metadata": {},
   "outputs": [
    {
     "data": {
      "text/plain": [
       "221"
      ]
     },
     "execution_count": 28,
     "metadata": {},
     "output_type": "execute_result"
    }
   ],
   "source": [
    "mt_gox_before.index"
   ]
  },
  {
   "cell_type": "code",
   "execution_count": 29,
   "metadata": {},
   "outputs": [],
   "source": [
    "mt_gox_dumb = refined_clustering_dumb.clusters()[refined_clustering_dumb.cluster_with_address(mtgox_address).index]"
   ]
  },
  {
   "cell_type": "code",
   "execution_count": 30,
   "metadata": {},
   "outputs": [
    {
     "data": {
      "text/plain": [
       "213"
      ]
     },
     "execution_count": 30,
     "metadata": {},
     "output_type": "execute_result"
    }
   ],
   "source": [
    "mt_gox_dumb.index"
   ]
  },
  {
   "cell_type": "code",
   "execution_count": 31,
   "metadata": {},
   "outputs": [
    {
     "data": {
      "text/plain": [
       "(108196018, 357583427, 223928805)"
      ]
     },
     "execution_count": 31,
     "metadata": {},
     "output_type": "execute_result"
    }
   ],
   "source": [
    "mt_gox_dumb.tx_count, mt_gox_dumb.type_equiv_size, len(mt_gox_dumb)"
   ]
  },
  {
   "cell_type": "code",
   "execution_count": 32,
   "metadata": {},
   "outputs": [],
   "source": [
    "mt_gox_smart = refined_clustering_smart.clusters()[refined_clustering_smart.cluster_with_address(mtgox_address).index]"
   ]
  },
  {
   "cell_type": "code",
   "execution_count": 33,
   "metadata": {},
   "outputs": [
    {
     "data": {
      "text/plain": [
       "221"
      ]
     },
     "execution_count": 33,
     "metadata": {},
     "output_type": "execute_result"
    }
   ],
   "source": [
    "mt_gox_smart.index"
   ]
  },
  {
   "cell_type": "code",
   "execution_count": 34,
   "metadata": {},
   "outputs": [
    {
     "data": {
      "text/plain": [
       "(4397689, 14850404, 14511165)"
      ]
     },
     "execution_count": 34,
     "metadata": {},
     "output_type": "execute_result"
    }
   ],
   "source": [
    "mt_gox_smart.tx_count, mt_gox_smart.type_equiv_size, len(mt_gox_smart)"
   ]
  },
  {
   "cell_type": "markdown",
   "metadata": {},
   "source": [
    "### Check for large cluster (over 10 million type equiv addresses)"
   ]
  },
  {
   "cell_type": "code",
   "execution_count": 35,
   "metadata": {},
   "outputs": [],
   "source": [
    "largest_cluster_before = my_cm.clusters().where(lambda x: x.type_equiv_size > 10000000).to_list()"
   ]
  },
  {
   "cell_type": "code",
   "execution_count": 36,
   "metadata": {},
   "outputs": [],
   "source": [
    "largest_cluster_dumb = refined_clustering_dumb.clusters().where(lambda x: x.type_equiv_size > 10000000).to_list()"
   ]
  },
  {
   "cell_type": "code",
   "execution_count": 37,
   "metadata": {},
   "outputs": [],
   "source": [
    "largest_cluster_smart = refined_clustering_smart.clusters().where(lambda x: x.type_equiv_size > 10000000).to_list()"
   ]
  },
  {
   "cell_type": "code",
   "execution_count": 38,
   "metadata": {},
   "outputs": [
    {
     "name": "stdout",
     "output_type": "stream",
     "text": [
      "221 13214890 4161568\n",
      "34508 34534228 8851845\n"
     ]
    }
   ],
   "source": [
    "for cluster in largest_cluster_before:\n",
    "    print(cluster.index, cluster.type_equiv_size, cluster.tx_count)\n",
    "del cluster"
   ]
  },
  {
   "cell_type": "code",
   "execution_count": 39,
   "metadata": {},
   "outputs": [
    {
     "name": "stdout",
     "output_type": "stream",
     "text": [
      "213 357583427 108196018\n"
     ]
    }
   ],
   "source": [
    "for cluster in largest_cluster_dumb:\n",
    "    print(cluster.index, cluster.type_equiv_size, cluster.tx_count)\n",
    "del cluster"
   ]
  },
  {
   "cell_type": "code",
   "execution_count": 40,
   "metadata": {},
   "outputs": [
    {
     "name": "stdout",
     "output_type": "stream",
     "text": [
      "221 14850404 4397689\n",
      "29860 50353021 20379073\n",
      "4672178 10902955 1084997\n",
      "4856524 10820964 834042\n",
      "7661318 10459989 1083996\n"
     ]
    }
   ],
   "source": [
    "for cluster in largest_cluster_smart:\n",
    "    print(cluster.index, cluster.type_equiv_size, cluster.tx_count)\n",
    "del cluster"
   ]
  },
  {
   "cell_type": "markdown",
   "metadata": {},
   "source": [
    "### Check for cluster collapse"
   ]
  },
  {
   "cell_type": "code",
   "execution_count": 17,
   "metadata": {},
   "outputs": [],
   "source": [
    "import yaml"
   ]
  },
  {
   "cell_type": "code",
   "execution_count": 18,
   "metadata": {},
   "outputs": [],
   "source": [
    "with open('walletexplorer.yaml') as f:\n",
    "    cluster_tags = yaml.safe_load(f)"
   ]
  },
  {
   "cell_type": "code",
   "execution_count": 19,
   "metadata": {},
   "outputs": [],
   "source": [
    "cluster_tags = cluster_tags['tags']"
   ]
  },
  {
   "cell_type": "code",
   "execution_count": 44,
   "metadata": {},
   "outputs": [],
   "source": [
    "more_clusters = {}\n",
    "for entry in cluster_tags:\n",
    "    more_clusters[entry['label']] = entry['address']"
   ]
  },
  {
   "cell_type": "code",
   "execution_count": 45,
   "metadata": {},
   "outputs": [],
   "source": [
    "new_clusters_dumb_full = collections.defaultdict(list)\n",
    "new_clusters_smart_full = collections.defaultdict(list)\n",
    "\n",
    "for cluster_name, cluster_address in more_clusters.items():\n",
    "    address = chain.address_from_string(cluster_address)\n",
    "    \n",
    "    dumb_cluster = refined_clustering_dumb.cluster_with_address(address)\n",
    "    new_clusters_dumb_full[dumb_cluster.index].append(cluster_name)\n",
    "    \n",
    "    smart_cluster = refined_clustering_smart.cluster_with_address(address)\n",
    "    new_clusters_smart_full[smart_cluster.index].append(cluster_name)"
   ]
  },
  {
   "cell_type": "code",
   "execution_count": 46,
   "metadata": {},
   "outputs": [
    {
     "data": {
      "text/plain": [
       "(273, 161, 266)"
      ]
     },
     "execution_count": 46,
     "metadata": {},
     "output_type": "execute_result"
    }
   ],
   "source": [
    "len(more_clusters), len(new_clusters_dumb_full), len(new_clusters_smart_full)"
   ]
  },
  {
   "cell_type": "code",
   "execution_count": 47,
   "metadata": {},
   "outputs": [
    {
     "data": {
      "text/plain": [
       "113"
      ]
     },
     "execution_count": 47,
     "metadata": {},
     "output_type": "execute_result"
    }
   ],
   "source": [
    "len(new_clusters_dumb_full[213])"
   ]
  },
  {
   "cell_type": "code",
   "execution_count": null,
   "metadata": {},
   "outputs": [],
   "source": [
    "new_clusters_dumb_full"
   ]
  },
  {
   "cell_type": "code",
   "execution_count": null,
   "metadata": {},
   "outputs": [],
   "source": [
    "new_clusters_smart_full"
   ]
  },
  {
   "cell_type": "code",
   "execution_count": 50,
   "metadata": {},
   "outputs": [
    {
     "name": "stdout",
     "output_type": "stream",
     "text": [
      "0 ['localbitcoins.com', 'bitcoin.de']\n",
      "1 ['poloniex', 'yabtcl.com']\n",
      "2 ['agoramarket', 'germanplazamarket']\n",
      "3 ['betcoin.tm', 'luckyb.it']\n",
      "4 ['xapo', 'coinhako.com']\n",
      "5 ['clevercoin.com', 'bitbay.net']\n",
      "6 ['cointrader.net', 'anxpro.com']\n"
     ]
    }
   ],
   "source": [
    "cluster_count = 0\n",
    "for key in new_clusters_smart_full:\n",
    "    if len(new_clusters_smart_full[key]) > 1:\n",
    "        print(cluster_count, new_clusters_smart_full[key])\n",
    "        cluster_count += 1"
   ]
  },
  {
   "cell_type": "markdown",
   "metadata": {},
   "source": [
    "### Extract how new clusters are formed"
   ]
  },
  {
   "cell_type": "code",
   "execution_count": 51,
   "metadata": {},
   "outputs": [],
   "source": [
    "clusters_to_merge = np.load(\"/home/ubuntu/Data/full-prediction/{}-clusters-to-merge.npy\".format(datestring_new))"
   ]
  },
  {
   "cell_type": "code",
   "execution_count": 52,
   "metadata": {},
   "outputs": [
    {
     "name": "stdout",
     "output_type": "stream",
     "text": [
      "155513552 cluster pairs to merge, 0 cluster pairs to ignore\n",
      "Finding largest cluster ID in clustersToMerge\n",
      "Initializing union find structures for 658158218 items.\n",
      "Initialized Union-Find with 184302672 unique clusters\n",
      "Added constraints to 0 clusters\n",
      "100.00% done\n"
     ]
    }
   ],
   "source": [
    "dumb_families = blocksci.heuristics.get_clustered_families(my_cm, clusters_to_merge, [], 2**31)"
   ]
  },
  {
   "cell_type": "code",
   "execution_count": 53,
   "metadata": {},
   "outputs": [
    {
     "data": {
      "text/plain": [
       "39801817"
      ]
     },
     "execution_count": 53,
     "metadata": {},
     "output_type": "execute_result"
    }
   ],
   "source": [
    "len(dumb_families)"
   ]
  },
  {
   "cell_type": "code",
   "execution_count": 54,
   "metadata": {},
   "outputs": [
    {
     "name": "stderr",
     "output_type": "stream",
     "text": [
      "/home/ubuntu/.local/lib/python3.6/site-packages/numpy/core/_asarray.py:136: VisibleDeprecationWarning: Creating an ndarray from ragged nested sequences (which is a list-or-tuple of lists-or-tuples-or ndarrays with different lengths or shapes) is deprecated. If you meant to do this, you must specify 'dtype=object' when creating the ndarray\n",
      "  return array(a, dtype, copy=False, order=order, subok=True)\n"
     ]
    }
   ],
   "source": [
    "np.save(\"/home/ubuntu/Data/full-prediction/{}-dumb-families.npy\".format(datestring_new), dumb_families)"
   ]
  },
  {
   "cell_type": "code",
   "execution_count": 55,
   "metadata": {},
   "outputs": [],
   "source": [
    "clusters_to_not_merge = np.load(\"/home/ubuntu/Data/full-prediction/{}-clusters-to-not-merge.npy\".format(datestring_new))"
   ]
  },
  {
   "cell_type": "code",
   "execution_count": 56,
   "metadata": {},
   "outputs": [
    {
     "name": "stdout",
     "output_type": "stream",
     "text": [
      "155513552 cluster pairs to merge, 158045991 cluster pairs to ignore\n",
      "Finding largest cluster ID in clustersToMerge\n",
      "Initializing union find structures for 658158218 items.\n",
      "Initialized Union-Find with 184302672 unique clusters\n",
      "Added constraints to 28840601 clusters\n",
      "100.00% done\n"
     ]
    }
   ],
   "source": [
    "smart_families = blocksci.heuristics.get_clustered_families(my_cm, clusters_to_merge, clusters_to_not_merge, 2**31)"
   ]
  },
  {
   "cell_type": "code",
   "execution_count": 57,
   "metadata": {},
   "outputs": [
    {
     "data": {
      "text/plain": [
       "40033157"
      ]
     },
     "execution_count": 57,
     "metadata": {},
     "output_type": "execute_result"
    }
   ],
   "source": [
    "len(smart_families)"
   ]
  },
  {
   "cell_type": "code",
   "execution_count": 58,
   "metadata": {},
   "outputs": [],
   "source": [
    "np.save(\"/home/ubuntu/Data/full-prediction/{}-smart-families.npy\".format(datestring_new), smart_families)"
   ]
  },
  {
   "cell_type": "markdown",
   "metadata": {},
   "source": [
    "#### Reload notebook and data"
   ]
  },
  {
   "cell_type": "code",
   "execution_count": 19,
   "metadata": {},
   "outputs": [],
   "source": [
    "dumb_families = np.load(\"/home/ubuntu/Data/full-prediction/{}-dumb-families.npy\".format(datestring_new), allow_pickle=True)"
   ]
  },
  {
   "cell_type": "code",
   "execution_count": 20,
   "metadata": {},
   "outputs": [],
   "source": [
    "dumb_address_start = []\n",
    "dumb_address_increase = []\n",
    "dumb_tx_start = []\n",
    "dumb_tx_increase = []\n",
    "for family in dumb_families:\n",
    "    tx_counts = []\n",
    "    address_counts = []\n",
    "    for cid in family:\n",
    "        before_cluster = my_cm.clusters()[cid]\n",
    "        tx_counts.append(before_cluster.tx_count)\n",
    "        address_counts.append(len(before_cluster))\n",
    "    dumb_address_start.append(max(address_counts))\n",
    "    dumb_address_increase.append(sum(address_counts) - max(address_counts))\n",
    "    dumb_tx_start.append(max(tx_counts))\n",
    "    dumb_tx_increase.append(sum(tx_counts) - max(tx_counts))"
   ]
  },
  {
   "cell_type": "code",
   "execution_count": 21,
   "metadata": {},
   "outputs": [
    {
     "data": {
      "text/plain": [
       "['/home/ubuntu/Data/full-prediction/20210804-dumb_stats.pkl']"
      ]
     },
     "execution_count": 21,
     "metadata": {},
     "output_type": "execute_result"
    }
   ],
   "source": [
    "joblib.dump([dumb_address_start, dumb_address_increase, dumb_tx_start, dumb_tx_increase], \"/home/ubuntu/Data/full-prediction/{}-dumb_stats.pkl\".format(datestring_new))"
   ]
  },
  {
   "cell_type": "code",
   "execution_count": 22,
   "metadata": {},
   "outputs": [],
   "source": [
    "del dumb_families"
   ]
  },
  {
   "cell_type": "code",
   "execution_count": 23,
   "metadata": {},
   "outputs": [],
   "source": [
    "smart_families = np.load(\"/home/ubuntu/Data/full-prediction/{}-smart-families.npy\".format(datestring_new), allow_pickle=True)"
   ]
  },
  {
   "cell_type": "code",
   "execution_count": null,
   "metadata": {},
   "outputs": [],
   "source": [
    "smart_address_start = []\n",
    "smart_address_increase = []\n",
    "smart_tx_start = []\n",
    "smart_tx_increase = []\n",
    "for family in smart_families:\n",
    "    tx_counts = []\n",
    "    address_counts = []\n",
    "    for cid in family:\n",
    "        before_cluster = my_cm.clusters()[cid]\n",
    "        tx_counts.append(before_cluster.tx_count)\n",
    "        address_counts.append(len(before_cluster))\n",
    "    smart_address_start.append(max(address_counts))\n",
    "    smart_address_increase.append(sum(address_counts) - max(address_counts))\n",
    "    smart_tx_start.append(max(tx_counts))\n",
    "    smart_tx_increase.append(sum(tx_counts) - max(tx_counts))"
   ]
  },
  {
   "cell_type": "code",
   "execution_count": null,
   "metadata": {},
   "outputs": [],
   "source": [
    "len(dumb_address_start), len(smart_address_start)"
   ]
  },
  {
   "cell_type": "code",
   "execution_count": null,
   "metadata": {},
   "outputs": [],
   "source": [
    "joblib.dump([smart_address_start, smart_address_increase, smart_tx_start, smart_tx_increase], \"/home/ubuntu/Data/full-prediction/{}-smart_stats.pkl\".format(datestring_new))"
   ]
  },
  {
   "cell_type": "code",
   "execution_count": null,
   "metadata": {},
   "outputs": [],
   "source": [
    "del smart_families"
   ]
  },
  {
   "cell_type": "markdown",
   "metadata": {},
   "source": [
    "#### Reload and analyze data"
   ]
  },
  {
   "cell_type": "code",
   "execution_count": 20,
   "metadata": {},
   "outputs": [],
   "source": [
    "dumb_address_start, dumb_address_increase, dumb_tx_start, dumb_tx_increase = joblib.load(\"/home/ubuntu/Data/full-prediction/{}-dumb_stats.pkl\".format(datestring_new))"
   ]
  },
  {
   "cell_type": "code",
   "execution_count": 21,
   "metadata": {},
   "outputs": [],
   "source": [
    "smart_address_start, smart_address_increase, smart_tx_start, smart_tx_increase = joblib.load(\"/home/ubuntu/Data/full-prediction/{}-smart_stats.pkl\".format(datestring_new))"
   ]
  },
  {
   "cell_type": "code",
   "execution_count": 22,
   "metadata": {},
   "outputs": [],
   "source": [
    "ds_dumb_address = pd.Series(dumb_address_increase)\n",
    "ds_smart_address = pd.Series(smart_address_increase)"
   ]
  },
  {
   "cell_type": "code",
   "execution_count": 23,
   "metadata": {},
   "outputs": [],
   "source": [
    "ds_dumb_tx = pd.Series(dumb_tx_increase)\n",
    "ds_smart_tx = pd.Series(smart_tx_increase)"
   ]
  },
  {
   "cell_type": "code",
   "execution_count": 24,
   "metadata": {},
   "outputs": [],
   "source": [
    "def plot_loghist(x, bins):\n",
    "    hist, bins = np.histogram(x, bins=bins)\n",
    "    logbins = np.logspace(np.log10(bins[0]),np.log10(bins[-1]),len(bins))\n",
    "    fig, ax = plt.subplots()\n",
    "    plt.hist(x, bins=logbins)\n",
    "    plt.xscale('log')\n",
    "    plt.yscale('log')\n",
    "    ax.set_xlim(1)\n",
    "    ax.set_ylim(.5)\n",
    "    sns.despine()\n",
    "    plt.tight_layout()"
   ]
  },
  {
   "cell_type": "code",
   "execution_count": 25,
   "metadata": {},
   "outputs": [],
   "source": [
    "def combined_plot_loghist(x1, x2, max_x=None, xlabel=None, filename=\"no-name\"):\n",
    "    data_max_x = max(max(x1), max(x2))\n",
    "    if not max_x:\n",
    "        max_x = data_max_x\n",
    "    \n",
    "    upper_bound = int(round(np.log10(max_x) + 0.5, 0))\n",
    "    logbins = np.logspace(np.log10(1), upper_bound, upper_bound * 2 + 1)\n",
    "    \n",
    "    df = pd.concat([pd.DataFrame(a, columns=[f'x{i}']) for i, a in enumerate([x1, x2], 1)], axis=1)\n",
    "    ax = df.plot.hist(bins=logbins, alpha=0.5)\n",
    "    \n",
    "    plt.xscale('log')\n",
    "    plt.yscale('log')\n",
    "    \n",
    "    plt.legend([\"Naive\", \"Constrained\"], frameon=False)\n",
    "    \n",
    "    ax.annotate('Supercluster', xy=(data_max_x, 1), xycoords='data',\n",
    "                xytext=(0.8, 0.2), textcoords='axes fraction',\n",
    "            arrowprops=dict(arrowstyle=\"->\"),\n",
    "            )\n",
    "    \n",
    "    if xlabel:\n",
    "        ax.set_xlabel(xlabel)\n",
    "    ax.set_xlim(1)\n",
    "    ax.set_ylim(.5)\n",
    "    sns.despine()\n",
    "    plt.tight_layout()\n",
    "    \n",
    "    plt.savefig(\"figures/{}.pdf\".format(filename))"
   ]
  },
  {
   "cell_type": "code",
   "execution_count": 26,
   "metadata": {},
   "outputs": [
    {
     "data": {
      "image/png": "[encoded data removed]",
      "text/plain": [
       "<Figure size 432x288 with 1 Axes>"
      ]
     },
     "metadata": {
      "needs_background": "light"
     },
     "output_type": "display_data"
    }
   ],
   "source": [
    "plot_loghist(ds_dumb_address, 25)"
   ]
  },
  {
   "cell_type": "code",
   "execution_count": 27,
   "metadata": {},
   "outputs": [
    {
     "data": {
      "image/png": "[encoded data removed]",
      "text/plain": [
       "<Figure size 432x288 with 1 Axes>"
      ]
     },
     "metadata": {
      "needs_background": "light"
     },
     "output_type": "display_data"
    }
   ],
   "source": [
    "plot_loghist(ds_smart_address[ds_smart_address > 0], 25)"
   ]
  },
  {
   "cell_type": "code",
   "execution_count": 28,
   "metadata": {},
   "outputs": [],
   "source": [
    "max_x = max(max(ds_dumb_address), max(ds_dumb_tx), max(ds_smart_address), max(ds_smart_tx))"
   ]
  },
  {
   "cell_type": "code",
   "execution_count": 29,
   "metadata": {},
   "outputs": [
    {
     "data": {
      "image/png": "[encoded data removed]",
      "text/plain": [
       "<Figure size 432x288 with 1 Axes>"
      ]
     },
     "metadata": {
      "needs_background": "light"
     },
     "output_type": "display_data"
    }
   ],
   "source": [
    "combined_plot_loghist(\n",
    "    ds_dumb_address[ds_dumb_address > 0],\n",
    "    ds_smart_address[ds_smart_address > 0],\n",
    "    max_x=max_x,\n",
    "    xlabel=\"Increase in address size\",\n",
    "    filename=\"cluster-address-increase\")"
   ]
  },
  {
   "cell_type": "code",
   "execution_count": 30,
   "metadata": {},
   "outputs": [
    {
     "data": {
      "image/png": "[encoded data removed]",
      "text/plain": [
       "<Figure size 432x288 with 1 Axes>"
      ]
     },
     "metadata": {
      "needs_background": "light"
     },
     "output_type": "display_data"
    }
   ],
   "source": [
    "combined_plot_loghist(\n",
    "    ds_dumb_tx[ds_dumb_tx > 0],\n",
    "    ds_smart_tx[ds_smart_tx > 0],\n",
    "    max_x=max_x,\n",
    "    xlabel=\"Increase in transaction size\",\n",
    "    filename=\"cluster-tx-increase\")"
   ]
  },
  {
   "cell_type": "code",
   "execution_count": 31,
   "metadata": {},
   "outputs": [
    {
     "data": {
      "text/plain": [
       "2329436"
      ]
     },
     "execution_count": 31,
     "metadata": {},
     "output_type": "execute_result"
    }
   ],
   "source": [
    "len(ds_dumb_tx[ds_dumb_tx == 0])"
   ]
  },
  {
   "cell_type": "code",
   "execution_count": 32,
   "metadata": {},
   "outputs": [
    {
     "data": {
      "text/plain": [
       "2522166"
      ]
     },
     "execution_count": 32,
     "metadata": {},
     "output_type": "execute_result"
    }
   ],
   "source": [
    "len(ds_smart_tx[ds_smart_tx == 0])"
   ]
  }
 ],
 "metadata": {
  "kernelspec": {
   "display_name": "Python 3",
   "language": "python",
   "name": "python3"
  },
  "language_info": {
   "codemirror_mode": {
    "name": "ipython",
    "version": 3
   },
   "file_extension": ".py",
   "mimetype": "text/x-python",
   "name": "python",
   "nbconvert_exporter": "python",
   "pygments_lexer": "ipython3",
   "version": "3.8.8"
  }
 },
 "nbformat": 4,
 "nbformat_minor": 4
}
