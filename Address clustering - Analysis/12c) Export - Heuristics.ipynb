{
 "cells": [
  {
   "cell_type": "markdown",
   "metadata": {},
   "source": [
    "# Export normal heuristics"
   ]
  },
  {
   "cell_type": "code",
   "execution_count": 1,
   "metadata": {},
   "outputs": [],
   "source": [
    "import blocksci"
   ]
  },
  {
   "cell_type": "code",
   "execution_count": 2,
   "metadata": {},
   "outputs": [],
   "source": [
    "import pandas as pd\n",
    "import matplotlib.pyplot as plt\n",
    "import numpy as np\n",
    "import seaborn as sns"
   ]
  },
  {
   "cell_type": "code",
   "execution_count": 3,
   "metadata": {},
   "outputs": [],
   "source": [
    "import collections\n",
    "import random"
   ]
  },
  {
   "cell_type": "code",
   "execution_count": 4,
   "metadata": {},
   "outputs": [],
   "source": [
    "import utils"
   ]
  },
  {
   "cell_type": "code",
   "execution_count": 5,
   "metadata": {},
   "outputs": [],
   "source": [
    "import analysis"
   ]
  },
  {
   "cell_type": "code",
   "execution_count": 6,
   "metadata": {},
   "outputs": [],
   "source": [
    "chain = blocksci.Blockchain(utils.blocksci_config())"
   ]
  },
  {
   "cell_type": "code",
   "execution_count": 7,
   "metadata": {},
   "outputs": [],
   "source": [
    "my_cm = blocksci.cluster.ClusterManager(utils.latest_clustering(), chain)"
   ]
  },
  {
   "cell_type": "code",
   "execution_count": 8,
   "metadata": {},
   "outputs": [],
   "source": [
    "fp = blocksci.Fingerprinter(utils.latest_fingerprints(), chain)"
   ]
  },
  {
   "cell_type": "code",
   "execution_count": 9,
   "metadata": {},
   "outputs": [],
   "source": [
    "stored_txes = blocksci.GroundTruth(utils.remaining_txes(), chain)"
   ]
  },
  {
   "cell_type": "markdown",
   "metadata": {},
   "source": [
    "### Export normal heuristics"
   ]
  },
  {
   "cell_type": "code",
   "execution_count": 10,
   "metadata": {},
   "outputs": [],
   "source": [
    "normal_heuristics = {\n",
    "    \"optimal_change\": blocksci.heuristics.change.optimal_change,\n",
    "    \"optimal_change_with_fee\": blocksci.heuristics.change.optimal_change_with_fee,\n",
    "    \"address_type\": blocksci.heuristics.change.address_type,\n",
    "    \"power_of_ten_2\": blocksci.heuristics.change.power_of_ten_value(2),\n",
    "    \"power_of_ten_3\": blocksci.heuristics.change.power_of_ten_value(3),\n",
    "    \"power_of_ten_4\": blocksci.heuristics.change.power_of_ten_value(4),\n",
    "    \"power_of_ten_5\": blocksci.heuristics.change.power_of_ten_value(5),\n",
    "    \"power_of_ten_6\": blocksci.heuristics.change.power_of_ten_value(6),\n",
    "    \"power_of_ten_7\": blocksci.heuristics.change.power_of_ten_value(7),\n",
    "}"
   ]
  },
  {
   "cell_type": "code",
   "execution_count": 11,
   "metadata": {},
   "outputs": [],
   "source": [
    "df_normal_heuristics = pd.DataFrame()"
   ]
  },
  {
   "cell_type": "code",
   "execution_count": 12,
   "metadata": {},
   "outputs": [
    {
     "name": "stdout",
     "output_type": "stream",
     "text": [
      "optimal_change\n",
      "Index                   128\n",
      "optimal_change    619306212\n",
      "dtype: int64\n",
      "\n",
      "optimal_change_with_fee\n",
      "Index                            128\n",
      "optimal_change             619306212\n",
      "optimal_change_with_fee    619306212\n",
      "dtype: int64\n",
      "\n",
      "address_type\n",
      "Index                            128\n",
      "optimal_change             619306212\n",
      "optimal_change_with_fee    619306212\n",
      "address_type               619306212\n",
      "dtype: int64\n",
      "\n",
      "power_of_ten_2\n",
      "Index                            128\n",
      "optimal_change             619306212\n",
      "optimal_change_with_fee    619306212\n",
      "address_type               619306212\n",
      "power_of_ten_2             619306212\n",
      "dtype: int64\n",
      "\n",
      "power_of_ten_3\n",
      "Index                            128\n",
      "optimal_change             619306212\n",
      "optimal_change_with_fee    619306212\n",
      "address_type               619306212\n",
      "power_of_ten_2             619306212\n",
      "power_of_ten_3             619306212\n",
      "dtype: int64\n",
      "\n",
      "power_of_ten_4\n",
      "Index                            128\n",
      "optimal_change             619306212\n",
      "optimal_change_with_fee    619306212\n",
      "address_type               619306212\n",
      "power_of_ten_2             619306212\n",
      "power_of_ten_3             619306212\n",
      "power_of_ten_4             619306212\n",
      "dtype: int64\n",
      "\n",
      "power_of_ten_5\n",
      "Index                            128\n",
      "optimal_change             619306212\n",
      "optimal_change_with_fee    619306212\n",
      "address_type               619306212\n",
      "power_of_ten_2             619306212\n",
      "power_of_ten_3             619306212\n",
      "power_of_ten_4             619306212\n",
      "power_of_ten_5             619306212\n",
      "dtype: int64\n",
      "\n",
      "power_of_ten_6\n",
      "Index                            128\n",
      "optimal_change             619306212\n",
      "optimal_change_with_fee    619306212\n",
      "address_type               619306212\n",
      "power_of_ten_2             619306212\n",
      "power_of_ten_3             619306212\n",
      "power_of_ten_4             619306212\n",
      "power_of_ten_5             619306212\n",
      "power_of_ten_6             619306212\n",
      "dtype: int64\n",
      "\n",
      "power_of_ten_7\n",
      "Index                            128\n",
      "optimal_change             619306212\n",
      "optimal_change_with_fee    619306212\n",
      "address_type               619306212\n",
      "power_of_ten_2             619306212\n",
      "power_of_ten_3             619306212\n",
      "power_of_ten_4             619306212\n",
      "power_of_ten_5             619306212\n",
      "power_of_ten_6             619306212\n",
      "power_of_ten_7             619306212\n",
      "dtype: int64\n",
      "\n"
     ]
    }
   ],
   "source": [
    "for key, heuristic in normal_heuristics.items():\n",
    "    print(key)\n",
    "    result = stored_txes.transactions().map(lambda tx: heuristic.unique_index(tx))\n",
    "    full_result = []\n",
    "    for v in result:\n",
    "        full_result.append(int(v == 0) if v != -1 else -1)\n",
    "        full_result.append(int(v == 1) if v != -1 else -1)\n",
    "    del result\n",
    "    df_normal_heuristics[key] = full_result\n",
    "    del full_result\n",
    "    df_normal_heuristics[key] = df_normal_heuristics[key].astype(\"category\")\n",
    "    print(df_normal_heuristics.memory_usage())\n",
    "    print()"
   ]
  },
  {
   "cell_type": "code",
   "execution_count": 13,
   "metadata": {},
   "outputs": [],
   "source": [
    "df_normal_heuristics.to_csv(\"/home/ubuntu/Data/export/20210720-normal-heuristics.csv\")"
   ]
  },
  {
   "cell_type": "code",
   "execution_count": 14,
   "metadata": {},
   "outputs": [],
   "source": [
    "del df_normal_heuristics"
   ]
  },
  {
   "cell_type": "code",
   "execution_count": null,
   "metadata": {},
   "outputs": [],
   "source": []
  }
 ],
 "metadata": {
  "kernelspec": {
   "display_name": "Python 3",
   "language": "python",
   "name": "python3"
  },
  "language_info": {
   "codemirror_mode": {
    "name": "ipython",
    "version": 3
   },
   "file_extension": ".py",
   "mimetype": "text/x-python",
   "name": "python",
   "nbconvert_exporter": "python",
   "pygments_lexer": "ipython3",
   "version": "3.8.8"
  }
 },
 "nbformat": 4,
 "nbformat_minor": 4
}
