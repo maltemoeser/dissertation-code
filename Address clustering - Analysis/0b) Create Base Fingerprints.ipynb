{
 "cells": [
  {
   "cell_type": "markdown",
   "metadata": {},
   "source": [
    "# Extract fingerprints\n",
    "\n",
    "The `Fingerprinter` stores the attributes in a highly compressed format that is optimized for fast lookups"
   ]
  },
  {
   "cell_type": "code",
   "execution_count": 1,
   "metadata": {},
   "outputs": [],
   "source": [
    "import blocksci"
   ]
  },
  {
   "cell_type": "code",
   "execution_count": 2,
   "metadata": {},
   "outputs": [],
   "source": [
    "import utils"
   ]
  },
  {
   "cell_type": "code",
   "execution_count": 3,
   "metadata": {},
   "outputs": [],
   "source": [
    "chain = blocksci.Blockchain(utils.blocksci_config())"
   ]
  },
  {
   "cell_type": "code",
   "execution_count": 4,
   "metadata": {},
   "outputs": [],
   "source": [
    "features = [True] * 12"
   ]
  },
  {
   "cell_type": "code",
   "execution_count": 6,
   "metadata": {},
   "outputs": [],
   "source": [
    "fp = blocksci.Fingerprinter.create(chain, features, \"/home/ubuntu/Data/fingerprints/20210715-fingerprints\")"
   ]
  },
  {
   "cell_type": "markdown",
   "metadata": {},
   "source": [
    "### Sanity checks"
   ]
  },
  {
   "cell_type": "code",
   "execution_count": 7,
   "metadata": {},
   "outputs": [],
   "source": [
    "for tx in chain[600000:600100].txes:\n",
    "    version_fp = fp.get_masked_fingerprint(tx.index, utils.get_fp_mask(utils.Fingerprint.VERSION_2))\n",
    "    assert (tx.version > 1) == (version_fp > 0)\n",
    "    \n",
    "    rbf_fp = fp.get_masked_fingerprint(tx.index, utils.get_fp_mask(utils.Fingerprint.RBF))\n",
    "    assert blocksci.heuristics.is_rbf(tx) == bool(rbf_fp > 0)\n",
    "    \n",
    "    locktime_fp = fp.get_masked_fingerprint(tx.index, utils.get_fp_mask(utils.Fingerprint.LOCKTIME_HEIGHT))\n",
    "    assert blocksci.heuristics.has_heightbased_locktime(tx) == bool(locktime_fp > 0)\n",
    "    \n",
    "    zeroconf_fp = fp.get_masked_fingerprint(tx.index, utils.get_fp_mask(utils.Fingerprint.ZEROCONF))\n",
    "    assert blocksci.heuristics.zero_conf(tx) == bool(zeroconf_fp > 0)"
   ]
  },
  {
   "cell_type": "code",
   "execution_count": 8,
   "metadata": {},
   "outputs": [],
   "source": [
    "for tx in chain[-100:].txes:\n",
    "    version_fp = fp.get_masked_fingerprint(tx.index, utils.get_fp_mask(utils.Fingerprint.VERSION_2))\n",
    "    assert (tx.version > 1) == (version_fp > 0)\n",
    "    \n",
    "    rbf_fp = fp.get_masked_fingerprint(tx.index, utils.get_fp_mask(utils.Fingerprint.RBF))\n",
    "    assert blocksci.heuristics.is_rbf(tx) == bool(rbf_fp > 0)\n",
    "    \n",
    "    locktime_fp = fp.get_masked_fingerprint(tx.index, utils.get_fp_mask(utils.Fingerprint.LOCKTIME_HEIGHT))\n",
    "    assert blocksci.heuristics.has_heightbased_locktime(tx) == bool(locktime_fp > 0)\n",
    "    \n",
    "    zeroconf_fp = fp.get_masked_fingerprint(tx.index, utils.get_fp_mask(utils.Fingerprint.ZEROCONF))\n",
    "    assert blocksci.heuristics.zero_conf(tx) == bool(zeroconf_fp > 0)"
   ]
  },
  {
   "cell_type": "code",
   "execution_count": null,
   "metadata": {},
   "outputs": [],
   "source": []
  }
 ],
 "metadata": {
  "kernelspec": {
   "display_name": "Python 3",
   "language": "python",
   "name": "python3"
  },
  "language_info": {
   "codemirror_mode": {
    "name": "ipython",
    "version": 3
   },
   "file_extension": ".py",
   "mimetype": "text/x-python",
   "name": "python",
   "nbconvert_exporter": "python",
   "pygments_lexer": "ipython3",
   "version": "3.6.9"
  }
 },
 "nbformat": 4,
 "nbformat_minor": 4
}
