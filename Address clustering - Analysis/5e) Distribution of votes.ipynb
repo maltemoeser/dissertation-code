{
 "cells": [
  {
   "cell_type": "code",
   "execution_count": 1,
   "metadata": {},
   "outputs": [],
   "source": [
    "import pandas as pd\n",
    "import matplotlib.pyplot as plt\n",
    "import numpy as np\n",
    "import seaborn as sns"
   ]
  },
  {
   "cell_type": "code",
   "execution_count": 2,
   "metadata": {},
   "outputs": [],
   "source": [
    "import collections\n",
    "import random"
   ]
  },
  {
   "cell_type": "code",
   "execution_count": 3,
   "metadata": {},
   "outputs": [],
   "source": [
    "import datetime"
   ]
  },
  {
   "cell_type": "code",
   "execution_count": 4,
   "metadata": {},
   "outputs": [],
   "source": [
    "import utils"
   ]
  },
  {
   "cell_type": "code",
   "execution_count": 5,
   "metadata": {},
   "outputs": [],
   "source": [
    "import blocksci"
   ]
  },
  {
   "cell_type": "code",
   "execution_count": 6,
   "metadata": {},
   "outputs": [],
   "source": [
    "chain = blocksci.Blockchain(utils.blocksci_config())"
   ]
  },
  {
   "cell_type": "code",
   "execution_count": 7,
   "metadata": {},
   "outputs": [
    {
     "name": "stderr",
     "output_type": "stream",
     "text": [
      "/home/ubuntu/.local/lib/python3.6/site-packages/numpy/lib/arraysetops.py:580: FutureWarning: elementwise comparison failed; returning scalar instead, but in the future will perform elementwise comparison\n",
      "  mask |= (ar1 == a)\n"
     ]
    }
   ],
   "source": [
    "df_predictions = pd.read_csv(utils.latest_smart_prediction(), index_col=0)"
   ]
  },
  {
   "cell_type": "code",
   "execution_count": 8,
   "metadata": {},
   "outputs": [],
   "source": [
    "outcome = df_predictions[\"true_change\"]"
   ]
  },
  {
   "cell_type": "code",
   "execution_count": 9,
   "metadata": {},
   "outputs": [],
   "source": [
    "df_predictions_compressed = df_predictions.drop(columns=[\"power_of_ten_2\", \"power_of_ten_3\", \"power_of_ten_4\", \"power_of_ten_5\", \"power_of_ten_6\", \"power_of_ten_7\", \"two_hops\", \"true_change\"])"
   ]
  },
  {
   "cell_type": "code",
   "execution_count": 10,
   "metadata": {},
   "outputs": [],
   "source": [
    "df_predictions = df_predictions.drop(columns=[\"pow10\", \"two_hops\", \"true_change\"])"
   ]
  },
  {
   "cell_type": "code",
   "execution_count": 11,
   "metadata": {},
   "outputs": [
    {
     "data": {
      "text/plain": [
       "35257428"
      ]
     },
     "execution_count": 11,
     "metadata": {},
     "output_type": "execute_result"
    }
   ],
   "source": [
    "len(df_predictions)"
   ]
  },
  {
   "cell_type": "code",
   "execution_count": 12,
   "metadata": {},
   "outputs": [
    {
     "data": {
      "text/plain": [
       "Index(['optimal_change', 'optimal_change_with_fee', 'address_type',\n",
       "       'power_of_ten_2', 'power_of_ten_3', 'power_of_ten_4', 'power_of_ten_5',\n",
       "       'power_of_ten_6', 'power_of_ten_7', 'fp_inout_count', 'fp_output_count',\n",
       "       'fp_zeroconf', 'fp_multisig', 'fp_p2pkh', 'fp_absolute_fee',\n",
       "       'fp_relative_fee', 'fp_version', 'fp_locktime', 'fp_rbf', 'fp_segwit',\n",
       "       'fp_possible_segwit', 'fp_ordered_inouts', 'fp_address_type', 'fp_p2sh',\n",
       "       'fp_p2wsh', 'fp_p2wpkh'],\n",
       "      dtype='object')"
      ]
     },
     "execution_count": 12,
     "metadata": {},
     "output_type": "execute_result"
    }
   ],
   "source": [
    "df_predictions.columns"
   ]
  },
  {
   "cell_type": "code",
   "execution_count": 13,
   "metadata": {},
   "outputs": [
    {
     "data": {
      "text/plain": [
       "Index(['optimal_change', 'optimal_change_with_fee', 'address_type', 'pow10',\n",
       "       'fp_inout_count', 'fp_output_count', 'fp_zeroconf', 'fp_multisig',\n",
       "       'fp_p2pkh', 'fp_absolute_fee', 'fp_relative_fee', 'fp_version',\n",
       "       'fp_locktime', 'fp_rbf', 'fp_segwit', 'fp_possible_segwit',\n",
       "       'fp_ordered_inouts', 'fp_address_type', 'fp_p2sh', 'fp_p2wsh',\n",
       "       'fp_p2wpkh'],\n",
       "      dtype='object')"
      ]
     },
     "execution_count": 13,
     "metadata": {},
     "output_type": "execute_result"
    }
   ],
   "source": [
    "df_predictions_compressed.columns"
   ]
  },
  {
   "cell_type": "markdown",
   "metadata": {},
   "source": [
    "35257428 change outputs that we could possibly determine."
   ]
  },
  {
   "cell_type": "code",
   "execution_count": 14,
   "metadata": {},
   "outputs": [
    {
     "data": {
      "text/plain": [
       "34398846"
      ]
     },
     "execution_count": 14,
     "metadata": {},
     "output_type": "execute_result"
    }
   ],
   "source": [
    "df_predictions.ne(-1).any(1).sum()"
   ]
  },
  {
   "cell_type": "code",
   "execution_count": 15,
   "metadata": {},
   "outputs": [
    {
     "data": {
      "text/plain": [
       "33337309"
      ]
     },
     "execution_count": 15,
     "metadata": {},
     "output_type": "execute_result"
    }
   ],
   "source": [
    "df_predictions.eq(outcome, axis=0).any(1).sum()"
   ]
  },
  {
   "cell_type": "code",
   "execution_count": 18,
   "metadata": {},
   "outputs": [],
   "source": [
    "FINGERPRINT_COLS = [x for x in df_predictions.columns if x[:3] == \"fp_\"]"
   ]
  },
  {
   "cell_type": "code",
   "execution_count": 19,
   "metadata": {},
   "outputs": [],
   "source": [
    "normal_only = df_predictions.drop(columns=FINGERPRINT_COLS)"
   ]
  },
  {
   "cell_type": "code",
   "execution_count": 20,
   "metadata": {},
   "outputs": [],
   "source": [
    "fp_only = df_predictions[FINGERPRINT_COLS]"
   ]
  },
  {
   "cell_type": "code",
   "execution_count": 21,
   "metadata": {},
   "outputs": [
    {
     "data": {
      "text/plain": [
       "27493455"
      ]
     },
     "execution_count": 21,
     "metadata": {},
     "output_type": "execute_result"
    }
   ],
   "source": [
    "normal_only.ne(-1).any(1).sum()"
   ]
  },
  {
   "cell_type": "code",
   "execution_count": 22,
   "metadata": {},
   "outputs": [
    {
     "data": {
      "text/plain": [
       "32165523"
      ]
     },
     "execution_count": 22,
     "metadata": {},
     "output_type": "execute_result"
    }
   ],
   "source": [
    "fp_only.ne(-1).any(1).sum()"
   ]
  },
  {
   "cell_type": "markdown",
   "metadata": {},
   "source": [
    "### Plot bivariate distribution of correct / incorrect votes (compressed)"
   ]
  },
  {
   "cell_type": "code",
   "execution_count": 19,
   "metadata": {},
   "outputs": [],
   "source": [
    "correct = df_predictions_compressed.eq(outcome, axis=0).sum(1)"
   ]
  },
  {
   "cell_type": "code",
   "execution_count": 20,
   "metadata": {},
   "outputs": [],
   "source": [
    "incorrect = (df_predictions_compressed.ne(outcome, axis=0) & df_predictions_compressed.ne(-1, axis=0)).sum(1)"
   ]
  },
  {
   "cell_type": "code",
   "execution_count": 21,
   "metadata": {},
   "outputs": [
    {
     "data": {
      "text/plain": [
       "(35257428, 35257428)"
      ]
     },
     "execution_count": 21,
     "metadata": {},
     "output_type": "execute_result"
    }
   ],
   "source": [
    "len(correct), len(incorrect)"
   ]
  },
  {
   "cell_type": "code",
   "execution_count": 22,
   "metadata": {},
   "outputs": [],
   "source": [
    "bivariate = pd.DataFrame({\"correct\": correct, \"incorrect\": incorrect})"
   ]
  },
  {
   "cell_type": "code",
   "execution_count": 23,
   "metadata": {},
   "outputs": [
    {
     "data": {
      "text/html": [
       "<div>\n",
       "<style scoped>\n",
       "    .dataframe tbody tr th:only-of-type {\n",
       "        vertical-align: middle;\n",
       "    }\n",
       "\n",
       "    .dataframe tbody tr th {\n",
       "        vertical-align: top;\n",
       "    }\n",
       "\n",
       "    .dataframe thead th {\n",
       "        text-align: right;\n",
       "    }\n",
       "</style>\n",
       "<table border=\"1\" class=\"dataframe\">\n",
       "  <thead>\n",
       "    <tr style=\"text-align: right;\">\n",
       "      <th></th>\n",
       "      <th>correct</th>\n",
       "      <th>incorrect</th>\n",
       "    </tr>\n",
       "  </thead>\n",
       "  <tbody>\n",
       "    <tr>\n",
       "      <th>36485</th>\n",
       "      <td>0</td>\n",
       "      <td>2</td>\n",
       "    </tr>\n",
       "    <tr>\n",
       "      <th>38619</th>\n",
       "      <td>4</td>\n",
       "      <td>0</td>\n",
       "    </tr>\n",
       "    <tr>\n",
       "      <th>44447</th>\n",
       "      <td>4</td>\n",
       "      <td>1</td>\n",
       "    </tr>\n",
       "    <tr>\n",
       "      <th>46689</th>\n",
       "      <td>2</td>\n",
       "      <td>3</td>\n",
       "    </tr>\n",
       "    <tr>\n",
       "      <th>47882</th>\n",
       "      <td>2</td>\n",
       "      <td>0</td>\n",
       "    </tr>\n",
       "    <tr>\n",
       "      <th>...</th>\n",
       "      <td>...</td>\n",
       "      <td>...</td>\n",
       "    </tr>\n",
       "    <tr>\n",
       "      <th>652608322</th>\n",
       "      <td>4</td>\n",
       "      <td>1</td>\n",
       "    </tr>\n",
       "    <tr>\n",
       "      <th>652608602</th>\n",
       "      <td>10</td>\n",
       "      <td>0</td>\n",
       "    </tr>\n",
       "    <tr>\n",
       "      <th>652608816</th>\n",
       "      <td>2</td>\n",
       "      <td>0</td>\n",
       "    </tr>\n",
       "    <tr>\n",
       "      <th>652608896</th>\n",
       "      <td>0</td>\n",
       "      <td>0</td>\n",
       "    </tr>\n",
       "    <tr>\n",
       "      <th>652614373</th>\n",
       "      <td>10</td>\n",
       "      <td>0</td>\n",
       "    </tr>\n",
       "  </tbody>\n",
       "</table>\n",
       "<p>35257428 rows × 2 columns</p>\n",
       "</div>"
      ],
      "text/plain": [
       "           correct  incorrect\n",
       "36485            0          2\n",
       "38619            4          0\n",
       "44447            4          1\n",
       "46689            2          3\n",
       "47882            2          0\n",
       "...            ...        ...\n",
       "652608322        4          1\n",
       "652608602       10          0\n",
       "652608816        2          0\n",
       "652608896        0          0\n",
       "652614373       10          0\n",
       "\n",
       "[35257428 rows x 2 columns]"
      ]
     },
     "execution_count": 23,
     "metadata": {},
     "output_type": "execute_result"
    }
   ],
   "source": [
    "bivariate"
   ]
  },
  {
   "cell_type": "code",
   "execution_count": 24,
   "metadata": {},
   "outputs": [],
   "source": [
    "bivariate = bivariate.apply(pd.to_numeric, downcast='integer')"
   ]
  },
  {
   "cell_type": "code",
   "execution_count": 25,
   "metadata": {},
   "outputs": [],
   "source": [
    "bivariate_vc = bivariate.value_counts().unstack()"
   ]
  },
  {
   "cell_type": "code",
   "execution_count": 26,
   "metadata": {},
   "outputs": [
    {
     "data": {
      "text/plain": [
       "correct\n",
       "0     1920119.0\n",
       "1     4303891.0\n",
       "2     6081156.0\n",
       "3     5428233.0\n",
       "4     3865214.0\n",
       "5     2540722.0\n",
       "6     2148835.0\n",
       "7     1967263.0\n",
       "8     1871297.0\n",
       "9     1870416.0\n",
       "10    1456202.0\n",
       "11     959223.0\n",
       "12     526495.0\n",
       "13     224755.0\n",
       "14      75034.0\n",
       "15      15806.0\n",
       "16       2490.0\n",
       "17        266.0\n",
       "18         11.0\n",
       "dtype: float64"
      ]
     },
     "execution_count": 26,
     "metadata": {},
     "output_type": "execute_result"
    }
   ],
   "source": [
    "bivariate_vc.T.sum()"
   ]
  },
  {
   "cell_type": "code",
   "execution_count": 27,
   "metadata": {},
   "outputs": [
    {
     "data": {
      "image/png": "[encoded data removed]",
      "text/plain": [
       "<Figure size 432x288 with 2 Axes>"
      ]
     },
     "metadata": {
      "needs_background": "light"
     },
     "output_type": "display_data"
    }
   ],
   "source": [
    "fig, ax = plt.subplots(figsize=(6,4))\n",
    "sns.heatmap(bivariate_vc.T, square=True, linewidths=.5, cmap=\"Blues\", ax=ax, cbar_kws={\"shrink\":.75})\n",
    "ax.invert_yaxis()\n",
    "ax.set_xlabel(\"Correct Votes\")\n",
    "ax.set_ylabel(\"Incorrect Votes\")\n",
    "plt.tight_layout()"
   ]
  },
  {
   "cell_type": "code",
   "execution_count": 28,
   "metadata": {},
   "outputs": [],
   "source": [
    "ax.get_figure().savefig(\"figures/votes-heuristics-compressed.pdf\", format=\"pdf\")"
   ]
  },
  {
   "cell_type": "markdown",
   "metadata": {},
   "source": [
    "### Plot bivariate distribution of correct / incorrect votes (full)"
   ]
  },
  {
   "cell_type": "code",
   "execution_count": 29,
   "metadata": {},
   "outputs": [],
   "source": [
    "correct = df_predictions.eq(outcome, axis=0).sum(1)"
   ]
  },
  {
   "cell_type": "code",
   "execution_count": 30,
   "metadata": {},
   "outputs": [],
   "source": [
    "incorrect = (df_predictions.ne(outcome, axis=0) & df_predictions.ne(-1, axis=0)).sum(1)"
   ]
  },
  {
   "cell_type": "code",
   "execution_count": 31,
   "metadata": {},
   "outputs": [
    {
     "data": {
      "text/plain": [
       "(35257428, 35257428)"
      ]
     },
     "execution_count": 31,
     "metadata": {},
     "output_type": "execute_result"
    }
   ],
   "source": [
    "len(correct), len(incorrect)"
   ]
  },
  {
   "cell_type": "code",
   "execution_count": 32,
   "metadata": {},
   "outputs": [],
   "source": [
    "bivariate = pd.DataFrame({\"correct\": correct, \"incorrect\": incorrect})"
   ]
  },
  {
   "cell_type": "code",
   "execution_count": 33,
   "metadata": {},
   "outputs": [
    {
     "data": {
      "text/html": [
       "<div>\n",
       "<style scoped>\n",
       "    .dataframe tbody tr th:only-of-type {\n",
       "        vertical-align: middle;\n",
       "    }\n",
       "\n",
       "    .dataframe tbody tr th {\n",
       "        vertical-align: top;\n",
       "    }\n",
       "\n",
       "    .dataframe thead th {\n",
       "        text-align: right;\n",
       "    }\n",
       "</style>\n",
       "<table border=\"1\" class=\"dataframe\">\n",
       "  <thead>\n",
       "    <tr style=\"text-align: right;\">\n",
       "      <th></th>\n",
       "      <th>correct</th>\n",
       "      <th>incorrect</th>\n",
       "    </tr>\n",
       "  </thead>\n",
       "  <tbody>\n",
       "    <tr>\n",
       "      <th>36485</th>\n",
       "      <td>0</td>\n",
       "      <td>2</td>\n",
       "    </tr>\n",
       "    <tr>\n",
       "      <th>38619</th>\n",
       "      <td>4</td>\n",
       "      <td>0</td>\n",
       "    </tr>\n",
       "    <tr>\n",
       "      <th>44447</th>\n",
       "      <td>4</td>\n",
       "      <td>1</td>\n",
       "    </tr>\n",
       "    <tr>\n",
       "      <th>46689</th>\n",
       "      <td>2</td>\n",
       "      <td>3</td>\n",
       "    </tr>\n",
       "    <tr>\n",
       "      <th>47882</th>\n",
       "      <td>2</td>\n",
       "      <td>0</td>\n",
       "    </tr>\n",
       "    <tr>\n",
       "      <th>...</th>\n",
       "      <td>...</td>\n",
       "      <td>...</td>\n",
       "    </tr>\n",
       "    <tr>\n",
       "      <th>652608322</th>\n",
       "      <td>4</td>\n",
       "      <td>1</td>\n",
       "    </tr>\n",
       "    <tr>\n",
       "      <th>652608602</th>\n",
       "      <td>13</td>\n",
       "      <td>0</td>\n",
       "    </tr>\n",
       "    <tr>\n",
       "      <th>652608816</th>\n",
       "      <td>2</td>\n",
       "      <td>0</td>\n",
       "    </tr>\n",
       "    <tr>\n",
       "      <th>652608896</th>\n",
       "      <td>0</td>\n",
       "      <td>0</td>\n",
       "    </tr>\n",
       "    <tr>\n",
       "      <th>652614373</th>\n",
       "      <td>10</td>\n",
       "      <td>0</td>\n",
       "    </tr>\n",
       "  </tbody>\n",
       "</table>\n",
       "<p>35257428 rows × 2 columns</p>\n",
       "</div>"
      ],
      "text/plain": [
       "           correct  incorrect\n",
       "36485            0          2\n",
       "38619            4          0\n",
       "44447            4          1\n",
       "46689            2          3\n",
       "47882            2          0\n",
       "...            ...        ...\n",
       "652608322        4          1\n",
       "652608602       13          0\n",
       "652608816        2          0\n",
       "652608896        0          0\n",
       "652614373       10          0\n",
       "\n",
       "[35257428 rows x 2 columns]"
      ]
     },
     "execution_count": 33,
     "metadata": {},
     "output_type": "execute_result"
    }
   ],
   "source": [
    "bivariate"
   ]
  },
  {
   "cell_type": "code",
   "execution_count": 34,
   "metadata": {},
   "outputs": [],
   "source": [
    "bivariate = bivariate.apply(pd.to_numeric, downcast='integer')"
   ]
  },
  {
   "cell_type": "code",
   "execution_count": 35,
   "metadata": {},
   "outputs": [],
   "source": [
    "bivariate_vc = bivariate.value_counts().unstack()"
   ]
  },
  {
   "cell_type": "code",
   "execution_count": 36,
   "metadata": {},
   "outputs": [
    {
     "data": {
      "text/plain": [
       "correct\n",
       "0     1920119.0\n",
       "1     2570472.0\n",
       "2     3849921.0\n",
       "3     3284256.0\n",
       "4     3158485.0\n",
       "5     3021973.0\n",
       "6     3295312.0\n",
       "7     3051212.0\n",
       "8     2840063.0\n",
       "9     2378881.0\n",
       "10    1799699.0\n",
       "11    1332337.0\n",
       "12     958659.0\n",
       "13     661906.0\n",
       "14     473702.0\n",
       "15     320757.0\n",
       "16     189238.0\n",
       "17      95445.0\n",
       "18      40055.0\n",
       "19      12245.0\n",
       "20       2310.0\n",
       "21        349.0\n",
       "22         31.0\n",
       "23          1.0\n",
       "dtype: float64"
      ]
     },
     "execution_count": 36,
     "metadata": {},
     "output_type": "execute_result"
    }
   ],
   "source": [
    "bivariate_vc.T.sum()"
   ]
  },
  {
   "cell_type": "code",
   "execution_count": 37,
   "metadata": {},
   "outputs": [
    {
     "data": {
      "image/png": "[encoded data removed]",
      "text/plain": [
       "<Figure size 432x288 with 2 Axes>"
      ]
     },
     "metadata": {
      "needs_background": "light"
     },
     "output_type": "display_data"
    }
   ],
   "source": [
    "fig, ax = plt.subplots(figsize=(6,4))\n",
    "sns.heatmap(bivariate_vc.T, square=True, linewidths=.5, cmap=\"Blues\", ax=ax, cbar_kws={\"shrink\":.8})\n",
    "ax.invert_yaxis()\n",
    "ax.set_xlabel(\"Correct Votes\")\n",
    "ax.set_ylabel(\"Incorrect Votes\")\n",
    "plt.tight_layout()"
   ]
  },
  {
   "cell_type": "code",
   "execution_count": 38,
   "metadata": {},
   "outputs": [],
   "source": [
    "ax.get_figure().savefig(\"figures/votes-heuristics.pdf\", format=\"pdf\")"
   ]
  },
  {
   "cell_type": "markdown",
   "metadata": {},
   "source": [
    "### Over time"
   ]
  },
  {
   "cell_type": "code",
   "execution_count": 23,
   "metadata": {},
   "outputs": [],
   "source": [
    "normal_only = df_predictions.drop(columns=FINGERPRINT_COLS)"
   ]
  },
  {
   "cell_type": "code",
   "execution_count": 24,
   "metadata": {},
   "outputs": [],
   "source": [
    "fp_only = df_predictions[FINGERPRINT_COLS]"
   ]
  },
  {
   "cell_type": "code",
   "execution_count": 25,
   "metadata": {},
   "outputs": [
    {
     "data": {
      "text/plain": [
       "(35257428, 35257428)"
      ]
     },
     "execution_count": 25,
     "metadata": {},
     "output_type": "execute_result"
    }
   ],
   "source": [
    "len(normal_only), len(fp_only)"
   ]
  },
  {
   "cell_type": "code",
   "execution_count": 26,
   "metadata": {},
   "outputs": [],
   "source": [
    "gt = blocksci.GroundTruth(utils.latest_groundtruth(), chain)"
   ]
  },
  {
   "cell_type": "code",
   "execution_count": 27,
   "metadata": {},
   "outputs": [],
   "source": [
    "index = gt.transactions().block.time"
   ]
  },
  {
   "cell_type": "code",
   "execution_count": 28,
   "metadata": {},
   "outputs": [],
   "source": [
    "normal_only.index = index\n",
    "fp_only.index = index"
   ]
  },
  {
   "cell_type": "code",
   "execution_count": 29,
   "metadata": {},
   "outputs": [],
   "source": [
    "outcome.index = index"
   ]
  },
  {
   "cell_type": "code",
   "execution_count": 30,
   "metadata": {},
   "outputs": [],
   "source": [
    "correct_normal = normal_only.eq(outcome, axis=0).sum(1).resample(\"1 M\").mean()"
   ]
  },
  {
   "cell_type": "code",
   "execution_count": 31,
   "metadata": {},
   "outputs": [],
   "source": [
    "incorrect_normal = (normal_only.ne(outcome, axis=0) & normal_only.ne(-1, axis=0)).sum(1).resample(\"1 M\").mean()"
   ]
  },
  {
   "cell_type": "code",
   "execution_count": 32,
   "metadata": {},
   "outputs": [],
   "source": [
    "correct_fp = fp_only.eq(outcome, axis=0).sum(1).resample(\"1 M\").mean()"
   ]
  },
  {
   "cell_type": "code",
   "execution_count": 33,
   "metadata": {},
   "outputs": [],
   "source": [
    "incorrect_fp = (fp_only.ne(outcome, axis=0) & fp_only.ne(-1, axis=0)).sum(1).resample(\"1 M\").mean()"
   ]
  },
  {
   "cell_type": "code",
   "execution_count": 34,
   "metadata": {},
   "outputs": [],
   "source": [
    "df_comparison = pd.DataFrame({\"Universal: Correct\": correct_normal, \"Universal: Incorrect\": incorrect_normal, \"Fingerprint: Correct\": correct_fp, \"Fingerprint: Incorrect\": incorrect_fp})"
   ]
  },
  {
   "cell_type": "code",
   "execution_count": 35,
   "metadata": {},
   "outputs": [
    {
     "data": {
      "image/png": "[encoded data removed]",
      "text/plain": [
       "<Figure size 432x288 with 1 Axes>"
      ]
     },
     "metadata": {
      "needs_background": "light"
     },
     "output_type": "display_data"
    }
   ],
   "source": [
    "fig, ax = plt.subplots(figsize=(6,4))\n",
    "df_comparison.plot(xlabel=\"Year\", ylabel=\"Average number of votes per transaction\", ax=ax)\n",
    "ax.legend(frameon=False)\n",
    "ax.set_ylim(0)\n",
    "ax.set_xlim(datetime.datetime(2011, 1, 1))\n",
    "\n",
    "plt.axvline(datetime.datetime(2017, 8, 24), color = \"gray\", linestyle = \":\", linewidth = 1, ymax = 0.95)\n",
    "plt.text(datetime.datetime(2017, 9, 30), 1.4, 'SegWit activation', fontsize = \"medium\", fontstyle = \"italic\", color = \"dimgray\")\n",
    "\n",
    "sns.despine()\n",
    "plt.tight_layout()\n",
    "plt.savefig(\"figures/heuristics-count.pdf\")"
   ]
  },
  {
   "cell_type": "code",
   "execution_count": 43,
   "metadata": {},
   "outputs": [
    {
     "data": {
      "image/png": "[encoded data removed]",
      "text/plain": [
       "<Figure size 576x216 with 1 Axes>"
      ]
     },
     "metadata": {
      "needs_background": "light"
     },
     "output_type": "display_data"
    }
   ],
   "source": [
    "fig, ax = plt.subplots(figsize=(8,3))\n",
    "df_comparison.plot(xlabel=\"Year\", ylabel=\"Average votes per transaction\", ax=ax)\n",
    "ax.set_ylim(0)\n",
    "ax.set_xlim(datetime.datetime(2011, 1, 1))\n",
    "\n",
    "plt.axvline(datetime.datetime(2017, 8, 24), color = \"gray\", linestyle = \":\", linewidth = 1, ymax = 0.95)\n",
    "plt.text(datetime.datetime(2017, 9, 30), 1.4, 'SegWit activation', fontsize = \"medium\", fontstyle = \"italic\", color = \"dimgray\")\n",
    "\n",
    "ax.legend(frameon=False, loc = (1.02, 0.25))\n",
    "\n",
    "sns.despine()\n",
    "plt.tight_layout()\n",
    "plt.savefig(\"figures/heuristics-count-fc.pdf\")"
   ]
  },
  {
   "cell_type": "markdown",
   "metadata": {},
   "source": [
    "### Over time (compressed)"
   ]
  },
  {
   "cell_type": "code",
   "execution_count": 55,
   "metadata": {},
   "outputs": [],
   "source": [
    "normal_only = df_predictions_compressed.drop(columns=FINGERPRINT_COLS)"
   ]
  },
  {
   "cell_type": "code",
   "execution_count": 56,
   "metadata": {},
   "outputs": [],
   "source": [
    "fp_only = df_predictions_compressed[FINGERPRINT_COLS]"
   ]
  },
  {
   "cell_type": "code",
   "execution_count": 57,
   "metadata": {},
   "outputs": [
    {
     "data": {
      "text/plain": [
       "(35257428, 35257428)"
      ]
     },
     "execution_count": 57,
     "metadata": {},
     "output_type": "execute_result"
    }
   ],
   "source": [
    "len(normal_only), len(fp_only)"
   ]
  },
  {
   "cell_type": "code",
   "execution_count": 58,
   "metadata": {},
   "outputs": [],
   "source": [
    "index = gt.transactions().block.time"
   ]
  },
  {
   "cell_type": "code",
   "execution_count": 59,
   "metadata": {},
   "outputs": [],
   "source": [
    "normal_only.index = index\n",
    "fp_only.index = index"
   ]
  },
  {
   "cell_type": "code",
   "execution_count": 60,
   "metadata": {},
   "outputs": [],
   "source": [
    "outcome.index = index"
   ]
  },
  {
   "cell_type": "code",
   "execution_count": 61,
   "metadata": {},
   "outputs": [],
   "source": [
    "correct_normal = normal_only.eq(outcome, axis=0).sum(1).resample(\"1 M\").mean()"
   ]
  },
  {
   "cell_type": "code",
   "execution_count": 62,
   "metadata": {},
   "outputs": [],
   "source": [
    "incorrect_normal = (normal_only.ne(outcome, axis=0) & normal_only.ne(-1, axis=0)).sum(1).resample(\"1 M\").mean()"
   ]
  },
  {
   "cell_type": "code",
   "execution_count": 63,
   "metadata": {},
   "outputs": [],
   "source": [
    "correct_fp = fp_only.eq(outcome, axis=0).sum(1).resample(\"1 M\").mean()"
   ]
  },
  {
   "cell_type": "code",
   "execution_count": 64,
   "metadata": {},
   "outputs": [],
   "source": [
    "incorrect_fp = (fp_only.ne(outcome, axis=0) & fp_only.ne(-1, axis=0)).sum(1).resample(\"1 M\").mean()"
   ]
  },
  {
   "cell_type": "code",
   "execution_count": 65,
   "metadata": {},
   "outputs": [],
   "source": [
    "df_comparison = pd.DataFrame({\"Universal: Correct\": correct_normal, \"Universal: Incorrect\": incorrect_normal, \"Fingerprint: Correct\": correct_fp, \"Fingerprint: Incorrect\": incorrect_fp})"
   ]
  },
  {
   "cell_type": "code",
   "execution_count": 66,
   "metadata": {},
   "outputs": [
    {
     "data": {
      "image/png": "[encoded data removed]",
      "text/plain": [
       "<Figure size 432x288 with 1 Axes>"
      ]
     },
     "metadata": {
      "needs_background": "light"
     },
     "output_type": "display_data"
    }
   ],
   "source": [
    "fig, ax = plt.subplots(figsize=(6,4))\n",
    "df_comparison.plot(xlabel=\"Year\", ylabel=\"Average number of votes per transaction\", ax=ax)\n",
    "ax.legend(frameon=False)\n",
    "ax.set_ylim(0)\n",
    "ax.set_xlim(datetime.datetime(2011, 1, 1))\n",
    "\n",
    "plt.axvline(datetime.datetime(2017, 8, 24), color = \"gray\", linestyle = \":\", linewidth = 1, ymax = 0.95)\n",
    "plt.text(datetime.datetime(2017, 9, 30), 2, 'SegWit activation', fontsize = \"medium\", fontstyle = \"italic\", color = \"dimgray\")\n",
    "\n",
    "sns.despine()\n",
    "plt.tight_layout()"
   ]
  },
  {
   "cell_type": "code",
   "execution_count": 67,
   "metadata": {},
   "outputs": [],
   "source": [
    "ax.get_figure().savefig(\"figures/heuristics-count-compressed.pdf\", format=\"pdf\")"
   ]
  },
  {
   "cell_type": "code",
   "execution_count": null,
   "metadata": {},
   "outputs": [],
   "source": []
  }
 ],
 "metadata": {
  "kernelspec": {
   "display_name": "Python 3",
   "language": "python",
   "name": "python3"
  },
  "language_info": {
   "codemirror_mode": {
    "name": "ipython",
    "version": 3
   },
   "file_extension": ".py",
   "mimetype": "text/x-python",
   "name": "python",
   "nbconvert_exporter": "python",
   "pygments_lexer": "ipython3",
   "version": "3.8.8"
  }
 },
 "nbformat": 4,
 "nbformat_minor": 4
}
