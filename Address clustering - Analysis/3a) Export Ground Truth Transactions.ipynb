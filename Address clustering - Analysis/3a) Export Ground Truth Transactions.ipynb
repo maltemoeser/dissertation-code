{
 "cells": [
  {
   "cell_type": "markdown",
   "metadata": {},
   "source": [
    "# Export Ground Truth\n",
    "\n",
    "Filter and select ground truth transactions from the set of transactions with revealed change."
   ]
  },
  {
   "cell_type": "code",
   "execution_count": 1,
   "metadata": {},
   "outputs": [],
   "source": [
    "import blocksci"
   ]
  },
  {
   "cell_type": "code",
   "execution_count": 2,
   "metadata": {},
   "outputs": [],
   "source": [
    "import pandas as pd\n",
    "import matplotlib.pyplot as plt\n",
    "import numpy as np\n",
    "import seaborn as sns"
   ]
  },
  {
   "cell_type": "code",
   "execution_count": 3,
   "metadata": {},
   "outputs": [],
   "source": [
    "import collections\n",
    "import random"
   ]
  },
  {
   "cell_type": "code",
   "execution_count": 4,
   "metadata": {},
   "outputs": [],
   "source": [
    "import datetime"
   ]
  },
  {
   "cell_type": "code",
   "execution_count": 5,
   "metadata": {},
   "outputs": [],
   "source": [
    "import utils"
   ]
  },
  {
   "cell_type": "code",
   "execution_count": 6,
   "metadata": {},
   "outputs": [],
   "source": [
    "chain = blocksci.Blockchain(utils.blocksci_config())"
   ]
  },
  {
   "cell_type": "code",
   "execution_count": 7,
   "metadata": {},
   "outputs": [],
   "source": [
    "my_cm = blocksci.cluster.ClusterManager(utils.latest_clustering(), chain)"
   ]
  },
  {
   "cell_type": "markdown",
   "metadata": {},
   "source": [
    "### Heuristics and helpers"
   ]
  },
  {
   "cell_type": "code",
   "execution_count": 8,
   "metadata": {},
   "outputs": [],
   "source": [
    "cluster_member = blocksci.heuristics.change.cluster_member(my_cm)"
   ]
  },
  {
   "cell_type": "code",
   "execution_count": 9,
   "metadata": {},
   "outputs": [],
   "source": [
    "address_reuse = blocksci.heuristics.change.address_reuse"
   ]
  },
  {
   "cell_type": "code",
   "execution_count": 10,
   "metadata": {},
   "outputs": [],
   "source": [
    "cluster_id = blocksci.heuristics.cluster_id(my_cm)"
   ]
  },
  {
   "cell_type": "code",
   "execution_count": 11,
   "metadata": {},
   "outputs": [],
   "source": [
    "output_cluster_id = blocksci.heuristics.output_cluster_id(my_cm)"
   ]
  },
  {
   "cell_type": "markdown",
   "metadata": {},
   "source": [
    "### Statistics for both fresh and non-fresh outputs"
   ]
  },
  {
   "cell_type": "code",
   "execution_count": 12,
   "metadata": {},
   "outputs": [
    {
     "data": {
      "text/plain": [
       "53412629"
      ]
     },
     "execution_count": 12,
     "metadata": {},
     "output_type": "execute_result"
    }
   ],
   "source": [
    "chain.blocks.txes.where(lambda tx: blocksci.heuristics.is_standard_tx(tx) & (address_reuse(tx).size == 0) & (cluster_member(tx).size > 0)).size"
   ]
  },
  {
   "cell_type": "code",
   "execution_count": 15,
   "metadata": {},
   "outputs": [
    {
     "data": {
      "text/plain": [
       "52328198"
      ]
     },
     "execution_count": 15,
     "metadata": {},
     "output_type": "execute_result"
    }
   ],
   "source": [
    "# alternative counting where we exclude txes with unspent outputs from the > 0 selection\n",
    "chain.blocks.txes.where(lambda tx: blocksci.heuristics.is_standard_tx(tx) & (tx.outputs.all(lambda o: o.is_spent)) & (address_reuse(tx).size == 0) & (cluster_member(tx).size > 0)).size"
   ]
  },
  {
   "cell_type": "code",
   "execution_count": 16,
   "metadata": {},
   "outputs": [
    {
     "data": {
      "text/plain": [
       "34501985"
      ]
     },
     "execution_count": 16,
     "metadata": {},
     "output_type": "execute_result"
    }
   ],
   "source": [
    "# fresh\n",
    "chain.blocks.txes.where(lambda tx: blocksci.heuristics.is_standard_tx(tx) & (tx.outputs.all(lambda o: o.is_spent)) & (address_reuse(tx).size == 0) & (cluster_member(tx).size == 1)).where(lambda tx: cluster_member(tx).all(lambda o: o.address.first_tx == o.tx)).size"
   ]
  },
  {
   "cell_type": "code",
   "execution_count": 17,
   "metadata": {},
   "outputs": [
    {
     "data": {
      "text/plain": [
       "16858612"
      ]
     },
     "execution_count": 17,
     "metadata": {},
     "output_type": "execute_result"
    }
   ],
   "source": [
    "# not fresh\n",
    "chain.blocks.txes.where(lambda tx: blocksci.heuristics.is_standard_tx(tx) & (tx.outputs.all(lambda o: o.is_spent)) & (address_reuse(tx).size == 0) & (cluster_member(tx).size == 1)).where(lambda tx: cluster_member(tx).all(lambda o: o.address.first_tx != o.tx)).size"
   ]
  },
  {
   "cell_type": "markdown",
   "metadata": {},
   "source": [
    "### Selection criteria\n",
    "- 2 outputs\n",
    "- all outputs are spent\n",
    "- no direct address reuse\n",
    "- exactly one cluster member (change)\n",
    "- change does not have to be fresh"
   ]
  },
  {
   "cell_type": "code",
   "execution_count": 18,
   "metadata": {},
   "outputs": [],
   "source": [
    "def two_out_txes():\n",
    "    return chain.blocks.txes.where(lambda tx: (tx.output_count == 2 ) & (tx.outputs.all(lambda o: o.is_spent)) & (address_reuse(tx).size == 0) & (cluster_member(tx).size == 1))"
   ]
  },
  {
   "cell_type": "code",
   "execution_count": 19,
   "metadata": {},
   "outputs": [],
   "source": [
    "gt_0 = blocksci.GroundTruth.create(chain, two_out_txes().index, \"/home/ubuntu/Data/groundtruth/20210715-0-2out\")"
   ]
  },
  {
   "cell_type": "code",
   "execution_count": 20,
   "metadata": {},
   "outputs": [],
   "source": [
    "assert 51360597 == gt_0.transactions().size"
   ]
  },
  {
   "cell_type": "markdown",
   "metadata": {},
   "source": [
    "### Identify clusters where too many transactions have outputs in the same cluster (collapse)"
   ]
  },
  {
   "cell_type": "code",
   "execution_count": 21,
   "metadata": {},
   "outputs": [],
   "source": [
    "def two_out_txes_with_collapse():\n",
    "    return chain.blocks.txes.where(lambda tx: (tx.output_count == 2 ) & (tx.outputs.all(lambda o: o.is_spent)) & (address_reuse(tx).size == 0) & (cluster_member(tx).size > 1))"
   ]
  },
  {
   "cell_type": "code",
   "execution_count": 22,
   "metadata": {},
   "outputs": [],
   "source": [
    "collapsed_clusters = two_out_txes_with_collapse().map(lambda tx: cluster_id(tx))"
   ]
  },
  {
   "cell_type": "code",
   "execution_count": 23,
   "metadata": {},
   "outputs": [
    {
     "data": {
      "text/plain": [
       "967601"
      ]
     },
     "execution_count": 23,
     "metadata": {},
     "output_type": "execute_result"
    }
   ],
   "source": [
    "len(collapsed_clusters)"
   ]
  },
  {
   "cell_type": "code",
   "execution_count": 24,
   "metadata": {},
   "outputs": [],
   "source": [
    "cluster_counter = collections.Counter(collapsed_clusters)"
   ]
  },
  {
   "cell_type": "markdown",
   "metadata": {},
   "source": [
    "##### Identify instances where the number of transactions with such collapse exceeds a threshold. We use 10%."
   ]
  },
  {
   "cell_type": "code",
   "execution_count": 25,
   "metadata": {},
   "outputs": [],
   "source": [
    "filtered_clusters = []\n",
    "collapse_percentage = []\n",
    "for cid, collapse_count in cluster_counter.most_common():\n",
    "    cluster = my_cm.clusters()[cid]\n",
    "    collapse_share = round(collapse_count / cluster.tx_count * 100, 2)\n",
    "    if collapse_share >= 10:\n",
    "        collapse_percentage.append(collapse_share)\n",
    "        filtered_clusters.append(cid)"
   ]
  },
  {
   "cell_type": "code",
   "execution_count": 26,
   "metadata": {},
   "outputs": [
    {
     "data": {
      "text/plain": [
       "(9967, 9967)"
      ]
     },
     "execution_count": 26,
     "metadata": {},
     "output_type": "execute_result"
    }
   ],
   "source": [
    "len(filtered_clusters), len(set(filtered_clusters))"
   ]
  },
  {
   "cell_type": "code",
   "execution_count": 27,
   "metadata": {},
   "outputs": [],
   "source": [
    "np.save(\"/home/ubuntu/Data/groundtruth/filtered-clusters-collapse.npy\", filtered_clusters)"
   ]
  },
  {
   "cell_type": "code",
   "execution_count": 28,
   "metadata": {},
   "outputs": [],
   "source": [
    "filtered_clusters = set(filtered_clusters)"
   ]
  },
  {
   "cell_type": "markdown",
   "metadata": {},
   "source": [
    "##### Remove transactions from those clusters from our ground truth set"
   ]
  },
  {
   "cell_type": "code",
   "execution_count": 29,
   "metadata": {},
   "outputs": [],
   "source": [
    "full_gt_indexes = gt_0.transactions().index\n",
    "full_gt_cluster_ids = gt_0.transactions().map(lambda tx: cluster_id(tx))"
   ]
  },
  {
   "cell_type": "code",
   "execution_count": 30,
   "metadata": {},
   "outputs": [],
   "source": [
    "index_mask = np.array([x not in filtered_clusters for x in full_gt_cluster_ids])"
   ]
  },
  {
   "cell_type": "code",
   "execution_count": 31,
   "metadata": {},
   "outputs": [
    {
     "data": {
      "text/plain": [
       "480845"
      ]
     },
     "execution_count": 31,
     "metadata": {},
     "output_type": "execute_result"
    }
   ],
   "source": [
    "gt_0.transactions().size - np.sum(index_mask)"
   ]
  },
  {
   "cell_type": "code",
   "execution_count": 32,
   "metadata": {},
   "outputs": [],
   "source": [
    "filtered_indexes = full_gt_indexes[index_mask]"
   ]
  },
  {
   "cell_type": "code",
   "execution_count": 33,
   "metadata": {},
   "outputs": [],
   "source": [
    "assert len(filtered_indexes) == np.sum(index_mask)"
   ]
  },
  {
   "cell_type": "code",
   "execution_count": 34,
   "metadata": {},
   "outputs": [],
   "source": [
    "gt_1 = blocksci.GroundTruth.create(chain, filtered_indexes, \"/home/ubuntu/Data/groundtruth/20210715-1-2out-nobothclustered\")"
   ]
  },
  {
   "cell_type": "code",
   "execution_count": 35,
   "metadata": {},
   "outputs": [],
   "source": [
    "assert gt_1.transactions().size == gt_0.transactions().size - 480845"
   ]
  },
  {
   "cell_type": "code",
   "execution_count": 36,
   "metadata": {},
   "outputs": [],
   "source": [
    "# check indexes are sorted\n",
    "assert (gt_1.transactions().index == np.sort(gt_1.transactions().index)).all()"
   ]
  },
  {
   "cell_type": "code",
   "execution_count": 37,
   "metadata": {},
   "outputs": [],
   "source": [
    "del cluster_counter\n",
    "del filtered_clusters\n",
    "del collapsed_clusters\n",
    "del collapse_percentage\n",
    "del full_gt_indexes\n",
    "del full_gt_cluster_ids\n",
    "del index_mask\n",
    "del filtered_indexes"
   ]
  },
  {
   "cell_type": "markdown",
   "metadata": {},
   "source": [
    "### Ignore MtGox supercluster\n",
    "\n",
    "This cluster already has cluster collapse, due to users being able to import their own private keys."
   ]
  },
  {
   "cell_type": "code",
   "execution_count": 39,
   "metadata": {},
   "outputs": [],
   "source": [
    "MT_GOX_CLUSTER_ID = my_cm.cluster_with_address(chain.address_from_string(\"1LNWw6yCxkUmkhArb2Nf2MPw6vG7u5WG7q\")).index"
   ]
  },
  {
   "cell_type": "code",
   "execution_count": 40,
   "metadata": {},
   "outputs": [
    {
     "data": {
      "text/plain": [
       "221"
      ]
     },
     "execution_count": 40,
     "metadata": {},
     "output_type": "execute_result"
    }
   ],
   "source": [
    "MT_GOX_CLUSTER_ID"
   ]
  },
  {
   "cell_type": "code",
   "execution_count": 41,
   "metadata": {},
   "outputs": [],
   "source": [
    "no_mt_gox = gt_1.transactions().where(lambda tx: cluster_id(tx) != MT_GOX_CLUSTER_ID).index"
   ]
  },
  {
   "cell_type": "code",
   "execution_count": 42,
   "metadata": {},
   "outputs": [
    {
     "data": {
      "text/plain": [
       "366926"
      ]
     },
     "execution_count": 42,
     "metadata": {},
     "output_type": "execute_result"
    }
   ],
   "source": [
    "gt_1.transactions().size - len(no_mt_gox)"
   ]
  },
  {
   "cell_type": "code",
   "execution_count": 43,
   "metadata": {},
   "outputs": [],
   "source": [
    "gt_2 = blocksci.GroundTruth.create(chain, no_mt_gox, \"/home/ubuntu/Data/groundtruth/20210715-2-2out-nobothclustered-nomtgox\")"
   ]
  },
  {
   "cell_type": "code",
   "execution_count": 44,
   "metadata": {},
   "outputs": [],
   "source": [
    "del no_mt_gox"
   ]
  },
  {
   "cell_type": "code",
   "execution_count": 45,
   "metadata": {},
   "outputs": [],
   "source": [
    "assert gt_1.transactions().size - gt_2.transactions().size == 366926"
   ]
  },
  {
   "cell_type": "markdown",
   "metadata": {},
   "source": [
    "### No cluster collapse\n",
    "\n",
    "Exclude potential pre-existing cluster collapse based on address tags from walletexplorer.com\n",
    "\n",
    "See notebook `8b` for details and to re-run the web scraping."
   ]
  },
  {
   "cell_type": "code",
   "execution_count": 46,
   "metadata": {},
   "outputs": [],
   "source": [
    "LOCAL_BITCOINS_OLD_CLUSTER_ID = my_cm.cluster_with_address(chain.address_from_string(\"16B33Afe8hPHLwaoaQu3m3XFTagQLAAAGh\")).index"
   ]
  },
  {
   "cell_type": "code",
   "execution_count": 47,
   "metadata": {},
   "outputs": [
    {
     "data": {
      "text/plain": [
       "91784202"
      ]
     },
     "execution_count": 47,
     "metadata": {},
     "output_type": "execute_result"
    }
   ],
   "source": [
    "LOCAL_BITCOINS_OLD_CLUSTER_ID"
   ]
  },
  {
   "cell_type": "code",
   "execution_count": 48,
   "metadata": {},
   "outputs": [],
   "source": [
    "no_cluster_collapse = gt_2.transactions().where(lambda tx: cluster_id(tx) != LOCAL_BITCOINS_OLD_CLUSTER_ID).index"
   ]
  },
  {
   "cell_type": "code",
   "execution_count": 49,
   "metadata": {},
   "outputs": [
    {
     "data": {
      "text/plain": [
       "50424879"
      ]
     },
     "execution_count": 49,
     "metadata": {},
     "output_type": "execute_result"
    }
   ],
   "source": [
    "len(no_cluster_collapse)"
   ]
  },
  {
   "cell_type": "code",
   "execution_count": 50,
   "metadata": {},
   "outputs": [
    {
     "data": {
      "text/plain": [
       "87947"
      ]
     },
     "execution_count": 50,
     "metadata": {},
     "output_type": "execute_result"
    }
   ],
   "source": [
    "gt_2.transactions().size - len(no_cluster_collapse)"
   ]
  },
  {
   "cell_type": "code",
   "execution_count": 51,
   "metadata": {},
   "outputs": [],
   "source": [
    "gt_3 = blocksci.GroundTruth.create(chain, no_cluster_collapse, \"/home/ubuntu/Data/groundtruth/20210715-3-2out-nobothclustered-nomtgox-nolocalbitcoins\")"
   ]
  },
  {
   "cell_type": "code",
   "execution_count": 52,
   "metadata": {},
   "outputs": [],
   "source": [
    "del no_cluster_collapse"
   ]
  },
  {
   "cell_type": "markdown",
   "metadata": {},
   "source": [
    "### Separate into fresh and non-fresh change"
   ]
  },
  {
   "cell_type": "code",
   "execution_count": 53,
   "metadata": {},
   "outputs": [],
   "source": [
    "fresh_indexes    = gt_3.transactions().where(lambda tx: cluster_member(tx).all(lambda o: o.address.first_tx == o.tx)).index"
   ]
  },
  {
   "cell_type": "code",
   "execution_count": 54,
   "metadata": {},
   "outputs": [],
   "source": [
    "nonfresh_indexes = gt_3.transactions().where(lambda tx: cluster_member(tx).all(lambda o: o.address.first_tx != o.tx)).index"
   ]
  },
  {
   "cell_type": "code",
   "execution_count": 55,
   "metadata": {},
   "outputs": [
    {
     "data": {
      "text/plain": [
       "33714510"
      ]
     },
     "execution_count": 55,
     "metadata": {},
     "output_type": "execute_result"
    }
   ],
   "source": [
    "len(fresh_indexes)"
   ]
  },
  {
   "cell_type": "code",
   "execution_count": 56,
   "metadata": {},
   "outputs": [],
   "source": [
    "np.save(\"/home/ubuntu/Data/groundtruth/20210715-fresh-indexes.npy\", fresh_indexes)"
   ]
  },
  {
   "cell_type": "code",
   "execution_count": 57,
   "metadata": {},
   "outputs": [
    {
     "data": {
      "text/plain": [
       "16710369"
      ]
     },
     "execution_count": 57,
     "metadata": {},
     "output_type": "execute_result"
    }
   ],
   "source": [
    "len(nonfresh_indexes)"
   ]
  },
  {
   "cell_type": "code",
   "execution_count": 58,
   "metadata": {},
   "outputs": [],
   "source": [
    "np.save(\"/home/ubuntu/Data/groundtruth/20210715-nonfresh-indexes.npy\", nonfresh_indexes)"
   ]
  },
  {
   "cell_type": "code",
   "execution_count": 59,
   "metadata": {},
   "outputs": [],
   "source": [
    "nonfresh_gt = blocksci.GroundTruth.create(chain, nonfresh_indexes, \"/home/ubuntu/Data/groundtruth/20210715-nonfresh\")"
   ]
  },
  {
   "cell_type": "code",
   "execution_count": 60,
   "metadata": {},
   "outputs": [],
   "source": [
    "assert len(nonfresh_indexes) == nonfresh_gt.transactions().size"
   ]
  },
  {
   "cell_type": "code",
   "execution_count": 61,
   "metadata": {},
   "outputs": [],
   "source": [
    "assert (nonfresh_gt.transactions().index == np.sort(nonfresh_gt.transactions().index)).all()"
   ]
  },
  {
   "cell_type": "code",
   "execution_count": 62,
   "metadata": {},
   "outputs": [],
   "source": [
    "assert (nonfresh_indexes == nonfresh_gt.transactions().index).all()"
   ]
  },
  {
   "cell_type": "markdown",
   "metadata": {},
   "source": [
    "### Filter non-fresh ground truth\n",
    "\n",
    "We exclude transactions where the change was already known through clustering at the time of the transaction"
   ]
  },
  {
   "cell_type": "code",
   "execution_count": 63,
   "metadata": {},
   "outputs": [
    {
     "name": "stdout",
     "output_type": "stream",
     "text": [
      "Linking nested addresses\n",
      "314031 distinct clusters\n",
      "99.97% done\n",
      "CPU times: user 4min 55s, sys: 13min 6s, total: 18min 1s\n",
      "Wall time: 3h 34min 30s\n"
     ]
    }
   ],
   "source": [
    "%time filtered_txes_cm = blocksci.cluster.ClusterManager.filter_txes(chain, nonfresh_gt, my_cm)"
   ]
  },
  {
   "cell_type": "code",
   "execution_count": 64,
   "metadata": {},
   "outputs": [
    {
     "data": {
      "text/plain": [
       "1542918"
      ]
     },
     "execution_count": 64,
     "metadata": {},
     "output_type": "execute_result"
    }
   ],
   "source": [
    "len(filtered_txes_cm)"
   ]
  },
  {
   "cell_type": "code",
   "execution_count": 65,
   "metadata": {},
   "outputs": [
    {
     "data": {
      "text/plain": [
       "(33714510, 1542918)"
      ]
     },
     "execution_count": 65,
     "metadata": {},
     "output_type": "execute_result"
    }
   ],
   "source": [
    "len(fresh_indexes), len(filtered_txes_cm)"
   ]
  },
  {
   "cell_type": "code",
   "execution_count": 66,
   "metadata": {},
   "outputs": [],
   "source": [
    "filtered_nonfresh_indexes = sorted([tx.index for tx in filtered_txes_cm])"
   ]
  },
  {
   "cell_type": "code",
   "execution_count": 67,
   "metadata": {},
   "outputs": [
    {
     "data": {
      "text/plain": [
       "1542918"
      ]
     },
     "execution_count": 67,
     "metadata": {},
     "output_type": "execute_result"
    }
   ],
   "source": [
    "len(filtered_nonfresh_indexes)"
   ]
  },
  {
   "cell_type": "code",
   "execution_count": 68,
   "metadata": {},
   "outputs": [],
   "source": [
    "full_gt_indexes = sorted(fresh_indexes.tolist() + filtered_nonfresh_indexes)"
   ]
  },
  {
   "cell_type": "code",
   "execution_count": 69,
   "metadata": {},
   "outputs": [],
   "source": [
    "assert len(full_gt_indexes) == len(fresh_indexes) + len(filtered_nonfresh_indexes)\n",
    "assert len(full_gt_indexes) == len(set(full_gt_indexes))"
   ]
  },
  {
   "cell_type": "code",
   "execution_count": 70,
   "metadata": {},
   "outputs": [],
   "source": [
    "assert full_gt_indexes == sorted(full_gt_indexes)"
   ]
  },
  {
   "cell_type": "code",
   "execution_count": 71,
   "metadata": {},
   "outputs": [
    {
     "data": {
      "text/plain": [
       "35257428"
      ]
     },
     "execution_count": 71,
     "metadata": {},
     "output_type": "execute_result"
    }
   ],
   "source": [
    "len(full_gt_indexes)"
   ]
  },
  {
   "cell_type": "code",
   "execution_count": 72,
   "metadata": {},
   "outputs": [],
   "source": [
    "full_gt = blocksci.GroundTruth.create(chain, full_gt_indexes, \"/home/ubuntu/Data/groundtruth/20210715-4-final\")"
   ]
  },
  {
   "cell_type": "code",
   "execution_count": 73,
   "metadata": {},
   "outputs": [],
   "source": [
    "assert len(full_gt_indexes) == full_gt.transactions().size"
   ]
  },
  {
   "cell_type": "code",
   "execution_count": 74,
   "metadata": {},
   "outputs": [],
   "source": [
    "assert (full_gt_indexes == full_gt.transactions().index).all()"
   ]
  },
  {
   "cell_type": "code",
   "execution_count": null,
   "metadata": {},
   "outputs": [],
   "source": []
  }
 ],
 "metadata": {
  "kernelspec": {
   "display_name": "Python 3",
   "language": "python",
   "name": "python3"
  },
  "language_info": {
   "codemirror_mode": {
    "name": "ipython",
    "version": 3
   },
   "file_extension": ".py",
   "mimetype": "text/x-python",
   "name": "python",
   "nbconvert_exporter": "python",
   "pygments_lexer": "ipython3",
   "version": "3.8.8"
  }
 },
 "nbformat": 4,
 "nbformat_minor": 4
}
