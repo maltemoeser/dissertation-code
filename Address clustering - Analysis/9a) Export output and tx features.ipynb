{
 "cells": [
  {
   "cell_type": "markdown",
   "metadata": {},
   "source": [
    "## Output and transaction characteristics\n",
    "\n",
    "Exports a variety of output and transaction characteristics, to be used in the Random Forest model"
   ]
  },
  {
   "cell_type": "code",
   "execution_count": 1,
   "metadata": {},
   "outputs": [],
   "source": [
    "import blocksci"
   ]
  },
  {
   "cell_type": "code",
   "execution_count": 2,
   "metadata": {},
   "outputs": [],
   "source": [
    "import pandas as pd\n",
    "import matplotlib.pyplot as plt\n",
    "import numpy as np\n",
    "import seaborn as sns"
   ]
  },
  {
   "cell_type": "code",
   "execution_count": 3,
   "metadata": {},
   "outputs": [],
   "source": [
    "import collections\n",
    "import random"
   ]
  },
  {
   "cell_type": "code",
   "execution_count": 4,
   "metadata": {},
   "outputs": [],
   "source": [
    "import itertools"
   ]
  },
  {
   "cell_type": "code",
   "execution_count": 5,
   "metadata": {},
   "outputs": [],
   "source": [
    "import utils"
   ]
  },
  {
   "cell_type": "code",
   "execution_count": 6,
   "metadata": {},
   "outputs": [],
   "source": [
    "chain = blocksci.Blockchain(utils.blocksci_config())"
   ]
  },
  {
   "cell_type": "code",
   "execution_count": 7,
   "metadata": {},
   "outputs": [],
   "source": [
    "gt = blocksci.GroundTruth(utils.latest_groundtruth(), chain)"
   ]
  },
  {
   "cell_type": "code",
   "execution_count": 8,
   "metadata": {},
   "outputs": [
    {
     "data": {
      "text/plain": [
       "35257428"
      ]
     },
     "execution_count": 8,
     "metadata": {},
     "output_type": "execute_result"
    }
   ],
   "source": [
    "gt.transactions().size"
   ]
  },
  {
   "cell_type": "markdown",
   "metadata": {},
   "source": [
    "### Transaction characteristics"
   ]
  },
  {
   "cell_type": "code",
   "execution_count": 9,
   "metadata": {},
   "outputs": [],
   "source": [
    "fee = gt.transactions().outputs.map(lambda o: o.tx.fee)"
   ]
  },
  {
   "cell_type": "code",
   "execution_count": 10,
   "metadata": {},
   "outputs": [],
   "source": [
    "fee_per_byte = gt.transactions().outputs.map(lambda o: o.tx.fee_per_byte())"
   ]
  },
  {
   "cell_type": "code",
   "execution_count": 11,
   "metadata": {},
   "outputs": [],
   "source": [
    "tx_value = gt.transactions().outputs.map(lambda o: o.tx.output_value)"
   ]
  },
  {
   "cell_type": "code",
   "execution_count": 12,
   "metadata": {},
   "outputs": [],
   "source": [
    "is_segwit = gt.transactions().outputs.map(lambda o: o.tx.segwit)"
   ]
  },
  {
   "cell_type": "code",
   "execution_count": 13,
   "metadata": {},
   "outputs": [],
   "source": [
    "has_locktime = gt.transactions().outputs.map(lambda o: blocksci.heuristics.has_locktime(o.tx))"
   ]
  },
  {
   "cell_type": "code",
   "execution_count": 14,
   "metadata": {},
   "outputs": [],
   "source": [
    "tx_version = gt.transactions().outputs.map(lambda o: o.tx.version)"
   ]
  },
  {
   "cell_type": "code",
   "execution_count": 15,
   "metadata": {},
   "outputs": [],
   "source": [
    "block_height = gt.transactions().outputs.map(lambda o: o.tx.block.height)"
   ]
  },
  {
   "cell_type": "code",
   "execution_count": 16,
   "metadata": {},
   "outputs": [],
   "source": [
    "input_count = gt.transactions().outputs.map(lambda o: o.tx.input_count)"
   ]
  },
  {
   "cell_type": "markdown",
   "metadata": {},
   "source": [
    "### Output characteristics"
   ]
  },
  {
   "cell_type": "code",
   "execution_count": 17,
   "metadata": {},
   "outputs": [],
   "source": [
    "output_value = gt.transactions().outputs.value"
   ]
  },
  {
   "cell_type": "code",
   "execution_count": 9,
   "metadata": {},
   "outputs": [],
   "source": [
    "is_larger_output = gt.transactions().outputs.map(lambda o: o.tx.outputs.max(lambda x: x.value).map(lambda x: x.index).or_value(99) == o.index)"
   ]
  },
  {
   "cell_type": "code",
   "execution_count": 19,
   "metadata": {},
   "outputs": [],
   "source": [
    "is_fresh_output = gt.transactions().outputs.map(lambda o: o.address.first_tx == o.tx)"
   ]
  },
  {
   "cell_type": "code",
   "execution_count": 20,
   "metadata": {},
   "outputs": [],
   "source": [
    "is_other_output_fresh = np.array(list(itertools.chain.from_iterable((y, x) for x,y in utils.grouper(is_fresh_output, 2))))"
   ]
  },
  {
   "cell_type": "code",
   "execution_count": 21,
   "metadata": {},
   "outputs": [],
   "source": [
    "output_value_ratio = output_value / tx_value"
   ]
  },
  {
   "cell_type": "code",
   "execution_count": 22,
   "metadata": {},
   "outputs": [],
   "source": [
    "output_index = gt.transactions().outputs.index"
   ]
  },
  {
   "cell_type": "markdown",
   "metadata": {},
   "source": [
    "### Check and save"
   ]
  },
  {
   "cell_type": "code",
   "execution_count": 23,
   "metadata": {},
   "outputs": [],
   "source": [
    "output_count = gt.transactions().size * 2"
   ]
  },
  {
   "cell_type": "code",
   "execution_count": 24,
   "metadata": {},
   "outputs": [],
   "source": [
    "assert output_count == len(output_value)\n",
    "assert output_count == len(is_larger_output)\n",
    "assert output_count == len(output_value_ratio)\n",
    "assert output_count == len(output_index)\n",
    "assert output_count == len(is_fresh_output)\n",
    "assert output_count == len(is_other_output_fresh)\n",
    "assert output_count == len(fee)\n",
    "assert output_count == len(fee_per_byte)\n",
    "assert output_count == len(tx_value)\n",
    "assert output_count == len(is_segwit)\n",
    "assert output_count == len(has_locktime)\n",
    "assert output_count == len(block_height)\n",
    "assert output_count == len(input_count)"
   ]
  },
  {
   "cell_type": "code",
   "execution_count": 25,
   "metadata": {},
   "outputs": [],
   "source": [
    "df = pd.DataFrame({\n",
    "    \"co_output_value\": output_value,\n",
    "    \"co_is_larger_output\": is_larger_output,\n",
    "    \"co_output_value_ratio\": output_value_ratio,\n",
    "    \"co_output_index\": output_index,\n",
    "    \"co_fresh_output\": is_fresh_output,\n",
    "    \"co_other_fresh\": is_other_output_fresh,\n",
    "    \"ct_fee\": fee,\n",
    "    \"ct_fee_per_byte\": fee_per_byte,\n",
    "    \"ct_tx_value\": tx_value,\n",
    "    \"ct_version\": tx_version,\n",
    "    \"ct_segwit_tx\": is_segwit,\n",
    "    \"ct_has_locktime\": has_locktime,\n",
    "    \"ct_block_height\": block_height,\n",
    "    \"ct_input_count\": input_count,\n",
    "})"
   ]
  },
  {
   "cell_type": "code",
   "execution_count": 26,
   "metadata": {},
   "outputs": [],
   "source": [
    "assert len(df) == gt.transactions().size * 2"
   ]
  },
  {
   "cell_type": "code",
   "execution_count": 27,
   "metadata": {},
   "outputs": [],
   "source": [
    "df.to_csv(\"/home/ubuntu/Data/heuristics/20210720-output-features.csv\")"
   ]
  },
  {
   "cell_type": "code",
   "execution_count": 31,
   "metadata": {},
   "outputs": [],
   "source": [
    "del df"
   ]
  }
 ],
 "metadata": {
  "kernelspec": {
   "display_name": "Python 3",
   "language": "python",
   "name": "python3"
  },
  "language_info": {
   "codemirror_mode": {
    "name": "ipython",
    "version": 3
   },
   "file_extension": ".py",
   "mimetype": "text/x-python",
   "name": "python",
   "nbconvert_exporter": "python",
   "pygments_lexer": "ipython3",
   "version": "3.8.8"
  }
 },
 "nbformat": 4,
 "nbformat_minor": 4
}
