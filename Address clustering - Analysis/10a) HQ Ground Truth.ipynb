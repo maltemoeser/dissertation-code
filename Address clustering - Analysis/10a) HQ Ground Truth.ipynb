{
 "cells": [
  {
   "cell_type": "code",
   "execution_count": 1,
   "metadata": {},
   "outputs": [],
   "source": [
    "import blocksci"
   ]
  },
  {
   "cell_type": "code",
   "execution_count": 2,
   "metadata": {},
   "outputs": [],
   "source": [
    "import pandas as pd\n",
    "import matplotlib.pyplot as plt\n",
    "import numpy as np\n",
    "import seaborn as sns"
   ]
  },
  {
   "cell_type": "code",
   "execution_count": 3,
   "metadata": {},
   "outputs": [],
   "source": [
    "import collections\n",
    "import random"
   ]
  },
  {
   "cell_type": "code",
   "execution_count": 4,
   "metadata": {},
   "outputs": [],
   "source": [
    "from enum import Enum"
   ]
  },
  {
   "cell_type": "code",
   "execution_count": 5,
   "metadata": {},
   "outputs": [],
   "source": [
    "import utils"
   ]
  },
  {
   "cell_type": "code",
   "execution_count": 6,
   "metadata": {},
   "outputs": [],
   "source": [
    "date_string = \"20210720\""
   ]
  },
  {
   "cell_type": "code",
   "execution_count": 7,
   "metadata": {},
   "outputs": [],
   "source": [
    "chain = blocksci.Blockchain(utils.blocksci_config())"
   ]
  },
  {
   "cell_type": "code",
   "execution_count": 8,
   "metadata": {},
   "outputs": [],
   "source": [
    "my_cm = blocksci.cluster.ClusterManager(utils.latest_clustering(), chain)"
   ]
  },
  {
   "cell_type": "code",
   "execution_count": 9,
   "metadata": {},
   "outputs": [],
   "source": [
    "cluster_id = blocksci.heuristics.cluster_id(my_cm)"
   ]
  },
  {
   "cell_type": "code",
   "execution_count": 10,
   "metadata": {},
   "outputs": [],
   "source": [
    "output_cluster_id = blocksci.heuristics.output_cluster_id(my_cm)"
   ]
  },
  {
   "cell_type": "code",
   "execution_count": 11,
   "metadata": {},
   "outputs": [],
   "source": [
    "fp = blocksci.Fingerprinter(utils.latest_fingerprints(), chain)"
   ]
  },
  {
   "cell_type": "code",
   "execution_count": 12,
   "metadata": {},
   "outputs": [],
   "source": [
    "heuristics = {\n",
    "    \"optimal_change\": blocksci.heuristics.change.optimal_change,\n",
    "    \"optimal_change_with_fee\": blocksci.heuristics.change.optimal_change_with_fee,\n",
    "    \"address_type\": blocksci.heuristics.change.address_type,\n",
    "    \"power_of_ten_2\": blocksci.heuristics.change.power_of_ten_value(2),\n",
    "    \"power_of_ten_3\": blocksci.heuristics.change.power_of_ten_value(3),\n",
    "    \"power_of_ten_4\": blocksci.heuristics.change.power_of_ten_value(4),\n",
    "    \"power_of_ten_5\": blocksci.heuristics.change.power_of_ten_value(5),\n",
    "    \"power_of_ten_6\": blocksci.heuristics.change.power_of_ten_value(6),\n",
    "    \"power_of_ten_7\": blocksci.heuristics.change.power_of_ten_value(7),\n",
    "    \"fp_inout_count\": blocksci.heuristics.change.smart_fingerprint(fp, utils.get_fp_mask([utils.Fingerprint.INPUT_COUNT, utils.Fingerprint.OUTPUT_COUNT])),\n",
    "    \"fp_output_count\": blocksci.heuristics.change.smart_fingerprint(fp, utils.get_fp_mask(utils.Fingerprint.OUTPUT_COUNT)),\n",
    "    \"fp_version\": blocksci.heuristics.change.smart_fingerprint(fp, utils.get_fp_mask(utils.Fingerprint.VERSION_2)),\n",
    "    \"fp_locktime\": blocksci.heuristics.change.smart_fingerprint(fp, utils.get_fp_mask([utils.Fingerprint.LOCKTIME_HEIGHT, utils.Fingerprint.LOCKTIME_TIME])),\n",
    "    \"fp_rbf\": blocksci.heuristics.change.smart_fingerprint(fp, utils.get_fp_mask(utils.Fingerprint.RBF)),\n",
    "    \"fp_segwit\": blocksci.heuristics.change.smart_fingerprint(fp, utils.get_fp_mask(utils.Fingerprint.SEGWIT)),\n",
    "    \"fp_possible_segwit\": blocksci.heuristics.change.smart_fingerprint(fp, utils.get_fp_mask(utils.Fingerprint.SEGWIT_COMPATIBLE)),\n",
    "    \"fp_ordered_inouts\": blocksci.heuristics.change.smart_fingerprint(fp, utils.get_fp_mask(utils.Fingerprint.SORTED_INOUTS)),\n",
    "    \"fp_zeroconf\": blocksci.heuristics.change.smart_fingerprint(fp, utils.get_fp_mask(utils.Fingerprint.ZEROCONF)),\n",
    "    \"fp_multisig\": blocksci.heuristics.change.smart_fingerprint(fp, utils.get_fp_mask(utils.Fingerprint.MULTISIG)),\n",
    "    \"fp_p2pkh\": blocksci.heuristics.change.smart_fingerprint(fp, utils.get_fp_mask(utils.Fingerprint.P2PKH)),\n",
    "    \"fp_p2sh\": blocksci.heuristics.change.smart_fingerprint(fp, utils.get_fp_mask(utils.Fingerprint.P2SH)),\n",
    "    \"fp_p2wpkh\": blocksci.heuristics.change.smart_fingerprint(fp, utils.get_fp_mask(utils.Fingerprint.P2WPKH)),\n",
    "    \"fp_p2wsh\": blocksci.heuristics.change.smart_fingerprint(fp, utils.get_fp_mask(utils.Fingerprint.P2WSH)),\n",
    "    \"fp_address_type\": blocksci.heuristics.change.smart_fingerprint(fp, utils.get_fp_mask([utils.Fingerprint.MULTISIG, utils.Fingerprint.P2PKH, utils.Fingerprint.P2SH, utils.Fingerprint.P2WPKH, utils.Fingerprint.P2WSH, utils.Fingerprint.ADDRESS_OTHER])),\n",
    "    \"fp_absolute_fee\": blocksci.heuristics.change.fixed_fee,\n",
    "    \"fp_relative_fee\": blocksci.heuristics.change.fixed_fee_per_byte,\n",
    "}"
   ]
  },
  {
   "cell_type": "code",
   "execution_count": 13,
   "metadata": {},
   "outputs": [],
   "source": [
    "column_labels = [\"true_change\"] + list(heuristics.keys()) + [\n",
    "    \"co_output_value\",\n",
    "    \"co_is_larger_output\",\n",
    "    \"co_output_value_ratio\",\n",
    "    \"co_output_index\",\n",
    "    \"co_fresh_output\",\n",
    "    \"co_other_fresh\",\n",
    "    \"ct_fee\",\n",
    "    \"ct_fee_per_byte\",\n",
    "    \"ct_tx_value\",\n",
    "    \"ct_segwit_tx\",\n",
    "    \"ct_has_locktime\",\n",
    "    \"ct_version\",\n",
    "    \"ct_block_height\",\n",
    "    \"ct_input_count\",\n",
    "    \"all_outputs_spent\"\n",
    "]"
   ]
  },
  {
   "cell_type": "code",
   "execution_count": 14,
   "metadata": {},
   "outputs": [
    {
     "data": {
      "text/plain": [
       "42"
      ]
     },
     "execution_count": 14,
     "metadata": {},
     "output_type": "execute_result"
    }
   ],
   "source": [
    "len(column_labels)"
   ]
  },
  {
   "cell_type": "code",
   "execution_count": 15,
   "metadata": {},
   "outputs": [],
   "source": [
    "cluster_member = blocksci.heuristics.change.cluster_member(my_cm)"
   ]
  },
  {
   "cell_type": "code",
   "execution_count": 16,
   "metadata": {},
   "outputs": [],
   "source": [
    "address_reuse = blocksci.heuristics.change.address_reuse"
   ]
  },
  {
   "cell_type": "code",
   "execution_count": 17,
   "metadata": {},
   "outputs": [],
   "source": [
    "class HeuristicsResults(Enum):\n",
    "    REUSE_CORRECT = 1\n",
    "    REUSE_INCORRECT = 2\n",
    "    CLUSTER_CORRECT = 3\n",
    "    CLUSTER_INCORRECT = 4\n",
    "    NONSTANDARD = 5\n",
    "    NO_HEURISTICS = 6\n",
    "    NO_HEURISTICS_NOFP = 7"
   ]
  },
  {
   "cell_type": "code",
   "execution_count": 18,
   "metadata": {},
   "outputs": [],
   "source": [
    "def get_heuristics_for_tx(tx, spend_value=None, spend_index=None):\n",
    "    \n",
    "    # Our model only predicts change in transactions with 2 outputs\n",
    "    assert tx.output_count == 2\n",
    "    # We need either the index or the value of the spend to identify the output\n",
    "    assert spend_value != None or spend_index != None\n",
    "    \n",
    "    # Since we only have transactions with two outputs, flip the spend index to get the change index\n",
    "    change_index = None\n",
    "    if spend_index is None:\n",
    "        change_index = 1 - int(tx.outputs.where(lambda o: o.value == spend_value).index[0])\n",
    "    else:\n",
    "        change_index = 1 - spend_index\n",
    "    \n",
    "    # Check that the index is valid\n",
    "    assert isinstance(change_index, int) and change_index in (0, 1)\n",
    "    \n",
    "    # Change output can be identified through address reuse\n",
    "    if address_reuse(tx).size != 0:\n",
    "        if address_reuse.unique_index(tx) == change_index:\n",
    "            return HeuristicsResults.REUSE_CORRECT\n",
    "        else:\n",
    "            return HeuristicsResults.REUSE_INCORRECT\n",
    "    \n",
    "    # Change output can be identified through cluster membership\n",
    "    if cluster_member(tx).size != 0:\n",
    "        if cluster_member.unique_index(tx) == change_index:\n",
    "            return HeuristicsResults.CLUSTER_CORRECT\n",
    "        else:\n",
    "            return HeuristicsResults.CLUSTER_INCORRECT\n",
    "    \n",
    "    \n",
    "    output_list = []\n",
    "    for output in tx.outputs:\n",
    "        all_outputs_spent = tx.outputs.all(lambda o: o.is_spent)\n",
    "        \n",
    "        l = []\n",
    "        \n",
    "        l.append(int(output.index == change_index))\n",
    "        \n",
    "        heuristic_results = []\n",
    "        for heuristic in heuristics.values():\n",
    "            result = heuristic.unique_index(tx)\n",
    "            out_result = int(result == output.index) if result != -1 else -1\n",
    "            heuristic_results.append(out_result)\n",
    "        l += heuristic_results\n",
    "        \n",
    "        # Check if we have heuristic results\n",
    "        if all_outputs_spent:\n",
    "            if all([x == -1 for x in heuristic_results]):\n",
    "                return HeuristicsResults.NO_HEURISTICS\n",
    "        else:\n",
    "            if all([x == -1 for x in heuristic_results[:9]]):\n",
    "                return HeuristicsResults.NO_HEURISTICS_NOFP\n",
    "        \n",
    "        # Add characteristics\n",
    "        l.append(output.value)\n",
    "        l.append(output.value == max(tx.outputs.value))\n",
    "        l.append(output.value / tx.output_value)\n",
    "        l.append(output.index)\n",
    "        l.append(output.address.first_tx == output.tx)\n",
    "        l.append(tx.outputs[1-output.index].address.first_tx == output.tx)\n",
    "        l.append(tx.fee)\n",
    "        l.append(tx.fee_per_byte())\n",
    "        l.append(tx.output_value)\n",
    "        l.append(tx.segwit)\n",
    "        l.append(blocksci.heuristics.has_locktime(tx))\n",
    "        l.append(tx.version)\n",
    "        l.append(tx.block.height)\n",
    "        l.append(tx.input_count)\n",
    "        l.append(all_outputs_spent)\n",
    "        output_list.append(l)\n",
    "    \n",
    "    df = pd.DataFrame(output_list)\n",
    "    assert len(df.columns) == len(column_labels)\n",
    "    df.columns = column_labels\n",
    "    df.index = [\"{}-{}\".format(tx.hash, idx) for idx in range(tx.output_count)]\n",
    "    \n",
    "    return df"
   ]
  },
  {
   "cell_type": "code",
   "execution_count": 19,
   "metadata": {},
   "outputs": [],
   "source": [
    "def get_ground_truth_df(gt_dict, reset_index=True, spend_values=True):\n",
    "    STATS = collections.defaultdict(int)\n",
    "    \n",
    "    df = None\n",
    "    \n",
    "    counter = 0\n",
    "    \n",
    "    for txhash, v in gt_dict.items():\n",
    "        \n",
    "        counter += 1\n",
    "        if counter % 50000 == 0:\n",
    "            print(\"Progress: {} out of {} transactions\".format(counter, len(gt_dict)))\n",
    "        \n",
    "        tx = chain.tx_with_hash(txhash)\n",
    "        \n",
    "        if tx.output_count != 2:\n",
    "            STATS[HeuristicsResults.NONSTANDARD] += 1\n",
    "            continue\n",
    "        \n",
    "        result = None\n",
    "        if spend_values:\n",
    "            result = get_heuristics_for_tx(tx, spend_value=int(v))\n",
    "        else:\n",
    "            result = get_heuristics_for_tx(tx, spend_index=int(v))\n",
    "        \n",
    "        if isinstance(result, HeuristicsResults):\n",
    "            if result == HeuristicsResults.REUSE_CORRECT:\n",
    "                STATS[HeuristicsResults.REUSE_CORRECT] += 1\n",
    "            \n",
    "            elif result == HeuristicsResults.REUSE_INCORRECT:\n",
    "                STATS[HeuristicsResults.REUSE_INCORRECT] += 1\n",
    "            \n",
    "            elif result == HeuristicsResults.CLUSTER_CORRECT:\n",
    "                STATS[HeuristicsResults.CLUSTER_CORRECT] += 1\n",
    "            \n",
    "            elif result == HeuristicsResults.CLUSTER_INCORRECT:\n",
    "                STATS[HeuristicsResults.CLUSTER_INCORRECT] += 1\n",
    "            \n",
    "            elif result == HeuristicsResults.NO_HEURISTICS:\n",
    "                STATS[HeuristicsResults.NO_HEURISTICS] += 1\n",
    "                \n",
    "            elif result == HeuristicsResults.NO_HEURISTICS_NOFP:\n",
    "                STATS[HeuristicsResults.NO_HEURISTICS_NOFP] += 1\n",
    "        else:            \n",
    "            if df is not None:\n",
    "                df = pd.concat([df, result])\n",
    "            else:\n",
    "                df = result\n",
    "    \n",
    "    if reset_index:\n",
    "        df.reset_index(inplace=True, drop=True)\n",
    "        \n",
    "    print(\"Non-standard: {}\".format(STATS[HeuristicsResults.NONSTANDARD]))\n",
    "    print(\"No heuristics: All spent: {}, Unspent: {}\".format(STATS[HeuristicsResults.NO_HEURISTICS], STATS[HeuristicsResults.NO_HEURISTICS_NOFP]))\n",
    "    print(\"Reuse: Correct: {}, Incorrect: {}\".format(STATS[HeuristicsResults.REUSE_CORRECT], STATS[HeuristicsResults.REUSE_INCORRECT]))\n",
    "    print(\"Cluster: Correct: {}, Incorrect: {}\".format(STATS[HeuristicsResults.CLUSTER_CORRECT], STATS[HeuristicsResults.CLUSTER_INCORRECT]))\n",
    "        \n",
    "    return df"
   ]
  },
  {
   "cell_type": "markdown",
   "metadata": {},
   "source": [
    "## Ransomware"
   ]
  },
  {
   "cell_type": "code",
   "execution_count": 31,
   "metadata": {},
   "outputs": [],
   "source": [
    "ransomware_csv = pd.read_csv(\"/home/ubuntu/Data/model-validation/cerber-locky-addresses.csv\", index_col=0)"
   ]
  },
  {
   "cell_type": "code",
   "execution_count": 32,
   "metadata": {},
   "outputs": [],
   "source": [
    "for txhash in ransomware_csv[ransomware_csv.txn_hash.duplicated()].txn_hash:\n",
    "    if chain.tx_with_hash(txhash).output_count <= 2 :\n",
    "        print(txhash)"
   ]
  },
  {
   "cell_type": "code",
   "execution_count": 33,
   "metadata": {},
   "outputs": [],
   "source": [
    "ransomware_csv = ransomware_csv[~ransomware_csv.txn_hash.duplicated()]"
   ]
  },
  {
   "cell_type": "code",
   "execution_count": 34,
   "metadata": {},
   "outputs": [
    {
     "data": {
      "text/plain": [
       "(16764, 16764)"
      ]
     },
     "execution_count": 34,
     "metadata": {},
     "output_type": "execute_result"
    }
   ],
   "source": [
    "len(ransomware_csv.txn_hash), len(set(ransomware_csv.txn_hash))"
   ]
  },
  {
   "cell_type": "code",
   "execution_count": 35,
   "metadata": {},
   "outputs": [],
   "source": [
    "ransomware_data = {tx: idx for tx, idx in zip(ransomware_csv.txn_hash.values, ransomware_csv.output_index.values)}"
   ]
  },
  {
   "cell_type": "code",
   "execution_count": 36,
   "metadata": {},
   "outputs": [
    {
     "data": {
      "text/plain": [
       "16764"
      ]
     },
     "execution_count": 36,
     "metadata": {},
     "output_type": "execute_result"
    }
   ],
   "source": [
    "len(ransomware_data.items())"
   ]
  },
  {
   "cell_type": "code",
   "execution_count": 37,
   "metadata": {},
   "outputs": [
    {
     "data": {
      "text/html": [
       "<div>\n",
       "<style scoped>\n",
       "    .dataframe tbody tr th:only-of-type {\n",
       "        vertical-align: middle;\n",
       "    }\n",
       "\n",
       "    .dataframe tbody tr th {\n",
       "        vertical-align: top;\n",
       "    }\n",
       "\n",
       "    .dataframe thead th {\n",
       "        text-align: right;\n",
       "    }\n",
       "</style>\n",
       "<table border=\"1\" class=\"dataframe\">\n",
       "  <thead>\n",
       "    <tr style=\"text-align: right;\">\n",
       "      <th></th>\n",
       "      <th>family</th>\n",
       "      <th>txn_hash</th>\n",
       "      <th>output_index</th>\n",
       "      <th>potential_ransom_wallet_addr</th>\n",
       "      <th>potential_ransom_btc</th>\n",
       "      <th>potential_ransom_usd</th>\n",
       "      <th>unix_ts</th>\n",
       "    </tr>\n",
       "  </thead>\n",
       "  <tbody>\n",
       "    <tr>\n",
       "      <th>0</th>\n",
       "      <td>Locky</td>\n",
       "      <td>55e5217e8ed11ac6f9fdd823ea13f5c2527c7c9b752072...</td>\n",
       "      <td>1</td>\n",
       "      <td>1AVcbgn3QJGJkDehF5LhcYhp81UZsZ9dWv</td>\n",
       "      <td>0.5</td>\n",
       "      <td>189.14</td>\n",
       "      <td>1455179567</td>\n",
       "    </tr>\n",
       "    <tr>\n",
       "      <th>1</th>\n",
       "      <td>Locky</td>\n",
       "      <td>a90614f93db39dd452bfd212fff0bbae542076bd2d0ad5...</td>\n",
       "      <td>0</td>\n",
       "      <td>1BtQCZgjL8ysrstULZQaGJ56nSikPa3mMb</td>\n",
       "      <td>1.0</td>\n",
       "      <td>403.01</td>\n",
       "      <td>1455550689</td>\n",
       "    </tr>\n",
       "    <tr>\n",
       "      <th>2</th>\n",
       "      <td>Locky</td>\n",
       "      <td>3949cd8f41dcaf24d1d4b3f0fad4b1ad749da3d83b186b...</td>\n",
       "      <td>0</td>\n",
       "      <td>1FMBqkio8ryWjtDhK1xvTGNHp4YZq4fcm7</td>\n",
       "      <td>1.0</td>\n",
       "      <td>403.01</td>\n",
       "      <td>1455572795</td>\n",
       "    </tr>\n",
       "    <tr>\n",
       "      <th>3</th>\n",
       "      <td>Locky</td>\n",
       "      <td>999b37dda5520e3b8f8bcd1caee5a64a2494b8a9d9c404...</td>\n",
       "      <td>1</td>\n",
       "      <td>192Zktbc4cNPhKs9rUavgNJjH6Rf7NXBqh</td>\n",
       "      <td>0.5</td>\n",
       "      <td>201.88</td>\n",
       "      <td>1455617510</td>\n",
       "    </tr>\n",
       "    <tr>\n",
       "      <th>4</th>\n",
       "      <td>Locky</td>\n",
       "      <td>cc500a54b6d226bdd27246f76d6d43c8c3154564a5fb6b...</td>\n",
       "      <td>0</td>\n",
       "      <td>14buRC3WParn4q8xh5HYnB2MQdVdgKVbU1</td>\n",
       "      <td>0.5</td>\n",
       "      <td>201.88</td>\n",
       "      <td>1455619349</td>\n",
       "    </tr>\n",
       "    <tr>\n",
       "      <th>5</th>\n",
       "      <td>Locky</td>\n",
       "      <td>496c905fc9dc91814ae833faf3ede87441e152e20e4545...</td>\n",
       "      <td>0</td>\n",
       "      <td>17BQkSoJGnp9kmZPptPDPeaJc4S4NpA8TF</td>\n",
       "      <td>0.5</td>\n",
       "      <td>201.88</td>\n",
       "      <td>1455632302</td>\n",
       "    </tr>\n",
       "    <tr>\n",
       "      <th>6</th>\n",
       "      <td>Locky</td>\n",
       "      <td>c8e7eb8fac1fcf42bc27a10063b3b30165fccb8432d1ac...</td>\n",
       "      <td>0</td>\n",
       "      <td>1KKo2c6YaennfXn4GnoAXV5JLZLiLUix35</td>\n",
       "      <td>1.0</td>\n",
       "      <td>403.75</td>\n",
       "      <td>1455633386</td>\n",
       "    </tr>\n",
       "    <tr>\n",
       "      <th>7</th>\n",
       "      <td>Locky</td>\n",
       "      <td>70bda91488d2c68b843d95530bf3b86d36e2b62a5331f0...</td>\n",
       "      <td>15</td>\n",
       "      <td>17fKMzBKcirBzcxgULinmppxZM6X66RkuK</td>\n",
       "      <td>0.5</td>\n",
       "      <td>201.88</td>\n",
       "      <td>1455636335</td>\n",
       "    </tr>\n",
       "    <tr>\n",
       "      <th>8</th>\n",
       "      <td>Locky</td>\n",
       "      <td>9c3ec8ae60aab222ea9c7c792ed2315f3223f50358bb0f...</td>\n",
       "      <td>12</td>\n",
       "      <td>1Y7XLJvS8XFiZPrQLH8f5D9Nb3tdenEgj</td>\n",
       "      <td>0.5</td>\n",
       "      <td>201.88</td>\n",
       "      <td>1455641395</td>\n",
       "    </tr>\n",
       "    <tr>\n",
       "      <th>9</th>\n",
       "      <td>Locky</td>\n",
       "      <td>72eba13d305e648800d8c94cf0d88ed34736d491be7e5e...</td>\n",
       "      <td>16</td>\n",
       "      <td>1JpcbXxBUMqoL2JL8PGDw2E4W1LxyTMr3D</td>\n",
       "      <td>1.0</td>\n",
       "      <td>403.75</td>\n",
       "      <td>1455641395</td>\n",
       "    </tr>\n",
       "    <tr>\n",
       "      <th>10</th>\n",
       "      <td>Locky</td>\n",
       "      <td>4734757ff5d23d8f15372ea8e6980f81de84301a611ab7...</td>\n",
       "      <td>1</td>\n",
       "      <td>182EndVqtHMxGdzM8XCmoX2PTG1aYB2qWJ</td>\n",
       "      <td>0.5</td>\n",
       "      <td>201.88</td>\n",
       "      <td>1455642611</td>\n",
       "    </tr>\n",
       "    <tr>\n",
       "      <th>11</th>\n",
       "      <td>Locky</td>\n",
       "      <td>aab9c8fb539aa377c0c48bcee74576f8d1d9047f002d70...</td>\n",
       "      <td>0</td>\n",
       "      <td>1LDtyZB6Q6Mb6x2xFv2JyLebsjkMjCsPVY</td>\n",
       "      <td>1.0</td>\n",
       "      <td>403.75</td>\n",
       "      <td>1455642687</td>\n",
       "    </tr>\n",
       "    <tr>\n",
       "      <th>12</th>\n",
       "      <td>Locky</td>\n",
       "      <td>b12c78d28f89ad6022ffe9a2497f7785b275265572720d...</td>\n",
       "      <td>1</td>\n",
       "      <td>1KehEQk7H5Xcjsn3PeeMehAN8tTry2bzgY</td>\n",
       "      <td>0.5</td>\n",
       "      <td>201.88</td>\n",
       "      <td>1455643908</td>\n",
       "    </tr>\n",
       "    <tr>\n",
       "      <th>13</th>\n",
       "      <td>Locky</td>\n",
       "      <td>8e4c4ac70504a38f0f0df307c3e8752c08d789d84b9dd1...</td>\n",
       "      <td>0</td>\n",
       "      <td>1DuawTDVxu7TtxHGiC9hgXdLTo4r94X3dF</td>\n",
       "      <td>1.0</td>\n",
       "      <td>403.75</td>\n",
       "      <td>1455644220</td>\n",
       "    </tr>\n",
       "    <tr>\n",
       "      <th>14</th>\n",
       "      <td>Locky</td>\n",
       "      <td>1f22e2798681c5655fb5bf736e44355a934beb5a90aa2f...</td>\n",
       "      <td>0</td>\n",
       "      <td>15MhjhXe8ch8ArGwDFyGS1NFLDnRshbhgt</td>\n",
       "      <td>1.0</td>\n",
       "      <td>403.75</td>\n",
       "      <td>1455644220</td>\n",
       "    </tr>\n",
       "  </tbody>\n",
       "</table>\n",
       "</div>"
      ],
      "text/plain": [
       "   family                                           txn_hash  output_index  \\\n",
       "0   Locky  55e5217e8ed11ac6f9fdd823ea13f5c2527c7c9b752072...             1   \n",
       "1   Locky  a90614f93db39dd452bfd212fff0bbae542076bd2d0ad5...             0   \n",
       "2   Locky  3949cd8f41dcaf24d1d4b3f0fad4b1ad749da3d83b186b...             0   \n",
       "3   Locky  999b37dda5520e3b8f8bcd1caee5a64a2494b8a9d9c404...             1   \n",
       "4   Locky  cc500a54b6d226bdd27246f76d6d43c8c3154564a5fb6b...             0   \n",
       "5   Locky  496c905fc9dc91814ae833faf3ede87441e152e20e4545...             0   \n",
       "6   Locky  c8e7eb8fac1fcf42bc27a10063b3b30165fccb8432d1ac...             0   \n",
       "7   Locky  70bda91488d2c68b843d95530bf3b86d36e2b62a5331f0...            15   \n",
       "8   Locky  9c3ec8ae60aab222ea9c7c792ed2315f3223f50358bb0f...            12   \n",
       "9   Locky  72eba13d305e648800d8c94cf0d88ed34736d491be7e5e...            16   \n",
       "10  Locky  4734757ff5d23d8f15372ea8e6980f81de84301a611ab7...             1   \n",
       "11  Locky  aab9c8fb539aa377c0c48bcee74576f8d1d9047f002d70...             0   \n",
       "12  Locky  b12c78d28f89ad6022ffe9a2497f7785b275265572720d...             1   \n",
       "13  Locky  8e4c4ac70504a38f0f0df307c3e8752c08d789d84b9dd1...             0   \n",
       "14  Locky  1f22e2798681c5655fb5bf736e44355a934beb5a90aa2f...             0   \n",
       "\n",
       "          potential_ransom_wallet_addr  potential_ransom_btc  \\\n",
       "0   1AVcbgn3QJGJkDehF5LhcYhp81UZsZ9dWv                   0.5   \n",
       "1   1BtQCZgjL8ysrstULZQaGJ56nSikPa3mMb                   1.0   \n",
       "2   1FMBqkio8ryWjtDhK1xvTGNHp4YZq4fcm7                   1.0   \n",
       "3   192Zktbc4cNPhKs9rUavgNJjH6Rf7NXBqh                   0.5   \n",
       "4   14buRC3WParn4q8xh5HYnB2MQdVdgKVbU1                   0.5   \n",
       "5   17BQkSoJGnp9kmZPptPDPeaJc4S4NpA8TF                   0.5   \n",
       "6   1KKo2c6YaennfXn4GnoAXV5JLZLiLUix35                   1.0   \n",
       "7   17fKMzBKcirBzcxgULinmppxZM6X66RkuK                   0.5   \n",
       "8    1Y7XLJvS8XFiZPrQLH8f5D9Nb3tdenEgj                   0.5   \n",
       "9   1JpcbXxBUMqoL2JL8PGDw2E4W1LxyTMr3D                   1.0   \n",
       "10  182EndVqtHMxGdzM8XCmoX2PTG1aYB2qWJ                   0.5   \n",
       "11  1LDtyZB6Q6Mb6x2xFv2JyLebsjkMjCsPVY                   1.0   \n",
       "12  1KehEQk7H5Xcjsn3PeeMehAN8tTry2bzgY                   0.5   \n",
       "13  1DuawTDVxu7TtxHGiC9hgXdLTo4r94X3dF                   1.0   \n",
       "14  15MhjhXe8ch8ArGwDFyGS1NFLDnRshbhgt                   1.0   \n",
       "\n",
       "    potential_ransom_usd     unix_ts  \n",
       "0                 189.14  1455179567  \n",
       "1                 403.01  1455550689  \n",
       "2                 403.01  1455572795  \n",
       "3                 201.88  1455617510  \n",
       "4                 201.88  1455619349  \n",
       "5                 201.88  1455632302  \n",
       "6                 403.75  1455633386  \n",
       "7                 201.88  1455636335  \n",
       "8                 201.88  1455641395  \n",
       "9                 403.75  1455641395  \n",
       "10                201.88  1455642611  \n",
       "11                403.75  1455642687  \n",
       "12                201.88  1455643908  \n",
       "13                403.75  1455644220  \n",
       "14                403.75  1455644220  "
      ]
     },
     "execution_count": 37,
     "metadata": {},
     "output_type": "execute_result"
    }
   ],
   "source": [
    "ransomware_csv.head(15)"
   ]
  },
  {
   "cell_type": "code",
   "execution_count": 38,
   "metadata": {},
   "outputs": [
    {
     "name": "stdout",
     "output_type": "stream",
     "text": [
      "Non-standard: 3057\n",
      "No heuristics: All spent: 8, Unspent: 15\n",
      "Reuse: Correct: 1636, Incorrect: 0\n",
      "Cluster: Correct: 852, Incorrect: 0\n"
     ]
    }
   ],
   "source": [
    "ransomware_df = get_ground_truth_df(ransomware_data, reset_index=False, spend_values=False)"
   ]
  },
  {
   "cell_type": "code",
   "execution_count": 39,
   "metadata": {},
   "outputs": [],
   "source": [
    "ransomware_df.to_csv(\"/home/ubuntu/Data/model-validation/{}-ransomware-gt.csv\".format(date_string))"
   ]
  },
  {
   "cell_type": "markdown",
   "metadata": {},
   "source": [
    "### Intermediary interaction"
   ]
  },
  {
   "cell_type": "code",
   "execution_count": 41,
   "metadata": {},
   "outputs": [],
   "source": [
    "import yaml"
   ]
  },
  {
   "cell_type": "code",
   "execution_count": 42,
   "metadata": {},
   "outputs": [],
   "source": [
    "with open('walletexplorer.yaml') as f:\n",
    "    cluster_tags = yaml.safe_load(f)"
   ]
  },
  {
   "cell_type": "code",
   "execution_count": 43,
   "metadata": {},
   "outputs": [],
   "source": [
    "cluster_tags = cluster_tags['tags']"
   ]
  },
  {
   "cell_type": "code",
   "execution_count": 44,
   "metadata": {},
   "outputs": [
    {
     "data": {
      "text/plain": [
       "382"
      ]
     },
     "execution_count": 44,
     "metadata": {},
     "output_type": "execute_result"
    }
   ],
   "source": [
    "len(cluster_tags)"
   ]
  },
  {
   "cell_type": "code",
   "execution_count": 45,
   "metadata": {},
   "outputs": [],
   "source": [
    "more_clusters = {}\n",
    "for entry in cluster_tags:\n",
    "    more_clusters[entry['label']] = entry['address']"
   ]
  },
  {
   "cell_type": "code",
   "execution_count": 46,
   "metadata": {},
   "outputs": [
    {
     "name": "stdout",
     "output_type": "stream",
     "text": [
      "1HwMuq4Ch7HiMtQ7is4ea5d7wSJjxuJAZi 17sLQNY8UAPrGdC7F2iFHbJDYFdctdRKqb\n"
     ]
    }
   ],
   "source": [
    "seen_clusters = {}\n",
    "for cluster_address in more_clusters.values():\n",
    "    idx = my_cm.cluster_with_address(chain.address_from_string(cluster_address)).index\n",
    "    if idx in seen_clusters:\n",
    "        print(seen_clusters[idx], cluster_address)\n",
    "    else:\n",
    "        seen_clusters[idx] = cluster_address"
   ]
  },
  {
   "cell_type": "code",
   "execution_count": 47,
   "metadata": {},
   "outputs": [],
   "source": [
    "del more_clusters['anxpro.com']"
   ]
  },
  {
   "cell_type": "code",
   "execution_count": 48,
   "metadata": {},
   "outputs": [
    {
     "data": {
      "text/plain": [
       "272"
      ]
     },
     "execution_count": 48,
     "metadata": {},
     "output_type": "execute_result"
    }
   ],
   "source": [
    "len(more_clusters)"
   ]
  },
  {
   "cell_type": "code",
   "execution_count": 49,
   "metadata": {},
   "outputs": [],
   "source": [
    "cluster_txes = collections.defaultdict(dict)\n",
    "for cluster_name in more_clusters:\n",
    "    cluster_address = more_clusters[cluster_name]\n",
    "    cluster = my_cm.cluster_with_address(chain.address_from_string(cluster_address))\n",
    "    for other_cluster_name in more_clusters:\n",
    "        if cluster_name == other_cluster_name:\n",
    "            continue\n",
    "        other_cluster = my_cm.cluster_with_address(chain.address_from_string(more_clusters[other_cluster_name])).index\n",
    "        txes = cluster.input_txes_fast().where(lambda tx: blocksci.heuristics.is_standard_tx(tx)).where(lambda tx: tx.outputs.any(lambda o: output_cluster_id(o) == other_cluster)).to_list()\n",
    "        if txes:\n",
    "            cluster_txes[cluster_name][other_cluster] = txes"
   ]
  },
  {
   "cell_type": "code",
   "execution_count": 50,
   "metadata": {},
   "outputs": [
    {
     "name": "stdout",
     "output_type": "stream",
     "text": [
      "luckyb.it 221\n",
      "epay.info 98290865\n"
     ]
    }
   ],
   "source": [
    "tx_counts = []\n",
    "for key in cluster_txes:\n",
    "    for spend_cluster in cluster_txes[key]:\n",
    "        tx_counts.append(len(cluster_txes[key][spend_cluster]))\n",
    "        if len(cluster_txes[key][spend_cluster]) > 100000:\n",
    "            print(key, spend_cluster)"
   ]
  },
  {
   "cell_type": "code",
   "execution_count": 51,
   "metadata": {},
   "outputs": [
    {
     "data": {
      "text/plain": [
       "(231726, 184.12911725955203, 6.0, 2236064)"
      ]
     },
     "execution_count": 51,
     "metadata": {},
     "output_type": "execute_result"
    }
   ],
   "source": [
    "max(tx_counts), np.mean(tx_counts), np.median(tx_counts), sum(tx_counts)"
   ]
  },
  {
   "cell_type": "code",
   "execution_count": 52,
   "metadata": {},
   "outputs": [
    {
     "name": "stderr",
     "output_type": "stream",
     "text": [
      "/home/ubuntu/.local/lib/python3.6/site-packages/seaborn/_decorators.py:43: FutureWarning: Pass the following variable as a keyword arg: x. From version 0.12, the only valid positional argument will be `data`, and passing other arguments without an explicit keyword will result in an error or misinterpretation.\n",
      "  FutureWarning\n"
     ]
    },
    {
     "data": {
      "text/plain": [
       "<AxesSubplot:>"
      ]
     },
     "execution_count": 52,
     "metadata": {},
     "output_type": "execute_result"
    },
    {
     "data": {
      "image/png": "[encoded data removed]",
      "text/plain": [
       "<Figure size 432x288 with 1 Axes>"
      ]
     },
     "metadata": {
      "needs_background": "light"
     },
     "output_type": "display_data"
    }
   ],
   "source": [
    "sns.boxplot(tx_counts)"
   ]
  },
  {
   "cell_type": "code",
   "execution_count": 53,
   "metadata": {},
   "outputs": [
    {
     "data": {
      "text/plain": [
       "160.0"
      ]
     },
     "execution_count": 53,
     "metadata": {},
     "output_type": "execute_result"
    }
   ],
   "source": [
    "np.quantile(tx_counts, .90)"
   ]
  },
  {
   "cell_type": "code",
   "execution_count": 55,
   "metadata": {},
   "outputs": [
    {
     "data": {
      "text/plain": [
       "859630"
      ]
     },
     "execution_count": 55,
     "metadata": {},
     "output_type": "execute_result"
    }
   ],
   "source": [
    "sum([min(x, 1000) for x in tx_counts])"
   ]
  },
  {
   "cell_type": "code",
   "execution_count": null,
   "metadata": {},
   "outputs": [],
   "source": [
    "random.seed(42)\n",
    "cluster_interaction_txes = {}\n",
    "both_change_count = 0\n",
    "for key in cluster_txes:\n",
    "    for spend_cluster in cluster_txes[key]:\n",
    "        \n",
    "        all_cluster_txes = cluster_txes[key][spend_cluster]\n",
    "        \n",
    "        if len(all_cluster_txes) > 1000:\n",
    "            all_cluster_txes = random.sample(all_cluster_txes, 1000)\n",
    "        \n",
    "        for tx in all_cluster_txes:\n",
    "            spend_output_idx = tx.outputs.where(lambda o: output_cluster_id(o) == spend_cluster).index\n",
    "            assert len(spend_output_idx) > 0\n",
    "            if len(spend_output_idx) == 2:\n",
    "                both_change_count += 1\n",
    "                continue\n",
    "            cluster_interaction_txes[str(tx.hash)] = spend_output_idx[0]"
   ]
  },
  {
   "cell_type": "code",
   "execution_count": 57,
   "metadata": {},
   "outputs": [
    {
     "data": {
      "text/plain": [
       "859270"
      ]
     },
     "execution_count": 57,
     "metadata": {},
     "output_type": "execute_result"
    }
   ],
   "source": [
    "len(cluster_interaction_txes)"
   ]
  },
  {
   "cell_type": "code",
   "execution_count": 58,
   "metadata": {},
   "outputs": [
    {
     "name": "stdout",
     "output_type": "stream",
     "text": [
      "Progress: 50000 out of 859270 transactions\n",
      "Progress: 100000 out of 859270 transactions\n",
      "Progress: 150000 out of 859270 transactions\n",
      "Progress: 200000 out of 859270 transactions\n",
      "Progress: 250000 out of 859270 transactions\n",
      "Progress: 300000 out of 859270 transactions\n",
      "Progress: 350000 out of 859270 transactions\n",
      "Progress: 400000 out of 859270 transactions\n",
      "Progress: 450000 out of 859270 transactions\n",
      "Progress: 500000 out of 859270 transactions\n",
      "Progress: 550000 out of 859270 transactions\n",
      "Progress: 600000 out of 859270 transactions\n",
      "Progress: 650000 out of 859270 transactions\n",
      "Progress: 700000 out of 859270 transactions\n",
      "Progress: 750000 out of 859270 transactions\n",
      "Progress: 800000 out of 859270 transactions\n",
      "Progress: 850000 out of 859270 transactions\n",
      "Non-standard: 0\n",
      "No heuristics: All spent: 8745, Unspent: 4593\n",
      "Reuse: Correct: 117421, Incorrect: 0\n",
      "Cluster: Correct: 459737, Incorrect: 0\n"
     ]
    }
   ],
   "source": [
    "cluster_interaction_df = get_ground_truth_df(cluster_interaction_txes, reset_index=False, spend_values=False)"
   ]
  },
  {
   "cell_type": "code",
   "execution_count": 62,
   "metadata": {},
   "outputs": [
    {
     "data": {
      "text/plain": [
       "(537548, 268774)"
      ]
     },
     "execution_count": 62,
     "metadata": {},
     "output_type": "execute_result"
    }
   ],
   "source": [
    "len(cluster_interaction_df), len(cluster_interaction_df) // 2"
   ]
  },
  {
   "cell_type": "code",
   "execution_count": 63,
   "metadata": {},
   "outputs": [],
   "source": [
    "cluster_interaction_df.to_csv(\"/home/ubuntu/Data/model-validation/{}-cluster-interaction-extensive-gt.csv\".format(date_string))"
   ]
  },
  {
   "cell_type": "code",
   "execution_count": 61,
   "metadata": {},
   "outputs": [
    {
     "data": {
      "text/html": [
       "<div>\n",
       "<style scoped>\n",
       "    .dataframe tbody tr th:only-of-type {\n",
       "        vertical-align: middle;\n",
       "    }\n",
       "\n",
       "    .dataframe tbody tr th {\n",
       "        vertical-align: top;\n",
       "    }\n",
       "\n",
       "    .dataframe thead th {\n",
       "        text-align: right;\n",
       "    }\n",
       "</style>\n",
       "<table border=\"1\" class=\"dataframe\">\n",
       "  <thead>\n",
       "    <tr style=\"text-align: right;\">\n",
       "      <th></th>\n",
       "      <th>true_change</th>\n",
       "      <th>optimal_change</th>\n",
       "      <th>optimal_change_with_fee</th>\n",
       "      <th>address_type</th>\n",
       "      <th>power_of_ten_2</th>\n",
       "      <th>power_of_ten_3</th>\n",
       "      <th>power_of_ten_4</th>\n",
       "      <th>power_of_ten_5</th>\n",
       "      <th>power_of_ten_6</th>\n",
       "      <th>power_of_ten_7</th>\n",
       "      <th>...</th>\n",
       "      <th>co_other_fresh</th>\n",
       "      <th>ct_fee</th>\n",
       "      <th>ct_fee_per_byte</th>\n",
       "      <th>ct_tx_value</th>\n",
       "      <th>ct_segwit_tx</th>\n",
       "      <th>ct_has_locktime</th>\n",
       "      <th>ct_version</th>\n",
       "      <th>ct_block_height</th>\n",
       "      <th>ct_input_count</th>\n",
       "      <th>all_outputs_spent</th>\n",
       "    </tr>\n",
       "  </thead>\n",
       "  <tbody>\n",
       "    <tr>\n",
       "      <th>3942bfd527bde40e3b340fe2e076772780f6a63a84da87ace0e82c6cd8dcffbe-0</th>\n",
       "      <td>1</td>\n",
       "      <td>-1</td>\n",
       "      <td>-1</td>\n",
       "      <td>-1</td>\n",
       "      <td>-1</td>\n",
       "      <td>-1</td>\n",
       "      <td>-1</td>\n",
       "      <td>1</td>\n",
       "      <td>1</td>\n",
       "      <td>-1</td>\n",
       "      <td>...</td>\n",
       "      <td>False</td>\n",
       "      <td>50000</td>\n",
       "      <td>221</td>\n",
       "      <td>26950000</td>\n",
       "      <td>0</td>\n",
       "      <td>False</td>\n",
       "      <td>1</td>\n",
       "      <td>239939</td>\n",
       "      <td>1</td>\n",
       "      <td>True</td>\n",
       "    </tr>\n",
       "    <tr>\n",
       "      <th>3942bfd527bde40e3b340fe2e076772780f6a63a84da87ace0e82c6cd8dcffbe-1</th>\n",
       "      <td>0</td>\n",
       "      <td>-1</td>\n",
       "      <td>-1</td>\n",
       "      <td>-1</td>\n",
       "      <td>-1</td>\n",
       "      <td>-1</td>\n",
       "      <td>-1</td>\n",
       "      <td>0</td>\n",
       "      <td>0</td>\n",
       "      <td>-1</td>\n",
       "      <td>...</td>\n",
       "      <td>True</td>\n",
       "      <td>50000</td>\n",
       "      <td>221</td>\n",
       "      <td>26950000</td>\n",
       "      <td>0</td>\n",
       "      <td>False</td>\n",
       "      <td>1</td>\n",
       "      <td>239939</td>\n",
       "      <td>1</td>\n",
       "      <td>True</td>\n",
       "    </tr>\n",
       "    <tr>\n",
       "      <th>4d0ebb3ec54024f25b65baf79d788b7222902dd7b343ce9d409eab2cbfdcd3e9-0</th>\n",
       "      <td>1</td>\n",
       "      <td>-1</td>\n",
       "      <td>-1</td>\n",
       "      <td>-1</td>\n",
       "      <td>-1</td>\n",
       "      <td>-1</td>\n",
       "      <td>-1</td>\n",
       "      <td>-1</td>\n",
       "      <td>-1</td>\n",
       "      <td>0</td>\n",
       "      <td>...</td>\n",
       "      <td>False</td>\n",
       "      <td>50000</td>\n",
       "      <td>74</td>\n",
       "      <td>6871000000</td>\n",
       "      <td>0</td>\n",
       "      <td>False</td>\n",
       "      <td>1</td>\n",
       "      <td>321697</td>\n",
       "      <td>4</td>\n",
       "      <td>True</td>\n",
       "    </tr>\n",
       "    <tr>\n",
       "      <th>4d0ebb3ec54024f25b65baf79d788b7222902dd7b343ce9d409eab2cbfdcd3e9-1</th>\n",
       "      <td>0</td>\n",
       "      <td>-1</td>\n",
       "      <td>-1</td>\n",
       "      <td>-1</td>\n",
       "      <td>-1</td>\n",
       "      <td>-1</td>\n",
       "      <td>-1</td>\n",
       "      <td>-1</td>\n",
       "      <td>-1</td>\n",
       "      <td>1</td>\n",
       "      <td>...</td>\n",
       "      <td>True</td>\n",
       "      <td>50000</td>\n",
       "      <td>74</td>\n",
       "      <td>6871000000</td>\n",
       "      <td>0</td>\n",
       "      <td>False</td>\n",
       "      <td>1</td>\n",
       "      <td>321697</td>\n",
       "      <td>4</td>\n",
       "      <td>True</td>\n",
       "    </tr>\n",
       "    <tr>\n",
       "      <th>8534a43295b277c08c50b9d0c62bc18524c3fbc71cb4395b1cb13dd37342903c-0</th>\n",
       "      <td>1</td>\n",
       "      <td>-1</td>\n",
       "      <td>-1</td>\n",
       "      <td>-1</td>\n",
       "      <td>-1</td>\n",
       "      <td>-1</td>\n",
       "      <td>-1</td>\n",
       "      <td>-1</td>\n",
       "      <td>-1</td>\n",
       "      <td>-1</td>\n",
       "      <td>...</td>\n",
       "      <td>True</td>\n",
       "      <td>50000</td>\n",
       "      <td>220</td>\n",
       "      <td>10658190000</td>\n",
       "      <td>0</td>\n",
       "      <td>False</td>\n",
       "      <td>1</td>\n",
       "      <td>325556</td>\n",
       "      <td>1</td>\n",
       "      <td>True</td>\n",
       "    </tr>\n",
       "  </tbody>\n",
       "</table>\n",
       "<p>5 rows × 42 columns</p>\n",
       "</div>"
      ],
      "text/plain": [
       "                                                    true_change  \\\n",
       "3942bfd527bde40e3b340fe2e076772780f6a63a84da87a...            1   \n",
       "3942bfd527bde40e3b340fe2e076772780f6a63a84da87a...            0   \n",
       "4d0ebb3ec54024f25b65baf79d788b7222902dd7b343ce9...            1   \n",
       "4d0ebb3ec54024f25b65baf79d788b7222902dd7b343ce9...            0   \n",
       "8534a43295b277c08c50b9d0c62bc18524c3fbc71cb4395...            1   \n",
       "\n",
       "                                                    optimal_change  \\\n",
       "3942bfd527bde40e3b340fe2e076772780f6a63a84da87a...              -1   \n",
       "3942bfd527bde40e3b340fe2e076772780f6a63a84da87a...              -1   \n",
       "4d0ebb3ec54024f25b65baf79d788b7222902dd7b343ce9...              -1   \n",
       "4d0ebb3ec54024f25b65baf79d788b7222902dd7b343ce9...              -1   \n",
       "8534a43295b277c08c50b9d0c62bc18524c3fbc71cb4395...              -1   \n",
       "\n",
       "                                                    optimal_change_with_fee  \\\n",
       "3942bfd527bde40e3b340fe2e076772780f6a63a84da87a...                       -1   \n",
       "3942bfd527bde40e3b340fe2e076772780f6a63a84da87a...                       -1   \n",
       "4d0ebb3ec54024f25b65baf79d788b7222902dd7b343ce9...                       -1   \n",
       "4d0ebb3ec54024f25b65baf79d788b7222902dd7b343ce9...                       -1   \n",
       "8534a43295b277c08c50b9d0c62bc18524c3fbc71cb4395...                       -1   \n",
       "\n",
       "                                                    address_type  \\\n",
       "3942bfd527bde40e3b340fe2e076772780f6a63a84da87a...            -1   \n",
       "3942bfd527bde40e3b340fe2e076772780f6a63a84da87a...            -1   \n",
       "4d0ebb3ec54024f25b65baf79d788b7222902dd7b343ce9...            -1   \n",
       "4d0ebb3ec54024f25b65baf79d788b7222902dd7b343ce9...            -1   \n",
       "8534a43295b277c08c50b9d0c62bc18524c3fbc71cb4395...            -1   \n",
       "\n",
       "                                                    power_of_ten_2  \\\n",
       "3942bfd527bde40e3b340fe2e076772780f6a63a84da87a...              -1   \n",
       "3942bfd527bde40e3b340fe2e076772780f6a63a84da87a...              -1   \n",
       "4d0ebb3ec54024f25b65baf79d788b7222902dd7b343ce9...              -1   \n",
       "4d0ebb3ec54024f25b65baf79d788b7222902dd7b343ce9...              -1   \n",
       "8534a43295b277c08c50b9d0c62bc18524c3fbc71cb4395...              -1   \n",
       "\n",
       "                                                    power_of_ten_3  \\\n",
       "3942bfd527bde40e3b340fe2e076772780f6a63a84da87a...              -1   \n",
       "3942bfd527bde40e3b340fe2e076772780f6a63a84da87a...              -1   \n",
       "4d0ebb3ec54024f25b65baf79d788b7222902dd7b343ce9...              -1   \n",
       "4d0ebb3ec54024f25b65baf79d788b7222902dd7b343ce9...              -1   \n",
       "8534a43295b277c08c50b9d0c62bc18524c3fbc71cb4395...              -1   \n",
       "\n",
       "                                                    power_of_ten_4  \\\n",
       "3942bfd527bde40e3b340fe2e076772780f6a63a84da87a...              -1   \n",
       "3942bfd527bde40e3b340fe2e076772780f6a63a84da87a...              -1   \n",
       "4d0ebb3ec54024f25b65baf79d788b7222902dd7b343ce9...              -1   \n",
       "4d0ebb3ec54024f25b65baf79d788b7222902dd7b343ce9...              -1   \n",
       "8534a43295b277c08c50b9d0c62bc18524c3fbc71cb4395...              -1   \n",
       "\n",
       "                                                    power_of_ten_5  \\\n",
       "3942bfd527bde40e3b340fe2e076772780f6a63a84da87a...               1   \n",
       "3942bfd527bde40e3b340fe2e076772780f6a63a84da87a...               0   \n",
       "4d0ebb3ec54024f25b65baf79d788b7222902dd7b343ce9...              -1   \n",
       "4d0ebb3ec54024f25b65baf79d788b7222902dd7b343ce9...              -1   \n",
       "8534a43295b277c08c50b9d0c62bc18524c3fbc71cb4395...              -1   \n",
       "\n",
       "                                                    power_of_ten_6  \\\n",
       "3942bfd527bde40e3b340fe2e076772780f6a63a84da87a...               1   \n",
       "3942bfd527bde40e3b340fe2e076772780f6a63a84da87a...               0   \n",
       "4d0ebb3ec54024f25b65baf79d788b7222902dd7b343ce9...              -1   \n",
       "4d0ebb3ec54024f25b65baf79d788b7222902dd7b343ce9...              -1   \n",
       "8534a43295b277c08c50b9d0c62bc18524c3fbc71cb4395...              -1   \n",
       "\n",
       "                                                    power_of_ten_7  ...  \\\n",
       "3942bfd527bde40e3b340fe2e076772780f6a63a84da87a...              -1  ...   \n",
       "3942bfd527bde40e3b340fe2e076772780f6a63a84da87a...              -1  ...   \n",
       "4d0ebb3ec54024f25b65baf79d788b7222902dd7b343ce9...               0  ...   \n",
       "4d0ebb3ec54024f25b65baf79d788b7222902dd7b343ce9...               1  ...   \n",
       "8534a43295b277c08c50b9d0c62bc18524c3fbc71cb4395...              -1  ...   \n",
       "\n",
       "                                                    co_other_fresh  ct_fee  \\\n",
       "3942bfd527bde40e3b340fe2e076772780f6a63a84da87a...           False   50000   \n",
       "3942bfd527bde40e3b340fe2e076772780f6a63a84da87a...            True   50000   \n",
       "4d0ebb3ec54024f25b65baf79d788b7222902dd7b343ce9...           False   50000   \n",
       "4d0ebb3ec54024f25b65baf79d788b7222902dd7b343ce9...            True   50000   \n",
       "8534a43295b277c08c50b9d0c62bc18524c3fbc71cb4395...            True   50000   \n",
       "\n",
       "                                                    ct_fee_per_byte  \\\n",
       "3942bfd527bde40e3b340fe2e076772780f6a63a84da87a...              221   \n",
       "3942bfd527bde40e3b340fe2e076772780f6a63a84da87a...              221   \n",
       "4d0ebb3ec54024f25b65baf79d788b7222902dd7b343ce9...               74   \n",
       "4d0ebb3ec54024f25b65baf79d788b7222902dd7b343ce9...               74   \n",
       "8534a43295b277c08c50b9d0c62bc18524c3fbc71cb4395...              220   \n",
       "\n",
       "                                                    ct_tx_value  ct_segwit_tx  \\\n",
       "3942bfd527bde40e3b340fe2e076772780f6a63a84da87a...     26950000             0   \n",
       "3942bfd527bde40e3b340fe2e076772780f6a63a84da87a...     26950000             0   \n",
       "4d0ebb3ec54024f25b65baf79d788b7222902dd7b343ce9...   6871000000             0   \n",
       "4d0ebb3ec54024f25b65baf79d788b7222902dd7b343ce9...   6871000000             0   \n",
       "8534a43295b277c08c50b9d0c62bc18524c3fbc71cb4395...  10658190000             0   \n",
       "\n",
       "                                                    ct_has_locktime  \\\n",
       "3942bfd527bde40e3b340fe2e076772780f6a63a84da87a...            False   \n",
       "3942bfd527bde40e3b340fe2e076772780f6a63a84da87a...            False   \n",
       "4d0ebb3ec54024f25b65baf79d788b7222902dd7b343ce9...            False   \n",
       "4d0ebb3ec54024f25b65baf79d788b7222902dd7b343ce9...            False   \n",
       "8534a43295b277c08c50b9d0c62bc18524c3fbc71cb4395...            False   \n",
       "\n",
       "                                                    ct_version  \\\n",
       "3942bfd527bde40e3b340fe2e076772780f6a63a84da87a...           1   \n",
       "3942bfd527bde40e3b340fe2e076772780f6a63a84da87a...           1   \n",
       "4d0ebb3ec54024f25b65baf79d788b7222902dd7b343ce9...           1   \n",
       "4d0ebb3ec54024f25b65baf79d788b7222902dd7b343ce9...           1   \n",
       "8534a43295b277c08c50b9d0c62bc18524c3fbc71cb4395...           1   \n",
       "\n",
       "                                                    ct_block_height  \\\n",
       "3942bfd527bde40e3b340fe2e076772780f6a63a84da87a...           239939   \n",
       "3942bfd527bde40e3b340fe2e076772780f6a63a84da87a...           239939   \n",
       "4d0ebb3ec54024f25b65baf79d788b7222902dd7b343ce9...           321697   \n",
       "4d0ebb3ec54024f25b65baf79d788b7222902dd7b343ce9...           321697   \n",
       "8534a43295b277c08c50b9d0c62bc18524c3fbc71cb4395...           325556   \n",
       "\n",
       "                                                    ct_input_count  \\\n",
       "3942bfd527bde40e3b340fe2e076772780f6a63a84da87a...               1   \n",
       "3942bfd527bde40e3b340fe2e076772780f6a63a84da87a...               1   \n",
       "4d0ebb3ec54024f25b65baf79d788b7222902dd7b343ce9...               4   \n",
       "4d0ebb3ec54024f25b65baf79d788b7222902dd7b343ce9...               4   \n",
       "8534a43295b277c08c50b9d0c62bc18524c3fbc71cb4395...               1   \n",
       "\n",
       "                                                    all_outputs_spent  \n",
       "3942bfd527bde40e3b340fe2e076772780f6a63a84da87a...               True  \n",
       "3942bfd527bde40e3b340fe2e076772780f6a63a84da87a...               True  \n",
       "4d0ebb3ec54024f25b65baf79d788b7222902dd7b343ce9...               True  \n",
       "4d0ebb3ec54024f25b65baf79d788b7222902dd7b343ce9...               True  \n",
       "8534a43295b277c08c50b9d0c62bc18524c3fbc71cb4395...               True  \n",
       "\n",
       "[5 rows x 42 columns]"
      ]
     },
     "execution_count": 61,
     "metadata": {},
     "output_type": "execute_result"
    }
   ],
   "source": [
    "cluster_interaction_df.head()"
   ]
  },
  {
   "cell_type": "code",
   "execution_count": null,
   "metadata": {},
   "outputs": [],
   "source": [
    "cluster_interaction_extended_txes = [txhash[:-2] for txhash, _ in utils.grouper(cluster_interaction_df.index, 2)]"
   ]
  },
  {
   "cell_type": "code",
   "execution_count": null,
   "metadata": {},
   "outputs": [],
   "source": [
    "cluster_interaction_extended_txes_timestamps = [chain.tx_with_hash(txhash).block.time for txhash in cluster_interaction_extended_txes]"
   ]
  },
  {
   "cell_type": "code",
   "execution_count": null,
   "metadata": {},
   "outputs": [],
   "source": [
    "pd.Series(cluster_interaction_extended_txes_timestamps).hist()"
   ]
  },
  {
   "cell_type": "code",
   "execution_count": null,
   "metadata": {},
   "outputs": [],
   "source": [
    "combinations = 0\n",
    "sizes = []\n",
    "for key in cluster_txes:\n",
    "    combinations += len(cluster_txes[key])\n",
    "    for key2 in cluster_txes[key]:\n",
    "        sizes.append(len(cluster_txes[key][key2]))\n",
    "    "
   ]
  },
  {
   "cell_type": "code",
   "execution_count": null,
   "metadata": {},
   "outputs": [],
   "source": [
    "combinations / (272**2)"
   ]
  }
 ],
 "metadata": {
  "kernelspec": {
   "display_name": "Python 3",
   "language": "python",
   "name": "python3"
  },
  "language_info": {
   "codemirror_mode": {
    "name": "ipython",
    "version": 3
   },
   "file_extension": ".py",
   "mimetype": "text/x-python",
   "name": "python",
   "nbconvert_exporter": "python",
   "pygments_lexer": "ipython3",
   "version": "3.8.8"
  }
 },
 "nbformat": 4,
 "nbformat_minor": 4
}
