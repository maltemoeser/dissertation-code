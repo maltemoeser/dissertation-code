{
 "cells": [
  {
   "cell_type": "code",
   "execution_count": 1,
   "metadata": {},
   "outputs": [],
   "source": [
    "import blocksci"
   ]
  },
  {
   "cell_type": "code",
   "execution_count": 2,
   "metadata": {},
   "outputs": [],
   "source": [
    "import pandas as pd\n",
    "import matplotlib.pyplot as plt\n",
    "import numpy as np\n",
    "import seaborn as sns"
   ]
  },
  {
   "cell_type": "code",
   "execution_count": 3,
   "metadata": {},
   "outputs": [],
   "source": [
    "import collections\n",
    "import random"
   ]
  },
  {
   "cell_type": "code",
   "execution_count": 4,
   "metadata": {},
   "outputs": [],
   "source": [
    "import utils"
   ]
  },
  {
   "cell_type": "code",
   "execution_count": 5,
   "metadata": {},
   "outputs": [],
   "source": [
    "import analysis"
   ]
  },
  {
   "cell_type": "code",
   "execution_count": 6,
   "metadata": {},
   "outputs": [],
   "source": [
    "chain = blocksci.Blockchain(utils.blocksci_config())"
   ]
  },
  {
   "cell_type": "code",
   "execution_count": 7,
   "metadata": {},
   "outputs": [],
   "source": [
    "my_cm = blocksci.cluster.ClusterManager(utils.latest_clustering(), chain)"
   ]
  },
  {
   "cell_type": "code",
   "execution_count": 8,
   "metadata": {},
   "outputs": [],
   "source": [
    "fp = blocksci.Fingerprinter(utils.latest_fingerprints(), chain)"
   ]
  },
  {
   "cell_type": "markdown",
   "metadata": {},
   "source": [
    "### Load stored transactions"
   ]
  },
  {
   "cell_type": "code",
   "execution_count": 9,
   "metadata": {},
   "outputs": [],
   "source": [
    "stored_txes = blocksci.GroundTruth(utils.remaining_txes(), chain)"
   ]
  },
  {
   "cell_type": "markdown",
   "metadata": {},
   "source": [
    "### Export fingerprint heuristics"
   ]
  },
  {
   "cell_type": "code",
   "execution_count": 10,
   "metadata": {},
   "outputs": [],
   "source": [
    "fingerprint_heuristics = {\n",
    "    \"fp_inout_count\": blocksci.heuristics.change.smart_fingerprint(fp, utils.get_fp_mask([utils.Fingerprint.INPUT_COUNT, utils.Fingerprint.OUTPUT_COUNT])),\n",
    "    \"fp_output_count\": blocksci.heuristics.change.smart_fingerprint(fp, utils.get_fp_mask(utils.Fingerprint.OUTPUT_COUNT)),\n",
    "    \"fp_version\": blocksci.heuristics.change.smart_fingerprint(fp, utils.get_fp_mask(utils.Fingerprint.VERSION_2)),\n",
    "    \"fp_locktime\": blocksci.heuristics.change.smart_fingerprint(fp, utils.get_fp_mask([utils.Fingerprint.LOCKTIME_HEIGHT, utils.Fingerprint.LOCKTIME_TIME])),\n",
    "    \"fp_rbf\": blocksci.heuristics.change.smart_fingerprint(fp, utils.get_fp_mask(utils.Fingerprint.RBF)),\n",
    "    \"fp_segwit\": blocksci.heuristics.change.smart_fingerprint(fp, utils.get_fp_mask(utils.Fingerprint.SEGWIT)),\n",
    "    \"fp_possible_segwit\": blocksci.heuristics.change.smart_fingerprint(fp, utils.get_fp_mask(utils.Fingerprint.SEGWIT_COMPATIBLE)),\n",
    "    \"fp_ordered_inouts\": blocksci.heuristics.change.smart_fingerprint(fp, utils.get_fp_mask(utils.Fingerprint.SORTED_INOUTS)),\n",
    "    \"fp_zeroconf\": blocksci.heuristics.change.smart_fingerprint(fp, utils.get_fp_mask(utils.Fingerprint.ZEROCONF)),\n",
    "    \"fp_multisig\": blocksci.heuristics.change.smart_fingerprint(fp, utils.get_fp_mask(utils.Fingerprint.MULTISIG)),\n",
    "    \"fp_p2pkh\": blocksci.heuristics.change.smart_fingerprint(fp, utils.get_fp_mask(utils.Fingerprint.P2PKH)),\n",
    "    \"fp_p2sh\": blocksci.heuristics.change.smart_fingerprint(fp, utils.get_fp_mask(utils.Fingerprint.P2SH)),\n",
    "    \"fp_p2wpkh\": blocksci.heuristics.change.smart_fingerprint(fp, utils.get_fp_mask(utils.Fingerprint.P2WPKH)),\n",
    "    \"fp_p2wsh\": blocksci.heuristics.change.smart_fingerprint(fp, utils.get_fp_mask(utils.Fingerprint.P2WSH)),\n",
    "    \"fp_address_type\": blocksci.heuristics.change.smart_fingerprint(fp, utils.get_fp_mask([utils.Fingerprint.MULTISIG, utils.Fingerprint.P2PKH, utils.Fingerprint.P2SH, utils.Fingerprint.P2WPKH, utils.Fingerprint.P2WSH, utils.Fingerprint.ADDRESS_OTHER])),\n",
    "    \"fp_absolute_fee\": blocksci.heuristics.change.fixed_fee,\n",
    "    \"fp_relative_fee\": blocksci.heuristics.change.fixed_fee_per_byte,\n",
    "}"
   ]
  },
  {
   "cell_type": "code",
   "execution_count": 11,
   "metadata": {},
   "outputs": [],
   "source": [
    "all_outputs_spent = stored_txes.transactions().map(lambda tx: tx.outputs.all(lambda o: o.is_spent))"
   ]
  },
  {
   "cell_type": "code",
   "execution_count": 12,
   "metadata": {},
   "outputs": [],
   "source": [
    "df_fingerprint_heuristics = pd.DataFrame()"
   ]
  },
  {
   "cell_type": "code",
   "execution_count": null,
   "metadata": {},
   "outputs": [
    {
     "name": "stdout",
     "output_type": "stream",
     "text": [
      "fp_inout_count\n",
      "Index                   128\n",
      "fp_inout_count    619306212\n",
      "dtype: int64\n",
      "\n",
      "fp_output_count\n",
      "Index                    128\n",
      "fp_inout_count     619306212\n",
      "fp_output_count    619306212\n",
      "dtype: int64\n",
      "\n",
      "fp_version\n",
      "Index                    128\n",
      "fp_inout_count     619306212\n",
      "fp_output_count    619306212\n",
      "fp_version         619306212\n",
      "dtype: int64\n",
      "\n",
      "fp_locktime\n",
      "Index                    128\n",
      "fp_inout_count     619306212\n",
      "fp_output_count    619306212\n",
      "fp_version         619306212\n",
      "fp_locktime        619306212\n",
      "dtype: int64\n",
      "\n",
      "fp_rbf\n",
      "Index                    128\n",
      "fp_inout_count     619306212\n",
      "fp_output_count    619306212\n",
      "fp_version         619306212\n",
      "fp_locktime        619306212\n",
      "fp_rbf             619306212\n",
      "dtype: int64\n",
      "\n",
      "fp_segwit\n",
      "Index                    128\n",
      "fp_inout_count     619306212\n",
      "fp_output_count    619306212\n",
      "fp_version         619306212\n",
      "fp_locktime        619306212\n",
      "fp_rbf             619306212\n",
      "fp_segwit          619306212\n",
      "dtype: int64\n",
      "\n",
      "fp_possible_segwit\n"
     ]
    }
   ],
   "source": [
    "for key, heuristic in fingerprint_heuristics.items():\n",
    "    print(key)\n",
    "    result = stored_txes.transactions().map(lambda tx: heuristic.unique_index(tx))\n",
    "    full_result = []\n",
    "    assert len(result) == len(all_outputs_spent)\n",
    "    for v, all_spent in zip(result, all_outputs_spent):\n",
    "        if all_spent:\n",
    "            full_result.append(int(v == 0) if v != -1 else -1)\n",
    "            full_result.append(int(v == 1) if v != -1 else -1)\n",
    "        else:\n",
    "            full_result.append(-1)\n",
    "            full_result.append(-1)\n",
    "    del result\n",
    "    df_fingerprint_heuristics[key] = full_result\n",
    "    del full_result\n",
    "    df_fingerprint_heuristics[key] = df_fingerprint_heuristics[key].astype(\"category\")\n",
    "    print(df_fingerprint_heuristics.memory_usage())\n",
    "    print()"
   ]
  },
  {
   "cell_type": "code",
   "execution_count": 16,
   "metadata": {},
   "outputs": [
    {
     "name": "stdout",
     "output_type": "stream",
     "text": [
      "10.528205732\n"
     ]
    }
   ],
   "source": [
    "print(df_fingerprint_heuristics.memory_usage().sum() / 1000 / 1000 / 1000) "
   ]
  },
  {
   "cell_type": "code",
   "execution_count": 18,
   "metadata": {},
   "outputs": [],
   "source": [
    "df_fingerprint_heuristics.to_csv(\"/home/ubuntu/Data/export/20210720-fingerprint-heuristics.csv\")"
   ]
  },
  {
   "cell_type": "code",
   "execution_count": null,
   "metadata": {},
   "outputs": [],
   "source": []
  }
 ],
 "metadata": {
  "kernelspec": {
   "display_name": "Python 3",
   "language": "python",
   "name": "python3"
  },
  "language_info": {
   "codemirror_mode": {
    "name": "ipython",
    "version": 3
   },
   "file_extension": ".py",
   "mimetype": "text/x-python",
   "name": "python",
   "nbconvert_exporter": "python",
   "pygments_lexer": "ipython3",
   "version": "3.8.8"
  }
 },
 "nbformat": 4,
 "nbformat_minor": 4
}
