{
 "cells": [
  {
   "cell_type": "code",
   "execution_count": 1,
   "metadata": {},
   "outputs": [],
   "source": [
    "import pandas as pd\n",
    "import numpy as np"
   ]
  },
  {
   "cell_type": "code",
   "execution_count": 2,
   "metadata": {},
   "outputs": [],
   "source": [
    "import collections\n",
    "import random"
   ]
  },
  {
   "cell_type": "code",
   "execution_count": 3,
   "metadata": {},
   "outputs": [],
   "source": [
    "import gc"
   ]
  },
  {
   "cell_type": "code",
   "execution_count": 4,
   "metadata": {},
   "outputs": [],
   "source": [
    "import utils"
   ]
  },
  {
   "cell_type": "code",
   "execution_count": 5,
   "metadata": {},
   "outputs": [],
   "source": [
    "date_string = \"20210720\""
   ]
  },
  {
   "cell_type": "markdown",
   "metadata": {},
   "source": [
    "### Import predictions"
   ]
  },
  {
   "cell_type": "code",
   "execution_count": 8,
   "metadata": {},
   "outputs": [
    {
     "name": "stderr",
     "output_type": "stream",
     "text": [
      "/n/fs/grad/mmoeser/change/venv/lib64/python3.7/site-packages/numpy/lib/arraysetops.py:580: FutureWarning: elementwise comparison failed; returning scalar instead, but in the future will perform elementwise comparison\n",
      "  mask |= (ar1 == a)\n"
     ]
    }
   ],
   "source": [
    "df_predictions = pd.read_csv(utils.get_base_path(\"heuristics/{}_smart_prediction.csv\".format(date_string)), index_col=0)"
   ]
  },
  {
   "cell_type": "code",
   "execution_count": 9,
   "metadata": {},
   "outputs": [
    {
     "data": {
      "text/plain": [
       "Index(['true_change', 'optimal_change', 'optimal_change_with_fee',\n",
       "       'address_type', 'power_of_ten_2', 'power_of_ten_3', 'power_of_ten_4',\n",
       "       'power_of_ten_5', 'power_of_ten_6', 'power_of_ten_7', 'pow10',\n",
       "       'fp_inout_count', 'fp_output_count', 'fp_zeroconf', 'fp_multisig',\n",
       "       'fp_p2pkh', 'fp_absolute_fee', 'fp_relative_fee', 'two_hops',\n",
       "       'fp_version', 'fp_locktime', 'fp_rbf', 'fp_segwit',\n",
       "       'fp_possible_segwit', 'fp_ordered_inouts', 'fp_address_type', 'fp_p2sh',\n",
       "       'fp_p2wsh', 'fp_p2wpkh'],\n",
       "      dtype='object')"
      ]
     },
     "execution_count": 9,
     "metadata": {},
     "output_type": "execute_result"
    }
   ],
   "source": [
    "df_predictions.columns"
   ]
  },
  {
   "cell_type": "code",
   "execution_count": 10,
   "metadata": {},
   "outputs": [],
   "source": [
    "# drop pow10, because we can use the individual pow10 heuristics with random forest\n",
    "# drop two_hops, because it may be biased towards our ground truth set (due to higher rate of clustering)\n",
    "df_predictions.drop(columns=[\"pow10\", \"two_hops\"], inplace=True)"
   ]
  },
  {
   "cell_type": "markdown",
   "metadata": {},
   "source": [
    "### Create a boolean mask for outputs where the transaction has at least one vote"
   ]
  },
  {
   "cell_type": "code",
   "execution_count": 11,
   "metadata": {},
   "outputs": [],
   "source": [
    "has_prediction_full = (df_predictions.drop(columns=[\"true_change\"]) != -1).any(1)"
   ]
  },
  {
   "cell_type": "code",
   "execution_count": 12,
   "metadata": {},
   "outputs": [],
   "source": [
    "has_prediction_full_outputs = np.array([x for x in has_prediction_full for _ in (0,1)])"
   ]
  },
  {
   "cell_type": "code",
   "execution_count": 13,
   "metadata": {},
   "outputs": [],
   "source": [
    "del has_prediction_full"
   ]
  },
  {
   "cell_type": "code",
   "execution_count": 14,
   "metadata": {},
   "outputs": [],
   "source": [
    "FP_COLUMNS = [x for x in df_predictions.columns if x[:3] == \"fp_\"]"
   ]
  },
  {
   "cell_type": "code",
   "execution_count": 15,
   "metadata": {},
   "outputs": [
    {
     "data": {
      "text/plain": [
       "['fp_inout_count',\n",
       " 'fp_output_count',\n",
       " 'fp_zeroconf',\n",
       " 'fp_multisig',\n",
       " 'fp_p2pkh',\n",
       " 'fp_absolute_fee',\n",
       " 'fp_relative_fee',\n",
       " 'fp_version',\n",
       " 'fp_locktime',\n",
       " 'fp_rbf',\n",
       " 'fp_segwit',\n",
       " 'fp_possible_segwit',\n",
       " 'fp_ordered_inouts',\n",
       " 'fp_address_type',\n",
       " 'fp_p2sh',\n",
       " 'fp_p2wsh',\n",
       " 'fp_p2wpkh']"
      ]
     },
     "execution_count": 15,
     "metadata": {},
     "output_type": "execute_result"
    }
   ],
   "source": [
    "FP_COLUMNS"
   ]
  },
  {
   "cell_type": "code",
   "execution_count": 16,
   "metadata": {},
   "outputs": [],
   "source": [
    "has_prediction_nofp = (df_predictions.drop(columns=([\"true_change\"] + FP_COLUMNS)) != -1).any(1)"
   ]
  },
  {
   "cell_type": "code",
   "execution_count": 17,
   "metadata": {},
   "outputs": [],
   "source": [
    "has_prediction_nofp_outputs = np.array([x for x in has_prediction_nofp for _ in (0,1)])"
   ]
  },
  {
   "cell_type": "code",
   "execution_count": 15,
   "metadata": {},
   "outputs": [],
   "source": [
    "del has_prediction_nofp"
   ]
  },
  {
   "cell_type": "code",
   "execution_count": 18,
   "metadata": {},
   "outputs": [],
   "source": [
    "np.save(utils.get_base_path(\"evaluation/{0}_mask.npy\".format(date_string)), has_prediction_full_outputs)"
   ]
  },
  {
   "cell_type": "code",
   "execution_count": 19,
   "metadata": {},
   "outputs": [],
   "source": [
    "np.save(utils.get_base_path(\"evaluation/{0}_mask_nofp.npy\".format(date_string)), has_prediction_nofp_outputs)"
   ]
  },
  {
   "cell_type": "code",
   "execution_count": 20,
   "metadata": {},
   "outputs": [],
   "source": [
    "del has_prediction_full_outputs, has_prediction_nofp_outputs"
   ]
  },
  {
   "cell_type": "markdown",
   "metadata": {},
   "source": [
    "### Convert tx-based predictions into output-based predictions\n",
    "\n",
    "Input: index of output that heuristic votes for, or -1 otherwise.\n",
    "\n",
    "Output: True/False (as 1/0) if the respective output is the change, or -1 otherwise"
   ]
  },
  {
   "cell_type": "code",
   "execution_count": 21,
   "metadata": {},
   "outputs": [],
   "source": [
    "for row in df_predictions.itertuples():\n",
    "    assert list(row._fields)[1:] == list(df_predictions.columns)\n",
    "    break"
   ]
  },
  {
   "cell_type": "code",
   "execution_count": 22,
   "metadata": {},
   "outputs": [],
   "source": [
    "values, indexes = [], []\n",
    "\n",
    "for row in df_predictions.itertuples():\n",
    "    indexes.append(row[0]*10)\n",
    "    indexes.append(row[0]*10+1)\n",
    "    values.append([int(x == 0) if x != -1 else -1 for x in row[1:]])\n",
    "    values.append([int(x == 1) if x != -1 else -1 for x in row[1:]])"
   ]
  },
  {
   "cell_type": "code",
   "execution_count": 23,
   "metadata": {},
   "outputs": [],
   "source": [
    "df_predictions_outs = pd.DataFrame(values, index=indexes)"
   ]
  },
  {
   "cell_type": "code",
   "execution_count": 24,
   "metadata": {},
   "outputs": [],
   "source": [
    "df_predictions_outs.columns = df_predictions.columns"
   ]
  },
  {
   "cell_type": "code",
   "execution_count": 25,
   "metadata": {},
   "outputs": [
    {
     "data": {
      "text/html": [
       "<div>\n",
       "<style scoped>\n",
       "    .dataframe tbody tr th:only-of-type {\n",
       "        vertical-align: middle;\n",
       "    }\n",
       "\n",
       "    .dataframe tbody tr th {\n",
       "        vertical-align: top;\n",
       "    }\n",
       "\n",
       "    .dataframe thead th {\n",
       "        text-align: right;\n",
       "    }\n",
       "</style>\n",
       "<table border=\"1\" class=\"dataframe\">\n",
       "  <thead>\n",
       "    <tr style=\"text-align: right;\">\n",
       "      <th></th>\n",
       "      <th>true_change</th>\n",
       "      <th>optimal_change</th>\n",
       "      <th>optimal_change_with_fee</th>\n",
       "      <th>address_type</th>\n",
       "      <th>power_of_ten_2</th>\n",
       "      <th>power_of_ten_3</th>\n",
       "      <th>power_of_ten_4</th>\n",
       "      <th>power_of_ten_5</th>\n",
       "      <th>power_of_ten_6</th>\n",
       "      <th>power_of_ten_7</th>\n",
       "      <th>...</th>\n",
       "      <th>fp_version</th>\n",
       "      <th>fp_locktime</th>\n",
       "      <th>fp_rbf</th>\n",
       "      <th>fp_segwit</th>\n",
       "      <th>fp_possible_segwit</th>\n",
       "      <th>fp_ordered_inouts</th>\n",
       "      <th>fp_address_type</th>\n",
       "      <th>fp_p2sh</th>\n",
       "      <th>fp_p2wsh</th>\n",
       "      <th>fp_p2wpkh</th>\n",
       "    </tr>\n",
       "  </thead>\n",
       "  <tbody>\n",
       "    <tr>\n",
       "      <th>364850</th>\n",
       "      <td>1</td>\n",
       "      <td>-1</td>\n",
       "      <td>-1</td>\n",
       "      <td>0</td>\n",
       "      <td>-1</td>\n",
       "      <td>-1</td>\n",
       "      <td>-1</td>\n",
       "      <td>-1</td>\n",
       "      <td>-1</td>\n",
       "      <td>-1</td>\n",
       "      <td>...</td>\n",
       "      <td>-1</td>\n",
       "      <td>-1</td>\n",
       "      <td>-1</td>\n",
       "      <td>-1</td>\n",
       "      <td>-1</td>\n",
       "      <td>-1</td>\n",
       "      <td>0</td>\n",
       "      <td>-1</td>\n",
       "      <td>-1</td>\n",
       "      <td>-1</td>\n",
       "    </tr>\n",
       "    <tr>\n",
       "      <th>364851</th>\n",
       "      <td>0</td>\n",
       "      <td>-1</td>\n",
       "      <td>-1</td>\n",
       "      <td>1</td>\n",
       "      <td>-1</td>\n",
       "      <td>-1</td>\n",
       "      <td>-1</td>\n",
       "      <td>-1</td>\n",
       "      <td>-1</td>\n",
       "      <td>-1</td>\n",
       "      <td>...</td>\n",
       "      <td>-1</td>\n",
       "      <td>-1</td>\n",
       "      <td>-1</td>\n",
       "      <td>-1</td>\n",
       "      <td>-1</td>\n",
       "      <td>-1</td>\n",
       "      <td>1</td>\n",
       "      <td>-1</td>\n",
       "      <td>-1</td>\n",
       "      <td>-1</td>\n",
       "    </tr>\n",
       "    <tr>\n",
       "      <th>386190</th>\n",
       "      <td>1</td>\n",
       "      <td>1</td>\n",
       "      <td>1</td>\n",
       "      <td>-1</td>\n",
       "      <td>-1</td>\n",
       "      <td>-1</td>\n",
       "      <td>-1</td>\n",
       "      <td>-1</td>\n",
       "      <td>-1</td>\n",
       "      <td>-1</td>\n",
       "      <td>...</td>\n",
       "      <td>-1</td>\n",
       "      <td>-1</td>\n",
       "      <td>-1</td>\n",
       "      <td>-1</td>\n",
       "      <td>-1</td>\n",
       "      <td>-1</td>\n",
       "      <td>1</td>\n",
       "      <td>-1</td>\n",
       "      <td>-1</td>\n",
       "      <td>-1</td>\n",
       "    </tr>\n",
       "    <tr>\n",
       "      <th>386191</th>\n",
       "      <td>0</td>\n",
       "      <td>0</td>\n",
       "      <td>0</td>\n",
       "      <td>-1</td>\n",
       "      <td>-1</td>\n",
       "      <td>-1</td>\n",
       "      <td>-1</td>\n",
       "      <td>-1</td>\n",
       "      <td>-1</td>\n",
       "      <td>-1</td>\n",
       "      <td>...</td>\n",
       "      <td>-1</td>\n",
       "      <td>-1</td>\n",
       "      <td>-1</td>\n",
       "      <td>-1</td>\n",
       "      <td>-1</td>\n",
       "      <td>-1</td>\n",
       "      <td>0</td>\n",
       "      <td>-1</td>\n",
       "      <td>-1</td>\n",
       "      <td>-1</td>\n",
       "    </tr>\n",
       "    <tr>\n",
       "      <th>444470</th>\n",
       "      <td>0</td>\n",
       "      <td>0</td>\n",
       "      <td>0</td>\n",
       "      <td>-1</td>\n",
       "      <td>-1</td>\n",
       "      <td>-1</td>\n",
       "      <td>-1</td>\n",
       "      <td>-1</td>\n",
       "      <td>-1</td>\n",
       "      <td>1</td>\n",
       "      <td>...</td>\n",
       "      <td>-1</td>\n",
       "      <td>-1</td>\n",
       "      <td>-1</td>\n",
       "      <td>-1</td>\n",
       "      <td>-1</td>\n",
       "      <td>-1</td>\n",
       "      <td>0</td>\n",
       "      <td>-1</td>\n",
       "      <td>-1</td>\n",
       "      <td>-1</td>\n",
       "    </tr>\n",
       "    <tr>\n",
       "      <th>444471</th>\n",
       "      <td>1</td>\n",
       "      <td>1</td>\n",
       "      <td>1</td>\n",
       "      <td>-1</td>\n",
       "      <td>-1</td>\n",
       "      <td>-1</td>\n",
       "      <td>-1</td>\n",
       "      <td>-1</td>\n",
       "      <td>-1</td>\n",
       "      <td>0</td>\n",
       "      <td>...</td>\n",
       "      <td>-1</td>\n",
       "      <td>-1</td>\n",
       "      <td>-1</td>\n",
       "      <td>-1</td>\n",
       "      <td>-1</td>\n",
       "      <td>-1</td>\n",
       "      <td>1</td>\n",
       "      <td>-1</td>\n",
       "      <td>-1</td>\n",
       "      <td>-1</td>\n",
       "    </tr>\n",
       "  </tbody>\n",
       "</table>\n",
       "<p>6 rows × 27 columns</p>\n",
       "</div>"
      ],
      "text/plain": [
       "        true_change  optimal_change  optimal_change_with_fee  address_type  \\\n",
       "364850            1              -1                       -1             0   \n",
       "364851            0              -1                       -1             1   \n",
       "386190            1               1                        1            -1   \n",
       "386191            0               0                        0            -1   \n",
       "444470            0               0                        0            -1   \n",
       "444471            1               1                        1            -1   \n",
       "\n",
       "        power_of_ten_2  power_of_ten_3  power_of_ten_4  power_of_ten_5  \\\n",
       "364850              -1              -1              -1              -1   \n",
       "364851              -1              -1              -1              -1   \n",
       "386190              -1              -1              -1              -1   \n",
       "386191              -1              -1              -1              -1   \n",
       "444470              -1              -1              -1              -1   \n",
       "444471              -1              -1              -1              -1   \n",
       "\n",
       "        power_of_ten_6  power_of_ten_7  ...  fp_version  fp_locktime  fp_rbf  \\\n",
       "364850              -1              -1  ...          -1           -1      -1   \n",
       "364851              -1              -1  ...          -1           -1      -1   \n",
       "386190              -1              -1  ...          -1           -1      -1   \n",
       "386191              -1              -1  ...          -1           -1      -1   \n",
       "444470              -1               1  ...          -1           -1      -1   \n",
       "444471              -1               0  ...          -1           -1      -1   \n",
       "\n",
       "        fp_segwit  fp_possible_segwit  fp_ordered_inouts  fp_address_type  \\\n",
       "364850         -1                  -1                 -1                0   \n",
       "364851         -1                  -1                 -1                1   \n",
       "386190         -1                  -1                 -1                1   \n",
       "386191         -1                  -1                 -1                0   \n",
       "444470         -1                  -1                 -1                0   \n",
       "444471         -1                  -1                 -1                1   \n",
       "\n",
       "        fp_p2sh  fp_p2wsh  fp_p2wpkh  \n",
       "364850       -1        -1         -1  \n",
       "364851       -1        -1         -1  \n",
       "386190       -1        -1         -1  \n",
       "386191       -1        -1         -1  \n",
       "444470       -1        -1         -1  \n",
       "444471       -1        -1         -1  \n",
       "\n",
       "[6 rows x 27 columns]"
      ]
     },
     "execution_count": 25,
     "metadata": {},
     "output_type": "execute_result"
    }
   ],
   "source": [
    "df_predictions_outs.head(6)"
   ]
  },
  {
   "cell_type": "code",
   "execution_count": 26,
   "metadata": {},
   "outputs": [
    {
     "data": {
      "text/html": [
       "<div>\n",
       "<style scoped>\n",
       "    .dataframe tbody tr th:only-of-type {\n",
       "        vertical-align: middle;\n",
       "    }\n",
       "\n",
       "    .dataframe tbody tr th {\n",
       "        vertical-align: top;\n",
       "    }\n",
       "\n",
       "    .dataframe thead th {\n",
       "        text-align: right;\n",
       "    }\n",
       "</style>\n",
       "<table border=\"1\" class=\"dataframe\">\n",
       "  <thead>\n",
       "    <tr style=\"text-align: right;\">\n",
       "      <th></th>\n",
       "      <th>true_change</th>\n",
       "      <th>optimal_change</th>\n",
       "      <th>optimal_change_with_fee</th>\n",
       "      <th>address_type</th>\n",
       "      <th>power_of_ten_2</th>\n",
       "      <th>power_of_ten_3</th>\n",
       "      <th>power_of_ten_4</th>\n",
       "      <th>power_of_ten_5</th>\n",
       "      <th>power_of_ten_6</th>\n",
       "      <th>power_of_ten_7</th>\n",
       "      <th>...</th>\n",
       "      <th>fp_version</th>\n",
       "      <th>fp_locktime</th>\n",
       "      <th>fp_rbf</th>\n",
       "      <th>fp_segwit</th>\n",
       "      <th>fp_possible_segwit</th>\n",
       "      <th>fp_ordered_inouts</th>\n",
       "      <th>fp_address_type</th>\n",
       "      <th>fp_p2sh</th>\n",
       "      <th>fp_p2wsh</th>\n",
       "      <th>fp_p2wpkh</th>\n",
       "    </tr>\n",
       "  </thead>\n",
       "  <tbody>\n",
       "    <tr>\n",
       "      <th>36485</th>\n",
       "      <td>0</td>\n",
       "      <td>-1</td>\n",
       "      <td>-1</td>\n",
       "      <td>1</td>\n",
       "      <td>-1</td>\n",
       "      <td>-1</td>\n",
       "      <td>-1</td>\n",
       "      <td>-1</td>\n",
       "      <td>-1</td>\n",
       "      <td>-1</td>\n",
       "      <td>...</td>\n",
       "      <td>-1</td>\n",
       "      <td>-1</td>\n",
       "      <td>-1</td>\n",
       "      <td>-1</td>\n",
       "      <td>-1</td>\n",
       "      <td>-1</td>\n",
       "      <td>1</td>\n",
       "      <td>-1</td>\n",
       "      <td>-1</td>\n",
       "      <td>-1</td>\n",
       "    </tr>\n",
       "    <tr>\n",
       "      <th>38619</th>\n",
       "      <td>0</td>\n",
       "      <td>0</td>\n",
       "      <td>0</td>\n",
       "      <td>-1</td>\n",
       "      <td>-1</td>\n",
       "      <td>-1</td>\n",
       "      <td>-1</td>\n",
       "      <td>-1</td>\n",
       "      <td>-1</td>\n",
       "      <td>-1</td>\n",
       "      <td>...</td>\n",
       "      <td>-1</td>\n",
       "      <td>-1</td>\n",
       "      <td>-1</td>\n",
       "      <td>-1</td>\n",
       "      <td>-1</td>\n",
       "      <td>-1</td>\n",
       "      <td>0</td>\n",
       "      <td>-1</td>\n",
       "      <td>-1</td>\n",
       "      <td>-1</td>\n",
       "    </tr>\n",
       "    <tr>\n",
       "      <th>44447</th>\n",
       "      <td>1</td>\n",
       "      <td>1</td>\n",
       "      <td>1</td>\n",
       "      <td>-1</td>\n",
       "      <td>-1</td>\n",
       "      <td>-1</td>\n",
       "      <td>-1</td>\n",
       "      <td>-1</td>\n",
       "      <td>-1</td>\n",
       "      <td>0</td>\n",
       "      <td>...</td>\n",
       "      <td>-1</td>\n",
       "      <td>-1</td>\n",
       "      <td>-1</td>\n",
       "      <td>-1</td>\n",
       "      <td>-1</td>\n",
       "      <td>-1</td>\n",
       "      <td>1</td>\n",
       "      <td>-1</td>\n",
       "      <td>-1</td>\n",
       "      <td>-1</td>\n",
       "    </tr>\n",
       "  </tbody>\n",
       "</table>\n",
       "<p>3 rows × 27 columns</p>\n",
       "</div>"
      ],
      "text/plain": [
       "       true_change  optimal_change  optimal_change_with_fee  address_type  \\\n",
       "36485            0              -1                       -1             1   \n",
       "38619            0               0                        0            -1   \n",
       "44447            1               1                        1            -1   \n",
       "\n",
       "       power_of_ten_2  power_of_ten_3  power_of_ten_4  power_of_ten_5  \\\n",
       "36485              -1              -1              -1              -1   \n",
       "38619              -1              -1              -1              -1   \n",
       "44447              -1              -1              -1              -1   \n",
       "\n",
       "       power_of_ten_6  power_of_ten_7  ...  fp_version  fp_locktime  fp_rbf  \\\n",
       "36485              -1              -1  ...          -1           -1      -1   \n",
       "38619              -1              -1  ...          -1           -1      -1   \n",
       "44447              -1               0  ...          -1           -1      -1   \n",
       "\n",
       "       fp_segwit  fp_possible_segwit  fp_ordered_inouts  fp_address_type  \\\n",
       "36485         -1                  -1                 -1                1   \n",
       "38619         -1                  -1                 -1                0   \n",
       "44447         -1                  -1                 -1                1   \n",
       "\n",
       "       fp_p2sh  fp_p2wsh  fp_p2wpkh  \n",
       "36485       -1        -1         -1  \n",
       "38619       -1        -1         -1  \n",
       "44447       -1        -1         -1  \n",
       "\n",
       "[3 rows x 27 columns]"
      ]
     },
     "execution_count": 26,
     "metadata": {},
     "output_type": "execute_result"
    }
   ],
   "source": [
    "df_predictions.head(3)"
   ]
  },
  {
   "cell_type": "code",
   "execution_count": 27,
   "metadata": {},
   "outputs": [],
   "source": [
    "del df_predictions"
   ]
  },
  {
   "cell_type": "code",
   "execution_count": 28,
   "metadata": {},
   "outputs": [],
   "source": [
    "del values, indexes"
   ]
  },
  {
   "cell_type": "code",
   "execution_count": 29,
   "metadata": {},
   "outputs": [
    {
     "data": {
      "text/plain": [
       "66"
      ]
     },
     "execution_count": 29,
     "metadata": {},
     "output_type": "execute_result"
    }
   ],
   "source": [
    "gc.collect()"
   ]
  },
  {
   "cell_type": "markdown",
   "metadata": {},
   "source": [
    "### Split into features and outcome"
   ]
  },
  {
   "cell_type": "code",
   "execution_count": 30,
   "metadata": {},
   "outputs": [],
   "source": [
    "y = df_predictions_outs[\"true_change\"]"
   ]
  },
  {
   "cell_type": "code",
   "execution_count": 31,
   "metadata": {},
   "outputs": [],
   "source": [
    "y = y.astype(\"uint8\")"
   ]
  },
  {
   "cell_type": "code",
   "execution_count": 32,
   "metadata": {},
   "outputs": [],
   "source": [
    "np.save(utils.get_base_path(\"evaluation/{0}_outcomes.npy\".format(date_string)), y.values)"
   ]
  },
  {
   "cell_type": "code",
   "execution_count": 33,
   "metadata": {},
   "outputs": [],
   "source": [
    "X = df_predictions_outs.drop(\"true_change\", axis=1)"
   ]
  },
  {
   "cell_type": "code",
   "execution_count": 34,
   "metadata": {},
   "outputs": [],
   "source": [
    "# reorder variables\n",
    "X = X.replace([0, -1], [-1, 0])"
   ]
  },
  {
   "cell_type": "code",
   "execution_count": 35,
   "metadata": {},
   "outputs": [],
   "source": [
    "X = X.apply(lambda x: x.astype('category'))"
   ]
  },
  {
   "cell_type": "code",
   "execution_count": 36,
   "metadata": {},
   "outputs": [
    {
     "data": {
      "text/html": [
       "<div>\n",
       "<style scoped>\n",
       "    .dataframe tbody tr th:only-of-type {\n",
       "        vertical-align: middle;\n",
       "    }\n",
       "\n",
       "    .dataframe tbody tr th {\n",
       "        vertical-align: top;\n",
       "    }\n",
       "\n",
       "    .dataframe thead th {\n",
       "        text-align: right;\n",
       "    }\n",
       "</style>\n",
       "<table border=\"1\" class=\"dataframe\">\n",
       "  <thead>\n",
       "    <tr style=\"text-align: right;\">\n",
       "      <th></th>\n",
       "      <th>optimal_change</th>\n",
       "      <th>optimal_change_with_fee</th>\n",
       "      <th>address_type</th>\n",
       "      <th>power_of_ten_2</th>\n",
       "      <th>power_of_ten_3</th>\n",
       "      <th>power_of_ten_4</th>\n",
       "      <th>power_of_ten_5</th>\n",
       "      <th>power_of_ten_6</th>\n",
       "      <th>power_of_ten_7</th>\n",
       "      <th>fp_inout_count</th>\n",
       "      <th>...</th>\n",
       "      <th>fp_version</th>\n",
       "      <th>fp_locktime</th>\n",
       "      <th>fp_rbf</th>\n",
       "      <th>fp_segwit</th>\n",
       "      <th>fp_possible_segwit</th>\n",
       "      <th>fp_ordered_inouts</th>\n",
       "      <th>fp_address_type</th>\n",
       "      <th>fp_p2sh</th>\n",
       "      <th>fp_p2wsh</th>\n",
       "      <th>fp_p2wpkh</th>\n",
       "    </tr>\n",
       "  </thead>\n",
       "  <tbody>\n",
       "    <tr>\n",
       "      <th>364850</th>\n",
       "      <td>0</td>\n",
       "      <td>0</td>\n",
       "      <td>-1</td>\n",
       "      <td>0</td>\n",
       "      <td>0</td>\n",
       "      <td>0</td>\n",
       "      <td>0</td>\n",
       "      <td>0</td>\n",
       "      <td>0</td>\n",
       "      <td>0</td>\n",
       "      <td>...</td>\n",
       "      <td>0</td>\n",
       "      <td>0</td>\n",
       "      <td>0</td>\n",
       "      <td>0</td>\n",
       "      <td>0</td>\n",
       "      <td>0</td>\n",
       "      <td>-1</td>\n",
       "      <td>0</td>\n",
       "      <td>0</td>\n",
       "      <td>0</td>\n",
       "    </tr>\n",
       "    <tr>\n",
       "      <th>364851</th>\n",
       "      <td>0</td>\n",
       "      <td>0</td>\n",
       "      <td>1</td>\n",
       "      <td>0</td>\n",
       "      <td>0</td>\n",
       "      <td>0</td>\n",
       "      <td>0</td>\n",
       "      <td>0</td>\n",
       "      <td>0</td>\n",
       "      <td>0</td>\n",
       "      <td>...</td>\n",
       "      <td>0</td>\n",
       "      <td>0</td>\n",
       "      <td>0</td>\n",
       "      <td>0</td>\n",
       "      <td>0</td>\n",
       "      <td>0</td>\n",
       "      <td>1</td>\n",
       "      <td>0</td>\n",
       "      <td>0</td>\n",
       "      <td>0</td>\n",
       "    </tr>\n",
       "    <tr>\n",
       "      <th>386190</th>\n",
       "      <td>1</td>\n",
       "      <td>1</td>\n",
       "      <td>0</td>\n",
       "      <td>0</td>\n",
       "      <td>0</td>\n",
       "      <td>0</td>\n",
       "      <td>0</td>\n",
       "      <td>0</td>\n",
       "      <td>0</td>\n",
       "      <td>1</td>\n",
       "      <td>...</td>\n",
       "      <td>0</td>\n",
       "      <td>0</td>\n",
       "      <td>0</td>\n",
       "      <td>0</td>\n",
       "      <td>0</td>\n",
       "      <td>0</td>\n",
       "      <td>1</td>\n",
       "      <td>0</td>\n",
       "      <td>0</td>\n",
       "      <td>0</td>\n",
       "    </tr>\n",
       "    <tr>\n",
       "      <th>386191</th>\n",
       "      <td>-1</td>\n",
       "      <td>-1</td>\n",
       "      <td>0</td>\n",
       "      <td>0</td>\n",
       "      <td>0</td>\n",
       "      <td>0</td>\n",
       "      <td>0</td>\n",
       "      <td>0</td>\n",
       "      <td>0</td>\n",
       "      <td>-1</td>\n",
       "      <td>...</td>\n",
       "      <td>0</td>\n",
       "      <td>0</td>\n",
       "      <td>0</td>\n",
       "      <td>0</td>\n",
       "      <td>0</td>\n",
       "      <td>0</td>\n",
       "      <td>-1</td>\n",
       "      <td>0</td>\n",
       "      <td>0</td>\n",
       "      <td>0</td>\n",
       "    </tr>\n",
       "    <tr>\n",
       "      <th>444470</th>\n",
       "      <td>-1</td>\n",
       "      <td>-1</td>\n",
       "      <td>0</td>\n",
       "      <td>0</td>\n",
       "      <td>0</td>\n",
       "      <td>0</td>\n",
       "      <td>0</td>\n",
       "      <td>0</td>\n",
       "      <td>1</td>\n",
       "      <td>-1</td>\n",
       "      <td>...</td>\n",
       "      <td>0</td>\n",
       "      <td>0</td>\n",
       "      <td>0</td>\n",
       "      <td>0</td>\n",
       "      <td>0</td>\n",
       "      <td>0</td>\n",
       "      <td>-1</td>\n",
       "      <td>0</td>\n",
       "      <td>0</td>\n",
       "      <td>0</td>\n",
       "    </tr>\n",
       "  </tbody>\n",
       "</table>\n",
       "<p>5 rows × 26 columns</p>\n",
       "</div>"
      ],
      "text/plain": [
       "       optimal_change optimal_change_with_fee address_type power_of_ten_2  \\\n",
       "364850              0                       0           -1              0   \n",
       "364851              0                       0            1              0   \n",
       "386190              1                       1            0              0   \n",
       "386191             -1                      -1            0              0   \n",
       "444470             -1                      -1            0              0   \n",
       "\n",
       "       power_of_ten_3 power_of_ten_4 power_of_ten_5 power_of_ten_6  \\\n",
       "364850              0              0              0              0   \n",
       "364851              0              0              0              0   \n",
       "386190              0              0              0              0   \n",
       "386191              0              0              0              0   \n",
       "444470              0              0              0              0   \n",
       "\n",
       "       power_of_ten_7 fp_inout_count  ... fp_version fp_locktime fp_rbf  \\\n",
       "364850              0              0  ...          0           0      0   \n",
       "364851              0              0  ...          0           0      0   \n",
       "386190              0              1  ...          0           0      0   \n",
       "386191              0             -1  ...          0           0      0   \n",
       "444470              1             -1  ...          0           0      0   \n",
       "\n",
       "       fp_segwit fp_possible_segwit fp_ordered_inouts fp_address_type fp_p2sh  \\\n",
       "364850         0                  0                 0              -1       0   \n",
       "364851         0                  0                 0               1       0   \n",
       "386190         0                  0                 0               1       0   \n",
       "386191         0                  0                 0              -1       0   \n",
       "444470         0                  0                 0              -1       0   \n",
       "\n",
       "       fp_p2wsh fp_p2wpkh  \n",
       "364850        0         0  \n",
       "364851        0         0  \n",
       "386190        0         0  \n",
       "386191        0         0  \n",
       "444470        0         0  \n",
       "\n",
       "[5 rows x 26 columns]"
      ]
     },
     "execution_count": 36,
     "metadata": {},
     "output_type": "execute_result"
    }
   ],
   "source": [
    "X.head()"
   ]
  },
  {
   "cell_type": "code",
   "execution_count": 37,
   "metadata": {},
   "outputs": [],
   "source": [
    "del df_predictions_outs"
   ]
  },
  {
   "cell_type": "markdown",
   "metadata": {},
   "source": [
    "### Concatenate with tx/output characteristics\n",
    "\n",
    "See notebook 9a) for export of characteristics"
   ]
  },
  {
   "cell_type": "code",
   "execution_count": 38,
   "metadata": {},
   "outputs": [],
   "source": [
    "df_output_dtypes = {\n",
    "    \"co_output_value\": np.uint64,\n",
    "    \"co_output_value_ratio\": np.float64,\n",
    "    \"co_is_larger_output\": np.bool,\n",
    "    \"co_output_index\": np.uint8,\n",
    "    \"ct_fee\": np.uint64,\n",
    "    \"ct_fee_per_byte\": np.uint64,\n",
    "    \"ct_tx_value\": np.uint64,\n",
    "    \"ct_segwit_tx\": np.uint8,\n",
    "    \"ct_has_locktime\": np.bool,\n",
    "    \"ct_block_height\": np.uint32,\n",
    "    \"ct_input_count\": np.uint32,\n",
    "    \"co_fresh_output\": np.bool,\n",
    "    \"co_other_fresh\": np.bool\n",
    "}"
   ]
  },
  {
   "cell_type": "code",
   "execution_count": 39,
   "metadata": {},
   "outputs": [
    {
     "name": "stderr",
     "output_type": "stream",
     "text": [
      "/n/fs/grad/mmoeser/change/venv/lib64/python3.7/site-packages/numpy/lib/arraysetops.py:580: FutureWarning: elementwise comparison failed; returning scalar instead, but in the future will perform elementwise comparison\n",
      "  mask |= (ar1 == a)\n"
     ]
    }
   ],
   "source": [
    "df_outputs = pd.read_csv(utils.get_base_path(\"heuristics/{}-output-features.csv\".format(date_string)), index_col=0, dtype=df_output_dtypes)"
   ]
  },
  {
   "cell_type": "code",
   "execution_count": 40,
   "metadata": {},
   "outputs": [],
   "source": [
    "assert len(X) == len(df_outputs)"
   ]
  },
  {
   "cell_type": "code",
   "execution_count": 41,
   "metadata": {},
   "outputs": [],
   "source": [
    "df_outputs.index = X.index"
   ]
  },
  {
   "cell_type": "code",
   "execution_count": 42,
   "metadata": {},
   "outputs": [],
   "source": [
    "X = pd.concat([X, df_outputs], axis=1)"
   ]
  },
  {
   "cell_type": "code",
   "execution_count": 43,
   "metadata": {},
   "outputs": [],
   "source": [
    "del df_outputs"
   ]
  },
  {
   "cell_type": "code",
   "execution_count": 44,
   "metadata": {},
   "outputs": [
    {
     "data": {
      "text/plain": [
       "70514856"
      ]
     },
     "execution_count": 44,
     "metadata": {},
     "output_type": "execute_result"
    }
   ],
   "source": [
    "len(X)"
   ]
  },
  {
   "cell_type": "markdown",
   "metadata": {},
   "source": [
    "### Export"
   ]
  },
  {
   "cell_type": "code",
   "execution_count": 46,
   "metadata": {},
   "outputs": [],
   "source": [
    "X.to_csv(utils.get_base_path(\"heuristics/{}-combined.csv\".format(date_string)))"
   ]
  }
 ],
 "metadata": {
  "kernelspec": {
   "display_name": "Python 3",
   "language": "python",
   "name": "python3"
  },
  "language_info": {
   "codemirror_mode": {
    "name": "ipython",
    "version": 3
   },
   "file_extension": ".py",
   "mimetype": "text/x-python",
   "name": "python",
   "nbconvert_exporter": "python",
   "pygments_lexer": "ipython3",
   "version": "3.8.8"
  }
 },
 "nbformat": 4,
 "nbformat_minor": 4
}
