{
 "cells": [
  {
   "cell_type": "code",
   "execution_count": 1,
   "metadata": {},
   "outputs": [],
   "source": [
    "import pandas as pd\n",
    "import matplotlib.pyplot as plt\n",
    "import numpy as np\n",
    "import seaborn as sns"
   ]
  },
  {
   "cell_type": "code",
   "execution_count": 2,
   "metadata": {},
   "outputs": [],
   "source": [
    "import joblib"
   ]
  },
  {
   "cell_type": "code",
   "execution_count": 3,
   "metadata": {},
   "outputs": [],
   "source": [
    "import sklearn"
   ]
  },
  {
   "cell_type": "code",
   "execution_count": 4,
   "metadata": {},
   "outputs": [],
   "source": [
    "from sklearn.tree import plot_tree"
   ]
  },
  {
   "cell_type": "code",
   "execution_count": 5,
   "metadata": {},
   "outputs": [],
   "source": [
    "from sklearn.ensemble import RandomForestClassifier"
   ]
  },
  {
   "cell_type": "code",
   "execution_count": 6,
   "metadata": {},
   "outputs": [],
   "source": [
    "from sklearn.model_selection import KFold, cross_val_score, train_test_split, ShuffleSplit"
   ]
  },
  {
   "cell_type": "code",
   "execution_count": 7,
   "metadata": {},
   "outputs": [],
   "source": [
    "from sklearn.metrics import roc_curve, plot_roc_curve, RocCurveDisplay, auc"
   ]
  },
  {
   "cell_type": "code",
   "execution_count": 8,
   "metadata": {},
   "outputs": [],
   "source": [
    "sns.set_theme(style=\"ticks\")"
   ]
  },
  {
   "cell_type": "code",
   "execution_count": 9,
   "metadata": {},
   "outputs": [],
   "source": [
    "import random"
   ]
  },
  {
   "cell_type": "code",
   "execution_count": 10,
   "metadata": {},
   "outputs": [],
   "source": [
    "import utils"
   ]
  },
  {
   "cell_type": "code",
   "execution_count": 11,
   "metadata": {},
   "outputs": [],
   "source": [
    "import gc"
   ]
  },
  {
   "cell_type": "code",
   "execution_count": 12,
   "metadata": {},
   "outputs": [],
   "source": [
    "X_dtypes = utils.get_X_dtypes()"
   ]
  },
  {
   "cell_type": "code",
   "execution_count": 13,
   "metadata": {},
   "outputs": [],
   "source": [
    "def adjust_X(X_):\n",
    "    X_[\"ct_epoch\"] = X_[\"ct_block_height\"] // 1008\n",
    "    X_ = X_.drop(columns=[\"ct_fee\", \"co_output_value\", \"ct_block_height\", \"co_is_larger_output\", \"co_fresh_output\", \"co_other_fresh\"])\n",
    "    CATEGORICAL_COLUMNS = [x for x in X_.columns if x[:3] != \"ct_\" and x[:3] != \"co_\"]\n",
    "    X_[CATEGORICAL_COLUMNS] = X_[CATEGORICAL_COLUMNS].replace([0, -1], [-1, 0])\n",
    "    \n",
    "    return X_"
   ]
  },
  {
   "cell_type": "markdown",
   "metadata": {},
   "source": [
    "### Load classifiers"
   ]
  },
  {
   "cell_type": "code",
   "execution_count": 14,
   "metadata": {},
   "outputs": [],
   "source": [
    "X_cols = joblib.load(utils.get_base_path('model/X_columns_full.pkl'))"
   ]
  },
  {
   "cell_type": "code",
   "execution_count": 15,
   "metadata": {},
   "outputs": [],
   "source": [
    "rfc_full = joblib.load(utils.get_base_path(\"model/rfc-full.pkl\"))"
   ]
  },
  {
   "cell_type": "code",
   "execution_count": 16,
   "metadata": {},
   "outputs": [],
   "source": [
    "X_nofp_cols = joblib.load(utils.get_base_path('model/X_columns_nofp.pkl'))"
   ]
  },
  {
   "cell_type": "code",
   "execution_count": 17,
   "metadata": {},
   "outputs": [],
   "source": [
    "rfc_nofp = joblib.load(utils.get_base_path(\"model/rfc-nofp.pkl\"))"
   ]
  },
  {
   "cell_type": "code",
   "execution_count": 18,
   "metadata": {},
   "outputs": [],
   "source": [
    "X_dtypes = utils.get_X_dtypes()"
   ]
  },
  {
   "cell_type": "code",
   "execution_count": 19,
   "metadata": {},
   "outputs": [],
   "source": [
    "FINGERPRINT_COLS = [x for x in X_cols if x[:3] == \"fp_\"]"
   ]
  },
  {
   "cell_type": "code",
   "execution_count": 20,
   "metadata": {},
   "outputs": [],
   "source": [
    "NON_HEURISTICS = [x for x in X_cols if x[:3] == \"ct_\" or x[:3] == \"co_\"]"
   ]
  },
  {
   "cell_type": "markdown",
   "metadata": {},
   "source": [
    "## Ransomware"
   ]
  },
  {
   "cell_type": "code",
   "execution_count": 57,
   "metadata": {},
   "outputs": [],
   "source": [
    "ransom_gt = pd.read_csv(utils.get_base_path(\"model-validation/20210720-ransomware-gt.csv\"), index_col=0, dtype=X_dtypes)"
   ]
  },
  {
   "cell_type": "code",
   "execution_count": 58,
   "metadata": {},
   "outputs": [
    {
     "data": {
      "text/plain": [
       "22392"
      ]
     },
     "execution_count": 58,
     "metadata": {},
     "output_type": "execute_result"
    }
   ],
   "source": [
    "len(ransom_gt)"
   ]
  },
  {
   "cell_type": "code",
   "execution_count": 59,
   "metadata": {},
   "outputs": [],
   "source": [
    "all_outs_spent = ransom_gt[\"all_outputs_spent\"].values"
   ]
  },
  {
   "cell_type": "code",
   "execution_count": 60,
   "metadata": {},
   "outputs": [],
   "source": [
    "ransom_X = ransom_gt.drop(columns=[\"true_change\", \"all_outputs_spent\"])"
   ]
  },
  {
   "cell_type": "code",
   "execution_count": 61,
   "metadata": {},
   "outputs": [],
   "source": [
    "ransom_X = adjust_X(ransom_X)"
   ]
  },
  {
   "cell_type": "code",
   "execution_count": 62,
   "metadata": {},
   "outputs": [],
   "source": [
    "ransom_X_spent = ransom_X[all_outs_spent].copy()"
   ]
  },
  {
   "cell_type": "code",
   "execution_count": 63,
   "metadata": {},
   "outputs": [],
   "source": [
    "ransom_X_unspent = ransom_X[~all_outs_spent].copy()"
   ]
  },
  {
   "cell_type": "code",
   "execution_count": 64,
   "metadata": {},
   "outputs": [],
   "source": [
    "ransom_y = ransom_gt[\"true_change\"]"
   ]
  },
  {
   "cell_type": "code",
   "execution_count": 65,
   "metadata": {},
   "outputs": [],
   "source": [
    "ransom_y_spent = ransom_y[all_outs_spent].copy()\n",
    "ransom_y_unspent = ransom_y[~all_outs_spent].copy()"
   ]
  },
  {
   "cell_type": "code",
   "execution_count": 66,
   "metadata": {},
   "outputs": [],
   "source": [
    "FINGERPRINT_COLS = [x for x in X_cols if x[:3] == \"fp_\"]"
   ]
  },
  {
   "cell_type": "code",
   "execution_count": 67,
   "metadata": {},
   "outputs": [],
   "source": [
    "ransom_X_unspent = ransom_X_unspent.drop(columns=FINGERPRINT_COLS)"
   ]
  },
  {
   "cell_type": "code",
   "execution_count": 68,
   "metadata": {},
   "outputs": [],
   "source": [
    "assert len(X_cols) == len(ransom_X_spent.columns)\n",
    "assert len(X_nofp_cols) == len(ransom_X_unspent.columns)"
   ]
  },
  {
   "cell_type": "code",
   "execution_count": 69,
   "metadata": {},
   "outputs": [],
   "source": [
    "ransom_X_spent = ransom_X_spent[X_cols]\n",
    "ransom_X_unspent = ransom_X_unspent[X_nofp_cols]"
   ]
  },
  {
   "cell_type": "code",
   "execution_count": 70,
   "metadata": {},
   "outputs": [],
   "source": [
    "assert (X_cols == ransom_X_spent.columns).all()\n",
    "assert (X_nofp_cols == ransom_X_unspent.columns).all()"
   ]
  },
  {
   "cell_type": "code",
   "execution_count": 71,
   "metadata": {},
   "outputs": [],
   "source": [
    "ransom_y_proba_spent = rfc_full.predict_proba(ransom_X_spent)[:, 1]"
   ]
  },
  {
   "cell_type": "code",
   "execution_count": 72,
   "metadata": {},
   "outputs": [],
   "source": [
    "ransom_y_proba_unspent = rfc_nofp.predict_proba(ransom_X_unspent)[:, 1]"
   ]
  },
  {
   "cell_type": "code",
   "execution_count": 73,
   "metadata": {},
   "outputs": [],
   "source": [
    "ransom_y_proba_combined = np.concatenate([ransom_y_proba_spent, ransom_y_proba_unspent])"
   ]
  },
  {
   "cell_type": "code",
   "execution_count": 74,
   "metadata": {},
   "outputs": [],
   "source": [
    "ransom_y_combined = np.concatenate([ransom_y_spent, ransom_y_unspent])"
   ]
  },
  {
   "cell_type": "code",
   "execution_count": 75,
   "metadata": {},
   "outputs": [],
   "source": [
    "fpr_, tpr_, tr_ = roc_curve(ransom_y_combined, ransom_y_proba_combined)"
   ]
  },
  {
   "cell_type": "code",
   "execution_count": 76,
   "metadata": {},
   "outputs": [],
   "source": [
    "roc_auc_ = auc(fpr_, tpr_)"
   ]
  },
  {
   "cell_type": "code",
   "execution_count": 77,
   "metadata": {},
   "outputs": [
    {
     "data": {
      "text/plain": [
       "0.9964282248572675"
      ]
     },
     "execution_count": 77,
     "metadata": {},
     "output_type": "execute_result"
    }
   ],
   "source": [
    "roc_auc_"
   ]
  },
  {
   "cell_type": "code",
   "execution_count": 78,
   "metadata": {},
   "outputs": [
    {
     "data": {
      "image/png": "[encoded data removed]",
      "text/plain": [
       "<Figure size 432x288 with 1 Axes>"
      ]
     },
     "metadata": {},
     "output_type": "display_data"
    }
   ],
   "source": [
    "ax = RocCurveDisplay(fpr=fpr_, tpr=tpr_, roc_auc=roc_auc_).plot()\n",
    "sns.despine()\n",
    "plt.tight_layout()"
   ]
  },
  {
   "cell_type": "markdown",
   "metadata": {},
   "source": [
    "## Cluster interaction (EXTENDED)"
   ]
  },
  {
   "cell_type": "code",
   "execution_count": 79,
   "metadata": {},
   "outputs": [],
   "source": [
    "ci_gt = pd.read_csv(utils.get_base_path(\"model-validation/20210720-cluster-interaction-extensive-gt.csv\"), index_col=0, dtype=X_dtypes)"
   ]
  },
  {
   "cell_type": "code",
   "execution_count": 80,
   "metadata": {},
   "outputs": [
    {
     "data": {
      "text/plain": [
       "537548"
      ]
     },
     "execution_count": 80,
     "metadata": {},
     "output_type": "execute_result"
    }
   ],
   "source": [
    "len(ci_gt)"
   ]
  },
  {
   "cell_type": "code",
   "execution_count": 81,
   "metadata": {},
   "outputs": [],
   "source": [
    "all_outs_spent = ci_gt[\"all_outputs_spent\"].values"
   ]
  },
  {
   "cell_type": "code",
   "execution_count": 82,
   "metadata": {},
   "outputs": [],
   "source": [
    "ci_X = ci_gt.drop(columns=[\"true_change\", \"all_outputs_spent\"])"
   ]
  },
  {
   "cell_type": "code",
   "execution_count": 83,
   "metadata": {},
   "outputs": [],
   "source": [
    "ci_X = adjust_X(ci_X)"
   ]
  },
  {
   "cell_type": "code",
   "execution_count": 84,
   "metadata": {},
   "outputs": [],
   "source": [
    "ci_X_spent = ci_X[all_outs_spent].copy()"
   ]
  },
  {
   "cell_type": "code",
   "execution_count": 85,
   "metadata": {},
   "outputs": [],
   "source": [
    "ci_X_unspent = ci_X[~all_outs_spent].copy()"
   ]
  },
  {
   "cell_type": "code",
   "execution_count": 86,
   "metadata": {},
   "outputs": [],
   "source": [
    "ci_y = ci_gt[\"true_change\"]"
   ]
  },
  {
   "cell_type": "code",
   "execution_count": 87,
   "metadata": {},
   "outputs": [],
   "source": [
    "ci_y_spent = ci_y[all_outs_spent].copy()\n",
    "ci_y_unspent = ci_y[~all_outs_spent].copy()"
   ]
  },
  {
   "cell_type": "code",
   "execution_count": 88,
   "metadata": {},
   "outputs": [],
   "source": [
    "ci_X_unspent = ci_X_unspent.drop(columns=FINGERPRINT_COLS)"
   ]
  },
  {
   "cell_type": "code",
   "execution_count": 89,
   "metadata": {},
   "outputs": [],
   "source": [
    "assert len(X_cols) == len(ci_X_spent.columns)\n",
    "assert len(X_nofp_cols) == len(ci_X_unspent.columns)"
   ]
  },
  {
   "cell_type": "code",
   "execution_count": 90,
   "metadata": {},
   "outputs": [],
   "source": [
    "ci_X_spent = ci_X_spent[X_cols]\n",
    "ci_X_unspent = ci_X_unspent[X_nofp_cols]"
   ]
  },
  {
   "cell_type": "code",
   "execution_count": 91,
   "metadata": {},
   "outputs": [],
   "source": [
    "assert (X_cols == ci_X_spent.columns).all()\n",
    "assert (X_nofp_cols == ci_X_unspent.columns).all()"
   ]
  },
  {
   "cell_type": "code",
   "execution_count": 92,
   "metadata": {},
   "outputs": [],
   "source": [
    "ci_y_proba_spent = rfc_full.predict_proba(ci_X_spent)[:, 1]"
   ]
  },
  {
   "cell_type": "code",
   "execution_count": 93,
   "metadata": {},
   "outputs": [],
   "source": [
    "ci_y_proba_unspent = rfc_nofp.predict_proba(ci_X_unspent)[:, 1]"
   ]
  },
  {
   "cell_type": "code",
   "execution_count": 94,
   "metadata": {},
   "outputs": [],
   "source": [
    "ci_y_proba_combined = np.concatenate([ci_y_proba_spent, ci_y_proba_unspent])"
   ]
  },
  {
   "cell_type": "code",
   "execution_count": 95,
   "metadata": {},
   "outputs": [
    {
     "data": {
      "text/plain": [
       "537548"
      ]
     },
     "execution_count": 95,
     "metadata": {},
     "output_type": "execute_result"
    }
   ],
   "source": [
    "len(ci_y_proba_combined)"
   ]
  },
  {
   "cell_type": "code",
   "execution_count": 96,
   "metadata": {},
   "outputs": [],
   "source": [
    "ci_y_combined = np.concatenate([ci_y_spent, ci_y_unspent])"
   ]
  },
  {
   "cell_type": "code",
   "execution_count": 97,
   "metadata": {},
   "outputs": [],
   "source": [
    "fpr_, tpr_, tr_ = roc_curve(ci_y_combined, ci_y_proba_combined)"
   ]
  },
  {
   "cell_type": "code",
   "execution_count": 98,
   "metadata": {},
   "outputs": [],
   "source": [
    "roc_auc_ = auc(fpr_, tpr_)"
   ]
  },
  {
   "cell_type": "code",
   "execution_count": 99,
   "metadata": {},
   "outputs": [
    {
     "data": {
      "text/plain": [
       "0.9757453558776226"
      ]
     },
     "execution_count": 99,
     "metadata": {},
     "output_type": "execute_result"
    }
   ],
   "source": [
    "roc_auc_"
   ]
  },
  {
   "cell_type": "code",
   "execution_count": 101,
   "metadata": {},
   "outputs": [
    {
     "name": "stdout",
     "output_type": "stream",
     "text": [
      "0.0 0.0 2.0\n",
      "0.0005060013245328789 0.06930357847113187 0.9999994540888743\n",
      "0.0005990162738955405 0.14768541600005952 0.9996371705691939\n",
      "0.000699472419207215 0.18351849509253126 0.9992583227981459\n",
      "0.000997120257167732 0.3086310431812601 0.9969319087245292\n",
      "0.004996763079762179 0.6381048762157054 0.9536802004266407\n",
      "0.009997246757498865 0.7050644779628982 0.9201657787246618\n",
      "0.019998214112972236 0.778349096266752 0.8535762496163088\n",
      "0.029995460870471103 0.820611368659171 0.7907662077043178\n",
      "0.03999642822594447 0.8456509930275994 0.7330879540198205\n",
      "0.049993674983443336 0.8639377320722986 0.683613182721086\n",
      "0.09999851176081019 0.9253982900131709 0.4415426934893349\n"
     ]
    }
   ],
   "source": [
    "tprint = [0.1, 0.05, 0.04, 0.03, 0.02, 0.01, 0.005, 0.001, 0.0007, 0.0006, 0.0005, 0.0001]\n",
    "pf, pt, ptr = fpr_[0], tpr_[0], tr_[0]\n",
    "next_threshold = tprint.pop()\n",
    "for f, t, tr in zip(fpr_, tpr_, tr_):\n",
    "    if f == pf:\n",
    "        pf, pt, ptr = f, t, tr\n",
    "    else:\n",
    "        if f > next_threshold:\n",
    "            print(pf, pt, ptr)\n",
    "            if not tprint:\n",
    "                break\n",
    "            next_threshold = tprint.pop()\n",
    "        pf, pt, ptr = f, t, tr\n"
   ]
  }
 ],
 "metadata": {
  "kernelspec": {
   "display_name": "Python 3",
   "language": "python",
   "name": "python3"
  },
  "language_info": {
   "codemirror_mode": {
    "name": "ipython",
    "version": 3
   },
   "file_extension": ".py",
   "mimetype": "text/x-python",
   "name": "python",
   "nbconvert_exporter": "python",
   "pygments_lexer": "ipython3",
   "version": "3.8.8"
  }
 },
 "nbformat": 4,
 "nbformat_minor": 4
}
