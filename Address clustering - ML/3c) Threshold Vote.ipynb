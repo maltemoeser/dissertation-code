{
 "cells": [
  {
   "cell_type": "code",
   "execution_count": 1,
   "metadata": {},
   "outputs": [],
   "source": [
    "import pandas as pd\n",
    "import numpy as np"
   ]
  },
  {
   "cell_type": "code",
   "execution_count": 2,
   "metadata": {},
   "outputs": [],
   "source": [
    "import seaborn as sns"
   ]
  },
  {
   "cell_type": "code",
   "execution_count": 3,
   "metadata": {},
   "outputs": [],
   "source": [
    "import matplotlib.pyplot as plt"
   ]
  },
  {
   "cell_type": "code",
   "execution_count": 4,
   "metadata": {},
   "outputs": [],
   "source": [
    "import collections\n",
    "import random"
   ]
  },
  {
   "cell_type": "code",
   "execution_count": 5,
   "metadata": {},
   "outputs": [],
   "source": [
    "import gc"
   ]
  },
  {
   "cell_type": "code",
   "execution_count": 6,
   "metadata": {},
   "outputs": [],
   "source": [
    "from sklearn.metrics import auc"
   ]
  },
  {
   "cell_type": "code",
   "execution_count": 7,
   "metadata": {},
   "outputs": [],
   "source": [
    "import utils"
   ]
  },
  {
   "cell_type": "code",
   "execution_count": 8,
   "metadata": {},
   "outputs": [],
   "source": [
    "from sklearn.model_selection import KFold, GroupKFold, cross_val_score, train_test_split, ShuffleSplit, GroupShuffleSplit"
   ]
  },
  {
   "cell_type": "code",
   "execution_count": 9,
   "metadata": {},
   "outputs": [],
   "source": [
    "from sklearn.metrics import plot_roc_curve"
   ]
  },
  {
   "cell_type": "code",
   "execution_count": 10,
   "metadata": {},
   "outputs": [],
   "source": [
    "date_string = \"20210720\""
   ]
  },
  {
   "cell_type": "markdown",
   "metadata": {},
   "source": [
    "## Data Import"
   ]
  },
  {
   "cell_type": "code",
   "execution_count": 11,
   "metadata": {},
   "outputs": [
    {
     "name": "stderr",
     "output_type": "stream",
     "text": [
      "/n/fs/grad/mmoeser/change/venv/lib64/python3.7/site-packages/numpy/lib/arraysetops.py:580: FutureWarning: elementwise comparison failed; returning scalar instead, but in the future will perform elementwise comparison\n",
      "  mask |= (ar1 == a)\n"
     ]
    }
   ],
   "source": [
    "df_predictions = pd.read_csv(utils.get_base_path(\"heuristics/{}_smart_prediction.csv\".format(date_string)), index_col=0)"
   ]
  },
  {
   "cell_type": "code",
   "execution_count": 12,
   "metadata": {},
   "outputs": [
    {
     "data": {
      "text/plain": [
       "Index(['true_change', 'optimal_change', 'optimal_change_with_fee',\n",
       "       'address_type', 'power_of_ten_2', 'power_of_ten_3', 'power_of_ten_4',\n",
       "       'power_of_ten_5', 'power_of_ten_6', 'power_of_ten_7', 'pow10',\n",
       "       'fp_inout_count', 'fp_output_count', 'fp_zeroconf', 'fp_multisig',\n",
       "       'fp_p2pkh', 'fp_absolute_fee', 'fp_relative_fee', 'two_hops',\n",
       "       'fp_version', 'fp_locktime', 'fp_rbf', 'fp_segwit',\n",
       "       'fp_possible_segwit', 'fp_ordered_inouts', 'fp_address_type', 'fp_p2sh',\n",
       "       'fp_p2wsh', 'fp_p2wpkh'],\n",
       "      dtype='object')"
      ]
     },
     "execution_count": 12,
     "metadata": {},
     "output_type": "execute_result"
    }
   ],
   "source": [
    "df_predictions.columns"
   ]
  },
  {
   "cell_type": "code",
   "execution_count": 13,
   "metadata": {},
   "outputs": [],
   "source": [
    "# drop two_hops, because it may be biased towards our ground truth set (due to higher rate of clustering)\n",
    "df_predictions.drop(columns=[\"two_hops\"], inplace=True)"
   ]
  },
  {
   "cell_type": "code",
   "execution_count": 14,
   "metadata": {},
   "outputs": [],
   "source": [
    "true_outcome = df_predictions[\"true_change\"].values"
   ]
  },
  {
   "cell_type": "code",
   "execution_count": 15,
   "metadata": {},
   "outputs": [],
   "source": [
    "df_predictions.drop(columns=[\"true_change\"], inplace=True)"
   ]
  },
  {
   "cell_type": "code",
   "execution_count": 16,
   "metadata": {},
   "outputs": [],
   "source": [
    "df_predictions.drop(columns=[\"pow10\"], inplace=True)"
   ]
  },
  {
   "cell_type": "markdown",
   "metadata": {},
   "source": [
    "### Apply mask"
   ]
  },
  {
   "cell_type": "code",
   "execution_count": 17,
   "metadata": {},
   "outputs": [],
   "source": [
    "mask_full = np.load(utils.get_base_path(\"evaluation/{}_mask.npy\".format(date_string)))"
   ]
  },
  {
   "cell_type": "code",
   "execution_count": 18,
   "metadata": {},
   "outputs": [
    {
     "data": {
      "text/plain": [
       "70514856"
      ]
     },
     "execution_count": 18,
     "metadata": {},
     "output_type": "execute_result"
    }
   ],
   "source": [
    "len(mask_full)"
   ]
  },
  {
   "cell_type": "code",
   "execution_count": 19,
   "metadata": {},
   "outputs": [],
   "source": [
    "vote_mask = [x for x, _ in utils.grouper(mask_full, 2)]"
   ]
  },
  {
   "cell_type": "code",
   "execution_count": 20,
   "metadata": {},
   "outputs": [
    {
     "data": {
      "text/plain": [
       "858582"
      ]
     },
     "execution_count": 20,
     "metadata": {},
     "output_type": "execute_result"
    }
   ],
   "source": [
    "len(vote_mask) - np.sum(vote_mask)"
   ]
  },
  {
   "cell_type": "code",
   "execution_count": 21,
   "metadata": {},
   "outputs": [],
   "source": [
    "df_predictions = df_predictions[vote_mask]"
   ]
  },
  {
   "cell_type": "code",
   "execution_count": 22,
   "metadata": {},
   "outputs": [],
   "source": [
    "true_outcome = true_outcome[vote_mask]"
   ]
  },
  {
   "cell_type": "code",
   "execution_count": 23,
   "metadata": {},
   "outputs": [
    {
     "data": {
      "text/plain": [
       "(34398846, 34398846)"
      ]
     },
     "execution_count": 23,
     "metadata": {},
     "output_type": "execute_result"
    }
   ],
   "source": [
    "len(df_predictions), len(true_outcome)"
   ]
  },
  {
   "cell_type": "markdown",
   "metadata": {},
   "source": [
    "## Compute threshold vote on full dataset"
   ]
  },
  {
   "cell_type": "code",
   "execution_count": 24,
   "metadata": {},
   "outputs": [
    {
     "data": {
      "text/html": [
       "<div>\n",
       "<style scoped>\n",
       "    .dataframe tbody tr th:only-of-type {\n",
       "        vertical-align: middle;\n",
       "    }\n",
       "\n",
       "    .dataframe tbody tr th {\n",
       "        vertical-align: top;\n",
       "    }\n",
       "\n",
       "    .dataframe thead th {\n",
       "        text-align: right;\n",
       "    }\n",
       "</style>\n",
       "<table border=\"1\" class=\"dataframe\">\n",
       "  <thead>\n",
       "    <tr style=\"text-align: right;\">\n",
       "      <th></th>\n",
       "      <th>optimal_change</th>\n",
       "      <th>optimal_change_with_fee</th>\n",
       "      <th>address_type</th>\n",
       "      <th>power_of_ten_2</th>\n",
       "      <th>power_of_ten_3</th>\n",
       "      <th>power_of_ten_4</th>\n",
       "      <th>power_of_ten_5</th>\n",
       "      <th>power_of_ten_6</th>\n",
       "      <th>power_of_ten_7</th>\n",
       "      <th>fp_inout_count</th>\n",
       "      <th>...</th>\n",
       "      <th>fp_version</th>\n",
       "      <th>fp_locktime</th>\n",
       "      <th>fp_rbf</th>\n",
       "      <th>fp_segwit</th>\n",
       "      <th>fp_possible_segwit</th>\n",
       "      <th>fp_ordered_inouts</th>\n",
       "      <th>fp_address_type</th>\n",
       "      <th>fp_p2sh</th>\n",
       "      <th>fp_p2wsh</th>\n",
       "      <th>fp_p2wpkh</th>\n",
       "    </tr>\n",
       "  </thead>\n",
       "  <tbody>\n",
       "    <tr>\n",
       "      <th>36485</th>\n",
       "      <td>-1</td>\n",
       "      <td>-1</td>\n",
       "      <td>1</td>\n",
       "      <td>-1</td>\n",
       "      <td>-1</td>\n",
       "      <td>-1</td>\n",
       "      <td>-1</td>\n",
       "      <td>-1</td>\n",
       "      <td>-1</td>\n",
       "      <td>-1</td>\n",
       "      <td>...</td>\n",
       "      <td>-1</td>\n",
       "      <td>-1</td>\n",
       "      <td>-1</td>\n",
       "      <td>-1</td>\n",
       "      <td>-1</td>\n",
       "      <td>-1</td>\n",
       "      <td>1</td>\n",
       "      <td>-1</td>\n",
       "      <td>-1</td>\n",
       "      <td>-1</td>\n",
       "    </tr>\n",
       "    <tr>\n",
       "      <th>38619</th>\n",
       "      <td>0</td>\n",
       "      <td>0</td>\n",
       "      <td>-1</td>\n",
       "      <td>-1</td>\n",
       "      <td>-1</td>\n",
       "      <td>-1</td>\n",
       "      <td>-1</td>\n",
       "      <td>-1</td>\n",
       "      <td>-1</td>\n",
       "      <td>0</td>\n",
       "      <td>...</td>\n",
       "      <td>-1</td>\n",
       "      <td>-1</td>\n",
       "      <td>-1</td>\n",
       "      <td>-1</td>\n",
       "      <td>-1</td>\n",
       "      <td>-1</td>\n",
       "      <td>0</td>\n",
       "      <td>-1</td>\n",
       "      <td>-1</td>\n",
       "      <td>-1</td>\n",
       "    </tr>\n",
       "    <tr>\n",
       "      <th>44447</th>\n",
       "      <td>1</td>\n",
       "      <td>1</td>\n",
       "      <td>-1</td>\n",
       "      <td>-1</td>\n",
       "      <td>-1</td>\n",
       "      <td>-1</td>\n",
       "      <td>-1</td>\n",
       "      <td>-1</td>\n",
       "      <td>0</td>\n",
       "      <td>1</td>\n",
       "      <td>...</td>\n",
       "      <td>-1</td>\n",
       "      <td>-1</td>\n",
       "      <td>-1</td>\n",
       "      <td>-1</td>\n",
       "      <td>-1</td>\n",
       "      <td>-1</td>\n",
       "      <td>1</td>\n",
       "      <td>-1</td>\n",
       "      <td>-1</td>\n",
       "      <td>-1</td>\n",
       "    </tr>\n",
       "    <tr>\n",
       "      <th>46689</th>\n",
       "      <td>0</td>\n",
       "      <td>0</td>\n",
       "      <td>1</td>\n",
       "      <td>-1</td>\n",
       "      <td>-1</td>\n",
       "      <td>-1</td>\n",
       "      <td>-1</td>\n",
       "      <td>-1</td>\n",
       "      <td>-1</td>\n",
       "      <td>-1</td>\n",
       "      <td>...</td>\n",
       "      <td>-1</td>\n",
       "      <td>-1</td>\n",
       "      <td>-1</td>\n",
       "      <td>-1</td>\n",
       "      <td>-1</td>\n",
       "      <td>-1</td>\n",
       "      <td>-1</td>\n",
       "      <td>-1</td>\n",
       "      <td>-1</td>\n",
       "      <td>-1</td>\n",
       "    </tr>\n",
       "    <tr>\n",
       "      <th>47882</th>\n",
       "      <td>1</td>\n",
       "      <td>1</td>\n",
       "      <td>-1</td>\n",
       "      <td>-1</td>\n",
       "      <td>-1</td>\n",
       "      <td>-1</td>\n",
       "      <td>-1</td>\n",
       "      <td>-1</td>\n",
       "      <td>-1</td>\n",
       "      <td>-1</td>\n",
       "      <td>...</td>\n",
       "      <td>-1</td>\n",
       "      <td>-1</td>\n",
       "      <td>-1</td>\n",
       "      <td>-1</td>\n",
       "      <td>-1</td>\n",
       "      <td>-1</td>\n",
       "      <td>-1</td>\n",
       "      <td>-1</td>\n",
       "      <td>-1</td>\n",
       "      <td>-1</td>\n",
       "    </tr>\n",
       "  </tbody>\n",
       "</table>\n",
       "<p>5 rows × 26 columns</p>\n",
       "</div>"
      ],
      "text/plain": [
       "       optimal_change  optimal_change_with_fee  address_type  power_of_ten_2  \\\n",
       "36485              -1                       -1             1              -1   \n",
       "38619               0                        0            -1              -1   \n",
       "44447               1                        1            -1              -1   \n",
       "46689               0                        0             1              -1   \n",
       "47882               1                        1            -1              -1   \n",
       "\n",
       "       power_of_ten_3  power_of_ten_4  power_of_ten_5  power_of_ten_6  \\\n",
       "36485              -1              -1              -1              -1   \n",
       "38619              -1              -1              -1              -1   \n",
       "44447              -1              -1              -1              -1   \n",
       "46689              -1              -1              -1              -1   \n",
       "47882              -1              -1              -1              -1   \n",
       "\n",
       "       power_of_ten_7  fp_inout_count  ...  fp_version  fp_locktime  fp_rbf  \\\n",
       "36485              -1              -1  ...          -1           -1      -1   \n",
       "38619              -1               0  ...          -1           -1      -1   \n",
       "44447               0               1  ...          -1           -1      -1   \n",
       "46689              -1              -1  ...          -1           -1      -1   \n",
       "47882              -1              -1  ...          -1           -1      -1   \n",
       "\n",
       "       fp_segwit  fp_possible_segwit  fp_ordered_inouts  fp_address_type  \\\n",
       "36485         -1                  -1                 -1                1   \n",
       "38619         -1                  -1                 -1                0   \n",
       "44447         -1                  -1                 -1                1   \n",
       "46689         -1                  -1                 -1               -1   \n",
       "47882         -1                  -1                 -1               -1   \n",
       "\n",
       "       fp_p2sh  fp_p2wsh  fp_p2wpkh  \n",
       "36485       -1        -1         -1  \n",
       "38619       -1        -1         -1  \n",
       "44447       -1        -1         -1  \n",
       "46689       -1        -1         -1  \n",
       "47882       -1        -1         -1  \n",
       "\n",
       "[5 rows x 26 columns]"
      ]
     },
     "execution_count": 24,
     "metadata": {},
     "output_type": "execute_result"
    }
   ],
   "source": [
    "df_predictions.head()"
   ]
  },
  {
   "cell_type": "code",
   "execution_count": 25,
   "metadata": {},
   "outputs": [],
   "source": [
    "df = df_predictions.copy()\n",
    "vote = []\n",
    "majority = []\n",
    "\n",
    "for row in df.itertuples():\n",
    "    vote_0 = sum([x == 0 for x in row[1:]])\n",
    "    vote_1 = sum([x == 1 for x in row[1:]])\n",
    "    if vote_0 == vote_1:\n",
    "        vote.append(-1)\n",
    "        majority.append(0)\n",
    "    elif vote_0 > vote_1:\n",
    "        vote.append(0)\n",
    "        majority.append(vote_0 - vote_1)\n",
    "    else:\n",
    "        vote.append(1)\n",
    "        majority.append(vote_1 - vote_0)\n",
    "\n",
    "vote = np.array(vote)\n",
    "majority = np.array(majority)\n",
    "\n",
    "tprs = [0.0]\n",
    "fprs = [0.0]\n",
    "trs = [max(majority) + 1]\n",
    "for threshold in reversed(range(1, max(majority) + 1)):\n",
    "    # mask that tells us whether the change of an output can be determined\n",
    "    has_outcome = (majority >= threshold)\n",
    "    # number of correct outcomes among those that could be predicted\n",
    "    correct = (true_outcome[has_outcome] == vote[has_outcome]).sum()\n",
    "    # number of incorrect = predicted - correct\n",
    "    incorrect = np.sum(has_outcome) - correct\n",
    "    # correctly predicted out of all\n",
    "    tpr = correct / len(vote)\n",
    "    # incorrectly predicted out of all\n",
    "    fpr = incorrect / len(vote)\n",
    "    tprs.append(tpr)\n",
    "    fprs.append(fpr)\n",
    "    trs.append(threshold)\n",
    "tprs.append(1)\n",
    "fprs.append(1)\n",
    "trs.append(0)"
   ]
  },
  {
   "cell_type": "code",
   "execution_count": 26,
   "metadata": {},
   "outputs": [
    {
     "name": "stdout",
     "output_type": "stream",
     "text": [
      "0.9413449324108675\n"
     ]
    }
   ],
   "source": [
    "auc_score = auc(fprs, tprs)\n",
    "print(auc_score)"
   ]
  },
  {
   "cell_type": "code",
   "execution_count": 27,
   "metadata": {},
   "outputs": [],
   "source": [
    "np.save(\"data/threshold-vote-full-tprs.npy\", tprs)\n",
    "np.save(\"data/threshold-vote-full-fprs.npy\", fprs)\n",
    "np.save(\"data/threshold-vote-full-trs.npy\", trs)"
   ]
  },
  {
   "cell_type": "code",
   "execution_count": 28,
   "metadata": {},
   "outputs": [
    {
     "name": "stdout",
     "output_type": "stream",
     "text": [
      "0.000000 \t 0.000000 \t 24.000000\n",
      "0.000000 \t 0.000000 \t 23.000000\n",
      "0.000000 \t 0.000000 \t 22.000000\n",
      "0.000000 \t 0.000010 \t 21.000000\n",
      "0.000000 \t 0.000070 \t 20.000000\n",
      "0.000000 \t 0.000400 \t 19.000000\n",
      "0.000000 \t 0.001440 \t 18.000000\n",
      "0.000000 \t 0.003920 \t 17.000000\n",
      "0.000000 \t 0.008810 \t 16.000000\n",
      "0.000000 \t 0.016900 \t 15.000000\n",
      "0.000000 \t 0.028920 \t 14.000000\n",
      "0.000000 \t 0.045920 \t 13.000000\n",
      "0.000000 \t 0.070690 \t 12.000000\n",
      "0.000010 \t 0.105120 \t 11.000000\n",
      "0.000030 \t 0.152030 \t 10.000000\n",
      "0.000080 \t 0.213140 \t 9.000000\n",
      "0.000250 \t 0.288100 \t 8.000000\n",
      "0.000730 \t 0.370470 \t 7.000000\n",
      "0.001750 \t 0.459210 \t 6.000000\n",
      "0.003980 \t 0.544610 \t 5.000000\n",
      "0.007460 \t 0.636130 \t 4.000000\n",
      "0.016270 \t 0.727200 \t 3.000000\n",
      "0.030630 \t 0.825690 \t 2.000000\n",
      "0.060610 \t 0.904310 \t 1.000000\n",
      "1.000000 \t 1.000000 \t 0.000000\n"
     ]
    }
   ],
   "source": [
    "for fpr, tpr, thr in zip(fprs, tprs, trs):\n",
    "    print('%f' % round(fpr, 5), \"\\t\", '%f' % round(tpr, 5), \"\\t\", '%f' % round(thr, 5))"
   ]
  },
  {
   "cell_type": "code",
   "execution_count": 29,
   "metadata": {},
   "outputs": [
    {
     "data": {
      "image/png": "[encoded data removed]",
      "text/plain": [
       "<Figure size 432x288 with 1 Axes>"
      ]
     },
     "metadata": {
      "needs_background": "light"
     },
     "output_type": "display_data"
    }
   ],
   "source": [
    "fig, ax = plt.subplots()\n",
    "\n",
    "sns.lineplot(x=fprs, y=tprs, clip_on=False)\n",
    "plt.axis(\"square\")\n",
    "ax.set_xlim(0, 1)\n",
    "ax.set_ylim(0, 1)\n",
    "\n",
    "legend_labels = [\"AUC = {}\".format(round(auc_score, 4))]\n",
    "\n",
    "ax.legend(legend_labels, frameon=False)\n",
    "ax.set_xlabel(\"False Positive Rate\")\n",
    "ax.set_ylabel(\"True Positive Rate\")\n",
    "sns.despine()\n",
    "plt.tight_layout()"
   ]
  },
  {
   "cell_type": "markdown",
   "metadata": {},
   "source": [
    "### Load cluster IDs"
   ]
  },
  {
   "cell_type": "code",
   "execution_count": 31,
   "metadata": {},
   "outputs": [],
   "source": [
    "cluster_ids = np.load(utils.get_base_path(\"heuristics/{}-cluster-ids.npy\".format(date_string)))"
   ]
  },
  {
   "cell_type": "code",
   "execution_count": 32,
   "metadata": {},
   "outputs": [
    {
     "data": {
      "text/plain": [
       "70514856"
      ]
     },
     "execution_count": 32,
     "metadata": {},
     "output_type": "execute_result"
    }
   ],
   "source": [
    "len(cluster_ids)"
   ]
  },
  {
   "cell_type": "code",
   "execution_count": 33,
   "metadata": {},
   "outputs": [
    {
     "data": {
      "text/plain": [
       "34398846"
      ]
     },
     "execution_count": 33,
     "metadata": {},
     "output_type": "execute_result"
    }
   ],
   "source": [
    "len(df_predictions)"
   ]
  },
  {
   "cell_type": "code",
   "execution_count": 34,
   "metadata": {},
   "outputs": [],
   "source": [
    "cluster_id_txes = [x for x, _ in utils.grouper(cluster_ids, 2)]"
   ]
  },
  {
   "cell_type": "code",
   "execution_count": 35,
   "metadata": {},
   "outputs": [],
   "source": [
    "cluster_id_txes = np.array(cluster_id_txes)[vote_mask]"
   ]
  },
  {
   "cell_type": "code",
   "execution_count": 37,
   "metadata": {},
   "outputs": [],
   "source": [
    "assert len(df_predictions) == len(cluster_id_txes)"
   ]
  },
  {
   "cell_type": "code",
   "execution_count": 36,
   "metadata": {},
   "outputs": [
    {
     "data": {
      "text/plain": [
       "(34398846, 34398846)"
      ]
     },
     "execution_count": 36,
     "metadata": {},
     "output_type": "execute_result"
    }
   ],
   "source": [
    "len(df_predictions), len(cluster_id_txes)"
   ]
  },
  {
   "cell_type": "code",
   "execution_count": 38,
   "metadata": {},
   "outputs": [],
   "source": [
    "del cluster_ids"
   ]
  },
  {
   "cell_type": "code",
   "execution_count": 39,
   "metadata": {},
   "outputs": [],
   "source": [
    "ib_idx, oob_idx = next(GroupShuffleSplit(n_splits=1, test_size=.2, random_state=1337).split(X=df_predictions, groups=cluster_id_txes))"
   ]
  },
  {
   "cell_type": "code",
   "execution_count": 40,
   "metadata": {},
   "outputs": [
    {
     "data": {
      "text/plain": [
       "(27768529, 6630317)"
      ]
     },
     "execution_count": 40,
     "metadata": {},
     "output_type": "execute_result"
    }
   ],
   "source": [
    "len(ib_idx), len(oob_idx)"
   ]
  },
  {
   "cell_type": "code",
   "execution_count": 41,
   "metadata": {},
   "outputs": [],
   "source": [
    "X_ib = df_predictions.iloc[ib_idx].copy()\n",
    "y_ib = true_outcome[ib_idx]\n",
    "X_oob  = df_predictions.iloc[oob_idx].copy()\n",
    "y_oob  = true_outcome[oob_idx]"
   ]
  },
  {
   "cell_type": "code",
   "execution_count": 42,
   "metadata": {},
   "outputs": [],
   "source": [
    "clusters_ib = cluster_id_txes[ib_idx]\n",
    "clusters_oob = cluster_id_txes[oob_idx]"
   ]
  },
  {
   "cell_type": "code",
   "execution_count": 44,
   "metadata": {},
   "outputs": [
    {
     "data": {
      "text/plain": [
       "4.188114836741592"
      ]
     },
     "execution_count": 44,
     "metadata": {},
     "output_type": "execute_result"
    }
   ],
   "source": [
    "len(ib_idx) / len(oob_idx)"
   ]
  },
  {
   "cell_type": "code",
   "execution_count": 45,
   "metadata": {},
   "outputs": [
    {
     "data": {
      "text/plain": [
       "3.999997159716256"
      ]
     },
     "execution_count": 45,
     "metadata": {},
     "output_type": "execute_result"
    }
   ],
   "source": [
    "len(set(clusters_ib)) / len(set(clusters_oob))"
   ]
  },
  {
   "cell_type": "code",
   "execution_count": 46,
   "metadata": {},
   "outputs": [
    {
     "data": {
      "text/plain": [
       "([(34508, 3424603),\n",
       "  (159191, 374220),\n",
       "  (23594133, 310348),\n",
       "  (20988006, 197155),\n",
       "  (23084303, 167784),\n",
       "  (12503851, 137011),\n",
       "  (40523343, 133746),\n",
       "  (23425421, 131235),\n",
       "  (105794406, 117648),\n",
       "  (127814957, 115212)],\n",
       " [(61817017, 355389),\n",
       "  (135574604, 232542),\n",
       "  (109995066, 198323),\n",
       "  (100100593, 107250),\n",
       "  (91901708, 98331),\n",
       "  (21357591, 75858),\n",
       "  (102513996, 69140),\n",
       "  (24516747, 65867),\n",
       "  (10996631, 49453),\n",
       "  (12200402, 49239)])"
      ]
     },
     "execution_count": 46,
     "metadata": {},
     "output_type": "execute_result"
    }
   ],
   "source": [
    "collections.Counter(clusters_ib).most_common(10), collections.Counter(clusters_oob).most_common(10)"
   ]
  },
  {
   "cell_type": "code",
   "execution_count": 47,
   "metadata": {},
   "outputs": [],
   "source": [
    "rf_clusters = ([(34508, 6849206),\n",
    "  (159191, 748440),\n",
    "  (23594133, 620696),\n",
    "  (20988006, 394310),\n",
    "  (23084303, 335568),\n",
    "  (12503851, 274022),\n",
    "  (40523343, 267492),\n",
    "  (23425421, 262470),\n",
    "  (105794406, 235296),\n",
    "  (127814957, 230424)],\n",
    " [(61817017, 710778),\n",
    "  (135574604, 465084),\n",
    "  (109995066, 396646),\n",
    "  (100100593, 214500),\n",
    "  (91901708, 196662),\n",
    "  (21357591, 151716),\n",
    "  (102513996, 138280),\n",
    "  (24516747, 131734),\n",
    "  (10996631, 98906),\n",
    "  (12200402, 98478)])"
   ]
  },
  {
   "cell_type": "code",
   "execution_count": 49,
   "metadata": {},
   "outputs": [],
   "source": [
    "assert len(X_ib) == len(y_ib)\n",
    "assert len(X_oob) == len(y_oob)\n",
    "assert len(X_ib) + len(X_oob) == len(df_predictions)\n",
    "assert len(set(X_ib.index).intersection(set(X_oob.index))) == 0"
   ]
  },
  {
   "cell_type": "code",
   "execution_count": 50,
   "metadata": {},
   "outputs": [],
   "source": [
    "assert len(set(clusters_ib).intersection(set(clusters_oob))) == 0"
   ]
  },
  {
   "cell_type": "markdown",
   "metadata": {},
   "source": [
    "### Apply to OOB set"
   ]
  },
  {
   "cell_type": "code",
   "execution_count": 51,
   "metadata": {},
   "outputs": [],
   "source": [
    "df = X_oob.copy()\n",
    "vote = []\n",
    "majority = []\n",
    "\n",
    "for row in df.itertuples():\n",
    "    vote_0 = sum([x == 0 for x in row[1:]])\n",
    "    vote_1 = sum([x == 1 for x in row[1:]])\n",
    "    if vote_0 == vote_1:\n",
    "        vote.append(-1)\n",
    "        majority.append(0)\n",
    "    elif vote_0 > vote_1:\n",
    "        vote.append(0)\n",
    "        majority.append(vote_0 - vote_1)\n",
    "    else:\n",
    "        vote.append(1)\n",
    "        majority.append(vote_1 - vote_0)\n",
    "\n",
    "vote = np.array(vote)\n",
    "majority = np.array(majority)\n",
    "\n",
    "tprs = [0.0]\n",
    "fprs = [0.0]\n",
    "trs = [2.0]\n",
    "for threshold in reversed(range(1, max(majority) + 1)):\n",
    "    # mask that tells us whether the change of an output can be determined\n",
    "    has_outcome = (majority >= threshold)\n",
    "    # number of correct outcomes among those that could be predicted\n",
    "    correct = (y_oob[has_outcome] == vote[has_outcome]).sum()\n",
    "    # number of incorrect = predicted - correct\n",
    "    incorrect = np.sum(has_outcome) - correct\n",
    "    # correctly predicted out of all\n",
    "    tpr = correct / len(vote)\n",
    "    # incorrectly predicted out of all\n",
    "    fpr = incorrect / len(vote)\n",
    "    tprs.append(tpr)\n",
    "    fprs.append(fpr)\n",
    "    trs.append(threshold)\n",
    "tprs.append(1)\n",
    "fprs.append(1)\n",
    "trs.append(0)"
   ]
  },
  {
   "cell_type": "code",
   "execution_count": 52,
   "metadata": {},
   "outputs": [],
   "source": [
    "auc_score = auc(fprs, tprs)"
   ]
  },
  {
   "cell_type": "code",
   "execution_count": 53,
   "metadata": {},
   "outputs": [
    {
     "data": {
      "text/plain": [
       "0.9524305960856431"
      ]
     },
     "execution_count": 53,
     "metadata": {},
     "output_type": "execute_result"
    }
   ],
   "source": [
    "auc_score"
   ]
  },
  {
   "cell_type": "code",
   "execution_count": 54,
   "metadata": {},
   "outputs": [],
   "source": [
    "np.save(\"data/threshold-vote-oob-tprs.npy\", tprs)\n",
    "np.save(\"data/threshold-vote-oob-fprs.npy\", fprs)\n",
    "np.save(\"data/threshold-vote-oob-trs.npy\", trs)"
   ]
  },
  {
   "cell_type": "code",
   "execution_count": 43,
   "metadata": {},
   "outputs": [
    {
     "data": {
      "image/png": "[encoded data removed]",
      "text/plain": [
       "<Figure size 432x288 with 1 Axes>"
      ]
     },
     "metadata": {
      "needs_background": "light"
     },
     "output_type": "display_data"
    }
   ],
   "source": [
    "fig, ax = plt.subplots()\n",
    "\n",
    "sns.lineplot(x=fprs, y=tprs, clip_on=False)\n",
    "plt.axis(\"square\")\n",
    "ax.set_xlim(0, 1)\n",
    "ax.set_ylim(0, 1)\n",
    "\n",
    "legend_labels = [\"AUC = {}\".format(round(auc_score, 4))]\n",
    "\n",
    "ax.legend(legend_labels, frameon=False)\n",
    "ax.set_xlabel(\"False Positive Rate\")\n",
    "ax.set_ylabel(\"True Positive Rate\")\n",
    "sns.despine()\n",
    "plt.tight_layout()\n",
    "plt.savefig(\"majority-vote-testset.pdf\")"
   ]
  },
  {
   "cell_type": "code",
   "execution_count": 44,
   "metadata": {},
   "outputs": [
    {
     "name": "stdout",
     "output_type": "stream",
     "text": [
      "0.000000 \t 0.000000 \t 2.0\n",
      "0.000000 \t 0.000000 \t 22\n",
      "0.000000 \t 0.000010 \t 21\n",
      "0.000000 \t 0.000060 \t 20\n",
      "0.000000 \t 0.000330 \t 19\n",
      "0.000000 \t 0.001200 \t 18\n",
      "0.000000 \t 0.003370 \t 17\n",
      "0.000000 \t 0.007740 \t 16\n",
      "0.000000 \t 0.015220 \t 15\n",
      "0.000000 \t 0.027050 \t 14\n",
      "0.000000 \t 0.044110 \t 13\n",
      "0.000000 \t 0.069330 \t 12\n",
      "0.000010 \t 0.104690 \t 11\n",
      "0.000030 \t 0.153350 \t 10\n",
      "0.000090 \t 0.218030 \t 9\n",
      "0.000260 \t 0.298760 \t 8\n",
      "0.000610 \t 0.390360 \t 7\n",
      "0.001300 \t 0.483730 \t 6\n",
      "0.002570 \t 0.573110 \t 5\n",
      "0.004610 \t 0.668600 \t 4\n",
      "0.009500 \t 0.758770 \t 3\n",
      "0.021260 \t 0.850330 \t 2\n",
      "0.048860 \t 0.922200 \t 1\n",
      "1.000000 \t 1.000000 \t 0\n"
     ]
    }
   ],
   "source": [
    "for fpr, tpr, tr in zip(fprs, tprs, trs):\n",
    "    print('%f' % round(fpr, 5), \"\\t\", '%f' % round(tpr, 5), '\\t', tr)"
   ]
  },
  {
   "cell_type": "markdown",
   "metadata": {},
   "source": [
    "### Build combined plot"
   ]
  },
  {
   "cell_type": "code",
   "execution_count": 45,
   "metadata": {},
   "outputs": [],
   "source": [
    "fpr_oob = np.load(\"oob-fpr.npy\")\n",
    "tpr_oob = np.load(\"oob-tpr.npy\")\n",
    "roc_auc_oob = np.load(\"oob-auc.npy\")"
   ]
  },
  {
   "cell_type": "code",
   "execution_count": 47,
   "metadata": {},
   "outputs": [
    {
     "data": {
      "image/png": "[encoded data removed]",
      "text/plain": [
       "<Figure size 324x324 with 1 Axes>"
      ]
     },
     "metadata": {
      "needs_background": "light"
     },
     "output_type": "display_data"
    }
   ],
   "source": [
    "# Plot Out-of-bag manually\n",
    "fig, ax = plt.subplots(figsize=(4.5,4.5))\n",
    "ax.plot(fpr_oob,tpr_oob)\n",
    "ax.plot(fprs, tprs)\n",
    "ax.set_ylim(0, 1)\n",
    "ax.set_xlim(0.00001, 1)\n",
    "ax.set_xscale(\"log\")\n",
    "legend_label = [\"Random forest classifier\", \"Threshold vote\"]\n",
    "ax.legend(legend_label, frameon=False)\n",
    "ax.set_xlabel(\"False Positive Rate\")\n",
    "ax.set_ylabel(\"True Positive Rate\")\n",
    "sns.despine()\n",
    "plt.tight_layout()\n",
    "plt.savefig(\"rf-vote-comparison.pdf\")"
   ]
  }
 ],
 "metadata": {
  "kernelspec": {
   "display_name": "Python 3",
   "language": "python",
   "name": "python3"
  },
  "language_info": {
   "codemirror_mode": {
    "name": "ipython",
    "version": 3
   },
   "file_extension": ".py",
   "mimetype": "text/x-python",
   "name": "python",
   "nbconvert_exporter": "python",
   "pygments_lexer": "ipython3",
   "version": "3.8.8"
  }
 },
 "nbformat": 4,
 "nbformat_minor": 4
}
