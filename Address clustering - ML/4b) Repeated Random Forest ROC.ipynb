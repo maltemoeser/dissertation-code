{
 "cells": [
  {
   "cell_type": "code",
   "execution_count": 1,
   "metadata": {},
   "outputs": [],
   "source": [
    "import pandas as pd\n",
    "import matplotlib.pyplot as plt\n",
    "import numpy as np\n",
    "import seaborn as sns"
   ]
  },
  {
   "cell_type": "code",
   "execution_count": 2,
   "metadata": {},
   "outputs": [],
   "source": [
    "from sklearn.ensemble import RandomForestClassifier"
   ]
  },
  {
   "cell_type": "code",
   "execution_count": 3,
   "metadata": {},
   "outputs": [],
   "source": [
    "from sklearn.model_selection import KFold, GroupKFold, cross_val_score, train_test_split, ShuffleSplit, GroupShuffleSplit"
   ]
  },
  {
   "cell_type": "code",
   "execution_count": 4,
   "metadata": {},
   "outputs": [],
   "source": [
    "from sklearn.metrics import roc_curve, plot_roc_curve, RocCurveDisplay, auc, roc_auc_score"
   ]
  },
  {
   "cell_type": "code",
   "execution_count": 5,
   "metadata": {},
   "outputs": [],
   "source": [
    "from sklearn.experimental import enable_halving_search_cv"
   ]
  },
  {
   "cell_type": "code",
   "execution_count": 6,
   "metadata": {},
   "outputs": [],
   "source": [
    "from sklearn.model_selection import HalvingGridSearchCV"
   ]
  },
  {
   "cell_type": "code",
   "execution_count": 7,
   "metadata": {},
   "outputs": [],
   "source": [
    "sns.set_theme(style=\"ticks\")"
   ]
  },
  {
   "cell_type": "code",
   "execution_count": 8,
   "metadata": {},
   "outputs": [],
   "source": [
    "import random"
   ]
  },
  {
   "cell_type": "code",
   "execution_count": 9,
   "metadata": {},
   "outputs": [],
   "source": [
    "import collections"
   ]
  },
  {
   "cell_type": "code",
   "execution_count": 10,
   "metadata": {},
   "outputs": [],
   "source": [
    "import gc"
   ]
  },
  {
   "cell_type": "code",
   "execution_count": 11,
   "metadata": {},
   "outputs": [],
   "source": [
    "import utils"
   ]
  },
  {
   "cell_type": "code",
   "execution_count": 12,
   "metadata": {},
   "outputs": [],
   "source": [
    "date_string = \"20210720\""
   ]
  },
  {
   "cell_type": "markdown",
   "metadata": {},
   "source": [
    "### Import data"
   ]
  },
  {
   "cell_type": "code",
   "execution_count": 13,
   "metadata": {},
   "outputs": [],
   "source": [
    "y = np.load(utils.get_base_path(\"evaluation/{}_outcomes.npy\".format(date_string)))"
   ]
  },
  {
   "cell_type": "code",
   "execution_count": 14,
   "metadata": {},
   "outputs": [
    {
     "name": "stderr",
     "output_type": "stream",
     "text": [
      "/n/fs/grad/mmoeser/change/venv/lib64/python3.7/site-packages/numpy/lib/arraysetops.py:580: FutureWarning: elementwise comparison failed; returning scalar instead, but in the future will perform elementwise comparison\n",
      "  mask |= (ar1 == a)\n"
     ]
    }
   ],
   "source": [
    "X = pd.read_csv(utils.get_base_path(\"evaluation/{}-combined.csv\".format(date_string)), index_col=0, dtype=utils.get_X_dtypes())"
   ]
  },
  {
   "cell_type": "code",
   "execution_count": 15,
   "metadata": {},
   "outputs": [],
   "source": [
    "X[\"ct_epoch\"] = X[\"ct_block_height\"] // 1008"
   ]
  },
  {
   "cell_type": "code",
   "execution_count": 16,
   "metadata": {},
   "outputs": [
    {
     "data": {
      "text/plain": [
       "Index(['optimal_change', 'optimal_change_with_fee', 'address_type',\n",
       "       'power_of_ten_2', 'power_of_ten_3', 'power_of_ten_4', 'power_of_ten_5',\n",
       "       'power_of_ten_6', 'power_of_ten_7', 'fp_inout_count', 'fp_output_count',\n",
       "       'fp_zeroconf', 'fp_multisig', 'fp_p2pkh', 'fp_absolute_fee',\n",
       "       'fp_relative_fee', 'fp_version', 'fp_locktime', 'fp_rbf', 'fp_segwit',\n",
       "       'fp_possible_segwit', 'fp_ordered_inouts', 'fp_address_type', 'fp_p2sh',\n",
       "       'fp_p2wsh', 'fp_p2wpkh', 'co_output_value', 'co_is_larger_output',\n",
       "       'co_output_value_ratio', 'co_output_index', 'co_fresh_output',\n",
       "       'co_other_fresh', 'ct_fee', 'ct_fee_per_byte', 'ct_tx_value',\n",
       "       'ct_version', 'ct_segwit_tx', 'ct_has_locktime', 'ct_block_height',\n",
       "       'ct_input_count', 'ct_epoch'],\n",
       "      dtype='object')"
      ]
     },
     "execution_count": 16,
     "metadata": {},
     "output_type": "execute_result"
    }
   ],
   "source": [
    "X.columns"
   ]
  },
  {
   "cell_type": "code",
   "execution_count": 17,
   "metadata": {},
   "outputs": [],
   "source": [
    "X.drop(columns=[\"ct_fee\", \"co_output_value\", \"ct_block_height\", \"co_is_larger_output\", \"co_fresh_output\", \"co_other_fresh\"], inplace=True)"
   ]
  },
  {
   "cell_type": "code",
   "execution_count": 18,
   "metadata": {},
   "outputs": [],
   "source": [
    "X_cols = X.columns"
   ]
  },
  {
   "cell_type": "code",
   "execution_count": 19,
   "metadata": {},
   "outputs": [],
   "source": [
    "mask_full = np.load(utils.get_base_path(\"evaluation/{}_mask.npy\".format(date_string)))"
   ]
  },
  {
   "cell_type": "code",
   "execution_count": 20,
   "metadata": {},
   "outputs": [
    {
     "data": {
      "text/plain": [
       "34398846"
      ]
     },
     "execution_count": 20,
     "metadata": {},
     "output_type": "execute_result"
    }
   ],
   "source": [
    "np.sum(mask_full) // 2"
   ]
  },
  {
   "cell_type": "code",
   "execution_count": 21,
   "metadata": {},
   "outputs": [
    {
     "data": {
      "text/plain": [
       "35257428"
      ]
     },
     "execution_count": 21,
     "metadata": {},
     "output_type": "execute_result"
    }
   ],
   "source": [
    "len(X) // 2"
   ]
  },
  {
   "cell_type": "code",
   "execution_count": 22,
   "metadata": {},
   "outputs": [],
   "source": [
    "assert len(mask_full) == len(X)"
   ]
  },
  {
   "cell_type": "code",
   "execution_count": 23,
   "metadata": {},
   "outputs": [],
   "source": [
    "X = X[mask_full].copy()\n",
    "y = y[mask_full]"
   ]
  },
  {
   "cell_type": "code",
   "execution_count": 24,
   "metadata": {},
   "outputs": [],
   "source": [
    "assert len(X) == np.sum(mask_full)\n",
    "assert len(y) == np.sum(mask_full)"
   ]
  },
  {
   "cell_type": "code",
   "execution_count": 25,
   "metadata": {},
   "outputs": [],
   "source": [
    "cluster_ids = np.load(utils.get_base_path(\"heuristics/{}-cluster-ids.npy\".format(date_string)))"
   ]
  },
  {
   "cell_type": "code",
   "execution_count": 26,
   "metadata": {},
   "outputs": [],
   "source": [
    "assert len(cluster_ids) == len(mask_full)"
   ]
  },
  {
   "cell_type": "code",
   "execution_count": 27,
   "metadata": {},
   "outputs": [],
   "source": [
    "cluster_groups = cluster_ids[mask_full]"
   ]
  },
  {
   "cell_type": "code",
   "execution_count": 28,
   "metadata": {},
   "outputs": [],
   "source": [
    "assert len(cluster_groups) == np.sum(mask_full)"
   ]
  },
  {
   "cell_type": "markdown",
   "metadata": {},
   "source": [
    "### Compute a 80/20 split to get an out-of-bag sample\n",
    "\n",
    "We will evaluate the performance of the optimized classifier on this sample at the end."
   ]
  },
  {
   "cell_type": "code",
   "execution_count": 58,
   "metadata": {},
   "outputs": [],
   "source": [
    "shuffler = GroupShuffleSplit(n_splits=21, test_size=.2, random_state=1337).split(X=X, groups=cluster_groups)"
   ]
  },
  {
   "cell_type": "code",
   "execution_count": 59,
   "metadata": {},
   "outputs": [],
   "source": [
    "true_outcomes = []\n",
    "predictions = []"
   ]
  },
  {
   "cell_type": "code",
   "execution_count": null,
   "metadata": {},
   "outputs": [
    {
     "name": "stdout",
     "output_type": "stream",
     "text": [
      "0 0.9986229868737648\n",
      "1 0.9984249993733587\n",
      "2 0.9950714545688537\n",
      "3 0.9983298548132873\n",
      "4 0.9982628677586523\n",
      "5 0.9973470808790208\n",
      "6 0.9985896158403995\n"
     ]
    }
   ],
   "source": [
    "iteration = 0\n",
    "for ib_idx, oob_idx in shuffler:\n",
    "    assert len(ib_idx) + len(oob_idx) == len(X)\n",
    "    assert len(ib_idx) > len(oob_idx)\n",
    "    \n",
    "    X_ib = X.iloc[ib_idx].copy()\n",
    "    y_ib = y[ib_idx]\n",
    "    X_oob  = X.iloc[oob_idx].copy()\n",
    "    y_oob  = y[oob_idx]\n",
    "    \n",
    "    clusters_ib = cluster_groups[ib_idx]\n",
    "    clusters_oob = cluster_groups[oob_idx]\n",
    "    \n",
    "    assert len(X_ib) == len(y_ib)\n",
    "    assert len(X_oob) == len(y_oob)\n",
    "    assert len(X_ib) + len(X_oob) == len(X)\n",
    "    assert len(set(X_ib.index).intersection(set(X_oob.index))) == 0\n",
    "    assert len(set(clusters_ib).intersection(set(clusters_oob))) == 0\n",
    "    \n",
    "    rfc = RandomForestClassifier(random_state=1337+iteration, n_jobs=34, n_estimators=100, max_features=7, min_samples_split=20, min_samples_leaf=10)\n",
    "    rfc.fit(X_ib, y_ib)\n",
    "    oob_prediction = rfc.predict_proba(X_oob)[:, 1]\n",
    "    true_outcomes.append(y_oob)\n",
    "    predictions.append(oob_prediction)\n",
    "    print(iteration, roc_auc_score(y_oob, oob_prediction))\n",
    "    iteration += 1"
   ]
  },
  {
   "cell_type": "code",
   "execution_count": 61,
   "metadata": {},
   "outputs": [
    {
     "data": {
      "text/plain": [
       "21"
      ]
     },
     "execution_count": 61,
     "metadata": {},
     "output_type": "execute_result"
    }
   ],
   "source": [
    "len(predictions)"
   ]
  },
  {
   "cell_type": "code",
   "execution_count": 62,
   "metadata": {},
   "outputs": [],
   "source": [
    "auc_scores = [roc_auc_score(y_true, y_pred) for y_true, y_pred in zip(true_outcomes, predictions)]"
   ]
  },
  {
   "cell_type": "code",
   "execution_count": 63,
   "metadata": {},
   "outputs": [
    {
     "data": {
      "text/plain": [
       "[0.9986229868737648,\n",
       " 0.9984249993733587,\n",
       " 0.9950714545688537,\n",
       " 0.9983298548132873,\n",
       " 0.9982628677586523,\n",
       " 0.9973470808790208,\n",
       " 0.9985896158403995,\n",
       " 0.9982329332111143,\n",
       " 0.9983892450220624,\n",
       " 0.9950100629721692,\n",
       " 0.9983534572952724,\n",
       " 0.9948278316598314,\n",
       " 0.9933214458093278,\n",
       " 0.9983150954447471,\n",
       " 0.9984347559563747,\n",
       " 0.9954865807362259,\n",
       " 0.9985156084904427,\n",
       " 0.9982298239033813,\n",
       " 0.9984310243350356,\n",
       " 0.9976785848751722,\n",
       " 0.9984140471062588]"
      ]
     },
     "execution_count": 63,
     "metadata": {},
     "output_type": "execute_result"
    }
   ],
   "source": [
    "auc_scores"
   ]
  },
  {
   "cell_type": "code",
   "execution_count": 64,
   "metadata": {},
   "outputs": [
    {
     "data": {
      "text/plain": [
       "(0.9973833185025495, 0.001592319875743588)"
      ]
     },
     "execution_count": 64,
     "metadata": {},
     "output_type": "execute_result"
    }
   ],
   "source": [
    "np.mean(auc_scores[1:]), np.std(auc_scores[1:])"
   ]
  },
  {
   "cell_type": "code",
   "execution_count": null,
   "metadata": {},
   "outputs": [],
   "source": []
  }
 ],
 "metadata": {
  "kernelspec": {
   "display_name": "Python 3",
   "language": "python",
   "name": "python3"
  },
  "language_info": {
   "codemirror_mode": {
    "name": "ipython",
    "version": 3
   },
   "file_extension": ".py",
   "mimetype": "text/x-python",
   "name": "python",
   "nbconvert_exporter": "python",
   "pygments_lexer": "ipython3",
   "version": "3.8.8"
  }
 },
 "nbformat": 4,
 "nbformat_minor": 4
}
