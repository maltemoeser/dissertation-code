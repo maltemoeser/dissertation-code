{
 "cells": [
  {
   "cell_type": "code",
   "execution_count": 1,
   "metadata": {},
   "outputs": [],
   "source": [
    "import pandas as pd\n",
    "import matplotlib.pyplot as plt\n",
    "import numpy as np\n",
    "import seaborn as sns"
   ]
  },
  {
   "cell_type": "code",
   "execution_count": 2,
   "metadata": {},
   "outputs": [],
   "source": [
    "import joblib"
   ]
  },
  {
   "cell_type": "code",
   "execution_count": 3,
   "metadata": {},
   "outputs": [],
   "source": [
    "from sklearn.ensemble import RandomForestClassifier"
   ]
  },
  {
   "cell_type": "code",
   "execution_count": 4,
   "metadata": {},
   "outputs": [],
   "source": [
    "import random"
   ]
  },
  {
   "cell_type": "code",
   "execution_count": 5,
   "metadata": {},
   "outputs": [],
   "source": [
    "import gc"
   ]
  },
  {
   "cell_type": "code",
   "execution_count": 6,
   "metadata": {},
   "outputs": [],
   "source": [
    "import utils"
   ]
  },
  {
   "cell_type": "markdown",
   "metadata": {},
   "source": [
    "### Load classifiers"
   ]
  },
  {
   "cell_type": "code",
   "execution_count": 7,
   "metadata": {},
   "outputs": [],
   "source": [
    "X_cols = joblib.load(utils.get_base_path('model/X_columns_full.pkl'))"
   ]
  },
  {
   "cell_type": "code",
   "execution_count": 8,
   "metadata": {},
   "outputs": [],
   "source": [
    "rfc_full = joblib.load(utils.get_base_path(\"model/rfc-full.pkl\"))"
   ]
  },
  {
   "cell_type": "code",
   "execution_count": 9,
   "metadata": {},
   "outputs": [],
   "source": [
    "X_nofp_cols = joblib.load(utils.get_base_path('model/X_columns_nofp.pkl'))"
   ]
  },
  {
   "cell_type": "code",
   "execution_count": 10,
   "metadata": {},
   "outputs": [],
   "source": [
    "rfc_nofp = joblib.load(utils.get_base_path(\"model/rfc-nofp.pkl\"))"
   ]
  },
  {
   "cell_type": "code",
   "execution_count": 11,
   "metadata": {},
   "outputs": [],
   "source": [
    "X_dtypes = utils.get_X_dtypes()"
   ]
  },
  {
   "cell_type": "markdown",
   "metadata": {},
   "source": [
    "### Load data"
   ]
  },
  {
   "cell_type": "code",
   "execution_count": 12,
   "metadata": {},
   "outputs": [
    {
     "name": "stderr",
     "output_type": "stream",
     "text": [
      "/n/fs/grad/mmoeser/change/venv/lib64/python3.7/site-packages/numpy/lib/arraysetops.py:580: FutureWarning: elementwise comparison failed; returning scalar instead, but in the future will perform elementwise comparison\n",
      "  mask |= (ar1 == a)\n"
     ]
    },
    {
     "name": "stdout",
     "output_type": "stream",
     "text": [
      "CPU times: user 5min 50s, sys: 40.7 s, total: 6min 30s\n",
      "Wall time: 7min 34s\n"
     ]
    }
   ],
   "source": [
    "%time full_output = pd.read_csv(utils.get_base_path(\"export/20210720-ch-output.csv\"), index_col=0, dtype=X_dtypes)"
   ]
  },
  {
   "cell_type": "code",
   "execution_count": 13,
   "metadata": {},
   "outputs": [
    {
     "name": "stdout",
     "output_type": "stream",
     "text": [
      "CPU times: user 4min 39s, sys: 1min 7s, total: 5min 47s\n",
      "Wall time: 6min 5s\n"
     ]
    }
   ],
   "source": [
    "%time full_txes = pd.read_csv(utils.get_base_path(\"export/20210720-ch-tx.csv\"), index_col=0, dtype=X_dtypes)"
   ]
  },
  {
   "cell_type": "code",
   "execution_count": 14,
   "metadata": {},
   "outputs": [
    {
     "name": "stdout",
     "output_type": "stream",
     "text": [
      "CPU times: user 3min 47s, sys: 18.5 s, total: 4min 5s\n",
      "Wall time: 4min 10s\n"
     ]
    }
   ],
   "source": [
    "%time full_heuristics = pd.read_csv(utils.get_base_path(\"export/20210720-normal-heuristics.csv\"), index_col=0, dtype=X_dtypes)"
   ]
  },
  {
   "cell_type": "code",
   "execution_count": 15,
   "metadata": {},
   "outputs": [
    {
     "name": "stdout",
     "output_type": "stream",
     "text": [
      "CPU times: user 6min 57s, sys: 46.4 s, total: 7min 44s\n",
      "Wall time: 7min 50s\n"
     ]
    }
   ],
   "source": [
    "%time full_fp = pd.read_csv(utils.get_base_path(\"export/20210720-fingerprint-heuristics.csv\"), index_col=0, dtype=X_dtypes)"
   ]
  },
  {
   "cell_type": "code",
   "execution_count": 16,
   "metadata": {},
   "outputs": [],
   "source": [
    "assert len(full_output) == len(full_txes)\n",
    "assert len(full_output) == len(full_heuristics)\n",
    "assert len(full_output) == len(full_fp)"
   ]
  },
  {
   "cell_type": "markdown",
   "metadata": {},
   "source": [
    "#### Modify variables to match model"
   ]
  },
  {
   "cell_type": "code",
   "execution_count": 17,
   "metadata": {},
   "outputs": [],
   "source": [
    "full_txes[\"ct_epoch\"] = full_txes[\"ct_block_height\"] // 1008"
   ]
  },
  {
   "cell_type": "code",
   "execution_count": 18,
   "metadata": {},
   "outputs": [],
   "source": [
    "full_txes.drop(columns=[\"ct_fee\", \"ct_block_height\"], inplace=True)\n",
    "full_output.drop(columns=[\"co_output_value\", \"co_is_larger_output\", \"co_fresh_output\", \"co_other_fresh\"], inplace=True)"
   ]
  },
  {
   "cell_type": "markdown",
   "metadata": {},
   "source": [
    "#### Concat individual dataframes"
   ]
  },
  {
   "cell_type": "code",
   "execution_count": 19,
   "metadata": {},
   "outputs": [],
   "source": [
    "full_X_merge = pd.concat([full_output, full_txes, full_heuristics, full_fp], axis=1)"
   ]
  },
  {
   "cell_type": "code",
   "execution_count": 20,
   "metadata": {},
   "outputs": [],
   "source": [
    "del full_output, full_txes, full_heuristics, full_fp"
   ]
  },
  {
   "cell_type": "markdown",
   "metadata": {},
   "source": [
    "#### Check columns are correct size"
   ]
  },
  {
   "cell_type": "code",
   "execution_count": 21,
   "metadata": {},
   "outputs": [],
   "source": [
    "assert len(X_cols) == len(full_X_merge.columns)"
   ]
  },
  {
   "cell_type": "code",
   "execution_count": 22,
   "metadata": {},
   "outputs": [],
   "source": [
    "assert set(X_cols) == set(full_X_merge.columns)"
   ]
  },
  {
   "cell_type": "code",
   "execution_count": 23,
   "metadata": {},
   "outputs": [
    {
     "data": {
      "text/plain": [
       "False"
      ]
     },
     "execution_count": 23,
     "metadata": {},
     "output_type": "execute_result"
    }
   ],
   "source": [
    "(X_cols == full_X_merge.columns).all()"
   ]
  },
  {
   "cell_type": "markdown",
   "metadata": {},
   "source": [
    "#### Reorder columns is necessary for classifiers"
   ]
  },
  {
   "cell_type": "code",
   "execution_count": 24,
   "metadata": {},
   "outputs": [],
   "source": [
    "full_X = full_X_merge[X_cols]"
   ]
  },
  {
   "cell_type": "code",
   "execution_count": 25,
   "metadata": {},
   "outputs": [],
   "source": [
    "assert (X_cols == full_X.columns).all()"
   ]
  },
  {
   "cell_type": "code",
   "execution_count": 26,
   "metadata": {},
   "outputs": [],
   "source": [
    "del full_X_merge"
   ]
  },
  {
   "cell_type": "markdown",
   "metadata": {},
   "source": [
    "#### Get a mask of transactions where there is not at least one heuristic vote"
   ]
  },
  {
   "cell_type": "code",
   "execution_count": 27,
   "metadata": {},
   "outputs": [],
   "source": [
    "CHARACTERISTICS_COLS = [x for x in full_X if x[:3] == \"co_\" or x[:3] == \"ct_\"]"
   ]
  },
  {
   "cell_type": "code",
   "execution_count": 28,
   "metadata": {},
   "outputs": [],
   "source": [
    "mask_at_least_one = (full_X.drop(columns=CHARACTERISTICS_COLS) != -1).any(1)"
   ]
  },
  {
   "cell_type": "code",
   "execution_count": 29,
   "metadata": {},
   "outputs": [
    {
     "data": {
      "text/plain": [
       "(619306108, 598218668)"
      ]
     },
     "execution_count": 29,
     "metadata": {},
     "output_type": "execute_result"
    }
   ],
   "source": [
    "len(full_X), np.sum(mask_at_least_one)"
   ]
  },
  {
   "cell_type": "code",
   "execution_count": 30,
   "metadata": {},
   "outputs": [
    {
     "data": {
      "text/plain": [
       "21087440"
      ]
     },
     "execution_count": 30,
     "metadata": {},
     "output_type": "execute_result"
    }
   ],
   "source": [
    "len(full_X) - np.sum(mask_at_least_one)"
   ]
  },
  {
   "cell_type": "code",
   "execution_count": 31,
   "metadata": {},
   "outputs": [
    {
     "data": {
      "text/plain": [
       "264"
      ]
     },
     "execution_count": 31,
     "metadata": {},
     "output_type": "execute_result"
    }
   ],
   "source": [
    "gc.collect()"
   ]
  },
  {
   "cell_type": "markdown",
   "metadata": {},
   "source": [
    "### Update categorical variables"
   ]
  },
  {
   "cell_type": "code",
   "execution_count": 32,
   "metadata": {},
   "outputs": [],
   "source": [
    "CATEGORICAL_COLUMNS = [x for x in full_X.columns if x[:3] != \"ct_\" and x[:3] != \"co_\"]"
   ]
  },
  {
   "cell_type": "code",
   "execution_count": 33,
   "metadata": {},
   "outputs": [
    {
     "data": {
      "text/html": [
       "<div>\n",
       "<style scoped>\n",
       "    .dataframe tbody tr th:only-of-type {\n",
       "        vertical-align: middle;\n",
       "    }\n",
       "\n",
       "    .dataframe tbody tr th {\n",
       "        vertical-align: top;\n",
       "    }\n",
       "\n",
       "    .dataframe thead th {\n",
       "        text-align: right;\n",
       "    }\n",
       "</style>\n",
       "<table border=\"1\" class=\"dataframe\">\n",
       "  <thead>\n",
       "    <tr style=\"text-align: right;\">\n",
       "      <th></th>\n",
       "      <th>optimal_change</th>\n",
       "      <th>optimal_change_with_fee</th>\n",
       "      <th>address_type</th>\n",
       "      <th>power_of_ten_2</th>\n",
       "      <th>power_of_ten_3</th>\n",
       "      <th>power_of_ten_4</th>\n",
       "      <th>power_of_ten_5</th>\n",
       "      <th>power_of_ten_6</th>\n",
       "      <th>power_of_ten_7</th>\n",
       "      <th>fp_inout_count</th>\n",
       "      <th>...</th>\n",
       "      <th>fp_p2wpkh</th>\n",
       "      <th>co_output_value_ratio</th>\n",
       "      <th>co_output_index</th>\n",
       "      <th>ct_fee_per_byte</th>\n",
       "      <th>ct_tx_value</th>\n",
       "      <th>ct_version</th>\n",
       "      <th>ct_segwit_tx</th>\n",
       "      <th>ct_has_locktime</th>\n",
       "      <th>ct_input_count</th>\n",
       "      <th>ct_epoch</th>\n",
       "    </tr>\n",
       "  </thead>\n",
       "  <tbody>\n",
       "    <tr>\n",
       "      <th>0</th>\n",
       "      <td>1</td>\n",
       "      <td>1</td>\n",
       "      <td>-1</td>\n",
       "      <td>-1</td>\n",
       "      <td>-1</td>\n",
       "      <td>-1</td>\n",
       "      <td>-1</td>\n",
       "      <td>-1</td>\n",
       "      <td>1</td>\n",
       "      <td>1</td>\n",
       "      <td>...</td>\n",
       "      <td>-1</td>\n",
       "      <td>0.004933</td>\n",
       "      <td>0</td>\n",
       "      <td>1124</td>\n",
       "      <td>1004978000000</td>\n",
       "      <td>1</td>\n",
       "      <td>0</td>\n",
       "      <td>False</td>\n",
       "      <td>168</td>\n",
       "      <td>28</td>\n",
       "    </tr>\n",
       "    <tr>\n",
       "      <th>1</th>\n",
       "      <td>0</td>\n",
       "      <td>0</td>\n",
       "      <td>-1</td>\n",
       "      <td>-1</td>\n",
       "      <td>-1</td>\n",
       "      <td>-1</td>\n",
       "      <td>-1</td>\n",
       "      <td>-1</td>\n",
       "      <td>0</td>\n",
       "      <td>0</td>\n",
       "      <td>...</td>\n",
       "      <td>-1</td>\n",
       "      <td>0.995067</td>\n",
       "      <td>1</td>\n",
       "      <td>1124</td>\n",
       "      <td>1004978000000</td>\n",
       "      <td>1</td>\n",
       "      <td>0</td>\n",
       "      <td>False</td>\n",
       "      <td>168</td>\n",
       "      <td>28</td>\n",
       "    </tr>\n",
       "    <tr>\n",
       "      <th>2</th>\n",
       "      <td>1</td>\n",
       "      <td>1</td>\n",
       "      <td>1</td>\n",
       "      <td>-1</td>\n",
       "      <td>-1</td>\n",
       "      <td>-1</td>\n",
       "      <td>-1</td>\n",
       "      <td>-1</td>\n",
       "      <td>-1</td>\n",
       "      <td>-1</td>\n",
       "      <td>...</td>\n",
       "      <td>-1</td>\n",
       "      <td>0.004833</td>\n",
       "      <td>0</td>\n",
       "      <td>0</td>\n",
       "      <td>90000000000</td>\n",
       "      <td>1</td>\n",
       "      <td>0</td>\n",
       "      <td>False</td>\n",
       "      <td>18</td>\n",
       "      <td>28</td>\n",
       "    </tr>\n",
       "    <tr>\n",
       "      <th>3</th>\n",
       "      <td>0</td>\n",
       "      <td>0</td>\n",
       "      <td>0</td>\n",
       "      <td>-1</td>\n",
       "      <td>-1</td>\n",
       "      <td>-1</td>\n",
       "      <td>-1</td>\n",
       "      <td>-1</td>\n",
       "      <td>-1</td>\n",
       "      <td>-1</td>\n",
       "      <td>...</td>\n",
       "      <td>-1</td>\n",
       "      <td>0.995167</td>\n",
       "      <td>1</td>\n",
       "      <td>0</td>\n",
       "      <td>90000000000</td>\n",
       "      <td>1</td>\n",
       "      <td>0</td>\n",
       "      <td>False</td>\n",
       "      <td>18</td>\n",
       "      <td>28</td>\n",
       "    </tr>\n",
       "    <tr>\n",
       "      <th>4</th>\n",
       "      <td>-1</td>\n",
       "      <td>-1</td>\n",
       "      <td>0</td>\n",
       "      <td>-1</td>\n",
       "      <td>-1</td>\n",
       "      <td>-1</td>\n",
       "      <td>-1</td>\n",
       "      <td>-1</td>\n",
       "      <td>-1</td>\n",
       "      <td>-1</td>\n",
       "      <td>...</td>\n",
       "      <td>-1</td>\n",
       "      <td>0.200000</td>\n",
       "      <td>0</td>\n",
       "      <td>0</td>\n",
       "      <td>5000000000</td>\n",
       "      <td>1</td>\n",
       "      <td>0</td>\n",
       "      <td>False</td>\n",
       "      <td>1</td>\n",
       "      <td>28</td>\n",
       "    </tr>\n",
       "  </tbody>\n",
       "</table>\n",
       "<p>5 rows × 35 columns</p>\n",
       "</div>"
      ],
      "text/plain": [
       "   optimal_change  optimal_change_with_fee  address_type  power_of_ten_2  \\\n",
       "0               1                        1            -1              -1   \n",
       "1               0                        0            -1              -1   \n",
       "2               1                        1             1              -1   \n",
       "3               0                        0             0              -1   \n",
       "4              -1                       -1             0              -1   \n",
       "\n",
       "   power_of_ten_3  power_of_ten_4  power_of_ten_5  power_of_ten_6  \\\n",
       "0              -1              -1              -1              -1   \n",
       "1              -1              -1              -1              -1   \n",
       "2              -1              -1              -1              -1   \n",
       "3              -1              -1              -1              -1   \n",
       "4              -1              -1              -1              -1   \n",
       "\n",
       "   power_of_ten_7  fp_inout_count  ...  fp_p2wpkh  co_output_value_ratio  \\\n",
       "0               1               1  ...         -1               0.004933   \n",
       "1               0               0  ...         -1               0.995067   \n",
       "2              -1              -1  ...         -1               0.004833   \n",
       "3              -1              -1  ...         -1               0.995167   \n",
       "4              -1              -1  ...         -1               0.200000   \n",
       "\n",
       "   co_output_index  ct_fee_per_byte    ct_tx_value  ct_version  ct_segwit_tx  \\\n",
       "0                0             1124  1004978000000           1             0   \n",
       "1                1             1124  1004978000000           1             0   \n",
       "2                0                0    90000000000           1             0   \n",
       "3                1                0    90000000000           1             0   \n",
       "4                0                0     5000000000           1             0   \n",
       "\n",
       "   ct_has_locktime  ct_input_count  ct_epoch  \n",
       "0            False             168        28  \n",
       "1            False             168        28  \n",
       "2            False              18        28  \n",
       "3            False              18        28  \n",
       "4            False               1        28  \n",
       "\n",
       "[5 rows x 35 columns]"
      ]
     },
     "execution_count": 33,
     "metadata": {},
     "output_type": "execute_result"
    }
   ],
   "source": [
    "full_X.head()"
   ]
  },
  {
   "cell_type": "markdown",
   "metadata": {},
   "source": [
    "#### Replace 0 and -1 values"
   ]
  },
  {
   "cell_type": "code",
   "execution_count": 34,
   "metadata": {},
   "outputs": [
    {
     "name": "stdout",
     "output_type": "stream",
     "text": [
      "optimal_change\n",
      "optimal_change_with_fee\n",
      "address_type\n",
      "power_of_ten_2\n",
      "power_of_ten_3\n",
      "power_of_ten_4\n",
      "power_of_ten_5\n",
      "power_of_ten_6\n",
      "power_of_ten_7\n",
      "fp_inout_count\n",
      "fp_output_count\n",
      "fp_zeroconf\n",
      "fp_multisig\n",
      "fp_p2pkh\n",
      "fp_absolute_fee\n",
      "fp_relative_fee\n",
      "fp_version\n",
      "fp_locktime\n",
      "fp_rbf\n",
      "fp_segwit\n",
      "fp_possible_segwit\n",
      "fp_ordered_inouts\n",
      "fp_address_type\n",
      "fp_p2sh\n",
      "fp_p2wsh\n",
      "fp_p2wpkh\n"
     ]
    }
   ],
   "source": [
    "for c in CATEGORICAL_COLUMNS:\n",
    "    print(c)\n",
    "    full_X[c] = full_X[c].replace([0, -1], [-1, 0])\n",
    "    full_X[c] = pd.to_numeric(full_X[c], downcast=\"integer\")"
   ]
  },
  {
   "cell_type": "code",
   "execution_count": 35,
   "metadata": {},
   "outputs": [],
   "source": [
    "# may take too much memory to run\n",
    "# %time full_X[CATEGORICAL_COLUMNS] = full_X[CATEGORICAL_COLUMNS].replace([0, -1], [-1, 0])"
   ]
  },
  {
   "cell_type": "code",
   "execution_count": 36,
   "metadata": {},
   "outputs": [],
   "source": [
    "# full_X[CATEGORICAL_COLUMNS] = full_X[CATEGORICAL_COLUMNS].apply(pd.to_numeric, downcast='integer')"
   ]
  },
  {
   "cell_type": "code",
   "execution_count": 37,
   "metadata": {},
   "outputs": [
    {
     "data": {
      "text/plain": [
       "optimal_change                int8\n",
       "optimal_change_with_fee       int8\n",
       "address_type                  int8\n",
       "power_of_ten_2                int8\n",
       "power_of_ten_3                int8\n",
       "power_of_ten_4                int8\n",
       "power_of_ten_5                int8\n",
       "power_of_ten_6                int8\n",
       "power_of_ten_7                int8\n",
       "fp_inout_count                int8\n",
       "fp_output_count               int8\n",
       "fp_zeroconf                   int8\n",
       "fp_multisig                   int8\n",
       "fp_p2pkh                      int8\n",
       "fp_absolute_fee               int8\n",
       "fp_relative_fee               int8\n",
       "fp_version                    int8\n",
       "fp_locktime                   int8\n",
       "fp_rbf                        int8\n",
       "fp_segwit                     int8\n",
       "fp_possible_segwit            int8\n",
       "fp_ordered_inouts             int8\n",
       "fp_address_type               int8\n",
       "fp_p2sh                       int8\n",
       "fp_p2wsh                      int8\n",
       "fp_p2wpkh                     int8\n",
       "co_output_value_ratio      float64\n",
       "co_output_index              uint8\n",
       "ct_fee_per_byte             uint64\n",
       "ct_tx_value                 uint64\n",
       "ct_version                  uint64\n",
       "ct_segwit_tx                 uint8\n",
       "ct_has_locktime               bool\n",
       "ct_input_count              uint32\n",
       "ct_epoch                    uint32\n",
       "dtype: object"
      ]
     },
     "execution_count": 37,
     "metadata": {},
     "output_type": "execute_result"
    }
   ],
   "source": [
    "full_X.dtypes"
   ]
  },
  {
   "cell_type": "code",
   "execution_count": 38,
   "metadata": {},
   "outputs": [
    {
     "data": {
      "text/html": [
       "<div>\n",
       "<style scoped>\n",
       "    .dataframe tbody tr th:only-of-type {\n",
       "        vertical-align: middle;\n",
       "    }\n",
       "\n",
       "    .dataframe tbody tr th {\n",
       "        vertical-align: top;\n",
       "    }\n",
       "\n",
       "    .dataframe thead th {\n",
       "        text-align: right;\n",
       "    }\n",
       "</style>\n",
       "<table border=\"1\" class=\"dataframe\">\n",
       "  <thead>\n",
       "    <tr style=\"text-align: right;\">\n",
       "      <th></th>\n",
       "      <th>optimal_change</th>\n",
       "      <th>optimal_change_with_fee</th>\n",
       "      <th>address_type</th>\n",
       "      <th>power_of_ten_2</th>\n",
       "      <th>power_of_ten_3</th>\n",
       "      <th>power_of_ten_4</th>\n",
       "      <th>power_of_ten_5</th>\n",
       "      <th>power_of_ten_6</th>\n",
       "      <th>power_of_ten_7</th>\n",
       "      <th>fp_inout_count</th>\n",
       "      <th>...</th>\n",
       "      <th>fp_p2wpkh</th>\n",
       "      <th>co_output_value_ratio</th>\n",
       "      <th>co_output_index</th>\n",
       "      <th>ct_fee_per_byte</th>\n",
       "      <th>ct_tx_value</th>\n",
       "      <th>ct_version</th>\n",
       "      <th>ct_segwit_tx</th>\n",
       "      <th>ct_has_locktime</th>\n",
       "      <th>ct_input_count</th>\n",
       "      <th>ct_epoch</th>\n",
       "    </tr>\n",
       "  </thead>\n",
       "  <tbody>\n",
       "    <tr>\n",
       "      <th>0</th>\n",
       "      <td>1</td>\n",
       "      <td>1</td>\n",
       "      <td>0</td>\n",
       "      <td>0</td>\n",
       "      <td>0</td>\n",
       "      <td>0</td>\n",
       "      <td>0</td>\n",
       "      <td>0</td>\n",
       "      <td>1</td>\n",
       "      <td>1</td>\n",
       "      <td>...</td>\n",
       "      <td>0</td>\n",
       "      <td>0.004933</td>\n",
       "      <td>0</td>\n",
       "      <td>1124</td>\n",
       "      <td>1004978000000</td>\n",
       "      <td>1</td>\n",
       "      <td>0</td>\n",
       "      <td>False</td>\n",
       "      <td>168</td>\n",
       "      <td>28</td>\n",
       "    </tr>\n",
       "    <tr>\n",
       "      <th>1</th>\n",
       "      <td>-1</td>\n",
       "      <td>-1</td>\n",
       "      <td>0</td>\n",
       "      <td>0</td>\n",
       "      <td>0</td>\n",
       "      <td>0</td>\n",
       "      <td>0</td>\n",
       "      <td>0</td>\n",
       "      <td>-1</td>\n",
       "      <td>-1</td>\n",
       "      <td>...</td>\n",
       "      <td>0</td>\n",
       "      <td>0.995067</td>\n",
       "      <td>1</td>\n",
       "      <td>1124</td>\n",
       "      <td>1004978000000</td>\n",
       "      <td>1</td>\n",
       "      <td>0</td>\n",
       "      <td>False</td>\n",
       "      <td>168</td>\n",
       "      <td>28</td>\n",
       "    </tr>\n",
       "    <tr>\n",
       "      <th>2</th>\n",
       "      <td>1</td>\n",
       "      <td>1</td>\n",
       "      <td>1</td>\n",
       "      <td>0</td>\n",
       "      <td>0</td>\n",
       "      <td>0</td>\n",
       "      <td>0</td>\n",
       "      <td>0</td>\n",
       "      <td>0</td>\n",
       "      <td>0</td>\n",
       "      <td>...</td>\n",
       "      <td>0</td>\n",
       "      <td>0.004833</td>\n",
       "      <td>0</td>\n",
       "      <td>0</td>\n",
       "      <td>90000000000</td>\n",
       "      <td>1</td>\n",
       "      <td>0</td>\n",
       "      <td>False</td>\n",
       "      <td>18</td>\n",
       "      <td>28</td>\n",
       "    </tr>\n",
       "    <tr>\n",
       "      <th>3</th>\n",
       "      <td>-1</td>\n",
       "      <td>-1</td>\n",
       "      <td>-1</td>\n",
       "      <td>0</td>\n",
       "      <td>0</td>\n",
       "      <td>0</td>\n",
       "      <td>0</td>\n",
       "      <td>0</td>\n",
       "      <td>0</td>\n",
       "      <td>0</td>\n",
       "      <td>...</td>\n",
       "      <td>0</td>\n",
       "      <td>0.995167</td>\n",
       "      <td>1</td>\n",
       "      <td>0</td>\n",
       "      <td>90000000000</td>\n",
       "      <td>1</td>\n",
       "      <td>0</td>\n",
       "      <td>False</td>\n",
       "      <td>18</td>\n",
       "      <td>28</td>\n",
       "    </tr>\n",
       "    <tr>\n",
       "      <th>4</th>\n",
       "      <td>0</td>\n",
       "      <td>0</td>\n",
       "      <td>-1</td>\n",
       "      <td>0</td>\n",
       "      <td>0</td>\n",
       "      <td>0</td>\n",
       "      <td>0</td>\n",
       "      <td>0</td>\n",
       "      <td>0</td>\n",
       "      <td>0</td>\n",
       "      <td>...</td>\n",
       "      <td>0</td>\n",
       "      <td>0.200000</td>\n",
       "      <td>0</td>\n",
       "      <td>0</td>\n",
       "      <td>5000000000</td>\n",
       "      <td>1</td>\n",
       "      <td>0</td>\n",
       "      <td>False</td>\n",
       "      <td>1</td>\n",
       "      <td>28</td>\n",
       "    </tr>\n",
       "  </tbody>\n",
       "</table>\n",
       "<p>5 rows × 35 columns</p>\n",
       "</div>"
      ],
      "text/plain": [
       "   optimal_change  optimal_change_with_fee  address_type  power_of_ten_2  \\\n",
       "0               1                        1             0               0   \n",
       "1              -1                       -1             0               0   \n",
       "2               1                        1             1               0   \n",
       "3              -1                       -1            -1               0   \n",
       "4               0                        0            -1               0   \n",
       "\n",
       "   power_of_ten_3  power_of_ten_4  power_of_ten_5  power_of_ten_6  \\\n",
       "0               0               0               0               0   \n",
       "1               0               0               0               0   \n",
       "2               0               0               0               0   \n",
       "3               0               0               0               0   \n",
       "4               0               0               0               0   \n",
       "\n",
       "   power_of_ten_7  fp_inout_count  ...  fp_p2wpkh  co_output_value_ratio  \\\n",
       "0               1               1  ...          0               0.004933   \n",
       "1              -1              -1  ...          0               0.995067   \n",
       "2               0               0  ...          0               0.004833   \n",
       "3               0               0  ...          0               0.995167   \n",
       "4               0               0  ...          0               0.200000   \n",
       "\n",
       "   co_output_index  ct_fee_per_byte    ct_tx_value  ct_version  ct_segwit_tx  \\\n",
       "0                0             1124  1004978000000           1             0   \n",
       "1                1             1124  1004978000000           1             0   \n",
       "2                0                0    90000000000           1             0   \n",
       "3                1                0    90000000000           1             0   \n",
       "4                0                0     5000000000           1             0   \n",
       "\n",
       "   ct_has_locktime  ct_input_count  ct_epoch  \n",
       "0            False             168        28  \n",
       "1            False             168        28  \n",
       "2            False              18        28  \n",
       "3            False              18        28  \n",
       "4            False               1        28  \n",
       "\n",
       "[5 rows x 35 columns]"
      ]
     },
     "execution_count": 38,
     "metadata": {},
     "output_type": "execute_result"
    }
   ],
   "source": [
    "full_X.head()"
   ]
  },
  {
   "cell_type": "markdown",
   "metadata": {},
   "source": [
    "#### Load mask to determine which transactions have spent outputs"
   ]
  },
  {
   "cell_type": "code",
   "execution_count": 39,
   "metadata": {},
   "outputs": [],
   "source": [
    "all_spent_mask = np.load(utils.get_base_path(\"export/20210719_all_spent_mask.npy\"))"
   ]
  },
  {
   "cell_type": "code",
   "execution_count": 40,
   "metadata": {},
   "outputs": [],
   "source": [
    "all_spent_mask = np.array([val for val in all_spent_mask for _ in (0, 1)])"
   ]
  },
  {
   "cell_type": "code",
   "execution_count": 41,
   "metadata": {},
   "outputs": [],
   "source": [
    "assert len(all_spent_mask) == len(full_X)"
   ]
  },
  {
   "cell_type": "code",
   "execution_count": 42,
   "metadata": {},
   "outputs": [],
   "source": [
    "full_X_spent = full_X[all_spent_mask]"
   ]
  },
  {
   "cell_type": "code",
   "execution_count": 43,
   "metadata": {},
   "outputs": [],
   "source": [
    "full_X_unspent = full_X[~all_spent_mask]"
   ]
  },
  {
   "cell_type": "code",
   "execution_count": 44,
   "metadata": {},
   "outputs": [],
   "source": [
    "assert len(full_X_spent) == np.sum(all_spent_mask)\n",
    "assert len(full_X_spent) + len(full_X_unspent) == len(full_X)"
   ]
  },
  {
   "cell_type": "code",
   "execution_count": 45,
   "metadata": {},
   "outputs": [
    {
     "data": {
      "text/plain": [
       "(580716136, 38589972)"
      ]
     },
     "execution_count": 45,
     "metadata": {},
     "output_type": "execute_result"
    }
   ],
   "source": [
    "len(full_X_spent), len(full_X_unspent)"
   ]
  },
  {
   "cell_type": "code",
   "execution_count": 46,
   "metadata": {},
   "outputs": [
    {
     "data": {
      "text/plain": [
       "47686570316"
      ]
     },
     "execution_count": 46,
     "metadata": {},
     "output_type": "execute_result"
    }
   ],
   "source": [
    "full_X.memory_usage().sum()"
   ]
  },
  {
   "cell_type": "code",
   "execution_count": 41,
   "metadata": {},
   "outputs": [],
   "source": [
    "# del full_X"
   ]
  },
  {
   "cell_type": "markdown",
   "metadata": {},
   "source": [
    "#### Predict transactions where outputs have been spent"
   ]
  },
  {
   "cell_type": "code",
   "execution_count": 47,
   "metadata": {},
   "outputs": [],
   "source": [
    "full_X_spent_subset_1 = full_X_spent.iloc[0:200000000,]\n",
    "full_X_spent_subset_2 = full_X_spent.iloc[200000000:400000000,]\n",
    "full_X_spent_subset_3 = full_X_spent.iloc[400000000:,]"
   ]
  },
  {
   "cell_type": "code",
   "execution_count": 48,
   "metadata": {},
   "outputs": [
    {
     "data": {
      "text/plain": [
       "(580716136, 200000000, 200000000, 180716136)"
      ]
     },
     "execution_count": 48,
     "metadata": {},
     "output_type": "execute_result"
    }
   ],
   "source": [
    "len(full_X_spent), len(full_X_spent_subset_1), len(full_X_spent_subset_2), len(full_X_spent_subset_3)"
   ]
  },
  {
   "cell_type": "code",
   "execution_count": 49,
   "metadata": {},
   "outputs": [
    {
     "data": {
      "text/plain": [
       "15.4"
      ]
     },
     "execution_count": 49,
     "metadata": {},
     "output_type": "execute_result"
    }
   ],
   "source": [
    "full_X_spent_subset_1.memory_usage().sum() / (1000**3)"
   ]
  },
  {
   "cell_type": "code",
   "execution_count": 50,
   "metadata": {},
   "outputs": [],
   "source": [
    "assert (X_cols == full_X_spent_subset_1.columns).all()\n",
    "assert (X_cols == full_X_spent_subset_2.columns).all()\n",
    "assert (X_cols == full_X_spent_subset_3.columns).all()\n",
    "assert len(full_X_spent_subset_1) + len(full_X_spent_subset_2) + len(full_X_spent_subset_3) == len(full_X_spent)\n",
    "assert len(full_X_spent_subset_1) % 2 == 0\n",
    "assert len(full_X_spent_subset_2) % 2 == 0\n",
    "assert len(full_X_spent_subset_3) % 2 == 0"
   ]
  },
  {
   "cell_type": "code",
   "execution_count": 51,
   "metadata": {},
   "outputs": [
    {
     "data": {
      "text/plain": [
       "132"
      ]
     },
     "execution_count": 51,
     "metadata": {},
     "output_type": "execute_result"
    }
   ],
   "source": [
    "gc.collect()"
   ]
  },
  {
   "cell_type": "code",
   "execution_count": 52,
   "metadata": {},
   "outputs": [],
   "source": [
    "full_y_predict_1 = rfc_full.predict_proba(full_X_spent_subset_1)[:, 1]"
   ]
  },
  {
   "cell_type": "code",
   "execution_count": 53,
   "metadata": {},
   "outputs": [
    {
     "data": {
      "text/plain": [
       "200000000"
      ]
     },
     "execution_count": 53,
     "metadata": {},
     "output_type": "execute_result"
    }
   ],
   "source": [
    "len(full_y_predict_1)"
   ]
  },
  {
   "cell_type": "code",
   "execution_count": 54,
   "metadata": {},
   "outputs": [],
   "source": [
    "full_y_predict_2 = rfc_full.predict_proba(full_X_spent_subset_2)[:, 1]"
   ]
  },
  {
   "cell_type": "code",
   "execution_count": 55,
   "metadata": {},
   "outputs": [],
   "source": [
    "full_y_predict_3 = rfc_full.predict_proba(full_X_spent_subset_3)[:, 1]"
   ]
  },
  {
   "cell_type": "code",
   "execution_count": 56,
   "metadata": {},
   "outputs": [],
   "source": [
    "assert len(full_y_predict_1) + len(full_y_predict_2) + len(full_y_predict_3) == len(full_X_spent)"
   ]
  },
  {
   "cell_type": "markdown",
   "metadata": {},
   "source": [
    "#### Predict transactions where not all outputs have been spent"
   ]
  },
  {
   "cell_type": "code",
   "execution_count": 57,
   "metadata": {},
   "outputs": [],
   "source": [
    "FINGERPRINT_COLS = [x for x in X_cols if x[:3] == \"fp_\"]"
   ]
  },
  {
   "cell_type": "code",
   "execution_count": 58,
   "metadata": {},
   "outputs": [],
   "source": [
    "full_X_unspent = full_X_unspent.drop(columns=FINGERPRINT_COLS)"
   ]
  },
  {
   "cell_type": "code",
   "execution_count": 62,
   "metadata": {},
   "outputs": [],
   "source": [
    "# make sure order is correct\n",
    "full_X_unspent = full_X_unspent[X_nofp_cols]"
   ]
  },
  {
   "cell_type": "code",
   "execution_count": null,
   "metadata": {},
   "outputs": [],
   "source": [
    "assert (X_nofp_cols == full_X_unspent.columns).all()"
   ]
  },
  {
   "cell_type": "code",
   "execution_count": 63,
   "metadata": {},
   "outputs": [],
   "source": [
    "full_y_predict_unspent = rfc_nofp.predict_proba(full_X_unspent)[:, 1]"
   ]
  },
  {
   "cell_type": "markdown",
   "metadata": {},
   "source": [
    "#### Reassamble full data frame"
   ]
  },
  {
   "cell_type": "code",
   "execution_count": 64,
   "metadata": {},
   "outputs": [],
   "source": [
    "full_y_predict = np.concatenate([full_y_predict_1, full_y_predict_2, full_y_predict_3])"
   ]
  },
  {
   "cell_type": "code",
   "execution_count": 65,
   "metadata": {},
   "outputs": [],
   "source": [
    "with_fingerprint = pd.DataFrame({\"y\": full_y_predict}, index=full_X_spent.index)"
   ]
  },
  {
   "cell_type": "code",
   "execution_count": 66,
   "metadata": {},
   "outputs": [],
   "source": [
    "without_fingerprint = pd.DataFrame({\"y\": full_y_predict_unspent}, index=full_X_unspent.index)"
   ]
  },
  {
   "cell_type": "code",
   "execution_count": 67,
   "metadata": {},
   "outputs": [],
   "source": [
    "full_predict = pd.concat([with_fingerprint, without_fingerprint])"
   ]
  },
  {
   "cell_type": "code",
   "execution_count": 68,
   "metadata": {},
   "outputs": [],
   "source": [
    "assert len(full_predict) == len(full_X_spent) + len(full_X_unspent)\n",
    "assert len(full_predict) == len(full_X)"
   ]
  },
  {
   "cell_type": "code",
   "execution_count": 69,
   "metadata": {},
   "outputs": [
    {
     "data": {
      "text/html": [
       "<div>\n",
       "<style scoped>\n",
       "    .dataframe tbody tr th:only-of-type {\n",
       "        vertical-align: middle;\n",
       "    }\n",
       "\n",
       "    .dataframe tbody tr th {\n",
       "        vertical-align: top;\n",
       "    }\n",
       "\n",
       "    .dataframe thead th {\n",
       "        text-align: right;\n",
       "    }\n",
       "</style>\n",
       "<table border=\"1\" class=\"dataframe\">\n",
       "  <thead>\n",
       "    <tr style=\"text-align: right;\">\n",
       "      <th></th>\n",
       "      <th>y</th>\n",
       "    </tr>\n",
       "  </thead>\n",
       "  <tbody>\n",
       "    <tr>\n",
       "      <th>0</th>\n",
       "      <td>0.987940</td>\n",
       "    </tr>\n",
       "    <tr>\n",
       "      <th>1</th>\n",
       "      <td>0.036343</td>\n",
       "    </tr>\n",
       "    <tr>\n",
       "      <th>4</th>\n",
       "      <td>0.333274</td>\n",
       "    </tr>\n",
       "    <tr>\n",
       "      <th>5</th>\n",
       "      <td>0.703728</td>\n",
       "    </tr>\n",
       "    <tr>\n",
       "      <th>6</th>\n",
       "      <td>0.057266</td>\n",
       "    </tr>\n",
       "  </tbody>\n",
       "</table>\n",
       "</div>"
      ],
      "text/plain": [
       "          y\n",
       "0  0.987940\n",
       "1  0.036343\n",
       "4  0.333274\n",
       "5  0.703728\n",
       "6  0.057266"
      ]
     },
     "execution_count": 69,
     "metadata": {},
     "output_type": "execute_result"
    }
   ],
   "source": [
    "full_predict.head()"
   ]
  },
  {
   "cell_type": "code",
   "execution_count": 72,
   "metadata": {},
   "outputs": [
    {
     "data": {
      "text/plain": [
       "array([0.98794039, 0.03634326, 0.33327351, 0.70372773, 0.05726625])"
      ]
     },
     "execution_count": 72,
     "metadata": {},
     "output_type": "execute_result"
    }
   ],
   "source": [
    "full_y_predict_1[0:5]"
   ]
  },
  {
   "cell_type": "code",
   "execution_count": 73,
   "metadata": {},
   "outputs": [
    {
     "data": {
      "text/plain": [
       "array([0.98995402, 0.00455616])"
      ]
     },
     "execution_count": 73,
     "metadata": {},
     "output_type": "execute_result"
    }
   ],
   "source": [
    "full_y_predict_unspent[0:2]"
   ]
  },
  {
   "cell_type": "code",
   "execution_count": 74,
   "metadata": {},
   "outputs": [],
   "source": [
    "full_predict.sort_index(inplace=True)"
   ]
  },
  {
   "cell_type": "code",
   "execution_count": 75,
   "metadata": {},
   "outputs": [
    {
     "data": {
      "text/html": [
       "<div>\n",
       "<style scoped>\n",
       "    .dataframe tbody tr th:only-of-type {\n",
       "        vertical-align: middle;\n",
       "    }\n",
       "\n",
       "    .dataframe tbody tr th {\n",
       "        vertical-align: top;\n",
       "    }\n",
       "\n",
       "    .dataframe thead th {\n",
       "        text-align: right;\n",
       "    }\n",
       "</style>\n",
       "<table border=\"1\" class=\"dataframe\">\n",
       "  <thead>\n",
       "    <tr style=\"text-align: right;\">\n",
       "      <th></th>\n",
       "      <th>y</th>\n",
       "    </tr>\n",
       "  </thead>\n",
       "  <tbody>\n",
       "    <tr>\n",
       "      <th>0</th>\n",
       "      <td>0.987940</td>\n",
       "    </tr>\n",
       "    <tr>\n",
       "      <th>1</th>\n",
       "      <td>0.036343</td>\n",
       "    </tr>\n",
       "    <tr>\n",
       "      <th>2</th>\n",
       "      <td>0.989954</td>\n",
       "    </tr>\n",
       "    <tr>\n",
       "      <th>3</th>\n",
       "      <td>0.004556</td>\n",
       "    </tr>\n",
       "    <tr>\n",
       "      <th>4</th>\n",
       "      <td>0.333274</td>\n",
       "    </tr>\n",
       "  </tbody>\n",
       "</table>\n",
       "</div>"
      ],
      "text/plain": [
       "          y\n",
       "0  0.987940\n",
       "1  0.036343\n",
       "2  0.989954\n",
       "3  0.004556\n",
       "4  0.333274"
      ]
     },
     "execution_count": 75,
     "metadata": {},
     "output_type": "execute_result"
    }
   ],
   "source": [
    "full_predict.head()"
   ]
  },
  {
   "cell_type": "code",
   "execution_count": null,
   "metadata": {},
   "outputs": [],
   "source": [
    "# export mask, we don't want to set it to 0.0 here because that makes it harder to ignore them\n",
    "# instead, load the mask when we evaluate the reuslts"
   ]
  },
  {
   "cell_type": "code",
   "execution_count": 76,
   "metadata": {},
   "outputs": [],
   "source": [
    "np.save(utils.get_base_path(\"full-prediction/20210803-mask-predict.npy\"), mask_at_least_one)"
   ]
  },
  {
   "cell_type": "code",
   "execution_count": 78,
   "metadata": {},
   "outputs": [],
   "source": [
    "np.save(utils.get_base_path(\"full-prediction/20210803-full-predict.npy\"), full_predict[\"y\"].values)"
   ]
  },
  {
   "cell_type": "code",
   "execution_count": 80,
   "metadata": {},
   "outputs": [
    {
     "data": {
      "text/plain": [
       "<AxesSubplot:>"
      ]
     },
     "execution_count": 80,
     "metadata": {},
     "output_type": "execute_result"
    },
    {
     "data": {
      "image/png": "[encoded data removed]",
      "text/plain": [
       "<Figure size 432x288 with 1 Axes>"
      ]
     },
     "metadata": {
      "needs_background": "light"
     },
     "output_type": "display_data"
    }
   ],
   "source": [
    "full_predict[\"y\"].hist(bins=100)"
   ]
  }
 ],
 "metadata": {
  "kernelspec": {
   "display_name": "Python 3",
   "language": "python",
   "name": "python3"
  },
  "language_info": {
   "codemirror_mode": {
    "name": "ipython",
    "version": 3
   },
   "file_extension": ".py",
   "mimetype": "text/x-python",
   "name": "python",
   "nbconvert_exporter": "python",
   "pygments_lexer": "ipython3",
   "version": "3.8.8"
  }
 },
 "nbformat": 4,
 "nbformat_minor": 4
}
