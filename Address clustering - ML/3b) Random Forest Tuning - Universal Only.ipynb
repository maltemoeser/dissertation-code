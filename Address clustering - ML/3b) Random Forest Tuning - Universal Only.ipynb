{
 "cells": [
  {
   "cell_type": "code",
   "execution_count": 1,
   "metadata": {},
   "outputs": [],
   "source": [
    "import pandas as pd\n",
    "import matplotlib.pyplot as plt\n",
    "import numpy as np\n",
    "import seaborn as sns"
   ]
  },
  {
   "cell_type": "code",
   "execution_count": 2,
   "metadata": {},
   "outputs": [],
   "source": [
    "from sklearn.ensemble import RandomForestClassifier"
   ]
  },
  {
   "cell_type": "code",
   "execution_count": 3,
   "metadata": {},
   "outputs": [],
   "source": [
    "from sklearn.model_selection import KFold, GroupKFold, cross_val_score, train_test_split, ShuffleSplit, GroupShuffleSplit"
   ]
  },
  {
   "cell_type": "code",
   "execution_count": 4,
   "metadata": {},
   "outputs": [],
   "source": [
    "from sklearn.metrics import roc_curve, plot_roc_curve, RocCurveDisplay, auc, roc_auc_score"
   ]
  },
  {
   "cell_type": "code",
   "execution_count": 5,
   "metadata": {},
   "outputs": [],
   "source": [
    "from sklearn.experimental import enable_halving_search_cv"
   ]
  },
  {
   "cell_type": "code",
   "execution_count": 6,
   "metadata": {},
   "outputs": [],
   "source": [
    "from sklearn.model_selection import HalvingGridSearchCV"
   ]
  },
  {
   "cell_type": "code",
   "execution_count": 7,
   "metadata": {},
   "outputs": [],
   "source": [
    "sns.set_theme(style=\"ticks\")"
   ]
  },
  {
   "cell_type": "code",
   "execution_count": 8,
   "metadata": {},
   "outputs": [],
   "source": [
    "import random"
   ]
  },
  {
   "cell_type": "code",
   "execution_count": 9,
   "metadata": {},
   "outputs": [],
   "source": [
    "import collections"
   ]
  },
  {
   "cell_type": "code",
   "execution_count": 10,
   "metadata": {},
   "outputs": [],
   "source": [
    "import gc"
   ]
  },
  {
   "cell_type": "code",
   "execution_count": 11,
   "metadata": {},
   "outputs": [],
   "source": [
    "import utils"
   ]
  },
  {
   "cell_type": "code",
   "execution_count": 12,
   "metadata": {},
   "outputs": [],
   "source": [
    "date_string = \"20210720\""
   ]
  },
  {
   "cell_type": "markdown",
   "metadata": {},
   "source": [
    "### Import data"
   ]
  },
  {
   "cell_type": "code",
   "execution_count": 13,
   "metadata": {},
   "outputs": [],
   "source": [
    "y = np.load(utils.get_base_path(\"evaluation/{}_outcomes.npy\".format(date_string)))"
   ]
  },
  {
   "cell_type": "code",
   "execution_count": 14,
   "metadata": {},
   "outputs": [
    {
     "name": "stderr",
     "output_type": "stream",
     "text": [
      "/n/fs/grad/mmoeser/change/venv/lib64/python3.7/site-packages/numpy/lib/arraysetops.py:580: FutureWarning: elementwise comparison failed; returning scalar instead, but in the future will perform elementwise comparison\n",
      "  mask |= (ar1 == a)\n"
     ]
    }
   ],
   "source": [
    "X = pd.read_csv(utils.get_base_path(\"evaluation/{}-combined.csv\".format(date_string)), index_col=0, dtype=utils.get_X_dtypes())"
   ]
  },
  {
   "cell_type": "code",
   "execution_count": 15,
   "metadata": {},
   "outputs": [],
   "source": [
    "X[\"ct_epoch\"] = X[\"ct_block_height\"] // 1008"
   ]
  },
  {
   "cell_type": "code",
   "execution_count": 16,
   "metadata": {},
   "outputs": [
    {
     "data": {
      "text/plain": [
       "Index(['optimal_change', 'optimal_change_with_fee', 'address_type',\n",
       "       'power_of_ten_2', 'power_of_ten_3', 'power_of_ten_4', 'power_of_ten_5',\n",
       "       'power_of_ten_6', 'power_of_ten_7', 'fp_inout_count', 'fp_output_count',\n",
       "       'fp_zeroconf', 'fp_multisig', 'fp_p2pkh', 'fp_absolute_fee',\n",
       "       'fp_relative_fee', 'fp_version', 'fp_locktime', 'fp_rbf', 'fp_segwit',\n",
       "       'fp_possible_segwit', 'fp_ordered_inouts', 'fp_address_type', 'fp_p2sh',\n",
       "       'fp_p2wsh', 'fp_p2wpkh', 'co_output_value', 'co_is_larger_output',\n",
       "       'co_output_value_ratio', 'co_output_index', 'co_fresh_output',\n",
       "       'co_other_fresh', 'ct_fee', 'ct_fee_per_byte', 'ct_tx_value',\n",
       "       'ct_version', 'ct_segwit_tx', 'ct_has_locktime', 'ct_block_height',\n",
       "       'ct_input_count', 'ct_epoch'],\n",
       "      dtype='object')"
      ]
     },
     "execution_count": 16,
     "metadata": {},
     "output_type": "execute_result"
    }
   ],
   "source": [
    "X.columns"
   ]
  },
  {
   "cell_type": "code",
   "execution_count": 17,
   "metadata": {},
   "outputs": [],
   "source": [
    "X.drop(columns=[\"ct_fee\", \"co_output_value\", \"ct_block_height\", \"co_is_larger_output\", \"co_fresh_output\", \"co_other_fresh\"], inplace=True)"
   ]
  },
  {
   "cell_type": "code",
   "execution_count": 18,
   "metadata": {},
   "outputs": [],
   "source": [
    "X_cols = X.columns"
   ]
  },
  {
   "cell_type": "code",
   "execution_count": 19,
   "metadata": {},
   "outputs": [],
   "source": [
    "FINGERPRINT_COLS = [x for x in X_cols if x[:3] == \"fp_\"]"
   ]
  },
  {
   "cell_type": "code",
   "execution_count": 20,
   "metadata": {},
   "outputs": [],
   "source": [
    "X.drop(columns=FINGERPRINT_COLS, inplace=True)"
   ]
  },
  {
   "cell_type": "code",
   "execution_count": 21,
   "metadata": {},
   "outputs": [],
   "source": [
    "mask_nofp = np.load(utils.get_base_path(\"evaluation/{}_mask_nofp.npy\".format(date_string)))"
   ]
  },
  {
   "cell_type": "code",
   "execution_count": 22,
   "metadata": {},
   "outputs": [
    {
     "data": {
      "text/plain": [
       "27493455"
      ]
     },
     "execution_count": 22,
     "metadata": {},
     "output_type": "execute_result"
    }
   ],
   "source": [
    "np.sum(mask_nofp) // 2"
   ]
  },
  {
   "cell_type": "code",
   "execution_count": 23,
   "metadata": {},
   "outputs": [
    {
     "data": {
      "text/plain": [
       "35257428"
      ]
     },
     "execution_count": 23,
     "metadata": {},
     "output_type": "execute_result"
    }
   ],
   "source": [
    "len(X) // 2"
   ]
  },
  {
   "cell_type": "code",
   "execution_count": 24,
   "metadata": {},
   "outputs": [],
   "source": [
    "assert len(mask_nofp) == len(X)"
   ]
  },
  {
   "cell_type": "code",
   "execution_count": 25,
   "metadata": {},
   "outputs": [],
   "source": [
    "X = X[mask_nofp].copy()\n",
    "y = y[mask_nofp]"
   ]
  },
  {
   "cell_type": "code",
   "execution_count": 26,
   "metadata": {},
   "outputs": [],
   "source": [
    "assert len(X) == np.sum(mask_nofp)\n",
    "assert len(y) == np.sum(mask_nofp)"
   ]
  },
  {
   "cell_type": "code",
   "execution_count": 27,
   "metadata": {},
   "outputs": [],
   "source": [
    "cluster_ids = np.load(utils.get_base_path(\"heuristics/{}-cluster-ids.npy\".format(date_string)))"
   ]
  },
  {
   "cell_type": "code",
   "execution_count": 28,
   "metadata": {},
   "outputs": [],
   "source": [
    "assert len(cluster_ids) == len(mask_nofp)"
   ]
  },
  {
   "cell_type": "code",
   "execution_count": 29,
   "metadata": {},
   "outputs": [],
   "source": [
    "cluster_groups = cluster_ids[mask_nofp]"
   ]
  },
  {
   "cell_type": "code",
   "execution_count": 30,
   "metadata": {},
   "outputs": [],
   "source": [
    "assert len(cluster_groups) == np.sum(mask_nofp)"
   ]
  },
  {
   "cell_type": "markdown",
   "metadata": {},
   "source": [
    "### Compute a 80/20 split to get an out-of-bag sample\n",
    "\n",
    "We will evaluate the performance of the optimized classifier on this sample at the end."
   ]
  },
  {
   "cell_type": "code",
   "execution_count": 31,
   "metadata": {},
   "outputs": [],
   "source": [
    "ib_idx, oob_idx = next(GroupShuffleSplit(n_splits=1, test_size=.2, random_state=1337).split(X=X, groups=cluster_groups))"
   ]
  },
  {
   "cell_type": "code",
   "execution_count": 32,
   "metadata": {},
   "outputs": [],
   "source": [
    "assert len(ib_idx) + len(oob_idx) == len(X)\n",
    "assert len(ib_idx) > len(oob_idx)"
   ]
  },
  {
   "cell_type": "code",
   "execution_count": 33,
   "metadata": {},
   "outputs": [
    {
     "data": {
      "text/plain": [
       "0.8155430446991838"
      ]
     },
     "execution_count": 33,
     "metadata": {},
     "output_type": "execute_result"
    }
   ],
   "source": [
    "len(ib_idx) / len(X)"
   ]
  },
  {
   "cell_type": "code",
   "execution_count": 34,
   "metadata": {},
   "outputs": [
    {
     "data": {
      "image/png": "[encoded data removed]",
      "text/plain": [
       "<Figure size 432x288 with 1 Axes>"
      ]
     },
     "metadata": {},
     "output_type": "display_data"
    }
   ],
   "source": [
    "ax = sns.histplot([ib_idx, oob_idx], bins=25)"
   ]
  },
  {
   "cell_type": "code",
   "execution_count": 35,
   "metadata": {},
   "outputs": [],
   "source": [
    "X_ib = X.iloc[ib_idx].copy()\n",
    "y_ib = y[ib_idx]\n",
    "X_oob  = X.iloc[oob_idx].copy()\n",
    "y_oob  = y[oob_idx]"
   ]
  },
  {
   "cell_type": "code",
   "execution_count": 36,
   "metadata": {},
   "outputs": [],
   "source": [
    "clusters_ib = cluster_groups[ib_idx]\n",
    "clusters_oob = cluster_groups[oob_idx]"
   ]
  },
  {
   "cell_type": "code",
   "execution_count": 37,
   "metadata": {},
   "outputs": [],
   "source": [
    "assert len(X_ib) == len(y_ib)\n",
    "assert len(X_oob) == len(y_oob)\n",
    "assert len(X_ib) + len(X_oob) == len(X)\n",
    "assert len(set(X_ib.index).intersection(set(X_oob.index))) == 0"
   ]
  },
  {
   "cell_type": "code",
   "execution_count": 38,
   "metadata": {},
   "outputs": [],
   "source": [
    "assert len(set(clusters_ib).intersection(set(clusters_oob))) == 0"
   ]
  },
  {
   "cell_type": "code",
   "execution_count": null,
   "metadata": {},
   "outputs": [],
   "source": [
    "assert False  # stop in case we don't want to re-run the grid search"
   ]
  },
  {
   "cell_type": "markdown",
   "metadata": {},
   "source": [
    "### Create HalvingGridSearch instance"
   ]
  },
  {
   "cell_type": "code",
   "execution_count": 41,
   "metadata": {},
   "outputs": [],
   "source": [
    "group_kfold = GroupKFold(n_splits=4)"
   ]
  },
  {
   "cell_type": "code",
   "execution_count": 42,
   "metadata": {},
   "outputs": [],
   "source": [
    "splits = list(group_kfold.split(X_ib, y_ib, clusters_ib))"
   ]
  },
  {
   "cell_type": "code",
   "execution_count": 43,
   "metadata": {},
   "outputs": [],
   "source": [
    "rfc = RandomForestClassifier(random_state=1337, n_jobs=12)"
   ]
  },
  {
   "cell_type": "code",
   "execution_count": 44,
   "metadata": {},
   "outputs": [
    {
     "data": {
      "text/plain": [
       "4.242640687119285"
      ]
     },
     "execution_count": 44,
     "metadata": {},
     "output_type": "execute_result"
    }
   ],
   "source": [
    "np.sqrt(len(X.columns))"
   ]
  },
  {
   "cell_type": "code",
   "execution_count": 45,
   "metadata": {},
   "outputs": [],
   "source": [
    "param_grid = {\"min_samples_split\": [2, 10, 20, 50, 100, 200],\n",
    "              \"min_samples_leaf\": [1, 10, 20, 50, 100],\n",
    "              \"max_features\": [3, 4, 5, 6]}"
   ]
  },
  {
   "cell_type": "code",
   "execution_count": 46,
   "metadata": {},
   "outputs": [],
   "source": [
    "smart_param_grid = []\n",
    "for mf in param_grid[\"max_features\"]:\n",
    "    for mss in param_grid[\"min_samples_split\"]:\n",
    "        for msl in param_grid[\"min_samples_leaf\"]:\n",
    "            if mss > msl:\n",
    "                smart_param_grid.append(\n",
    "                    {\"min_samples_split\": [mss],\n",
    "                     \"min_samples_leaf\": [msl],\n",
    "                      \"max_features\": [mf]})"
   ]
  },
  {
   "cell_type": "code",
   "execution_count": 47,
   "metadata": {},
   "outputs": [
    {
     "data": {
      "text/plain": [
       "64"
      ]
     },
     "execution_count": 47,
     "metadata": {},
     "output_type": "execute_result"
    }
   ],
   "source": [
    "len(smart_param_grid)"
   ]
  },
  {
   "cell_type": "code",
   "execution_count": 48,
   "metadata": {},
   "outputs": [],
   "source": [
    "hgs = HalvingGridSearchCV(rfc, smart_param_grid, resource=\"n_estimators\", max_resources=100, min_resources=11, random_state=1337, cv=splits, scoring=\"roc_auc\", n_jobs=4, verbose = 2)"
   ]
  },
  {
   "cell_type": "code",
   "execution_count": null,
   "metadata": {},
   "outputs": [
    {
     "name": "stdout",
     "output_type": "stream",
     "text": [
      "n_iterations: 3\n",
      "n_required_iterations: 4\n",
      "n_possible_iterations: 3\n",
      "min_resources_: 11\n",
      "max_resources_: 100\n",
      "aggressive_elimination: False\n",
      "factor: 3\n",
      "----------\n",
      "iter: 0\n",
      "n_candidates: 64\n",
      "n_resources: 11\n",
      "Fitting 4 folds for each of 64 candidates, totalling 256 fits\n"
     ]
    }
   ],
   "source": [
    "search = hgs.fit(X_ib, y=y_ib)"
   ]
  },
  {
   "cell_type": "code",
   "execution_count": 51,
   "metadata": {},
   "outputs": [
    {
     "data": {
      "text/plain": [
       "{'max_features': 6,\n",
       " 'min_samples_leaf': 10,\n",
       " 'min_samples_split': 20,\n",
       " 'n_estimators': 99}"
      ]
     },
     "execution_count": 51,
     "metadata": {},
     "output_type": "execute_result"
    }
   ],
   "source": [
    "search.best_params_"
   ]
  },
  {
   "cell_type": "code",
   "execution_count": 45,
   "metadata": {},
   "outputs": [],
   "source": [
    "rfc_best = search"
   ]
  },
  {
   "cell_type": "markdown",
   "metadata": {},
   "source": [
    "### Apply to Out of Bag Sample (without having to rerun previous code)"
   ]
  },
  {
   "cell_type": "code",
   "execution_count": 39,
   "metadata": {},
   "outputs": [],
   "source": [
    "rfc_best = RandomForestClassifier(random_state=1337, n_jobs=34, n_estimators=100, max_features=6, min_samples_split=20, min_samples_leaf=10)"
   ]
  },
  {
   "cell_type": "code",
   "execution_count": 40,
   "metadata": {},
   "outputs": [
    {
     "data": {
      "text/plain": [
       "RandomForestClassifier(max_features=6, min_samples_leaf=10,\n",
       "                       min_samples_split=20, n_jobs=34, random_state=1337)"
      ]
     },
     "execution_count": 40,
     "metadata": {},
     "output_type": "execute_result"
    }
   ],
   "source": [
    "rfc_best.fit(X_ib, y_ib)"
   ]
  },
  {
   "cell_type": "code",
   "execution_count": 41,
   "metadata": {},
   "outputs": [
    {
     "data": {
      "image/png": "[encoded data removed]",
      "text/plain": [
       "<Figure size 432x288 with 1 Axes>"
      ]
     },
     "metadata": {},
     "output_type": "display_data"
    }
   ],
   "source": [
    "# Plot Out-of-bag\n",
    "plot_roc_curve(rfc_best, X_oob, y_oob)\n",
    "sns.despine()"
   ]
  },
  {
   "cell_type": "code",
   "execution_count": 42,
   "metadata": {},
   "outputs": [],
   "source": [
    "y_pred_ob = rfc_best.predict_proba(X_oob)[:, 1]"
   ]
  },
  {
   "cell_type": "code",
   "execution_count": 43,
   "metadata": {},
   "outputs": [
    {
     "data": {
      "text/plain": [
       "0.998071698922542"
      ]
     },
     "execution_count": 43,
     "metadata": {},
     "output_type": "execute_result"
    }
   ],
   "source": [
    "roc_auc_score(y_oob, y_pred_ob)"
   ]
  },
  {
   "cell_type": "markdown",
   "metadata": {},
   "source": [
    "### Get threshold / FPR/TRP tradeoffs"
   ]
  },
  {
   "cell_type": "code",
   "execution_count": 44,
   "metadata": {},
   "outputs": [],
   "source": [
    "fpr, tpr, thresholds = roc_curve(y_oob, y_pred_ob, pos_label=1)"
   ]
  },
  {
   "cell_type": "code",
   "execution_count": 52,
   "metadata": {},
   "outputs": [
    {
     "name": "stdout",
     "output_type": "stream",
     "text": [
      "9.99732024492843e-05 0.31383974197054476 0.9999758608485391\n",
      "0.00043992152793758044 0.6295523547041335 0.9977140750076137\n",
      "0.0004998660122464215 0.6612452401811822 0.9970986370671657\n",
      "0.0005998392146957058 0.7051255886242721 0.9959424758769573\n",
      "0.0009999292102964906 0.8058544070731336 0.9901977952256176\n",
      "0.0049998432372861 0.9451598674043782 0.9117517963952213\n",
      "0.009999883660375849 0.976428606217781 0.7263129812449926\n",
      "0.019999964506555345 0.9885687445909469 0.3364582499590652\n",
      "0.02999984816693119 0.9913362473451396 0.20345529865913195\n",
      "0.03999815434087786 0.9929563259079075 0.1409625768838606\n",
      "0.04999744644384276 0.994404852821502 0.10187613198954784\n",
      "0.09999962534697307 0.9973261605025399 0.033566071279965415\n"
     ]
    }
   ],
   "source": [
    "tprint = [0.1, 0.05, 0.04, 0.03, 0.02, 0.01, 0.005, 0.001, 0.0006, 0.0005, 0.00044, 0.0001]\n",
    "pf, pt, ptr = fpr[0], tpr[0], thresholds[0]\n",
    "next_threshold = tprint.pop()\n",
    "for f, t, tr in zip(fpr, tpr, thresholds):\n",
    "    if f == pf:\n",
    "        pf, pt, ptr = f, t, tr\n",
    "    else:\n",
    "        if f > next_threshold:\n",
    "            print(pf, pt, ptr)\n",
    "            if not tprint:\n",
    "                break\n",
    "            next_threshold = tprint.pop()\n",
    "        pf, pt, ptr = f, t, tr\n"
   ]
  },
  {
   "cell_type": "code",
   "execution_count": 46,
   "metadata": {},
   "outputs": [
    {
     "name": "stdout",
     "output_type": "stream",
     "text": [
      "0.0010137322165518158 0.8077915604081667 0.9899978805040932\n"
     ]
    }
   ],
   "source": [
    "pf, pt, ptr = fpr[0], tpr[0], thresholds[0]\n",
    "for f, t, tr in zip(fpr, tpr, thresholds):\n",
    "    if ptr < 0.99:\n",
    "        print(pf, pt, ptr)\n",
    "        if not tprint:\n",
    "            break\n",
    "        next_threshold = tprint.pop()\n",
    "    pf, pt, ptr = f, t, tr\n"
   ]
  },
  {
   "cell_type": "code",
   "execution_count": 47,
   "metadata": {},
   "outputs": [
    {
     "name": "stdout",
     "output_type": "stream",
     "text": [
      "0.0 0.0 2.0\n",
      "0.0010137322165518158 0.8077734193142312 0.99\n"
     ]
    }
   ],
   "source": [
    "pf, pt, ptr = fpr[0], tpr[0], thresholds[0]\n",
    "for f, t, tr in zip(fpr, tpr, thresholds):\n",
    "    if f == pf:\n",
    "        pf, pt, ptr = f, t, tr\n",
    "    if tr <= 0.99:\n",
    "        print(pf, pt, ptr)\n",
    "        print(f, t, tr)\n",
    "        break"
   ]
  },
  {
   "cell_type": "code",
   "execution_count": 48,
   "metadata": {},
   "outputs": [
    {
     "data": {
      "text/plain": [
       "10142718"
      ]
     },
     "execution_count": 48,
     "metadata": {},
     "output_type": "execute_result"
    }
   ],
   "source": [
    "len(y_oob)"
   ]
  },
  {
   "cell_type": "code",
   "execution_count": 49,
   "metadata": {},
   "outputs": [
    {
     "data": {
      "text/plain": [
       "<AxesSubplot:>"
      ]
     },
     "execution_count": 49,
     "metadata": {},
     "output_type": "execute_result"
    },
    {
     "data": {
      "image/png": "[encoded data removed]",
      "text/plain": [
       "<Figure size 432x288 with 1 Axes>"
      ]
     },
     "metadata": {},
     "output_type": "display_data"
    }
   ],
   "source": [
    "pd.Series(y_pred_ob).hist(bins=100)"
   ]
  },
  {
   "cell_type": "code",
   "execution_count": 50,
   "metadata": {},
   "outputs": [
    {
     "data": {
      "text/plain": [
       "0.9995819561366006"
      ]
     },
     "execution_count": 50,
     "metadata": {},
     "output_type": "execute_result"
    }
   ],
   "source": [
    "# what is it for in-bag?\n",
    "roc_auc_score(y_ib, rfc_best.predict_proba(X_ib)[:, 1])"
   ]
  },
  {
   "cell_type": "code",
   "execution_count": null,
   "metadata": {},
   "outputs": [],
   "source": []
  }
 ],
 "metadata": {
  "kernelspec": {
   "display_name": "Python 3",
   "language": "python",
   "name": "python3"
  },
  "language_info": {
   "codemirror_mode": {
    "name": "ipython",
    "version": 3
   },
   "file_extension": ".py",
   "mimetype": "text/x-python",
   "name": "python",
   "nbconvert_exporter": "python",
   "pygments_lexer": "ipython3",
   "version": "3.8.8"
  }
 },
 "nbformat": 4,
 "nbformat_minor": 4
}
