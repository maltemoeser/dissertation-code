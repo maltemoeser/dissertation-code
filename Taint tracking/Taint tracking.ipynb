{
 "cells": [
  {
   "cell_type": "code",
   "execution_count": 80,
   "metadata": {},
   "outputs": [],
   "source": [
    "import blocksci"
   ]
  },
  {
   "cell_type": "code",
   "execution_count": 2,
   "metadata": {},
   "outputs": [],
   "source": [
    "import pandas as pd\n",
    "import matplotlib.pyplot as plt\n",
    "import numpy as np"
   ]
  },
  {
   "cell_type": "code",
   "execution_count": 3,
   "metadata": {},
   "outputs": [],
   "source": [
    "import seaborn as sns"
   ]
  },
  {
   "cell_type": "code",
   "execution_count": 4,
   "metadata": {},
   "outputs": [],
   "source": [
    "plt.rcParams['figure.figsize'] = (12.5, 10)"
   ]
  },
  {
   "cell_type": "code",
   "execution_count": 5,
   "metadata": {},
   "outputs": [],
   "source": [
    "from statistics import mode"
   ]
  },
  {
   "cell_type": "code",
   "execution_count": 6,
   "metadata": {},
   "outputs": [],
   "source": [
    "from addressanalysis import received_outs_without_change"
   ]
  },
  {
   "cell_type": "code",
   "execution_count": 7,
   "metadata": {},
   "outputs": [],
   "source": [
    "import random"
   ]
  },
  {
   "cell_type": "code",
   "execution_count": 8,
   "metadata": {},
   "outputs": [],
   "source": [
    "chain = blocksci.Blockchain(\"/blocksci/btc.json\")"
   ]
  },
  {
   "cell_type": "code",
   "execution_count": 9,
   "metadata": {},
   "outputs": [
    {
     "data": {
      "text/plain": [
       "637091"
      ]
     },
     "execution_count": 9,
     "metadata": {},
     "output_type": "execute_result"
    }
   ],
   "source": [
    "len(chain)"
   ]
  },
  {
   "cell_type": "markdown",
   "metadata": {},
   "source": [
    "## New Taint Analysis - Helper Functions"
   ]
  },
  {
   "cell_type": "code",
   "execution_count": 10,
   "metadata": {},
   "outputs": [],
   "source": [
    "taint_policies = {\n",
    "    \"Poison\": blocksci.heuristics.poison_tainted_outputs,\n",
    "    \"Haircut\": blocksci.heuristics.haircut_tainted_outputs,\n",
    "    \"Fifo\": blocksci.heuristics.fifo_tainted_outputs,\n",
    "    \"Fifo+Seniority\": blocksci.heuristics.fifo_seniority_tainted_outputs,\n",
    "    \"Seniority\": blocksci.heuristics.seniority_tainted_outputs,\n",
    "    \"Juniority\": blocksci.heuristics.juniority_tainted_outputs,\n",
    "    \"Tiho\": blocksci.heuristics.tiho_tainted_outputs\n",
    "}"
   ]
  },
  {
   "cell_type": "code",
   "execution_count": 11,
   "metadata": {},
   "outputs": [],
   "source": [
    "taint_policies_efficient = {\n",
    "    \"Fifo\": blocksci.heuristics.fifo_tainted_outputs,\n",
    "    \"Fifo+Seniority\": blocksci.heuristics.fifo_seniority_tainted_outputs,\n",
    "    \"Seniority\": blocksci.heuristics.seniority_tainted_outputs,\n",
    "    \"Juniority\": blocksci.heuristics.juniority_tainted_outputs,\n",
    "    \"Tiho\": blocksci.heuristics.tiho_tainted_outputs\n",
    "}"
   ]
  },
  {
   "cell_type": "code",
   "execution_count": 12,
   "metadata": {},
   "outputs": [],
   "source": [
    "def run_taint(outs, runall=False, taint_fee=True, max_height=610695):\n",
    "    if runall:\n",
    "        return [taint_policies[n](outs, taint_fee=taint_fee, max_block_height=max_height) for n in taint_policies]\n",
    "    else:\n",
    "        return [taint_policies_efficient[n](outs, taint_fee=taint_fee, max_block_height=max_height) for n in taint_policies_efficient]"
   ]
  },
  {
   "cell_type": "code",
   "execution_count": 190,
   "metadata": {},
   "outputs": [
    {
     "name": "stdout",
     "output_type": "stream",
     "text": [
      "Fifo\n",
      "Fifo+Seniority\n",
      "Seniority\n",
      "Juniority\n",
      "Tiho\n"
     ]
    }
   ],
   "source": [
    "for n in taint_policies_efficient:\n",
    "    print(n)"
   ]
  },
  {
   "cell_type": "code",
   "execution_count": 13,
   "metadata": {},
   "outputs": [],
   "source": [
    "def extract_taint_values(lst, sum_chunks=True):\n",
    "    values = []\n",
    "    for elem in lst:\n",
    "        taint = elem[1]\n",
    "        if isinstance(taint, list):  # fifo\n",
    "            v = [t[0] for t in taint if t[1]]\n",
    "            if sum_chunks:\n",
    "                values.append(sum(v))\n",
    "            else:\n",
    "                values.extend(v)\n",
    "        else:\n",
    "            values.append(taint[0])\n",
    "    return values"
   ]
  },
  {
   "cell_type": "code",
   "execution_count": 14,
   "metadata": {},
   "outputs": [],
   "source": [
    "def extract_output_values(lst):\n",
    "    if isinstance(lst[0][1], list):\n",
    "        return [sum(y for y, _ in x[1]) for x in lst]\n",
    "    else:\n",
    "        return [sum(x[1]) for x in lst]"
   ]
  },
  {
   "cell_type": "code",
   "execution_count": 15,
   "metadata": {},
   "outputs": [],
   "source": [
    "def extract_output_timestamp(lst):\n",
    "    return [x[0].tx.block.time for x in lst]"
   ]
  },
  {
   "cell_type": "code",
   "execution_count": 16,
   "metadata": {},
   "outputs": [],
   "source": [
    "def extract_taint_time(lst):\n",
    "    return list(zip(extract_output_timestamp(lst), extract_taint_values(lst)))"
   ]
  },
  {
   "cell_type": "code",
   "execution_count": 17,
   "metadata": {},
   "outputs": [],
   "source": [
    "def value_hist(values, ymax=None, label=None):\n",
    "    bins = [0.25 * x for x in range(45)]\n",
    "    ax = sns.distplot(np.log10(values), bins=bins, kde=False, norm_hist=False, label=label, axlabel=\"Output value (log10)\")\n",
    "    ax.set(xlim=(0, 11), ylim=(0, ymax))\n",
    "    sns.despine()"
   ]
  },
  {
   "cell_type": "code",
   "execution_count": 18,
   "metadata": {},
   "outputs": [],
   "source": [
    "def perc_hist(values, ymax=None, label=None):\n",
    "    bins = [0.025 * x for x in range(41)]\n",
    "    ax = sns.distplot(values, bins=bins, kde=False, norm_hist=False, label=label, axlabel=\"Share of output value tainted\")\n",
    "    #ax.set(xlim=(0, 1), ylim=(0, ymax))\n",
    "    sns.despine()"
   ]
  },
  {
   "cell_type": "code",
   "execution_count": 19,
   "metadata": {},
   "outputs": [],
   "source": [
    "from matplotlib.dates import DateFormatter, MonthLocator\n",
    "\n",
    "def value_age_lineplot(df, ymax=None, label=None, month_ticks=False):\n",
    "    df.columns = [label]\n",
    "    ax = sns.lineplot(df.index, df[label], label=label)\n",
    "    ax.set(ylim=(0, ymax))\n",
    "    ax.set(xlabel='Tainted UTXO creation date', ylabel=\"Tainted value (in BTC)\")\n",
    "\n",
    "    if month_ticks:\n",
    "        ax.xaxis.set_major_locator(MonthLocator(month_ticks))\n",
    "    ax.xaxis.set_major_formatter(DateFormatter('%m/%y'))\n",
    "    \n",
    "    sns.despine()"
   ]
  },
  {
   "cell_type": "code",
   "execution_count": 20,
   "metadata": {},
   "outputs": [],
   "source": [
    "def all_taint_value_hist(taint, ymax=None, filename=\"default.pdf\"):\n",
    "    f = extract_taint_values\n",
    "    p = plt.figure(figsize=(16,4))\n",
    "    plt.subplot(1, 4, 1)\n",
    "    value_hist(f(taint[0]), ymax=ymax, label=\"FIFO (per output)\")\n",
    "    value_hist(f(taint[0], sum_chunks=False), ymax=ymax, label=\"FIFO (chunks)\")\n",
    "    plt.legend(frameon=False)\n",
    "    \n",
    "    plt.subplot(1, 4, 2)\n",
    "    value_hist(f(taint[1]), ymax=ymax, label=\"Output-Seniority\")\n",
    "    plt.legend(frameon=False)\n",
    "    \n",
    "    plt.subplot(1, 4, 3)\n",
    "    value_hist(f(taint[2]), ymax=ymax, label=\"Seniority\")\n",
    "    value_hist(f(taint[3]), ymax=ymax, label=\"Juniority\")\n",
    "    plt.legend(frameon=False)\n",
    "    \n",
    "    plt.subplot(1, 4, 4)\n",
    "    value_hist(f(taint[4]), ymax=ymax, label=\"TIHO\")\n",
    "    plt.legend(frameon=False)\n",
    "    \n",
    "    p.savefig(filename, bbox_inches='tight')"
   ]
  },
  {
   "cell_type": "code",
   "execution_count": 21,
   "metadata": {},
   "outputs": [],
   "source": [
    "def all_output_value_hist(taint, ymax=None, filename=\"default.pdf\"):\n",
    "    f = extract_output_values\n",
    "    p = plt.figure(figsize=(16,4))\n",
    "    plt.subplot(1, 4, 1)\n",
    "    value_hist(f(taint[0]), ymax=ymax, label=\"FIFO\")\n",
    "    plt.legend(frameon=False)\n",
    "    \n",
    "    plt.subplot(1, 4, 2)\n",
    "    value_hist(f(taint[1]), ymax=ymax, label=\"Output-Seniority\")\n",
    "    plt.legend(frameon=False)\n",
    "    \n",
    "    plt.subplot(1, 4, 3)\n",
    "    value_hist(f(taint[2]), ymax=ymax, label=\"Seniority\")\n",
    "    value_hist(f(taint[3]), ymax=ymax, label=\"Juniority\")\n",
    "    plt.legend(frameon=False)\n",
    "    \n",
    "    plt.subplot(1, 4, 4)\n",
    "    value_hist(f(taint[4]), ymax=ymax, label=\"TIHO\")\n",
    "    plt.legend(frameon=False)\n",
    "    \n",
    "    p.savefig(filename, bbox_inches='tight')"
   ]
  },
  {
   "cell_type": "code",
   "execution_count": 22,
   "metadata": {},
   "outputs": [],
   "source": [
    "def tainted_share_hist(taint, ymax=None, filename=\"default.pdf\"):\n",
    "    f = extract_taint_values\n",
    "    g = extract_output_values\n",
    "    \n",
    "    share = lambda x: [t/f for t,f in zip(f(x), g(x))]\n",
    "    \n",
    "    p = plt.figure(figsize=(16,4))\n",
    "    plt.subplot(1, 4, 1)\n",
    "    perc_hist(share(taint[0]), ymax=ymax, label=\"FIFO\")\n",
    "    plt.legend(frameon=False)\n",
    "    \n",
    "    plt.subplot(1, 4, 2)\n",
    "    perc_hist(share(taint[1]), ymax=ymax, label=\"Output-Seniority\")\n",
    "    plt.legend(frameon=False)\n",
    "    \n",
    "    plt.subplot(1, 4, 3)\n",
    "    perc_hist(share(taint[2]), ymax=ymax, label=\"Seniority\")\n",
    "    perc_hist(share(taint[3]), ymax=ymax, label=\"Juniority\")\n",
    "    plt.legend(frameon=False)\n",
    "\n",
    "    plt.subplot(1, 4, 4)\n",
    "    perc_hist(share(taint[4]), ymax=ymax, label=\"TIHO\")\n",
    "    plt.legend(frameon=False)\n",
    "    \n",
    "    p.savefig(filename, bbox_inches='tight')"
   ]
  },
  {
   "cell_type": "code",
   "execution_count": 23,
   "metadata": {},
   "outputs": [],
   "source": [
    "def taint_age_lineplot(taint, ymax=None, month_ticks=False, filename=\"default.pdf\"):\n",
    "    get_df = lambda x: pd.DataFrame({\"timestamp\": extract_output_timestamp(x), \"value\": extract_taint_values(x)}).groupby(\"timestamp\").sum().resample(\"1 d\").sum().cumsum().div(int(1e8))\n",
    "    \n",
    "    p = plt.figure(figsize=(16,4))\n",
    "    plt.subplot(1, 4, 1)\n",
    "    value_age_lineplot(get_df(taint[0]), ymax=ymax, label=\"FIFO\", month_ticks=month_ticks)\n",
    "    plt.legend(frameon=False)\n",
    "    \n",
    "    plt.subplot(1, 4, 2)\n",
    "    value_age_lineplot(get_df(taint[1]), ymax=ymax, label=\"Output-Seniority\", month_ticks=month_ticks)\n",
    "    plt.legend(frameon=False)\n",
    "    \n",
    "    plt.subplot(1, 4, 3)\n",
    "    value_age_lineplot(get_df(taint[2]), ymax=ymax, label=\"Seniority\", month_ticks=month_ticks)\n",
    "    value_age_lineplot(get_df(taint[3]), ymax=ymax, label=\"Reversed seniority\", month_ticks=month_ticks)\n",
    "    plt.legend(frameon=False)\n",
    "    \n",
    "    plt.subplot(1, 4, 4)\n",
    "    value_age_lineplot(get_df(taint[4]), ymax=ymax, label=\"TIHO\", month_ticks=month_ticks)\n",
    "    plt.legend(frameon=False)\n",
    "    \n",
    "    p.savefig(filename, bbox_inches='tight')"
   ]
  },
  {
   "cell_type": "code",
   "execution_count": 24,
   "metadata": {},
   "outputs": [],
   "source": [
    "def fifo_sum(p):\n",
    "    t = p[1]\n",
    "    return sum(v for v, b in t if b)"
   ]
  },
  {
   "cell_type": "code",
   "execution_count": 25,
   "metadata": {},
   "outputs": [],
   "source": [
    "def fifo_chunk_count_output(o):\n",
    "    t = o[1]\n",
    "    return len([b for _, b in t if b])"
   ]
  },
  {
   "cell_type": "code",
   "execution_count": 26,
   "metadata": {},
   "outputs": [],
   "source": [
    "def fifo_chunk_count(t):\n",
    "    return sum(fifo_chunk_count_output(x) for x in t)"
   ]
  },
  {
   "cell_type": "code",
   "execution_count": 27,
   "metadata": {},
   "outputs": [],
   "source": [
    "def seniority_sum(p):\n",
    "    return p[1][0]\n",
    "def simple_taint_value(p):\n",
    "    return p[1][0]"
   ]
  },
  {
   "cell_type": "code",
   "execution_count": 28,
   "metadata": {},
   "outputs": [],
   "source": [
    "def total_fifo_taint(x):\n",
    "    return sum(fifo_sum(y) for y in x)\n",
    "\n",
    "def total_simple_taint(x):\n",
    "    return sum(simple_taint_value(y) for y in x)"
   ]
  },
  {
   "cell_type": "code",
   "execution_count": 94,
   "metadata": {},
   "outputs": [],
   "source": [
    "def count_taint(t, runall=False, do_print=True):\n",
    "    counts = [len(x) for x in t]\n",
    "    if do_print:\n",
    "        formatted = [f\"{x:,}\" for x in counts]\n",
    "        print(*formatted, sep = \" & \")\n",
    "    return counts"
   ]
  },
  {
   "cell_type": "code",
   "execution_count": 212,
   "metadata": {},
   "outputs": [],
   "source": [
    "def count_taint_no_dust(t, do_print=True):\n",
    "    counts = [len([y for y in x if y[0].value > 546]) for x in t]\n",
    "    if do_print:\n",
    "        formatted = [f\"{x:,}\" for x in counts]\n",
    "        print(*formatted, sep = \" & \")\n",
    "    return counts"
   ]
  },
  {
   "cell_type": "code",
   "execution_count": 30,
   "metadata": {},
   "outputs": [],
   "source": [
    "def count_taint_greater(t, v):\n",
    "    counts = [len([True for x in t[0] if fifo_sum(x) > v])]\n",
    "    for i in range(1, len(t)):\n",
    "        counts.append(len([True for x in t[i] if seniority_sum(x) > v]))\n",
    "    print(*counts, sep = \" & \") \n",
    "    return counts"
   ]
  },
  {
   "cell_type": "code",
   "execution_count": 51,
   "metadata": {},
   "outputs": [],
   "source": [
    "def no_fee_taint_loss(with_fees, no_fees):\n",
    "    lost_taint = []\n",
    "    fifo_with_fees = total_fifo_taint(with_fees[0])\n",
    "    fifo_no_fees = total_fifo_taint(no_fees[0])\n",
    "    lost_taint.append((fifo_with_fees, fifo_no_fees))\n",
    "    \n",
    "    for i in range(1, len(with_fees)):\n",
    "        lost_taint.append((total_simple_taint(with_fees[i]), total_simple_taint(no_fees[i])))\n",
    "    #print([(x-y) / 1e8 for x,y in lost_taint])\n",
    "    print(*[round(100 * (x-y)/x, 2) for x,y in lost_taint], sep = \" & \")\n",
    "    return lost_taint"
   ]
  },
  {
   "cell_type": "code",
   "execution_count": 81,
   "metadata": {},
   "outputs": [],
   "source": [
    "def output_time_range(outs):\n",
    "    ts = [x.tx.block.time for x in outs]\n",
    "    return min(ts), max(ts)"
   ]
  },
  {
   "cell_type": "code",
   "execution_count": 129,
   "metadata": {},
   "outputs": [],
   "source": [
    "def latex_table_format(lst, round_digits=None):\n",
    "    if round_digits:\n",
    "        print(*[round(x, round_digits) for x in lst], sep = \" & \")\n",
    "    else:\n",
    "        print(*lst, sep = \" & \")"
   ]
  },
  {
   "cell_type": "markdown",
   "metadata": {},
   "source": [
    "## Set max height"
   ]
  },
  {
   "cell_type": "code",
   "execution_count": 32,
   "metadata": {},
   "outputs": [],
   "source": [
    "max_height_analysis = 637091"
   ]
  },
  {
   "cell_type": "markdown",
   "metadata": {},
   "source": [
    "## Addresses extracted from blackmail scam mails"
   ]
  },
  {
   "cell_type": "code",
   "execution_count": 33,
   "metadata": {},
   "outputs": [],
   "source": [
    "blackmail_address_strings = set([\n",
    "    \"16oE4aRiJQvwMvbdfkx6kX8Wg9GLA1uFnz\",\n",
    "    \"1Agq5LZhY2UgcHoknVU7rZeE1x4gMuJTvf\",\n",
    "    \"13bpFXeCW6inWQSSgkVKj9rmemtkNvNoD3\",\n",
    "    \"1GPjEBZvfFRAGwCorR98upF5ByDu2Cq9Ha\",\n",
    "    \"18921mhD7bedjrgQuDmNh3oFuMQiUry1X7\",\n",
    "    \"1B3SBdx6ZqhBjUuYTzoMZq4a6Kvk4psKfM\",\n",
    "    \"19qL8vdRtk5xJcGNVk3WruuSyitVfSAy7f\",\n",
    "    \"1KzMDhZLokkNd1kcxs2mgwXm97pVvnfRBC\",\n",
    "    \"1P7bLeCJywaaDRQpT7iwb4qzUHa4CpRFyP\",\n",
    "    \"1971pHPgLaTmuYtoH4BsGSfFMZaAjotium\",\n",
    "    \"17EuB8AmyBm81FgCovdr6huCCoSzv2S7nP\",\n",
    "    \"1WLEChY6S7S97m5voZZtbQcwiEYeSNsja\",\n",
    "    \"13phdoBirrAtFXKWJQ9HgTYX9b7C2MqXPE\",\n",
    "    \"1G1qFoadiDxa7zTvppSMJhJi63tNUL3cy7\",\n",
    "    \"18Pt4B7Rz7Wf491FGQHPsfDeKRqnkyrMo6\",\n",
    "    \"3ER3byGWbnqgxN4C5amtCXHExPgGaUWsBd\",\n",
    "    \"19UW5P6PGDA3SWehh8UMGQQC3ezBzN1mDE\",\n",
    "    \"1H1K8MfLEJgjCCfDEkTJmv9GJjD3XzEFGR\",\n",
    "    \"39eaJ2Fxbm4KWVu26BzaEH465aK4yrbuzH\",\n",
    "    \"38KxdSNjge7hdy7zWZuRRC4hN4krQrrA5b\",\n",
    "    \"12s4cfoNTzT68gSdxLjmSRT3qdvaqwDWNz\",\n",
    "    \"1GoWy5yMzh3XXBiYxLU9tKCBMgibpznGio\",\n",
    "    \"15mWFjVymAdqimVim2f1UgX6oSD4TYeGLE\",\n",
    "    \"1ELgYTbMLmw9vaHADfZmMcKVMWCNmRH8S2\",\n",
    "    \"1Gm6q6M2TfL4yrL3TnvsUZZ1C5k6wrvBbX\",\n",
    "    \"34vhBcVUYwfNYjupWHrzef1zogaRZaSFU6\",\n",
    "    \"3CEx39owi6EeUAoM4ENyYdGhLZj7nAwuYH\",\n",
    "    \"1DjuN5PM9VLXCeqYrb9nxzpQ8rb2hXZiEt\"\n",
    "])"
   ]
  },
  {
   "cell_type": "code",
   "execution_count": 34,
   "metadata": {},
   "outputs": [],
   "source": [
    "blackmail_addresses = [chain.address_from_string(x) for x in blackmail_address_strings]\n",
    "blackmail_addresses = [x for x in blackmail_addresses if x]"
   ]
  },
  {
   "cell_type": "code",
   "execution_count": 35,
   "metadata": {},
   "outputs": [
    {
     "data": {
      "text/plain": [
       "[PubkeyHashAddress(1Agq5LZhY2UgcHoknVU7rZeE1x4gMuJTvf),\n",
       " PubkeyHashAddress(1ELgYTbMLmw9vaHADfZmMcKVMWCNmRH8S2),\n",
       " PubkeyHashAddress(1H1K8MfLEJgjCCfDEkTJmv9GJjD3XzEFGR),\n",
       " PubkeyHashAddress(1P7bLeCJywaaDRQpT7iwb4qzUHa4CpRFyP),\n",
       " PubkeyHashAddress(19UW5P6PGDA3SWehh8UMGQQC3ezBzN1mDE),\n",
       " PubkeyHashAddress(1B3SBdx6ZqhBjUuYTzoMZq4a6Kvk4psKfM),\n",
       " PubkeyHashAddress(13bpFXeCW6inWQSSgkVKj9rmemtkNvNoD3),\n",
       " PubkeyHashAddress(15mWFjVymAdqimVim2f1UgX6oSD4TYeGLE),\n",
       " PubkeyHashAddress(1GoWy5yMzh3XXBiYxLU9tKCBMgibpznGio),\n",
       " PubkeyHashAddress(1WLEChY6S7S97m5voZZtbQcwiEYeSNsja),\n",
       " PubkeyHashAddress(1G1qFoadiDxa7zTvppSMJhJi63tNUL3cy7),\n",
       " PubkeyHashAddress(12s4cfoNTzT68gSdxLjmSRT3qdvaqwDWNz),\n",
       " PubkeyHashAddress(19qL8vdRtk5xJcGNVk3WruuSyitVfSAy7f),\n",
       " PubkeyHashAddress(1971pHPgLaTmuYtoH4BsGSfFMZaAjotium),\n",
       " PubkeyHashAddress(18921mhD7bedjrgQuDmNh3oFuMQiUry1X7),\n",
       " PubkeyHashAddress(1KzMDhZLokkNd1kcxs2mgwXm97pVvnfRBC),\n",
       " PubkeyHashAddress(16oE4aRiJQvwMvbdfkx6kX8Wg9GLA1uFnz),\n",
       " PubkeyHashAddress(18Pt4B7Rz7Wf491FGQHPsfDeKRqnkyrMo6)]"
      ]
     },
     "execution_count": 35,
     "metadata": {},
     "output_type": "execute_result"
    }
   ],
   "source": [
    "blackmail_addresses"
   ]
  },
  {
   "cell_type": "code",
   "execution_count": 36,
   "metadata": {},
   "outputs": [
    {
     "name": "stdout",
     "output_type": "stream",
     "text": [
      "Warning: `outs` is deprecated. Use `outputs` instead.\n",
      "Warning: `outs` is deprecated. Use `outputs` instead.\n",
      "Warning: `outs` is deprecated. Use `outputs` instead.\n",
      "Warning: `outs` is deprecated. Use `outputs` instead.\n",
      "Warning: `outs` is deprecated. Use `outputs` instead.\n",
      "Warning: `outs` is deprecated. Use `outputs` instead.\n",
      "Warning: `outs` is deprecated. Use `outputs` instead.\n",
      "Warning: `outs` is deprecated. Use `outputs` instead.\n",
      "Warning: `outs` is deprecated. Use `outputs` instead.\n",
      "Warning: `outs` is deprecated. Use `outputs` instead.\n",
      "Warning: `outs` is deprecated. Use `outputs` instead.\n",
      "Warning: `outs` is deprecated. Use `outputs` instead.\n",
      "Warning: `outs` is deprecated. Use `outputs` instead.\n",
      "Warning: `outs` is deprecated. Use `outputs` instead.\n",
      "Warning: `outs` is deprecated. Use `outputs` instead.\n",
      "Warning: `outs` is deprecated. Use `outputs` instead.\n",
      "Warning: `outs` is deprecated. Use `outputs` instead.\n",
      "Warning: `outs` is deprecated. Use `outputs` instead.\n"
     ]
    }
   ],
   "source": [
    "import itertools\n",
    "blackmail_outs = list(itertools.chain(*[list(x.outs.where(lambda o: o.tx.block_height <= max_height_analysis)) for x in blackmail_addresses]))"
   ]
  },
  {
   "cell_type": "code",
   "execution_count": 37,
   "metadata": {},
   "outputs": [
    {
     "data": {
      "text/plain": [
       "273"
      ]
     },
     "execution_count": 37,
     "metadata": {},
     "output_type": "execute_result"
    }
   ],
   "source": [
    "len(blackmail_outs)"
   ]
  },
  {
   "cell_type": "code",
   "execution_count": 38,
   "metadata": {},
   "outputs": [
    {
     "name": "stdout",
     "output_type": "stream",
     "text": [
      "Warning: `outs` is deprecated. Use `outputs` instead.\n",
      "Warning: `outs` is deprecated. Use `outputs` instead.\n",
      "Warning: `outs` is deprecated. Use `outputs` instead.\n",
      "Warning: `outs` is deprecated. Use `outputs` instead.\n",
      "Warning: `outs` is deprecated. Use `outputs` instead.\n",
      "Warning: `outs` is deprecated. Use `outputs` instead.\n",
      "Warning: `outs` is deprecated. Use `outputs` instead.\n",
      "Warning: `outs` is deprecated. Use `outputs` instead.\n",
      "Warning: `outs` is deprecated. Use `outputs` instead.\n",
      "Warning: `outs` is deprecated. Use `outputs` instead.\n",
      "Warning: `outs` is deprecated. Use `outputs` instead.\n",
      "Warning: `outs` is deprecated. Use `outputs` instead.\n",
      "Warning: `outs` is deprecated. Use `outputs` instead.\n",
      "Warning: `outs` is deprecated. Use `outputs` instead.\n",
      "Warning: `outs` is deprecated. Use `outputs` instead.\n",
      "Warning: `outs` is deprecated. Use `outputs` instead.\n",
      "Warning: `outs` is deprecated. Use `outputs` instead.\n",
      "Warning: `outs` is deprecated. Use `outputs` instead.\n"
     ]
    }
   ],
   "source": [
    "blackmail_outs_nochange = list(itertools.chain(*[received_outs_without_change(x) for x in blackmail_addresses]))  # no difference"
   ]
  },
  {
   "cell_type": "code",
   "execution_count": 39,
   "metadata": {},
   "outputs": [
    {
     "data": {
      "text/plain": [
       "273"
      ]
     },
     "execution_count": 39,
     "metadata": {},
     "output_type": "execute_result"
    }
   ],
   "source": [
    "len(blackmail_outs_nochange)"
   ]
  },
  {
   "cell_type": "code",
   "execution_count": 40,
   "metadata": {},
   "outputs": [],
   "source": [
    "blackmail_taint = run_taint(blackmail_outs_nochange, max_height=max_height_analysis)"
   ]
  },
  {
   "cell_type": "code",
   "execution_count": 46,
   "metadata": {},
   "outputs": [
    {
     "name": "stdout",
     "output_type": "stream",
     "text": [
      "2,821 & 11,913 & 22,215 & 10,330 & 304\n"
     ]
    },
    {
     "data": {
      "text/plain": [
       "[2821, 11913, 22215, 10330, 304]"
      ]
     },
     "execution_count": 46,
     "metadata": {},
     "output_type": "execute_result"
    }
   ],
   "source": [
    "count_taint(blackmail_taint)"
   ]
  },
  {
   "cell_type": "code",
   "execution_count": 42,
   "metadata": {},
   "outputs": [],
   "source": [
    "blackmail_taint_nofee = run_taint(blackmail_outs_nochange, taint_fee=False, max_height=max_height_analysis)"
   ]
  },
  {
   "cell_type": "code",
   "execution_count": 47,
   "metadata": {},
   "outputs": [
    {
     "name": "stdout",
     "output_type": "stream",
     "text": [
      "1,764 & 9,980 & 20,573 & 9,964 & 241\n"
     ]
    },
    {
     "data": {
      "text/plain": [
       "[1764, 9980, 20573, 9964, 241]"
      ]
     },
     "execution_count": 47,
     "metadata": {},
     "output_type": "execute_result"
    }
   ],
   "source": [
    "count_taint(blackmail_taint_nofee)"
   ]
  },
  {
   "cell_type": "code",
   "execution_count": 52,
   "metadata": {},
   "outputs": [
    {
     "name": "stdout",
     "output_type": "stream",
     "text": [
      "1.06 & 2.64 & 1.38 & 0.69 & 0.09\n"
     ]
    },
    {
     "data": {
      "text/plain": [
       "[(2880478282, 2849864978),\n",
       " (2880478282, 2804454345),\n",
       " (2880478282, 2840794030),\n",
       " (2880478282, 2860665165),\n",
       " (2880478282, 2877981445)]"
      ]
     },
     "execution_count": 52,
     "metadata": {},
     "output_type": "execute_result"
    }
   ],
   "source": [
    "no_fee_taint_loss(blackmail_taint, blackmail_taint_nofee)"
   ]
  },
  {
   "cell_type": "code",
   "execution_count": 213,
   "metadata": {},
   "outputs": [
    {
     "name": "stdout",
     "output_type": "stream",
     "text": [
      "2,753 & 10,806 & 19,469 & 5,096 & 304\n"
     ]
    },
    {
     "data": {
      "text/plain": [
       "[2753, 10806, 19469, 5096, 304]"
      ]
     },
     "execution_count": 213,
     "metadata": {},
     "output_type": "execute_result"
    }
   ],
   "source": [
    "count_taint_no_dust(blackmail_taint)"
   ]
  },
  {
   "cell_type": "markdown",
   "metadata": {},
   "source": [
    "### Plots"
   ]
  },
  {
   "cell_type": "code",
   "execution_count": 234,
   "metadata": {},
   "outputs": [
    {
     "data": {
      "image/png": "[encoded data removed]",
      "text/plain": [
       "<Figure size 1152x288 with 4 Axes>"
      ]
     },
     "metadata": {
      "needs_background": "light"
     },
     "output_type": "display_data"
    }
   ],
   "source": [
    "all_taint_value_hist(blackmail_taint, 6000, \"figures/blackmail_taint_hist.pdf\")"
   ]
  },
  {
   "cell_type": "code",
   "execution_count": 235,
   "metadata": {},
   "outputs": [
    {
     "data": {
      "image/png": "[encoded data removed]",
      "text/plain": [
       "<Figure size 1152x288 with 4 Axes>"
      ]
     },
     "metadata": {
      "needs_background": "light"
     },
     "output_type": "display_data"
    }
   ],
   "source": [
    "all_output_value_hist(blackmail_taint, 6000, \"figures/blackmail_value_hist.pdf\")"
   ]
  },
  {
   "cell_type": "code",
   "execution_count": 236,
   "metadata": {},
   "outputs": [
    {
     "data": {
      "image/png": "[encoded data removed]",
      "text/plain": [
       "<Figure size 1152x288 with 4 Axes>"
      ]
     },
     "metadata": {
      "needs_background": "light"
     },
     "output_type": "display_data"
    }
   ],
   "source": [
    "tainted_share_hist(blackmail_taint, 8000, \"figures/blackmail_share_hist.pdf\")"
   ]
  },
  {
   "cell_type": "code",
   "execution_count": 237,
   "metadata": {},
   "outputs": [
    {
     "name": "stderr",
     "output_type": "stream",
     "text": [
      "/usr/local/lib/python3.6/dist-packages/pandas/plotting/_converter.py:129: FutureWarning: Using an implicitly registered datetime converter for a matplotlib plotting method. The converter was registered by pandas on import. Future versions of pandas will require you to explicitly register matplotlib converters.\n",
      "\n",
      "To register the converters:\n",
      "\t>>> from pandas.plotting import register_matplotlib_converters\n",
      "\t>>> register_matplotlib_converters()\n",
      "  warnings.warn(msg, FutureWarning)\n"
     ]
    },
    {
     "data": {
      "image/png": "[encoded data removed]",
      "text/plain": [
       "<Figure size 1152x288 with 4 Axes>"
      ]
     },
     "metadata": {
      "needs_background": "light"
     },
     "output_type": "display_data"
    }
   ],
   "source": [
    "taint_age_lineplot(blackmail_taint, filename=\"figures/blackmail_age_lineplot.pdf\", month_ticks=[1,6])"
   ]
  },
  {
   "cell_type": "markdown",
   "metadata": {},
   "source": [
    "### Poison/Haircut"
   ]
  },
  {
   "cell_type": "code",
   "execution_count": 217,
   "metadata": {},
   "outputs": [
    {
     "name": "stdout",
     "output_type": "stream",
     "text": [
      "CPU times: user 12min 3s, sys: 3.22 s, total: 12min 6s\n",
      "Wall time: 12min 2s\n"
     ]
    }
   ],
   "source": [
    "%time blackmail_poison_count = blocksci.heuristics.poison_tainted_output_count(blackmail_outs_nochange)"
   ]
  },
  {
   "cell_type": "code",
   "execution_count": 218,
   "metadata": {},
   "outputs": [
    {
     "name": "stdout",
     "output_type": "stream",
     "text": [
      "CPU times: user 7min 8s, sys: 1.25 s, total: 7min 10s\n",
      "Wall time: 7min 7s\n"
     ]
    }
   ],
   "source": [
    "%time blackmail_haircut_count = blocksci.heuristics.haircut_tainted_output_count(blackmail_outs_nochange)"
   ]
  },
  {
   "cell_type": "code",
   "execution_count": 219,
   "metadata": {},
   "outputs": [
    {
     "data": {
      "text/plain": [
       "(32743834, 11290000)"
      ]
     },
     "execution_count": 219,
     "metadata": {},
     "output_type": "execute_result"
    }
   ],
   "source": [
    "blackmail_poison_count, blackmail_haircut_count"
   ]
  },
  {
   "cell_type": "markdown",
   "metadata": {},
   "source": [
    "### Impact of Colored Coins"
   ]
  },
  {
   "cell_type": "code",
   "execution_count": 189,
   "metadata": {},
   "outputs": [
    {
     "data": {
      "text/plain": [
       "4850"
      ]
     },
     "execution_count": 189,
     "metadata": {},
     "output_type": "execute_result"
    }
   ],
   "source": [
    "len([x for x in blackmail_taint[3] if x[0].value == 546 and x[0].tx.op_return and x[0].tx.op_return.address.data[:4] == b'omni'])"
   ]
  },
  {
   "cell_type": "code",
   "execution_count": 179,
   "metadata": {},
   "outputs": [],
   "source": [
    "x = blackmail_taint[3][5000][0].tx.op_return.address.data"
   ]
  },
  {
   "cell_type": "code",
   "execution_count": 187,
   "metadata": {},
   "outputs": [
    {
     "data": {
      "text/plain": [
       "True"
      ]
     },
     "execution_count": 187,
     "metadata": {},
     "output_type": "execute_result"
    }
   ],
   "source": [
    "blackmail_taint[3][5000][0].tx.outputs[1].address.data[0:4] == b'omni'"
   ]
  },
  {
   "cell_type": "markdown",
   "metadata": {},
   "source": [
    "## OFAC Outputs"
   ]
  },
  {
   "cell_type": "code",
   "execution_count": 53,
   "metadata": {},
   "outputs": [],
   "source": [
    "ofac1 = chain.address_from_string(\"149w62rY42aZBox8fGcmqNsXUzSStKeq8C\")\n",
    "ofac2 = chain.address_from_string(\"1AjZPMsnmpdK2Rv9KQNfMurTXinscVro9V\")"
   ]
  },
  {
   "cell_type": "code",
   "execution_count": 54,
   "metadata": {},
   "outputs": [],
   "source": [
    "ofac_outs = ofac1.outputs.where(lambda o: o.tx.block_height <= max_height_analysis).to_list() + ofac2.outputs.where(lambda o: o.tx.block_height <= max_height_analysis).to_list()"
   ]
  },
  {
   "cell_type": "code",
   "execution_count": 55,
   "metadata": {},
   "outputs": [
    {
     "data": {
      "text/plain": [
       "6983"
      ]
     },
     "execution_count": 55,
     "metadata": {},
     "output_type": "execute_result"
    }
   ],
   "source": [
    "len(ofac_outs)"
   ]
  },
  {
   "cell_type": "code",
   "execution_count": 56,
   "metadata": {},
   "outputs": [
    {
     "name": "stdout",
     "output_type": "stream",
     "text": [
      "Warning: `outs` is deprecated. Use `outputs` instead.\n",
      "Warning: `outs` is deprecated. Use `outputs` instead.\n"
     ]
    }
   ],
   "source": [
    "# remove change outputs\n",
    "ofac_outs = received_outs_without_change(ofac1).where(lambda o: o.tx.block_height <= max_height_analysis).to_list() + received_outs_without_change(ofac2).where(lambda o: o.tx.block_height <= max_height_analysis).to_list()"
   ]
  },
  {
   "cell_type": "code",
   "execution_count": 57,
   "metadata": {},
   "outputs": [
    {
     "name": "stdout",
     "output_type": "stream",
     "text": [
      "CPU times: user 4min 56s, sys: 5.32 s, total: 5min 1s\n",
      "Wall time: 5min 9s\n"
     ]
    }
   ],
   "source": [
    "%time ofac_taint = run_taint(ofac_outs, max_height=max_height_analysis)"
   ]
  },
  {
   "cell_type": "code",
   "execution_count": 58,
   "metadata": {},
   "outputs": [
    {
     "name": "stdout",
     "output_type": "stream",
     "text": [
      "CPU times: user 3min 31s, sys: 488 ms, total: 3min 31s\n",
      "Wall time: 3min 30s\n"
     ]
    }
   ],
   "source": [
    "%time ofac_taint_nofee = run_taint(ofac_outs, max_height=max_height_analysis, taint_fee=False)"
   ]
  },
  {
   "cell_type": "code",
   "execution_count": null,
   "metadata": {},
   "outputs": [],
   "source": [
    "len([True for x in ofac_taint[0] if x[0].value == 546])"
   ]
  },
  {
   "cell_type": "code",
   "execution_count": null,
   "metadata": {},
   "outputs": [],
   "source": [
    "len(ofac_taint)"
   ]
  },
  {
   "cell_type": "code",
   "execution_count": 59,
   "metadata": {},
   "outputs": [
    {
     "name": "stdout",
     "output_type": "stream",
     "text": [
      "270,537 & 451,581 & 870,672 & 456,477 & 29,963\n"
     ]
    },
    {
     "data": {
      "text/plain": [
       "[270537, 451581, 870672, 456477, 29963]"
      ]
     },
     "execution_count": 59,
     "metadata": {},
     "output_type": "execute_result"
    }
   ],
   "source": [
    "# tainting fees\n",
    "count_taint(ofac_taint)"
   ]
  },
  {
   "cell_type": "code",
   "execution_count": null,
   "metadata": {},
   "outputs": [],
   "source": [
    "count_taint_greater(ofac_taint, v=9900)"
   ]
  },
  {
   "cell_type": "code",
   "execution_count": 60,
   "metadata": {},
   "outputs": [
    {
     "name": "stdout",
     "output_type": "stream",
     "text": [
      "2.02 & 4.75 & 3.63 & 1.88 & 0.26\n"
     ]
    },
    {
     "data": {
      "text/plain": [
       "[(587065023955, 575218900689),\n",
       " (587028718398, 559153667601),\n",
       " (586940840551, 565653516394),\n",
       " (587178212009, 576164142053),\n",
       " (587279837809, 585753186254)]"
      ]
     },
     "execution_count": 60,
     "metadata": {},
     "output_type": "execute_result"
    }
   ],
   "source": [
    "no_fee_taint_loss(ofac_taint, ofac_taint_nofee)"
   ]
  },
  {
   "cell_type": "code",
   "execution_count": 214,
   "metadata": {},
   "outputs": [
    {
     "name": "stdout",
     "output_type": "stream",
     "text": [
      "268,233 & 405,304 & 815,523 & 351,604 & 29,774\n"
     ]
    },
    {
     "data": {
      "text/plain": [
       "[268233, 405304, 815523, 351604, 29774]"
      ]
     },
     "execution_count": 214,
     "metadata": {},
     "output_type": "execute_result"
    }
   ],
   "source": [
    "count_taint_no_dust(ofac_taint)"
   ]
  },
  {
   "cell_type": "markdown",
   "metadata": {},
   "source": [
    "#### Validation (No taint lost during tainting)"
   ]
  },
  {
   "cell_type": "code",
   "execution_count": 38,
   "metadata": {},
   "outputs": [
    {
     "data": {
      "text/plain": [
       "590140699176"
      ]
     },
     "execution_count": 38,
     "metadata": {},
     "output_type": "execute_result"
    }
   ],
   "source": [
    "total_ofac_out_value = sum([x.value for x in ofac_outs])\n",
    "total_ofac_out_value"
   ]
  },
  {
   "cell_type": "code",
   "execution_count": 42,
   "metadata": {},
   "outputs": [
    {
     "data": {
      "text/plain": [
       "True"
      ]
     },
     "execution_count": 42,
     "metadata": {},
     "output_type": "execute_result"
    }
   ],
   "source": [
    "sum([fifo_sum(x) for x in ofac_taint[0]]) + 3075675221 == total_ofac_out_value"
   ]
  },
  {
   "cell_type": "code",
   "execution_count": 43,
   "metadata": {},
   "outputs": [
    {
     "data": {
      "text/plain": [
       "True"
      ]
     },
     "execution_count": 43,
     "metadata": {},
     "output_type": "execute_result"
    }
   ],
   "source": [
    "sum([seniority_sum(x) for x in ofac_taint[1]]) + 3111980778 == total_ofac_out_value"
   ]
  },
  {
   "cell_type": "code",
   "execution_count": 44,
   "metadata": {},
   "outputs": [
    {
     "data": {
      "text/plain": [
       "True"
      ]
     },
     "execution_count": 44,
     "metadata": {},
     "output_type": "execute_result"
    }
   ],
   "source": [
    "sum([seniority_sum(x) for x in ofac_taint[2]]) + 3199858625 == total_ofac_out_value"
   ]
  },
  {
   "cell_type": "code",
   "execution_count": 45,
   "metadata": {},
   "outputs": [
    {
     "data": {
      "text/plain": [
       "True"
      ]
     },
     "execution_count": 45,
     "metadata": {},
     "output_type": "execute_result"
    }
   ],
   "source": [
    "sum([seniority_sum(x) for x in ofac_taint[3]]) + 2962487167 == total_ofac_out_value"
   ]
  },
  {
   "cell_type": "code",
   "execution_count": 46,
   "metadata": {},
   "outputs": [
    {
     "data": {
      "text/plain": [
       "True"
      ]
     },
     "execution_count": 46,
     "metadata": {},
     "output_type": "execute_result"
    }
   ],
   "source": [
    "sum([seniority_sum(x) for x in ofac_taint[4]]) + 2860861367 == total_ofac_out_value"
   ]
  },
  {
   "cell_type": "markdown",
   "metadata": {},
   "source": [
    "#### Plots"
   ]
  },
  {
   "cell_type": "code",
   "execution_count": 238,
   "metadata": {},
   "outputs": [
    {
     "name": "stderr",
     "output_type": "stream",
     "text": [
      "/usr/local/lib/python3.6/dist-packages/ipykernel_launcher.py:3: RuntimeWarning: divide by zero encountered in log10\n",
      "  This is separate from the ipykernel package so we can avoid doing imports until\n"
     ]
    },
    {
     "data": {
      "image/png": "[encoded data removed]",
      "text/plain": [
       "<Figure size 1152x288 with 4 Axes>"
      ]
     },
     "metadata": {
      "needs_background": "light"
     },
     "output_type": "display_data"
    }
   ],
   "source": [
    "all_taint_value_hist(ofac_taint, 130000, \"figures/ofac_taint_hist.pdf\")"
   ]
  },
  {
   "cell_type": "code",
   "execution_count": 239,
   "metadata": {},
   "outputs": [
    {
     "data": {
      "image/png": "[encoded data removed]",
      "text/plain": [
       "<Figure size 1152x288 with 4 Axes>"
      ]
     },
     "metadata": {
      "needs_background": "light"
     },
     "output_type": "display_data"
    }
   ],
   "source": [
    "all_output_value_hist(ofac_taint, 130000, \"figures/ofac_value_hist.pdf\")"
   ]
  },
  {
   "cell_type": "code",
   "execution_count": 240,
   "metadata": {},
   "outputs": [
    {
     "data": {
      "image/png": "[encoded data removed]",
      "text/plain": [
       "<Figure size 1152x288 with 4 Axes>"
      ]
     },
     "metadata": {
      "needs_background": "light"
     },
     "output_type": "display_data"
    }
   ],
   "source": [
    "tainted_share_hist(ofac_taint, 650000, \"figures/ofac_share_hist.pdf\")"
   ]
  },
  {
   "cell_type": "code",
   "execution_count": 241,
   "metadata": {},
   "outputs": [
    {
     "data": {
      "image/png": "[encoded data removed]",
      "text/plain": [
       "<Figure size 1152x288 with 4 Axes>"
      ]
     },
     "metadata": {
      "needs_background": "light"
     },
     "output_type": "display_data"
    }
   ],
   "source": [
    "taint_age_lineplot(ofac_taint, filename=\"figures/ofac_age_lineplot.pdf\")"
   ]
  },
  {
   "cell_type": "markdown",
   "metadata": {},
   "source": [
    "### Ransomware"
   ]
  },
  {
   "cell_type": "code",
   "execution_count": 61,
   "metadata": {},
   "outputs": [],
   "source": [
    "import csv"
   ]
  },
  {
   "cell_type": "code",
   "execution_count": 62,
   "metadata": {},
   "outputs": [],
   "source": [
    "rw = set()\n",
    "with open('data/cerber-locky-addresses.csv', 'r') as csvfile:\n",
    "    reader = csv.reader(csvfile, delimiter=',')\n",
    "    next(reader)\n",
    "    for row in reader:\n",
    "        rw.add(chain.tx_with_hash(row[2]).outputs[int(row[3])])\n",
    "rw = list(rw)"
   ]
  },
  {
   "cell_type": "code",
   "execution_count": 63,
   "metadata": {},
   "outputs": [],
   "source": [
    "rw_minheight = min(o.tx.block_height for o in rw)"
   ]
  },
  {
   "cell_type": "code",
   "execution_count": 64,
   "metadata": {},
   "outputs": [],
   "source": [
    "rw_maxheight = max(o.tx.block_height for o in rw)"
   ]
  },
  {
   "cell_type": "code",
   "execution_count": 65,
   "metadata": {},
   "outputs": [
    {
     "name": "stdout",
     "output_type": "stream",
     "text": [
      "CPU times: user 5min 44s, sys: 2.34 s, total: 5min 46s\n",
      "Wall time: 5min 49s\n"
     ]
    }
   ],
   "source": [
    "%time ransomware_taint = run_taint(rw, max_height=max_height_analysis)"
   ]
  },
  {
   "cell_type": "code",
   "execution_count": 66,
   "metadata": {},
   "outputs": [
    {
     "name": "stdout",
     "output_type": "stream",
     "text": [
      "CPU times: user 4min 12s, sys: 876 ms, total: 4min 12s\n",
      "Wall time: 4min 11s\n"
     ]
    }
   ],
   "source": [
    "%time ransomware_taint_nofee = run_taint(rw, max_height=max_height_analysis, taint_fee=False)"
   ]
  },
  {
   "cell_type": "code",
   "execution_count": 67,
   "metadata": {},
   "outputs": [
    {
     "name": "stdout",
     "output_type": "stream",
     "text": [
      "576,694 & 840,363 & 1,591,322 & 617,263 & 48,510\n"
     ]
    },
    {
     "data": {
      "text/plain": [
       "[576694, 840363, 1591322, 617263, 48510]"
      ]
     },
     "execution_count": 67,
     "metadata": {},
     "output_type": "execute_result"
    }
   ],
   "source": [
    "count_taint(ransomware_taint)"
   ]
  },
  {
   "cell_type": "code",
   "execution_count": 68,
   "metadata": {},
   "outputs": [
    {
     "name": "stdout",
     "output_type": "stream",
     "text": [
      "1.94 & 3.82 & 2.63 & 1.43 & 0.33\n"
     ]
    },
    {
     "data": {
      "text/plain": [
       "[(2241210679423, 2197784238829),\n",
       " (2236549158150, 2151156416058),\n",
       " (2237832847090, 2178888167797),\n",
       " (2240959072675, 2208865678063),\n",
       " (2244578619794, 2237068146743)]"
      ]
     },
     "execution_count": 68,
     "metadata": {},
     "output_type": "execute_result"
    }
   ],
   "source": [
    "no_fee_taint_loss(ransomware_taint, ransomware_taint_nofee)"
   ]
  },
  {
   "cell_type": "code",
   "execution_count": null,
   "metadata": {},
   "outputs": [],
   "source": [
    "# count_taint(ransomware_taint)"
   ]
  },
  {
   "cell_type": "code",
   "execution_count": 242,
   "metadata": {},
   "outputs": [
    {
     "name": "stderr",
     "output_type": "stream",
     "text": [
      "/usr/local/lib/python3.6/dist-packages/ipykernel_launcher.py:3: RuntimeWarning: divide by zero encountered in log10\n",
      "  This is separate from the ipykernel package so we can avoid doing imports until\n"
     ]
    },
    {
     "data": {
      "image/png": "[encoded data removed]",
      "text/plain": [
       "<Figure size 1152x288 with 4 Axes>"
      ]
     },
     "metadata": {
      "needs_background": "light"
     },
     "output_type": "display_data"
    }
   ],
   "source": [
    "all_taint_value_hist(ransomware_taint, 250000, \"figures/ransomware_taint_hist.pdf\")"
   ]
  },
  {
   "cell_type": "code",
   "execution_count": 243,
   "metadata": {},
   "outputs": [
    {
     "data": {
      "image/png": "[encoded data removed]",
      "text/plain": [
       "<Figure size 1152x288 with 4 Axes>"
      ]
     },
     "metadata": {
      "needs_background": "light"
     },
     "output_type": "display_data"
    }
   ],
   "source": [
    "all_output_value_hist(ransomware_taint, 250000, \"figures/ransomware_value_hist.pdf\")"
   ]
  },
  {
   "cell_type": "code",
   "execution_count": 244,
   "metadata": {},
   "outputs": [
    {
     "data": {
      "image/png": "[encoded data removed]",
      "text/plain": [
       "<Figure size 1152x288 with 4 Axes>"
      ]
     },
     "metadata": {
      "needs_background": "light"
     },
     "output_type": "display_data"
    }
   ],
   "source": [
    "tainted_share_hist(ransomware_taint, 1200000, \"figures/ransomware_share_hist.pdf\")"
   ]
  },
  {
   "cell_type": "code",
   "execution_count": 245,
   "metadata": {},
   "outputs": [
    {
     "data": {
      "image/png": "[encoded data removed]",
      "text/plain": [
       "<Figure size 1152x288 with 4 Axes>"
      ]
     },
     "metadata": {
      "needs_background": "light"
     },
     "output_type": "display_data"
    }
   ],
   "source": [
    "taint_age_lineplot(ransomware_taint, month_ticks=[1], filename=\"figures/ransomware_age_lineplot.pdf\")"
   ]
  },
  {
   "cell_type": "markdown",
   "metadata": {},
   "source": [
    "### Random Txes from 2019"
   ]
  },
  {
   "cell_type": "code",
   "execution_count": 69,
   "metadata": {},
   "outputs": [],
   "source": [
    "rng2019 = chain.range(\"2019\")"
   ]
  },
  {
   "cell_type": "code",
   "execution_count": 70,
   "metadata": {},
   "outputs": [
    {
     "data": {
      "text/plain": [
       "369239301"
      ]
     },
     "execution_count": 70,
     "metadata": {},
     "output_type": "execute_result"
    }
   ],
   "source": [
    "start_tx_index = rng2019[0].txes[0].index\n",
    "start_tx_index"
   ]
  },
  {
   "cell_type": "code",
   "execution_count": 71,
   "metadata": {},
   "outputs": [
    {
     "data": {
      "text/plain": [
       "489022947"
      ]
     },
     "execution_count": 71,
     "metadata": {},
     "output_type": "execute_result"
    }
   ],
   "source": [
    "end_tx_index = rng2019[-1].txes[-1].index\n",
    "end_tx_index"
   ]
  },
  {
   "cell_type": "code",
   "execution_count": 72,
   "metadata": {},
   "outputs": [],
   "source": [
    "random.seed(20200908)\n",
    "random_tx_indexes = [random.randint(start_tx_index, end_tx_index) for _ in range(1000)]\n",
    "\n",
    "random_outs = []\n",
    "for idx in random_tx_indexes:\n",
    "    tx = chain.tx_with_index(idx)\n",
    "    random_out = tx.outputs[random.randint(0, tx.output_count - 1)]\n",
    "    if random_out.value > 100000:\n",
    "        random_outs.append(random_out)\n",
    "    if len(random_outs) == 100:\n",
    "        break"
   ]
  },
  {
   "cell_type": "code",
   "execution_count": 73,
   "metadata": {},
   "outputs": [
    {
     "data": {
      "text/plain": [
       "100"
      ]
     },
     "execution_count": 73,
     "metadata": {},
     "output_type": "execute_result"
    }
   ],
   "source": [
    "len(random_outs)"
   ]
  },
  {
   "cell_type": "code",
   "execution_count": 75,
   "metadata": {},
   "outputs": [
    {
     "data": {
      "text/plain": [
       "True"
      ]
     },
     "execution_count": 75,
     "metadata": {},
     "output_type": "execute_result"
    }
   ],
   "source": [
    "300.07758293 == sum(x.value for x in random_outs) / 1e8"
   ]
  },
  {
   "cell_type": "code",
   "execution_count": 76,
   "metadata": {},
   "outputs": [
    {
     "name": "stdout",
     "output_type": "stream",
     "text": [
      "CPU times: user 52.8 s, sys: 376 ms, total: 53.2 s\n",
      "Wall time: 53 s\n"
     ]
    }
   ],
   "source": [
    "%time random_taint = run_taint(random_outs, max_height=max_height_analysis)"
   ]
  },
  {
   "cell_type": "code",
   "execution_count": 77,
   "metadata": {},
   "outputs": [
    {
     "name": "stdout",
     "output_type": "stream",
     "text": [
      "24,813 & 51,714 & 91,098 & 34,096 & 3,291\n"
     ]
    },
    {
     "data": {
      "text/plain": [
       "[24813, 51714, 91098, 34096, 3291]"
      ]
     },
     "execution_count": 77,
     "metadata": {},
     "output_type": "execute_result"
    }
   ],
   "source": [
    "count_taint(random_taint)"
   ]
  },
  {
   "cell_type": "code",
   "execution_count": 78,
   "metadata": {},
   "outputs": [
    {
     "name": "stdout",
     "output_type": "stream",
     "text": [
      "CPU times: user 38.3 s, sys: 83.7 ms, total: 38.3 s\n",
      "Wall time: 38.2 s\n"
     ]
    }
   ],
   "source": [
    "%time random_taint_nofee = run_taint(random_outs, max_height=max_height_analysis, taint_fee=False)"
   ]
  },
  {
   "cell_type": "code",
   "execution_count": 79,
   "metadata": {},
   "outputs": [
    {
     "name": "stdout",
     "output_type": "stream",
     "text": [
      "1.0 & 2.37 & 1.27 & 0.61 & 0.23\n"
     ]
    },
    {
     "data": {
      "text/plain": [
       "[(30007758293, 29706377272),\n",
       " (30007258976, 29296785867),\n",
       " (30007756982, 29626263148),\n",
       " (30006663663, 29822760084),\n",
       " (30005843271, 29936616229)]"
      ]
     },
     "execution_count": 79,
     "metadata": {},
     "output_type": "execute_result"
    }
   ],
   "source": [
    "no_fee_taint_loss(random_taint, random_taint_nofee)"
   ]
  },
  {
   "cell_type": "code",
   "execution_count": null,
   "metadata": {},
   "outputs": [],
   "source": [
    "%time random_taint_full = run_taint(random_outs, runall=True, max_height=max_height_analysis)"
   ]
  },
  {
   "cell_type": "markdown",
   "metadata": {},
   "source": [
    "#### Taint loss from ignoring fees"
   ]
  },
  {
   "cell_type": "code",
   "execution_count": 99,
   "metadata": {},
   "outputs": [
    {
     "name": "stdout",
     "output_type": "stream",
     "text": [
      "[3.01381021, 7.10473109, 3.81493834, 1.83903579, 0.69227042]\n",
      "[0.010043436702511165, 0.023676708011492853, 0.012713173937953348, 0.006128757967409887, 0.0023071186960076685]\n"
     ]
    },
    {
     "data": {
      "text/plain": [
       "[(30007758293, 29706377272),\n",
       " (30007258976, 29296785867),\n",
       " (30007756982, 29626263148),\n",
       " (30006663663, 29822760084),\n",
       " (30005843271, 29936616229)]"
      ]
     },
     "execution_count": 99,
     "metadata": {},
     "output_type": "execute_result"
    }
   ],
   "source": [
    "no_fee_taint_loss(random_taint, random_taint_nofee)"
   ]
  },
  {
   "cell_type": "markdown",
   "metadata": {},
   "source": [
    "### Poison/Haircut"
   ]
  },
  {
   "cell_type": "code",
   "execution_count": 139,
   "metadata": {},
   "outputs": [
    {
     "name": "stdout",
     "output_type": "stream",
     "text": [
      "CPU times: user 8min 41s, sys: 5.49 s, total: 8min 46s\n",
      "Wall time: 8min 44s\n"
     ]
    }
   ],
   "source": [
    "%time random_poison_count = blocksci.heuristics.poison_tainted_output_count(random_outs)"
   ]
  },
  {
   "cell_type": "code",
   "execution_count": 140,
   "metadata": {},
   "outputs": [
    {
     "name": "stdout",
     "output_type": "stream",
     "text": [
      "CPU times: user 7min 52s, sys: 1.55 s, total: 7min 53s\n",
      "Wall time: 7min 51s\n"
     ]
    }
   ],
   "source": [
    "%time random_haircut_count = blocksci.heuristics.haircut_tainted_output_count(random_outs)"
   ]
  },
  {
   "cell_type": "code",
   "execution_count": 141,
   "metadata": {},
   "outputs": [
    {
     "data": {
      "text/plain": [
       "(25986492, 16800865)"
      ]
     },
     "execution_count": 141,
     "metadata": {},
     "output_type": "execute_result"
    }
   ],
   "source": [
    "random_poison_count, random_haircut_count"
   ]
  },
  {
   "cell_type": "markdown",
   "metadata": {},
   "source": [
    "### Value distribution among outputs"
   ]
  },
  {
   "cell_type": "code",
   "execution_count": null,
   "metadata": {},
   "outputs": [],
   "source": [
    "%time chain[-1000:].map(lambda b: b.txes.outputs).where(lambda o: o.index < 10).group_by(lambda o: o.index, lambda p: p.value.sum)"
   ]
  },
  {
   "cell_type": "code",
   "execution_count": null,
   "metadata": {},
   "outputs": [],
   "source": [
    "%time chain[-1000:].map(lambda b: b.txes.outputs.where(lambda o: o.index < 10)).group_by(lambda o: o.index, lambda p: p.value.sum)"
   ]
  },
  {
   "cell_type": "code",
   "execution_count": null,
   "metadata": {},
   "outputs": [],
   "source": [
    "%time chain[-4032:].txes.where(lambda tx: tx.output_count == 2).outputs.group_by(lambda o: o.index, lambda p: p.value.sum)"
   ]
  },
  {
   "cell_type": "code",
   "execution_count": null,
   "metadata": {},
   "outputs": [],
   "source": [
    "1337721614500628 / 649978488335706"
   ]
  },
  {
   "cell_type": "markdown",
   "metadata": {},
   "source": [
    "### Plots"
   ]
  },
  {
   "cell_type": "code",
   "execution_count": 248,
   "metadata": {},
   "outputs": [
    {
     "name": "stderr",
     "output_type": "stream",
     "text": [
      "/usr/local/lib/python3.6/dist-packages/ipykernel_launcher.py:3: RuntimeWarning: divide by zero encountered in log10\n",
      "  This is separate from the ipykernel package so we can avoid doing imports until\n"
     ]
    },
    {
     "data": {
      "image/png": "[encoded data removed]",
      "text/plain": [
       "<Figure size 1152x288 with 4 Axes>"
      ]
     },
     "metadata": {
      "needs_background": "light"
     },
     "output_type": "display_data"
    }
   ],
   "source": [
    "all_taint_value_hist(random_taint, 15000, \"figures/random_taint_hist.pdf\")"
   ]
  },
  {
   "cell_type": "code",
   "execution_count": 249,
   "metadata": {},
   "outputs": [
    {
     "data": {
      "image/png": "[encoded data removed]",
      "text/plain": [
       "<Figure size 1152x288 with 4 Axes>"
      ]
     },
     "metadata": {
      "needs_background": "light"
     },
     "output_type": "display_data"
    }
   ],
   "source": [
    "all_output_value_hist(random_taint, 15000, \"figures/random_value_hist.pdf\")"
   ]
  },
  {
   "cell_type": "code",
   "execution_count": 250,
   "metadata": {},
   "outputs": [
    {
     "data": {
      "image/png": "[encoded data removed]",
      "text/plain": [
       "<Figure size 1152x288 with 4 Axes>"
      ]
     },
     "metadata": {
      "needs_background": "light"
     },
     "output_type": "display_data"
    }
   ],
   "source": [
    "tainted_share_hist(random_taint, 50000, \"figures/random_share_hist.pdf\")"
   ]
  },
  {
   "cell_type": "code",
   "execution_count": 254,
   "metadata": {},
   "outputs": [
    {
     "data": {
      "image/png": "[encoded data removed]",
      "text/plain": [
       "<Figure size 1152x288 with 4 Axes>"
      ]
     },
     "metadata": {
      "needs_background": "light"
     },
     "output_type": "display_data"
    }
   ],
   "source": [
    "taint_age_lineplot(random_taint, month_ticks=[1,7], filename=\"figures/random_age_lineplot.pdf\")"
   ]
  },
  {
   "cell_type": "markdown",
   "metadata": {},
   "source": [
    "# 2 Week Analysis"
   ]
  },
  {
   "cell_type": "markdown",
   "metadata": {},
   "source": [
    "## Blackmail"
   ]
  },
  {
   "cell_type": "code",
   "execution_count": 96,
   "metadata": {},
   "outputs": [],
   "source": [
    "bm_2week_result = []\n",
    "for o in blackmail_outs_nochange:\n",
    "    r = run_taint([o], max_height=o.tx.block.height + 2016)\n",
    "    bm_2week_result.append(count_taint(r, do_print=False))"
   ]
  },
  {
   "cell_type": "code",
   "execution_count": 124,
   "metadata": {},
   "outputs": [
    {
     "name": "stdout",
     "output_type": "stream",
     "text": [
      "1.0 & 1.0 & 1.0 & 1.0 & 1.0\n"
     ]
    }
   ],
   "source": [
    "latex_table_format(np.median(bm_2week_result, axis=0))"
   ]
  },
  {
   "cell_type": "code",
   "execution_count": 130,
   "metadata": {},
   "outputs": [
    {
     "name": "stdout",
     "output_type": "stream",
     "text": [
      "2.4 & 5.2 & 6.6 & 3.66 & 1.25\n"
     ]
    }
   ],
   "source": [
    "latex_table_format(np.mean(bm_2week_result, axis=0), round_digits=2)"
   ]
  },
  {
   "cell_type": "markdown",
   "metadata": {},
   "source": [
    "## OFAC"
   ]
  },
  {
   "cell_type": "code",
   "execution_count": 97,
   "metadata": {},
   "outputs": [],
   "source": [
    "ofac_2week_result = []\n",
    "for o in ofac_outs:\n",
    "    r = run_taint([o], max_height=o.tx.block.height + 2016)\n",
    "    ofac_2week_result.append(count_taint(r, do_print=False))"
   ]
  },
  {
   "cell_type": "code",
   "execution_count": 133,
   "metadata": {},
   "outputs": [
    {
     "name": "stdout",
     "output_type": "stream",
     "text": [
      "5.0 & 10.0 & 14.0 & 32.0 & 1.0\n"
     ]
    }
   ],
   "source": [
    "latex_table_format(np.median(ofac_2week_result, axis=0))"
   ]
  },
  {
   "cell_type": "code",
   "execution_count": 134,
   "metadata": {},
   "outputs": [
    {
     "name": "stdout",
     "output_type": "stream",
     "text": [
      "27.68 & 45.43 & 64.45 & 238.14 & 9.39\n"
     ]
    }
   ],
   "source": [
    "latex_table_format(np.mean(ofac_2week_result, axis=0), round_digits=2)"
   ]
  },
  {
   "cell_type": "markdown",
   "metadata": {},
   "source": [
    "## Ransomware"
   ]
  },
  {
   "cell_type": "code",
   "execution_count": 99,
   "metadata": {},
   "outputs": [],
   "source": [
    "ransomware_2week_result = []\n",
    "for o in rw:\n",
    "    r = run_taint([o], max_height=o.tx.block.height + 2016)\n",
    "    ransomware_2week_result.append(count_taint(r, do_print=False))"
   ]
  },
  {
   "cell_type": "code",
   "execution_count": 136,
   "metadata": {},
   "outputs": [
    {
     "name": "stdout",
     "output_type": "stream",
     "text": [
      "2.0 & 10.0 & 14.0 & 4.0 & 2.0\n"
     ]
    }
   ],
   "source": [
    "latex_table_format(np.median(ransomware_2week_result, axis=0))"
   ]
  },
  {
   "cell_type": "code",
   "execution_count": 135,
   "metadata": {},
   "outputs": [
    {
     "name": "stdout",
     "output_type": "stream",
     "text": [
      "9.4 & 26.99 & 40.84 & 35.69 & 2.45\n"
     ]
    }
   ],
   "source": [
    "latex_table_format(np.mean(ransomware_2week_result, axis=0), round_digits=2)"
   ]
  },
  {
   "cell_type": "markdown",
   "metadata": {},
   "source": [
    "## Random"
   ]
  },
  {
   "cell_type": "code",
   "execution_count": 100,
   "metadata": {},
   "outputs": [],
   "source": [
    "random_2week_result = []\n",
    "for o in random_outs:\n",
    "    r = run_taint([o], max_height=o.tx.block.height + 2016)\n",
    "    random_2week_result.append(count_taint(r, do_print=False))"
   ]
  },
  {
   "cell_type": "code",
   "execution_count": 137,
   "metadata": {},
   "outputs": [
    {
     "name": "stdout",
     "output_type": "stream",
     "text": [
      "4.0 & 8.5 & 12.5 & 6.5 & 2.0\n"
     ]
    }
   ],
   "source": [
    "latex_table_format(np.median(random_2week_result, axis=0))"
   ]
  },
  {
   "cell_type": "code",
   "execution_count": 138,
   "metadata": {},
   "outputs": [
    {
     "name": "stdout",
     "output_type": "stream",
     "text": [
      "116.85 & 154.05 & 197.93 & 111.24 & 51.85\n"
     ]
    }
   ],
   "source": [
    "latex_table_format(np.mean(random_2week_result, axis=0), round_digits=2)"
   ]
  },
  {
   "cell_type": "markdown",
   "metadata": {},
   "source": [
    "## Dataset stats"
   ]
  },
  {
   "cell_type": "code",
   "execution_count": 89,
   "metadata": {},
   "outputs": [
    {
     "data": {
      "text/plain": [
       "273"
      ]
     },
     "execution_count": 89,
     "metadata": {},
     "output_type": "execute_result"
    }
   ],
   "source": [
    "len(blackmail_outs_nochange)"
   ]
  },
  {
   "cell_type": "code",
   "execution_count": 90,
   "metadata": {},
   "outputs": [
    {
     "data": {
      "text/plain": [
       "(datetime.datetime(2018, 4, 23, 11, 42, 24),\n",
       " datetime.datetime(2019, 4, 10, 17, 7, 47))"
      ]
     },
     "execution_count": 90,
     "metadata": {},
     "output_type": "execute_result"
    }
   ],
   "source": [
    "output_time_range(blackmail_outs_nochange)"
   ]
  },
  {
   "cell_type": "code",
   "execution_count": 87,
   "metadata": {},
   "outputs": [
    {
     "data": {
      "text/plain": [
       "3305"
      ]
     },
     "execution_count": 87,
     "metadata": {},
     "output_type": "execute_result"
    }
   ],
   "source": [
    "len(ofac_outs)"
   ]
  },
  {
   "cell_type": "code",
   "execution_count": 88,
   "metadata": {},
   "outputs": [
    {
     "data": {
      "text/plain": [
       "(datetime.datetime(2013, 9, 6, 19, 6, 28),\n",
       " datetime.datetime(2020, 6, 29, 16, 33, 3))"
      ]
     },
     "execution_count": 88,
     "metadata": {},
     "output_type": "execute_result"
    }
   ],
   "source": [
    "output_time_range(ofac_outs)"
   ]
  },
  {
   "cell_type": "code",
   "execution_count": 84,
   "metadata": {},
   "outputs": [
    {
     "data": {
      "text/plain": [
       "16777"
      ]
     },
     "execution_count": 84,
     "metadata": {},
     "output_type": "execute_result"
    }
   ],
   "source": [
    "len(rw)"
   ]
  },
  {
   "cell_type": "code",
   "execution_count": 86,
   "metadata": {},
   "outputs": [
    {
     "data": {
      "text/plain": [
       "(datetime.datetime(2016, 2, 11, 8, 32, 47),\n",
       " datetime.datetime(2017, 8, 31, 6, 53, 46))"
      ]
     },
     "execution_count": 86,
     "metadata": {},
     "output_type": "execute_result"
    }
   ],
   "source": [
    "output_time_range(rw)"
   ]
  },
  {
   "cell_type": "code",
   "execution_count": 83,
   "metadata": {},
   "outputs": [
    {
     "data": {
      "text/plain": [
       "100"
      ]
     },
     "execution_count": 83,
     "metadata": {},
     "output_type": "execute_result"
    }
   ],
   "source": [
    "len(random_outs)"
   ]
  },
  {
   "cell_type": "code",
   "execution_count": 82,
   "metadata": {},
   "outputs": [
    {
     "data": {
      "text/plain": [
       "(datetime.datetime(2019, 1, 2, 15, 34),\n",
       " datetime.datetime(2019, 12, 26, 15, 3, 33))"
      ]
     },
     "execution_count": 82,
     "metadata": {},
     "output_type": "execute_result"
    }
   ],
   "source": [
    "output_time_range(random_outs)"
   ]
  },
  {
   "cell_type": "markdown",
   "metadata": {},
   "source": [
    "## FIFO Chunk Counts"
   ]
  },
  {
   "cell_type": "code",
   "execution_count": 220,
   "metadata": {},
   "outputs": [
    {
     "data": {
      "text/plain": [
       "(2821, 3428)"
      ]
     },
     "execution_count": 220,
     "metadata": {},
     "output_type": "execute_result"
    }
   ],
   "source": [
    "len(blackmail_taint[0]), fifo_chunk_count(blackmail_taint[0])"
   ]
  },
  {
   "cell_type": "code",
   "execution_count": 221,
   "metadata": {},
   "outputs": [
    {
     "data": {
      "text/plain": [
       "(270537, 764601)"
      ]
     },
     "execution_count": 221,
     "metadata": {},
     "output_type": "execute_result"
    }
   ],
   "source": [
    "len(ofac_taint[0]), fifo_chunk_count(ofac_taint[0])"
   ]
  },
  {
   "cell_type": "code",
   "execution_count": 232,
   "metadata": {},
   "outputs": [
    {
     "data": {
      "text/plain": [
       "(576694, 2221476)"
      ]
     },
     "execution_count": 232,
     "metadata": {},
     "output_type": "execute_result"
    }
   ],
   "source": [
    "len(ransomware_taint[0]), fifo_chunk_count(ransomware_taint[0])"
   ]
  },
  {
   "cell_type": "code",
   "execution_count": 233,
   "metadata": {},
   "outputs": [
    {
     "data": {
      "text/plain": [
       "(24813, 44472)"
      ]
     },
     "execution_count": 233,
     "metadata": {},
     "output_type": "execute_result"
    }
   ],
   "source": [
    "len(random_taint[0]), fifo_chunk_count(random_taint[0])"
   ]
  }
 ],
 "metadata": {
  "kernelspec": {
   "display_name": "Python 3",
   "language": "python",
   "name": "python3"
  },
  "language_info": {
   "codemirror_mode": {
    "name": "ipython",
    "version": 3
   },
   "file_extension": ".py",
   "mimetype": "text/x-python",
   "name": "python",
   "nbconvert_exporter": "python",
   "pygments_lexer": "ipython3",
   "version": "3.8.8"
  }
 },
 "nbformat": 4,
 "nbformat_minor": 4
}
